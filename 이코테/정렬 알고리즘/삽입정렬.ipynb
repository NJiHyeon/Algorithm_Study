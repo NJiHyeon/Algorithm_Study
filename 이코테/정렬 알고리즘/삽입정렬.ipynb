{
 "cells": [
  {
   "cell_type": "code",
   "execution_count": 1,
   "id": "cac6221b-1fb3-4a73-94d0-139f285bc5d0",
   "metadata": {},
   "outputs": [
    {
     "name": "stdout",
     "output_type": "stream",
     "text": [
      "[0, 1, 2, 3, 4, 5, 6, 7, 8, 9]\n"
     ]
    }
   ],
   "source": [
    "array = [7, 5, 9, 0, 3, 1, 6, 2, 4, 8]\n",
    "for i in range(len(array)) :\n",
    "\t# 가장 작은 원소의 인덱스 (첨에는 가장 앞쪽 인덱스라고 가정하고, 다음 조건문을 통해 바뀜)\n",
    "\tmin_index = i\n",
    "\tfor j in range(i+1, len(array)) :\n",
    "\t\tif array[min_index] > array[j] :\n",
    "\t\t\tmin_index = j\n",
    "\t# 스와프\n",
    "\tarray[i], array[min_index] = array[min_index], array[i]\n",
    "\n",
    "print(array)"
   ]
  },
  {
   "cell_type": "code",
   "execution_count": 2,
   "id": "0c0e61bc-347a-415c-ab10-698f11a3c0ef",
   "metadata": {},
   "outputs": [
    {
     "name": "stdout",
     "output_type": "stream",
     "text": [
      "[0, 1, 2, 3, 4, 5, 6, 7, 8, 9]\n"
     ]
    }
   ],
   "source": [
    "array = [7, 5, 9, 0, 3, 1, 6, 2, 4, 8]\n",
    "for i in range(1, len(array)) :\n",
    "\tfor j in range(i, 0, -1) :\n",
    "\t\tif array[j] < array[j-1] : \n",
    "\t\t\tarray[j], array[j-1] = array[j-1], array[j]\n",
    "\t\telse :\n",
    "\t\t\tbreak # 하나라도 오른쪽이 크면 계속 볼 필요 없으므로\n",
    "\n",
    "print(array)"
   ]
  },
  {
   "cell_type": "code",
   "execution_count": null,
   "id": "bc1b39e9-39c4-4955-91db-14d96f8efb74",
   "metadata": {},
   "outputs": [],
   "source": []
  }
 ],
 "metadata": {
  "kernelspec": {
   "display_name": "Python 3 (ipykernel)",
   "language": "python",
   "name": "python3"
  },
  "language_info": {
   "codemirror_mode": {
    "name": "ipython",
    "version": 3
   },
   "file_extension": ".py",
   "mimetype": "text/x-python",
   "name": "python",
   "nbconvert_exporter": "python",
   "pygments_lexer": "ipython3",
   "version": "3.10.9"
  }
 },
 "nbformat": 4,
 "nbformat_minor": 5
}
