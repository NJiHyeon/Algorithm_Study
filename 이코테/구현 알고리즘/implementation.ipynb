{
 "cells": [
  {
   "cell_type": "markdown",
   "id": "33476375-cb6c-4d88-bd23-8f38f06c48d6",
   "metadata": {
    "tags": []
   },
   "source": [
    "### 문제1_ 상하좌우"
   ]
  },
  {
   "cell_type": "markdown",
   "id": "9ee6fa08-43c9-4228-9f75-b30b35bbbd8a",
   "metadata": {},
   "source": [
    "#### My code"
   ]
  },
  {
   "cell_type": "code",
   "execution_count": 13,
   "id": "9047e5a2-ba4b-4707-8962-518441eb790a",
   "metadata": {},
   "outputs": [
    {
     "name": "stdin",
     "output_type": "stream",
     "text": [
      " 5\n",
      " R R R U D D\n"
     ]
    },
    {
     "name": "stdout",
     "output_type": "stream",
     "text": [
      "3 4 "
     ]
    }
   ],
   "source": [
    "N = int(input())\n",
    "direction = list(input().split())\n",
    "\n",
    "s = [1, 1]\n",
    "\n",
    "for d in direction :\n",
    "    if d == 'R' :\n",
    "        if (s[1]+1) > N :\n",
    "            continue\n",
    "        else :\n",
    "            s[1] += 1\n",
    "    elif d == 'L' :\n",
    "        if (s[1]-1) < 1 :\n",
    "            continue\n",
    "        else :\n",
    "            s[1] -= 1\n",
    "    elif d == 'U' :\n",
    "        if (s[0]-1) < 1 :\n",
    "            continue\n",
    "        else :\n",
    "            s[0] -= 1\n",
    "    elif d == 'D' :\n",
    "        if (s[0]+1) > N :\n",
    "            continue\n",
    "        else :\n",
    "            s[0] += 1\n",
    "            \n",
    "for ss in s :\n",
    "    print(ss, end=' ')"
   ]
  },
  {
   "cell_type": "markdown",
   "id": "e17d7c1f-0c7f-4a12-8ec2-f74ebc843817",
   "metadata": {},
   "source": [
    "#### Leture code"
   ]
  },
  {
   "cell_type": "code",
   "execution_count": 12,
   "id": "664e044c-4322-4bc2-826e-574974f525aa",
   "metadata": {},
   "outputs": [
    {
     "name": "stdin",
     "output_type": "stream",
     "text": [
      " 5\n",
      " R R R U D D\n"
     ]
    },
    {
     "name": "stdout",
     "output_type": "stream",
     "text": [
      "3 4\n"
     ]
    }
   ],
   "source": [
    "# 입력 받기\n",
    "n = int(input())\n",
    "x, y = 1, 1\n",
    "plans = input().split()\n",
    "\n",
    "# L, R, U, D에 따른 이동 방향\n",
    "dx = [0, 0, -1, 1]\n",
    "dy = [-1, 1, 0, 0]\n",
    "move_types = ['L', 'R', 'U', 'D']\n",
    "\n",
    "# 이동 계획을 하나씩 확인하기\n",
    "for plan in plans :\n",
    "    # 이동 후 좌표 구하기\n",
    "    for i in range(len(move_types)) :\n",
    "        if plan == move_types[i] :\n",
    "            nx = x + dx[i]\n",
    "            ny = y + dy[i]\n",
    "            \n",
    "    # 공간을 벗어나는 경우 무시\n",
    "    if nx < 1 or ny < 1 or nx > n or ny > n :\n",
    "        continue\n",
    "        \n",
    "    x, y = nx, ny\n",
    "    \n",
    "print(x, y)"
   ]
  },
  {
   "cell_type": "markdown",
   "id": "e7bfa738-f86f-4206-9f9b-9477e5b9f941",
   "metadata": {},
   "source": [
    "---"
   ]
  },
  {
   "cell_type": "markdown",
   "id": "ac28622b-21ef-465f-b376-d3c6e9fd203b",
   "metadata": {},
   "source": [
    "### 문제2_ 시각"
   ]
  },
  {
   "cell_type": "markdown",
   "id": "5e3d049d-f030-42d6-b39e-99b1a036c27c",
   "metadata": {},
   "source": [
    "#### My code"
   ]
  },
  {
   "cell_type": "code",
   "execution_count": 14,
   "id": "d8ecf4e8-40bb-4020-87bc-99d974ddcb40",
   "metadata": {},
   "outputs": [
    {
     "name": "stdin",
     "output_type": "stream",
     "text": [
      " 5\n"
     ]
    }
   ],
   "source": [
    "n = int(input())"
   ]
  },
  {
   "cell_type": "code",
   "execution_count": 51,
   "id": "0691ba55-53e4-46d5-b792-15874d84c2e2",
   "metadata": {},
   "outputs": [
    {
     "name": "stdout",
     "output_type": "stream",
     "text": [
      "11475\n"
     ]
    }
   ],
   "source": [
    "# 00시 00분 00초 ~ 5시 59분 59초까지 중 3 포함 개수\n",
    "out = 0\n",
    "for i in range(0, n+1) :\n",
    "    for j in range(0, 60) :\n",
    "        for k in range(0, 60) :\n",
    "            if ('3' in str(i)) or ('3' in str(j)) or ('3' in str(k)) :\n",
    "                out += 1\n",
    "                \n",
    "print(out)"
   ]
  },
  {
   "cell_type": "markdown",
   "id": "7635cbac-ad1e-4785-a21a-bd84bcb140fe",
   "metadata": {},
   "source": [
    "#### Lecture code"
   ]
  },
  {
   "cell_type": "code",
   "execution_count": 52,
   "id": "57c7f79b-a136-4c7a-8132-77e186f9c229",
   "metadata": {},
   "outputs": [
    {
     "name": "stdin",
     "output_type": "stream",
     "text": [
      " 5\n"
     ]
    },
    {
     "name": "stdout",
     "output_type": "stream",
     "text": [
      "11475\n"
     ]
    }
   ],
   "source": [
    "# H 입력 받기\n",
    "h = int(input())\n",
    "\n",
    "count = 0\n",
    "for i in range(h+1) :\n",
    "    for j in range(60) :\n",
    "        for k in range(60) :\n",
    "            # 매 시각 안에 '3'이 포함되어 있다면 카운트 증가\n",
    "            if '3' in str(i)+str(j)+str(k) :\n",
    "                count += 1\n",
    "                \n",
    "print(count)"
   ]
  },
  {
   "cell_type": "markdown",
   "id": "b38ec56f-0e44-4018-9978-da35b04f9951",
   "metadata": {},
   "source": [
    "---"
   ]
  },
  {
   "cell_type": "markdown",
   "id": "57b3dae5-b7f0-417d-9317-369c319deac6",
   "metadata": {},
   "source": [
    "### 문제3_ 왕실의 나이트"
   ]
  },
  {
   "cell_type": "markdown",
   "id": "2bb7d037-daa3-4f8f-ac55-906fa077149e",
   "metadata": {},
   "source": [
    "#### My code"
   ]
  },
  {
   "cell_type": "code",
   "execution_count": 92,
   "id": "85f6e143-f931-403e-9bef-41fb839c1f7b",
   "metadata": {},
   "outputs": [
    {
     "name": "stdin",
     "output_type": "stream",
     "text": [
      " a1\n"
     ]
    },
    {
     "name": "stdout",
     "output_type": "stream",
     "text": [
      "2\n"
     ]
    }
   ],
   "source": [
    "location = input()\n",
    "E = ['a', 'b', 'c', 'd', 'e', 'f', 'g', 'h']\n",
    "N = [1, 2, 3, 4, 5, 6, 7, 8, 9]\n",
    "for e in range(8) :\n",
    "    if location[0] == E[e] :\n",
    "        l = str(N[e]) + str(location[1])\n",
    "        \n",
    "L = []\n",
    "for i in l :\n",
    "    L.append(int(i))\n",
    "    \n",
    "dx1 = [2, -2]\n",
    "dy1 = [1, -1]\n",
    "dx2 = [1, -1]\n",
    "dy2 = [2, -2]\n",
    "count = 0\n",
    "for i in range(2) :\n",
    "    for j in range(2) :\n",
    "        nx = L[0] + dx1[i]\n",
    "        ny = L[1] + dy1[j]\n",
    "        if nx < 1 or ny < 1 or nx > 8 or ny > 8 : \n",
    "            continue\n",
    "        else :\n",
    "            count += 1\n",
    "            \n",
    "    \n",
    "        nx = L[0] + dx2[i]\n",
    "        ny = L[1] + dy2[j]\n",
    "        if nx < 1 or ny < 1 or nx > 8 or ny > 8 : \n",
    "            continue\n",
    "        else :\n",
    "            count += 1  \n",
    "            \n",
    "print(count)"
   ]
  },
  {
   "cell_type": "markdown",
   "id": "5f64ffd2-540f-4c1f-888d-aea62c4b2e3b",
   "metadata": {},
   "source": [
    "#### Lecture code"
   ]
  },
  {
   "cell_type": "code",
   "execution_count": 91,
   "id": "720eee22-40d0-46ed-9a33-4b1f0ab51460",
   "metadata": {},
   "outputs": [
    {
     "name": "stdin",
     "output_type": "stream",
     "text": [
      " a1\n"
     ]
    },
    {
     "name": "stdout",
     "output_type": "stream",
     "text": [
      "2\n"
     ]
    }
   ],
   "source": [
    "# 현재 나이트의 위치 입력받기\n",
    "input_data = input()\n",
    "row = int(input_data[1])\n",
    "column = int(ord(input_data[0])) - int(ord('a')) + 1\n",
    "\n",
    "# 나이트가 이동할 수 있는 8가지 방향 정의\n",
    "steps = [(-2, -1), (-1, -2), (1, -2), (2, -1), (2, 1), (1, 2), (-1, 2), (-2, 1)]\n",
    "\n",
    "# 8가지 방향에 대하여 각 위치로 이동이 가능한지 확인\n",
    "result = 0\n",
    "for step in steps :\n",
    "    # 이동하고자 하는 위치 확인\n",
    "    next_row = row + step[0]\n",
    "    next_column = column + step[1]\n",
    "    # 해당 위치로 이동이 가능하다면 카운트 증가\n",
    "    if next_row >= 1 and next_row <= 8 and next_column >= 1 and next_column <= 8 :\n",
    "        result += 1\n",
    "        \n",
    "print(result)"
   ]
  },
  {
   "cell_type": "markdown",
   "id": "afddf18a-c93b-4ae0-b13c-563946d854a4",
   "metadata": {},
   "source": [
    "---"
   ]
  },
  {
   "cell_type": "markdown",
   "id": "d7217da4-455d-4c8d-83dc-2bf380175753",
   "metadata": {},
   "source": [
    "### 문제4_ 문자열 재정렬"
   ]
  },
  {
   "cell_type": "markdown",
   "id": "d5c6ccd8-c30d-4cd0-9d7c-cceea95f4939",
   "metadata": {},
   "source": [
    "#### My code"
   ]
  },
  {
   "cell_type": "code",
   "execution_count": 116,
   "id": "1549e88f-2ea4-418a-9a2b-59deb12a9171",
   "metadata": {},
   "outputs": [
    {
     "name": "stdin",
     "output_type": "stream",
     "text": [
      " AJKDLSI412K4JSJ9D\n"
     ]
    },
    {
     "name": "stdout",
     "output_type": "stream",
     "text": [
      "ADDIJJJKKLSS20"
     ]
    }
   ],
   "source": [
    "s = input()\n",
    "n = ['1', '2', '3', '4', '5', '6', '7', '8', '9', '0']\n",
    "n_index = []\n",
    "s_index = []\n",
    "for i in range(len(s)) :\n",
    "    if s[i] in n :\n",
    "        n_index.append(s[i])\n",
    "    else :\n",
    "        s_index.append(s[i])\n",
    "        \n",
    "s_index.sort()\n",
    "for i in s_index :\n",
    "    print(i, end='')\n",
    "\n",
    "final_n = 0\n",
    "for i in n_index :\n",
    "    final_n += int(i) \n",
    "print(final_n, end='')"
   ]
  },
  {
   "cell_type": "markdown",
   "id": "77564460-6eb1-4bf2-9212-06a4ab0443d3",
   "metadata": {},
   "source": [
    "#### Lecture code"
   ]
  },
  {
   "cell_type": "code",
   "execution_count": 118,
   "id": "b93e13a1-1a81-4286-8145-9f0407ce4591",
   "metadata": {},
   "outputs": [
    {
     "name": "stdin",
     "output_type": "stream",
     "text": [
      " AJKDLSI412K4JSJ9D\n"
     ]
    },
    {
     "name": "stdout",
     "output_type": "stream",
     "text": [
      "ADDIJJJKKLSS20\n"
     ]
    }
   ],
   "source": [
    "data = input()\n",
    "result = []\n",
    "value = 0\n",
    "\n",
    "# 문자를 하나씩 확인하며\n",
    "for x in data :\n",
    "    # 알파벳인 경우 결과 리스트에 삽입\n",
    "    if x.isalpha() :\n",
    "        result.append(x)\n",
    "    # 숫자는 따로 더하기\n",
    "    else :\n",
    "        value += int(x)\n",
    "        \n",
    "# 알파벳을 오름차순으로 정렬\n",
    "result.sort()\n",
    "\n",
    "# 숫자가 하나라도 존재하는 경우 가장 뒤에 삽입\n",
    "if value != 0 :\n",
    "    result.append(str(value))\n",
    "    \n",
    "# 최종 결과 출력 (리스트를 문자열로 변환하여 출력)\n",
    "print(''.join(result))"
   ]
  }
 ],
 "metadata": {
  "kernelspec": {
   "display_name": "Python 3 (ipykernel)",
   "language": "python",
   "name": "python3"
  },
  "language_info": {
   "codemirror_mode": {
    "name": "ipython",
    "version": 3
   },
   "file_extension": ".py",
   "mimetype": "text/x-python",
   "name": "python",
   "nbconvert_exporter": "python",
   "pygments_lexer": "ipython3",
   "version": "3.9.13"
  }
 },
 "nbformat": 4,
 "nbformat_minor": 5
}
