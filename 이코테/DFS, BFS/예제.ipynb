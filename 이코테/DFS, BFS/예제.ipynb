{
 "cells": [
  {
   "cell_type": "markdown",
   "id": "854a2b29-1dae-4578-9d6b-29822b4b405a",
   "metadata": {},
   "source": [
    "### 💡음료수 얼려먹기"
   ]
  },
  {
   "cell_type": "code",
   "execution_count": null,
   "id": "75e3670d-360d-4892-b086-fae668c34e80",
   "metadata": {},
   "outputs": [],
   "source": [
    "'''\n",
    "- dfs 함수는 지정된 위치에서(초기값) 반복적으로 재귀하면서 확인 !\n",
    "- for문은 전체 데이터에 대해 확인\n",
    "- 두 과정을 수행하면 겹칠 수 있는 값이 존재하는데 이것을 return True/False로 처리 !\n",
    "  - 한번 다 수행하면 return True\n",
    "'''"
   ]
  },
  {
   "cell_type": "code",
   "execution_count": 43,
   "id": "6b349f22-d41c-4ded-8cd5-55728f00137f",
   "metadata": {},
   "outputs": [
    {
     "name": "stdin",
     "output_type": "stream",
     "text": [
      " 4 5\n"
     ]
    }
   ],
   "source": [
    "n, m = map(int, input().split())"
   ]
  },
  {
   "cell_type": "code",
   "execution_count": 44,
   "id": "04c7a9be-3ff8-4fcc-bd3a-58535a3e680f",
   "metadata": {},
   "outputs": [
    {
     "name": "stdin",
     "output_type": "stream",
     "text": [
      " 00110\n",
      " 00011\n",
      " 11111\n",
      " 00000\n"
     ]
    }
   ],
   "source": [
    "drink = []\n",
    "for i in range(n) :\n",
    "    l = list(map(int, input()))\n",
    "    drink.append(l)"
   ]
  },
  {
   "cell_type": "code",
   "execution_count": 45,
   "id": "5be31fc7-9e20-4a52-8da4-ae6a1475662f",
   "metadata": {},
   "outputs": [
    {
     "data": {
      "text/plain": [
       "[[0, 0, 1, 1, 0], [0, 0, 0, 1, 1], [1, 1, 1, 1, 1], [0, 0, 0, 0, 0]]"
      ]
     },
     "execution_count": 45,
     "metadata": {},
     "output_type": "execute_result"
    }
   ],
   "source": [
    "drink"
   ]
  },
  {
   "cell_type": "code",
   "execution_count": 46,
   "id": "2c1ddb1c-dcae-45cc-be57-ae05b5d53e7d",
   "metadata": {},
   "outputs": [
    {
     "data": {
      "text/plain": [
       "0"
      ]
     },
     "execution_count": 46,
     "metadata": {},
     "output_type": "execute_result"
    }
   ],
   "source": [
    "drink[1][0]"
   ]
  },
  {
   "cell_type": "code",
   "execution_count": 47,
   "id": "58b725b5-7669-45b0-971d-7cdad6b1bfbd",
   "metadata": {},
   "outputs": [],
   "source": [
    "def dfs(x, y) :\n",
    "    # 만약 i, j의 위치 (현재 위치)가 범위를 벗어나지 않으면 계속 수행\n",
    "    if x<=-1 or x >= n or y<=-1 or y>=m :\n",
    "        return False\n",
    "    \n",
    "    # 상, 하, 좌, 우 재귀함수 돌리기\n",
    "    # 방문처리 필수 !!\n",
    "    if drink[x][y] == 0 :\n",
    "        drink[x][y] = 1\n",
    "        dfs(x-1, y)\n",
    "        dfs(x+1, y)\n",
    "        dfs(x, y-1)\n",
    "        dfs(x, y+1)\n",
    "        return True\n",
    "    #return False"
   ]
  },
  {
   "cell_type": "code",
   "execution_count": 48,
   "id": "9219df18-acbc-415d-9ce1-1da9d039ecff",
   "metadata": {},
   "outputs": [
    {
     "name": "stdout",
     "output_type": "stream",
     "text": [
      "3\n"
     ]
    }
   ],
   "source": [
    "ice = 0\n",
    "for i in range(n) :\n",
    "    for j in range(m) :\n",
    "        if dfs(i, j) == True :\n",
    "            ice += 1\n",
    "            \n",
    "print(ice)"
   ]
  },
  {
   "cell_type": "markdown",
   "id": "752f6787-63ca-44b2-acfc-391e8c09886b",
   "metadata": {},
   "source": [
    "### 💡미로탈출"
   ]
  },
  {
   "cell_type": "code",
   "execution_count": null,
   "id": "114d16bf-ea4e-4e87-a1b3-1d00a67a5e8f",
   "metadata": {},
   "outputs": [],
   "source": []
  }
 ],
 "metadata": {
  "kernelspec": {
   "display_name": "Python 3 (ipykernel)",
   "language": "python",
   "name": "python3"
  },
  "language_info": {
   "codemirror_mode": {
    "name": "ipython",
    "version": 3
   },
   "file_extension": ".py",
   "mimetype": "text/x-python",
   "name": "python",
   "nbconvert_exporter": "python",
   "pygments_lexer": "ipython3",
   "version": "3.9.13"
  }
 },
 "nbformat": 4,
 "nbformat_minor": 5
}
