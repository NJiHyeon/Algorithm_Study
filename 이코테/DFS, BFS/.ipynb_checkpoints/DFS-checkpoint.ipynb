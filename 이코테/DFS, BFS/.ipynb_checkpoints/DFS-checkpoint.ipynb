{
 "cells": [
  {
   "cell_type": "markdown",
   "id": "ae4cc081-2a6a-48aa-af76-025d38f88172",
   "metadata": {},
   "source": [
    "## 🔎 DFS"
   ]
  },
  {
   "cell_type": "markdown",
   "id": "a1e34f5d-61ba-4db7-86c4-30372f0bb110",
   "metadata": {},
   "source": [
    "#### DFS (하나씩 넣어서 stack한 뒤에 마지막에 stack에서 하나씩 출력)\n",
    "- depth-first search의 약자로 깊이 우선 탬색이라고도 부르며 그래프에서 **깊은 부분을 우선적으로 탐색**하는 알고리즘\n",
    "- DFS는 **stack 자료구조 (혹은 재귀함수)를 이용**하며, 구체적인 동작은 다음 과정과 같다.\n",
    "  - 탐색 시작 노드를 stack에 삽입하고, 방문 처리를 한다.\n",
    "  - 스택의 최상단 노드에 방문하지 않은 인접한 노드가 하나라도 있다면, 그 노드를 스택에 넣고 방문 처리를 한다. \n",
    "  - 방문하지 않은 인접 노드가 없으면 스택에서 최상단 노드를 꺼낸다.\n",
    "  - 더 이상 위의 과정을 수행할 수 없을 때까지 반복한다. "
   ]
  },
  {
   "cell_type": "code",
   "execution_count": 1,
   "id": "3de08b5e-c687-47c6-aab5-eb060b7cf133",
   "metadata": {},
   "outputs": [],
   "source": [
    "# 각 노드가 연결된 정보를 표현 (2차원 리스트)\n",
    "# 그래프 문제가 출제되면 노드의 번호가 1번부터 시작하는 경우가 많기 때문에 인덱스 0에 대한 내용은 비워두는 것이 좋음\n",
    "graph = [[], [2, 3, 8], [1, 7], [1, 4, 5], [3, 5], [3, 4], [7], [2, 6, 8], [1, 7]]\n",
    "\n",
    "# 각 노드가 방문된 정보를 표현 (1차원 리스트)\n",
    "visited = [False] * 9\n",
    "\n",
    "# DFS 메서드 정의\n",
    "'''\n",
    "[dfs 함수의 입력]\n",
    "1. 그래프에 대한 정보\n",
    "2. 처음 방문할 위치 (순서)\n",
    "3. 방문처리가 기록되어 있는 리스트\n",
    "'''\n",
    "def dfs(graph, v, visited) :\n",
    "    # 현재 노드를 방문처리\n",
    "    visited[v] = True\n",
    "    print(v, end=' ')\n",
    "    # 현재 노드와 연결된 다른 노드를 재귀적으로 방문\n",
    "    # 즉, 먼저 전체적으로 graph index -> for문으로 각각 방문 -> visited 확인\n",
    "    for i in graph[v] :\n",
    "        if not visited[i] :\n",
    "            dfs(graph, i, visited)"
   ]
  },
  {
   "cell_type": "code",
   "execution_count": 2,
   "id": "3035e124-b593-453e-a615-32f69b93da3d",
   "metadata": {},
   "outputs": [
    {
     "name": "stdout",
     "output_type": "stream",
     "text": [
      "1 2 7 6 8 3 4 5 "
     ]
    }
   ],
   "source": [
    "dfs(graph, 1, visited)"
   ]
  }
 ],
 "metadata": {
  "kernelspec": {
   "display_name": "Python 3 (ipykernel)",
   "language": "python",
   "name": "python3"
  },
  "language_info": {
   "codemirror_mode": {
    "name": "ipython",
    "version": 3
   },
   "file_extension": ".py",
   "mimetype": "text/x-python",
   "name": "python",
   "nbconvert_exporter": "python",
   "pygments_lexer": "ipython3",
   "version": "3.9.13"
  }
 },
 "nbformat": 4,
 "nbformat_minor": 5
}
