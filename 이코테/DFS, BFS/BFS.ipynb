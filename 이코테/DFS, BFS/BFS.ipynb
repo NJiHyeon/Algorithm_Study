{
 "cells": [
  {
   "cell_type": "markdown",
   "id": "ba65f48e-cbb6-4547-b31d-9a028ff3f22d",
   "metadata": {},
   "source": [
    "## 🔎 BFS"
   ]
  },
  {
   "cell_type": "markdown",
   "id": "4f27f4db-9b38-4e8f-a28c-7d1ed1115485",
   "metadata": {},
   "source": [
    "#### BFS (넣고 한번에 출력하고를 반복)\n",
    "- Breadth-first search의 약자로 너비 우선 탐색이라고도 부르며, 그래프에서 **가까운 노드부터 우선적으로 탐색**하는 알고리즘\n",
    "- 특정 조건에서의 **최단 경로 문제 해결**에 효과적으로 이용\n",
    "- BFS는 **큐 자료구조**를 이용하며, 구체적인 동작은 다음과 같다. \n",
    "  - 탐색 시작 노드를 큐에 삽입하고 방문 처리를 한다.  \n",
    "  - 큐에서 노드를 꺼낸 뒤에 해당 노드의 인접 노드 중에서 **방문하지 않은 노드를 모두 (한번에) 큐에 삽입**하고 방문 처리한다. (cf. DFS는 인접하지 않은 노드에 대해서 다시 한번씩 스택에 넣으면서 방문을 수행)\n",
    "  - 더이상 위의 과정을 수행할 수 없을 때까지 반복한다."
   ]
  },
  {
   "cell_type": "code",
   "execution_count": 5,
   "id": "fd0df01a-fa19-4caa-aa37-89684aa19e6a",
   "metadata": {},
   "outputs": [],
   "source": [
    "# 각 노드가 연결된 정보를 표현 (2차원 리스트)\n",
    "graph = [[], [2, 3, 8], [1, 7], [1, 4, 5], [3, 5], [3, 4], [7], [2, 6, 8], [1, 7]]\n",
    "\n",
    "# 각 노드가 방문된 정보를 표현 (1차원 리스트)\n",
    "visited = [False] * 9\n",
    "\n",
    "from collections import deque\n",
    "# BFS 메서드 정의\n",
    "def bfs(graph, start, visited) :\n",
    "    # 큐 구현을 위해 deque 라이브러리 사용\n",
    "    queue = deque([start])\n",
    "    # 현재 노드를 방문처리\n",
    "    visited[start] = True\n",
    "    # 큐가 빌 때까지 반복\n",
    "    while queue :\n",
    "        # 큐에서 하나의 원소를 뽑아 출력하기\n",
    "        v = queue.popleft()\n",
    "        print(v, end=' ')\n",
    "        # 아직 방문하지 않은 인접한 원소들을 큐에 삽입\n",
    "        for i in graph[v] :\n",
    "            if not visited[i] :\n",
    "                queue.append(i) \n",
    "                visited[i] = True"
   ]
  },
  {
   "cell_type": "code",
   "execution_count": 6,
   "id": "e425e4f8-8c69-486c-ae90-d90794d4f9d5",
   "metadata": {},
   "outputs": [
    {
     "name": "stdout",
     "output_type": "stream",
     "text": [
      "1 2 3 8 7 4 5 6 "
     ]
    }
   ],
   "source": [
    "bfs(graph, 1, visited)"
   ]
  }
 ],
 "metadata": {
  "kernelspec": {
   "display_name": "Python 3 (ipykernel)",
   "language": "python",
   "name": "python3"
  },
  "language_info": {
   "codemirror_mode": {
    "name": "ipython",
    "version": 3
   },
   "file_extension": ".py",
   "mimetype": "text/x-python",
   "name": "python",
   "nbconvert_exporter": "python",
   "pygments_lexer": "ipython3",
   "version": "3.10.9"
  }
 },
 "nbformat": 4,
 "nbformat_minor": 5
}
