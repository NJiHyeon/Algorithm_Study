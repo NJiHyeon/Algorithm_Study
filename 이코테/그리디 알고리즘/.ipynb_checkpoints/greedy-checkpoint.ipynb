{
 "cells": [
  {
   "cell_type": "markdown",
   "id": "fcd0b502-387d-47b5-945c-976887cfe152",
   "metadata": {},
   "source": [
    "### 문제1"
   ]
  },
  {
   "cell_type": "markdown",
   "id": "7dafd70b-0433-49fb-a105-24f842fe11c6",
   "metadata": {},
   "source": [
    "#### My code"
   ]
  },
  {
   "cell_type": "code",
   "execution_count": 24,
   "id": "be05c685-68a0-458b-ae5f-49c2fa891363",
   "metadata": {},
   "outputs": [
    {
     "name": "stdin",
     "output_type": "stream",
     "text": [
      " 1260\n"
     ]
    }
   ],
   "source": [
    "N = int(input())"
   ]
  },
  {
   "cell_type": "code",
   "execution_count": 25,
   "id": "476f5461-bea2-40a3-8063-6e5854c3e929",
   "metadata": {},
   "outputs": [],
   "source": [
    "dong = [500, 100, 50, 10]"
   ]
  },
  {
   "cell_type": "code",
   "execution_count": 26,
   "id": "e4b98fbb-173a-4def-b885-5acbde240e6f",
   "metadata": {},
   "outputs": [
    {
     "name": "stdout",
     "output_type": "stream",
     "text": [
      "6\n"
     ]
    }
   ],
   "source": [
    "final = 0\n",
    "for d in dong :\n",
    "    if N//d >= 1 :\n",
    "        n = N//d\n",
    "        final += n\n",
    "        N -= d*n\n",
    "    else :\n",
    "        pass\n",
    "    \n",
    "print(final)"
   ]
  },
  {
   "cell_type": "markdown",
   "id": "d45fade9-ca6d-4727-b8d1-0cb218a48a2c",
   "metadata": {
    "tags": []
   },
   "source": [
    "#### Lecture code"
   ]
  },
  {
   "cell_type": "code",
   "execution_count": 28,
   "id": "617b7304-d2eb-4236-a809-456caf44e271",
   "metadata": {},
   "outputs": [
    {
     "name": "stdout",
     "output_type": "stream",
     "text": [
      "6\n"
     ]
    }
   ],
   "source": [
    "n = 1260\n",
    "count = 0\n",
    "\n",
    "# 큰 단위의 화폐부터 차례대로 확인하기\n",
    "array = [500, 100, 50, 10]\n",
    "\n",
    "for coin in array :\n",
    "    # 혜당 화폐로 거술러 줄 수 있는 동전의 개수 세기\n",
    "    count += n // coin\n",
    "    n %= coin\n",
    "\n",
    "print(count)"
   ]
  },
  {
   "cell_type": "markdown",
   "id": "62621126-07a8-49a5-ba34-3f79a726b27c",
   "metadata": {
    "tags": []
   },
   "source": [
    "#### **보완할 점**\n",
    "- 변수의 이름을 헷갈리지 않게 하도록 잘 만들기 (몇 개 정해서 돌리는 것도 좋을듯)\n",
    "- 나는 거슬러 주고 남은 돈을 (현재 남은 돈 = 이전 남은 돈 - 동전의 단위*개수)로 구했는데, 쉽게 %을 이용해서 현재 남은 돈을 몫을 나누고 나머지 값으로 설정하기 !"
   ]
  },
  {
   "cell_type": "markdown",
   "id": "dac0db34-3f06-40b8-b5eb-c8771f6e33b1",
   "metadata": {},
   "source": [
    "---"
   ]
  },
  {
   "cell_type": "markdown",
   "id": "3a0d1421-551f-4654-94af-c46955cada9b",
   "metadata": {},
   "source": [
    "### 문제 2 : 1이 될 때까지"
   ]
  },
  {
   "cell_type": "markdown",
   "id": "4d31621b-3256-4a39-ae52-606dd30f9155",
   "metadata": {},
   "source": [
    "#### My code"
   ]
  },
  {
   "cell_type": "code",
   "execution_count": 4,
   "id": "85f341ac-29c8-4788-ab76-d3c8bb0b79ba",
   "metadata": {},
   "outputs": [
    {
     "name": "stdin",
     "output_type": "stream",
     "text": [
      " 25 3\n"
     ]
    },
    {
     "name": "stdout",
     "output_type": "stream",
     "text": [
      "n : 1\n",
      "count : 6\n"
     ]
    }
   ],
   "source": [
    "n, k = map(int, input().split())\n",
    "\n",
    "count = 0\n",
    "while True :\n",
    "    if n%k == 0 :\n",
    "        n //= k\n",
    "        count += 1 \n",
    "        if n == 1 :\n",
    "            break\n",
    "            \n",
    "    else :\n",
    "        n -= 1\n",
    "        count += 1\n",
    "        if n == 1 :\n",
    "            break\n",
    "        \n",
    "print(\"n :\", n)\n",
    "print(\"count :\", count)"
   ]
  },
  {
   "cell_type": "markdown",
   "id": "2ffea3c9-c077-463b-afa3-fec04548f47a",
   "metadata": {},
   "source": [
    "#### Lecture code"
   ]
  },
  {
   "cell_type": "code",
   "execution_count": 8,
   "id": "540fd1f8-993f-48db-929f-a54d46755d41",
   "metadata": {},
   "outputs": [
    {
     "name": "stdin",
     "output_type": "stream",
     "text": [
      " 25 3\n"
     ]
    },
    {
     "name": "stdout",
     "output_type": "stream",
     "text": [
      "0\n"
     ]
    }
   ],
   "source": [
    "# N, K를 공백을 기준으로 구분하여 입력받기\n",
    "n, k = map(int, input().split())\n",
    "\n",
    "result = 0\n",
    "\n",
    "while True :\n",
    "    '''\n",
    "    N이 K로 나누어 떨어지는 수가 될 때까지 빼기\n",
    "    '''\n",
    "    # target은 k로 나누어 떨어지는 수\n",
    "    target = (n//k) * k\n",
    "    # 1을 빼는 연산을 몇 번 수행할지 ?\n",
    "    result += (n-target)\n",
    "    n = target\n",
    "    # N이 K보다 작을 때 (더 이상 나눌 수 없을 때) 반복문 탈출\n",
    "    if n < k :\n",
    "        break\n",
    "    # K로 나누기\n",
    "    result += 1\n",
    "    n //= k\n",
    "    \n",
    "# 마지막으로 남은 수에 대하여 1씩 빼기\n",
    "result += (n-1)\n",
    "print(result)"
   ]
  },
  {
   "cell_type": "markdown",
   "id": "e2d63308-8d82-459d-83b6-7802cf9c2ea2",
   "metadata": {},
   "source": [
    "---"
   ]
  },
  {
   "cell_type": "markdown",
   "id": "be589af6-3e32-493d-83da-c4552e1fc155",
   "metadata": {},
   "source": [
    "### 문제3 : 곱하기 혹은 더하기"
   ]
  },
  {
   "cell_type": "markdown",
   "id": "330be189-53c7-4402-9e5e-e6feec5416f7",
   "metadata": {},
   "source": [
    "#### My code"
   ]
  },
  {
   "cell_type": "code",
   "execution_count": 30,
   "id": "32266428-ab26-4779-863b-384ec8008b39",
   "metadata": {},
   "outputs": [
    {
     "name": "stdin",
     "output_type": "stream",
     "text": [
      " 567\n"
     ]
    }
   ],
   "source": [
    "s = input()\n",
    "\n",
    "array = []\n",
    "for i in s :\n",
    "    array.append(int(i))"
   ]
  },
  {
   "cell_type": "code",
   "execution_count": 31,
   "id": "237ac5c1-5694-4f85-aecb-ab87b4196c85",
   "metadata": {},
   "outputs": [
    {
     "data": {
      "text/plain": [
       "[5, 6, 7]"
      ]
     },
     "execution_count": 31,
     "metadata": {},
     "output_type": "execute_result"
    }
   ],
   "source": [
    "array"
   ]
  },
  {
   "cell_type": "code",
   "execution_count": 32,
   "id": "ff7d6cbb-9a74-43db-9b77-280d4a14e24b",
   "metadata": {},
   "outputs": [],
   "source": [
    "while True :\n",
    "    if len(array) == 1 :\n",
    "        break\n",
    "    else :\n",
    "        if array[0] == 0 or array[0] == 1 or array[1] == 0 or array[1] == 1 :\n",
    "            array[0] = array[0]+array[1]\n",
    "            del array[1]\n",
    "        else :\n",
    "            array[0] = array[0] * array[1]\n",
    "            del array[1]"
   ]
  },
  {
   "cell_type": "code",
   "execution_count": 33,
   "id": "26750c8e-59eb-45f9-8b60-0b620cf1f9e7",
   "metadata": {},
   "outputs": [
    {
     "name": "stdout",
     "output_type": "stream",
     "text": [
      "210\n"
     ]
    }
   ],
   "source": [
    "print(array[0])"
   ]
  },
  {
   "cell_type": "markdown",
   "id": "ff85de14-de92-41f1-ab08-3ffc4d463000",
   "metadata": {},
   "source": [
    "#### Lecture code"
   ]
  },
  {
   "cell_type": "code",
   "execution_count": null,
   "id": "c12ca7f6-cf3c-4d45-9ff0-ebdac8e0629a",
   "metadata": {},
   "outputs": [],
   "source": [
    "data = input()\n",
    "\n",
    "# 첫번째 문자를 숫자로 변경하여 대입\n",
    "result = int(data[0])\n",
    "\n",
    "for i in range(1, len(data)) :\n",
    "    # 두 수 중에서 하나라도 '0', '1'인 경우, 곱하기보다는 더하기 수행\n",
    "    num = int(data[i])\n",
    "    if num <= 1 or result <= 1 :\n",
    "        result += num\n",
    "    else :\n",
    "        result *= num\n",
    "        \n",
    "print(result)"
   ]
  },
  {
   "cell_type": "markdown",
   "id": "478a2d96-057d-4da7-b2be-95955229e35e",
   "metadata": {},
   "source": [
    "---"
   ]
  },
  {
   "cell_type": "markdown",
   "id": "98884e37-8e64-4682-856f-510851e23268",
   "metadata": {},
   "source": [
    "### 문제4 : 모험가 길드"
   ]
  },
  {
   "cell_type": "code",
   "execution_count": 43,
   "id": "9818e01f-fa9b-4d05-91c6-d8b0cc98ed3a",
   "metadata": {},
   "outputs": [
    {
     "name": "stdin",
     "output_type": "stream",
     "text": [
      " 5\n",
      " 2 3 1 2 2\n"
     ]
    }
   ],
   "source": [
    "n = int(input())\n",
    "gong = list(map(int, input().split()))"
   ]
  },
  {
   "cell_type": "code",
   "execution_count": 44,
   "id": "9acf458d-7f9b-435d-a20b-914c3daf1a67",
   "metadata": {},
   "outputs": [],
   "source": [
    "gong.sort()"
   ]
  },
  {
   "cell_type": "code",
   "execution_count": 46,
   "id": "26096f9a-6a70-4044-b3e2-90271f8db5c2",
   "metadata": {},
   "outputs": [
    {
     "data": {
      "text/plain": [
       "[1, 2, 2, 2, 3]"
      ]
     },
     "execution_count": 46,
     "metadata": {},
     "output_type": "execute_result"
    }
   ],
   "source": [
    "gong"
   ]
  },
  {
   "cell_type": "code",
   "execution_count": 48,
   "id": "a98d732c-fb0b-45f3-8bcd-6e76071c6080",
   "metadata": {},
   "outputs": [
    {
     "name": "stdout",
     "output_type": "stream",
     "text": [
      "2\n"
     ]
    }
   ],
   "source": [
    "group_n = 0 # 총 그룹의 수\n",
    "people_n = 0 # 현재 그룹에 포함된 모험가의 수\n",
    "\n",
    "for i in gong : # 공포도를 낮은 것부터 하나씩 확인\n",
    "    people_n += 1 # 현재 그룹에 해당 모험가를 포함시키기\n",
    "    if i <= people_n : # 현재 그룹에 포함된 모험가의 수가 현재의 공포도 이상이라면, 그룹 결성\n",
    "        group_n += 1 # 총 그룹의 수 증가\n",
    "        people_n = 0 # 현재 그룹에 포함된 모험가의 수 초기화\n",
    "        \n",
    "# 총 그룹의 수 출력\n",
    "print(group_n)"
   ]
  }
 ],
 "metadata": {
  "kernelspec": {
   "display_name": "Python 3 (ipykernel)",
   "language": "python",
   "name": "python3"
  },
  "language_info": {
   "codemirror_mode": {
    "name": "ipython",
    "version": 3
   },
   "file_extension": ".py",
   "mimetype": "text/x-python",
   "name": "python",
   "nbconvert_exporter": "python",
   "pygments_lexer": "ipython3",
   "version": "3.9.13"
  }
 },
 "nbformat": 4,
 "nbformat_minor": 5
}
