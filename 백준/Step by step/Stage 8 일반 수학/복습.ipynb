{
 "cells": [
  {
   "cell_type": "markdown",
   "id": "cf5df170-ca7b-4c7b-b84e-faa6c0469778",
   "metadata": {},
   "source": [
    "### Stage8️⃣ 기본 수학1"
   ]
  },
  {
   "cell_type": "markdown",
   "id": "57e3afea-b132-4360-b20d-9af017a0036f",
   "metadata": {},
   "source": [
    "#### ✔단계1 : 2292번(벌집)"
   ]
  },
  {
   "cell_type": "markdown",
   "id": "bd0ccdf4-ccef-49f0-8d69-b85ab215c7a4",
   "metadata": {},
   "source": [
    "- **문제** : 위의 그림과 같이 육각형으로 이루어진 벌집이 있다. 그림에서 보는 바와 같이 중앙의 방 1부터 시작해서 이웃하는 방에 돌아가면서 1씩 증가하는 번호를 주소로 매길 수 있다. 숫자 N이 주어졌을 때, 벌집의 중앙 1에서 N번 방까지 최소 개수의 방을 지나서 갈 때 몇 개의 방을 지나가는지(시작과 끝을 포함하여)를 계산하는 프로그램을 작성하시오. 예를 들면, 13까지는 3개, 58까지는 5개를 지난다.\n",
    "\n",
    "- **입력** : 첫째 줄에 N(1 ≤ N ≤ 1,000,000,000)이 주어진다.\n",
    "\n",
    "- **출력** : 입력으로 주어진 방까지 최소 개수의 방을 지나서 갈 때 몇 개의 방을 지나는지 출력한다.\n",
    "\n",
    "- **예제 입출력** \n",
    "    - 입력1\n",
    "        - `13`\n",
    "       \n",
    "    - 출력1\n",
    "        - `3`"
   ]
  },
  {
   "cell_type": "code",
   "execution_count": null,
   "id": "97563644-6104-4d3d-bdd8-267f6069188e",
   "metadata": {},
   "outputs": [],
   "source": [
    "import sys\n",
    "n = sys.stdin.readline()\n",
    "\n",
    "b = 1\n",
    "s = 1\n",
    "while n < s :\n",
    "    s += 6*b\n",
    "    b += 1\n",
    "print(b)"
   ]
  },
  {
   "cell_type": "markdown",
   "id": "2bea2255-74ff-4f56-985b-c2c205cf0341",
   "metadata": {},
   "source": [
    "---"
   ]
  },
  {
   "cell_type": "markdown",
   "id": "6f5aa8a8-1f20-4840-9d5a-04e188e52677",
   "metadata": {},
   "source": [
    "#### ✔단계2 : 1193번(분수찾기)"
   ]
  },
  {
   "cell_type": "markdown",
   "id": "def7b016-49e6-48b2-9eb6-dac958ddec84",
   "metadata": {},
   "source": [
    "- **문제** : 무한히 큰 배열에 다음과 같이 분수들이 적혀있다. 이와 같이 나열된 분수들을 1/1 → 1/2 → 2/1 → 3/1 → 2/2 → … 과 같은 지그재그 순서로 차례대로 1번, 2번, 3번, 4번, 5번, … 분수라고 하자. X가 주어졌을 때, X번째 분수를 구하는 프로그램을 작성하시오.\n",
    "\n",
    "- **입력** : 첫째 줄에 X(1 ≤ X ≤ 10,000,000)가 주어진다.\n",
    "\n",
    "- **출력** : 첫째 줄에 분수를 출력한다.\n",
    "\n",
    "- **예제 입출력** \n",
    "    - 입력1\n",
    "        - `1`\n",
    "       \n",
    "    - 출력1\n",
    "        - `1/1`\n",
    "    - 입력2\n",
    "        - `2`\n",
    "    - 출력2\n",
    "        - `1/2`"
   ]
  },
  {
   "cell_type": "code",
   "execution_count": 22,
   "id": "5d6df329-a33c-4f9a-bd37-0b18a9a4b5f3",
   "metadata": {},
   "outputs": [
    {
     "name": "stdin",
     "output_type": "stream",
     "text": [
      " 14\n"
     ]
    },
    {
     "name": "stdout",
     "output_type": "stream",
     "text": [
      "2/4\n"
     ]
    }
   ],
   "source": [
    "n = int(input())\n",
    "\n",
    "s = 1 # 총개수\n",
    "b = 1 # 바퀴수\n",
    "while n > s :\n",
    "    s += (b+1)\n",
    "    b += 1\n",
    "    \n",
    "i = n-(s-b)\n",
    "\n",
    "if b%2 == 1 :\n",
    "    j = b+1-i\n",
    "    m = i\n",
    "else :\n",
    "    j = i\n",
    "    m = b+1-i\n",
    "\n",
    "print(str(j)+ '/'+ str(m))"
   ]
  },
  {
   "cell_type": "markdown",
   "id": "bd72141e-740b-4439-a671-8c95acade6ea",
   "metadata": {},
   "source": [
    "---"
   ]
  },
  {
   "cell_type": "markdown",
   "id": "7a9f4c68-70db-46e9-9a21-935d0424d087",
   "metadata": {},
   "source": [
    "#### ❌단계3 : 2869번(달팽이는 올라가고 싶다)"
   ]
  },
  {
   "cell_type": "markdown",
   "id": "b01fbc3a-df39-4181-8998-e452a5def08a",
   "metadata": {},
   "source": [
    "- **문제** : 땅 위에 달팽이가 있다. 이 달팽이는 높이가 V미터인 나무 막대를 올라갈 것이다.\n",
    "달팽이는 낮에 A미터 올라갈 수 있다. 하지만, 밤에 잠을 자는 동안 B미터 미끄러진다. 또, 정상에 올라간 후에는 미끄러지지 않는다. 달팽이가 나무 막대를 모두 올라가려면, 며칠이 걸리는지 구하는 프로그램을 작성하시오.\n",
    "\n",
    "- **입력** : 첫째 줄에 세 정수 A, B, V가 공백으로 구분되어서 주어진다. (1 ≤ B < A ≤ V ≤ 1,000,000,000)\n",
    "\n",
    "- **출력** : 첫째 줄에 달팽이가 나무 막대를 모두 올라가는데 며칠이 걸리는지 출력한다.\n",
    "\n",
    "- **예제 입출력** \n",
    "    - 입력1\n",
    "        - `2 1 5`\n",
    "       \n",
    "    - 출력1\n",
    "        - `4`"
   ]
  },
  {
   "cell_type": "code",
   "execution_count": 54,
   "id": "5f33d8b1-0332-45c7-a46d-ef905ebc7f22",
   "metadata": {},
   "outputs": [
    {
     "name": "stdin",
     "output_type": "stream",
     "text": [
      " 1 3 3\n"
     ]
    }
   ],
   "source": [
    "a, b, v = map(int, input().split())"
   ]
  },
  {
   "cell_type": "code",
   "execution_count": 44,
   "id": "dee191ee-de51-435c-8f79-46d1e8a8a281",
   "metadata": {},
   "outputs": [
    {
     "name": "stdout",
     "output_type": "stream",
     "text": [
      "999999901\n"
     ]
    }
   ],
   "source": [
    "if a==v :\n",
    "    print(1)\n",
    "else :\n",
    "    print((v-a-1)//(a-b) + 2)"
   ]
  },
  {
   "cell_type": "code",
   "execution_count": null,
   "id": "cde38e59-0540-4c7a-b7fb-f3757004d24f",
   "metadata": {},
   "outputs": [],
   "source": [
    "import sys\n",
    "a, b, v = map(int, sys.stdin.readline().split())"
   ]
  },
  {
   "cell_type": "markdown",
   "id": "41f556c0-9a5d-44f4-ae07-b24533676472",
   "metadata": {},
   "source": [
    "---"
   ]
  },
  {
   "cell_type": "markdown",
   "id": "b6195930-ab4c-4f64-8d80-6b4fea7c2eeb",
   "metadata": {},
   "source": [
    "#### ✔단계4 : 10250번(ACM 호텔)"
   ]
  },
  {
   "cell_type": "markdown",
   "id": "d1dd66f0-f7b8-4961-9c25-6cb249b6c595",
   "metadata": {},
   "source": [
    "- **문제** : ACM 호텔 매니저 지우는 손님이 도착하는 대로 빈 방을 배정하고 있다. 고객 설문조사에 따르면 손님들은 호텔 정문으로부터 걸어서 가장 짧은 거리에 있는 방을 선호한다고 한다. 여러분은 지우를 도와 줄 프로그램을 작성하고자 한다. 즉 설문조사 결과 대로 호텔 정문으로부터 걷는 거리가 가장 짧도록 방을 배정하는 프로그램을 작성하고자 한다. 문제를 단순화하기 위해서 호텔은 직사각형 모양이라고 가정하자. 각 층에 W 개의 방이 있는 H 층 건물이라고 가정하자 (1 ≤ H, W ≤ 99). 그리고 엘리베이터는 가장 왼쪽에 있다고 가정하자(그림 1 참고). 이런 형태의 호텔을 H × W 형태 호텔이라고 부른다. 호텔 정문은 일층 엘리베이터 바로 앞에 있는데, 정문에서 엘리베이터까지의 거리는 무시한다. 또 모든 인접한 두 방 사이의 거리는 같은 거리(거리 1)라고 가정하고 호텔의 정면 쪽에만 방이 있다고 가정한다. \n",
    "\n",
    "방 번호는 YXX 나 YYXX 형태인데 여기서 Y 나 YY 는 층 수를 나타내고 XX 는 엘리베이터에서부터 세었을 때의 번호를 나타낸다. 즉, 그림 1 에서 빗금으로 표시한 방은 305 호가 된다.\n",
    "\n",
    "손님은 엘리베이터를 타고 이동하는 거리는 신경 쓰지 않는다. 다만 걷는 거리가 같을 때에는 아래층의 방을 더 선호한다. 예를 들면 102 호 방보다는 301 호 방을 더 선호하는데, 102 호는 거리 2 만큼 걸어야 하지만 301 호는 거리 1 만큼만 걸으면 되기 때문이다. 같은 이유로 102 호보다 2101 호를 더 선호한다.\n",
    "\n",
    "여러분이 작성할 프로그램은 초기에 모든 방이 비어있다고 가정하에 이 정책에 따라 N 번째로 도착한 손님에게 배정될 방 번호를 계산하는 프로그램이다. 첫 번째 손님은 101 호, 두 번째 손님은 201 호 등과 같이 배정한다. 그림 1 의 경우를 예로 들면, H = 6이므로 10 번째 손님은 402 호에 배정해야 한다.\n",
    "\n",
    "- **입력** : 프로그램은 표준 입력에서 입력 데이터를 받는다. 프로그램의 입력은 T 개의 테스트 데이터로 이루어져 있는데 T 는 입력의 맨 첫 줄에 주어진다. 각 테스트 데이터는 한 행으로서 H, W, N, 세 정수를 포함하고 있으며 각각 호텔의 층 수, 각 층의 방 수, 몇 번째 손님인지를 나타낸다(1 ≤ H, W ≤ 99, 1 ≤ N ≤ H × W). \n",
    "\n",
    "- **출력** : 프로그램은 표준 출력에 출력한다. 각 테스트 데이터마다 정확히 한 행을 출력하는데, 내용은 N 번째 손님에게 배정되어야 하는 방 번호를 출력한다.\n",
    "\n",
    "- **예제 입출력** \n",
    "    - 입력1\n",
    "        - `2`\n",
    "        - `6 12 10`\n",
    "        - `30 50 72`\n",
    "        \n",
    "       \n",
    "    - 출력1\n",
    "        - `402`\n",
    "        - `1203`"
   ]
  },
  {
   "cell_type": "code",
   "execution_count": 156,
   "id": "ca1f7c76-730b-4c0f-81e2-a24b86592ebb",
   "metadata": {},
   "outputs": [
    {
     "name": "stdin",
     "output_type": "stream",
     "text": [
      " 1\n",
      " 20 30 20\n"
     ]
    },
    {
     "name": "stdout",
     "output_type": "stream",
     "text": [
      "2001\n"
     ]
    }
   ],
   "source": [
    "nn = int(input())\n",
    "for _ in range(nn) :\n",
    "    h, w, n = map(int, input().split())\n",
    "    b = n//h # 호수\n",
    "    f = n%h  # 층수\n",
    "    if f==0 :\n",
    "        print(h*100 + b)\n",
    "\n",
    "    else :\n",
    "        print(f*100 + (b+1))"
   ]
  },
  {
   "cell_type": "markdown",
   "id": "7a7fea03-53b1-478b-b0a9-ee49e7352939",
   "metadata": {},
   "source": [
    "---"
   ]
  },
  {
   "cell_type": "markdown",
   "id": "558375b2-8016-4915-b459-36b318c00136",
   "metadata": {},
   "source": [
    "#### ❌단계5 : 2775번(부녀회장이 될테야)"
   ]
  },
  {
   "cell_type": "markdown",
   "id": "1ea9df5e-0471-47bb-a8cd-2978d3353019",
   "metadata": {},
   "source": [
    "- **문제** : 평소 반상회에 참석하는 것을 좋아하는 주희는 이번 기회에 부녀회장이 되고 싶어 각 층의 사람들을 불러 모아 반상회를 주최하려고 한다. 이 아파트에 거주를 하려면 조건이 있는데, “a층의 b호에 살려면 자신의 아래(a-1)층의 1호부터 b호까지 사람들의 수의 합만큼 사람들을 데려와 살아야 한다” 는 계약 조항을 꼭 지키고 들어와야 한다. 아파트에 비어있는 집은 없고 모든 거주민들이 이 계약 조건을 지키고 왔다고 가정했을 때, 주어지는 양의 정수 k와 n에 대해 k층에 n호에는 몇 명이 살고 있는지 출력하라. 단, 아파트에는 0층부터 있고 각층에는 1호부터 있으며, 0층의 i호에는 i명이 산다. 첫 번째 줄에 Test case의 수 T가 주어진다. 그리고 각각의 케이스마다 입력으로 첫 번째 줄에 정수 k, 두 번째 줄에 정수 n이 주어진다\n",
    "\n",
    "- **입력** : 각각의 Test case에 대해서 해당 집에 거주민 수를 출력하라.\n",
    "\n",
    "- **출력** : \n",
    "\n",
    "- **예제 입출력** \n",
    "    - 입력1\n",
    "        - `2`\n",
    "        - `1`\n",
    "        - `3`\n",
    "        - `2`\n",
    "        - `3`\n",
    "       \n",
    "    - 출력1\n",
    "        - `6`\n",
    "        - `10`"
   ]
  },
  {
   "cell_type": "code",
   "execution_count": 159,
   "id": "801761ad-00bd-4238-ab07-788b7f769312",
   "metadata": {},
   "outputs": [
    {
     "data": {
      "text/plain": [
       "[1, 2, 3, 4, 5, 6, 7, 8, 9, 10]"
      ]
     },
     "execution_count": 159,
     "metadata": {},
     "output_type": "execute_result"
    }
   ],
   "source": [
    "[i for i in range(1, 10+1)]"
   ]
  },
  {
   "cell_type": "code",
   "execution_count": 160,
   "id": "08ee4adf-cd58-46dc-ad2a-d4dafaf1be0e",
   "metadata": {},
   "outputs": [
    {
     "name": "stdin",
     "output_type": "stream",
     "text": [
      " 2\n",
      " 1\n",
      " 3\n"
     ]
    },
    {
     "name": "stdout",
     "output_type": "stream",
     "text": [
      "6\n"
     ]
    },
    {
     "name": "stdin",
     "output_type": "stream",
     "text": [
      " 2\n",
      " 3\n"
     ]
    },
    {
     "name": "stdout",
     "output_type": "stream",
     "text": [
      "10\n"
     ]
    }
   ],
   "source": [
    "t = int(input())\n",
    "for _ in range(t) :\n",
    "    k = int(input()) # 층수\n",
    "    n = int(input()) # 호수\n",
    "    people = [i for i in range(1, n+1)]\n",
    "    for i in range(k) :\n",
    "        # 한 층 돌때마다 새롭게\n",
    "        new = []\n",
    "        for j in range(n) :\n",
    "            p = sum(people[:j+1])\n",
    "            new.append(p)\n",
    "        people = new\n",
    "    print(people[-1])"
   ]
  },
  {
   "cell_type": "markdown",
   "id": "40f5cddc-d238-45aa-a823-71ce38bca5c4",
   "metadata": {},
   "source": [
    "---"
   ]
  },
  {
   "cell_type": "markdown",
   "id": "e5594d32-fdab-49de-b412-811a9f677c5c",
   "metadata": {},
   "source": [
    "#### ✔단계6 : 10757번(큰 수 A+B)"
   ]
  },
  {
   "cell_type": "markdown",
   "id": "2030f170-4084-4f80-96a9-24bf496d6d24",
   "metadata": {},
   "source": [
    "- **문제** : 두 정수 A와 B를 입력받은 다음, A+B를 출력하는 프로그램을 작성하시오.\n",
    "\n",
    "- **입력** : 첫째 줄에 A와 B가 주어진다. (0 < A,B < 1010000)\n",
    "\n",
    "- **출력** : 첫째 줄에 A+B를 출력한다.\n",
    "\n",
    "- **예제 입출력** \n",
    "    - 입력1\n",
    "        - `9223372036854775807 9223372036854775808`\n",
    "       \n",
    "    - 출력1\n",
    "        - `18446744073709551615`"
   ]
  },
  {
   "cell_type": "code",
   "execution_count": null,
   "id": "d0c63a10-02dd-433d-a67f-e9e979a590bf",
   "metadata": {},
   "outputs": [],
   "source": [
    "import sys\n",
    "a, b = map(int, sys.stdin.readline().split())\n",
    "print(a+b)"
   ]
  }
 ],
 "metadata": {
  "kernelspec": {
   "display_name": "Python 3 (ipykernel)",
   "language": "python",
   "name": "python3"
  },
  "language_info": {
   "codemirror_mode": {
    "name": "ipython",
    "version": 3
   },
   "file_extension": ".py",
   "mimetype": "text/x-python",
   "name": "python",
   "nbconvert_exporter": "python",
   "pygments_lexer": "ipython3",
   "version": "3.9.13"
  }
 },
 "nbformat": 4,
 "nbformat_minor": 5
}
