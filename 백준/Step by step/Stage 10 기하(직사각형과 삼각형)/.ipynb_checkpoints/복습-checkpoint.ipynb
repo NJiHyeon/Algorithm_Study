{
 "cells": [
  {
   "cell_type": "markdown",
   "id": "67dea6e6-d788-4335-a946-8a7403f1e085",
   "metadata": {},
   "source": [
    "### Stage9️⃣ 기하 : 직사각형과 삼각형"
   ]
  },
  {
   "cell_type": "markdown",
   "id": "54925659-7315-46f2-901c-b372cab24729",
   "metadata": {},
   "source": [
    "#### ✔❌단계1 : 27323번(직사각형)"
   ]
  },
  {
   "cell_type": "markdown",
   "id": "86c468f5-edeb-4928-a9db-7a395b42ae0a",
   "metadata": {},
   "source": [
    "- **문제** : 정수 A, B 가 주어진다. 세로 길이가 A cm, 가로 길이가 B cm 인 아래와 같은 직사각형의 넓이를 cm2 단위로 구하시오.\n",
    "\n",
    "\n",
    "- **입력** : 표준 입력에 다음과 같은 형태로 입력이 주어진다.\n",
    "\n",
    "- **출력** : 세로 길이가 A cm, 가로 길이가 B cm인 직사각형의 넓이를 cm2 단위로 구하고, 단위 (cm2)를 생략하여 출력한다.\n",
    "\n",
    "- **예제 입출력** \n",
    "    - 입력1\n",
    "        - `4`\n",
    "        - `4`\n",
    "       \n",
    "    - 출력1\n",
    "        - `16`\n"
   ]
  },
  {
   "cell_type": "code",
   "execution_count": 3,
   "id": "1f7dd4f0-a5ba-4866-beb2-2908b96478b2",
   "metadata": {},
   "outputs": [
    {
     "name": "stdin",
     "output_type": "stream",
     "text": [
      " 3\n",
      " 4\n"
     ]
    },
    {
     "name": "stdout",
     "output_type": "stream",
     "text": [
      "12\n"
     ]
    }
   ],
   "source": [
    "a = int(input())\n",
    "b = int(input())\n",
    "print(a*b)"
   ]
  },
  {
   "cell_type": "markdown",
   "id": "5f55eb57-00c8-4962-9c67-1e574086b573",
   "metadata": {},
   "source": [
    "---"
   ]
  },
  {
   "cell_type": "markdown",
   "id": "659d80a2-5d21-4637-b51f-d78dfb9ee46d",
   "metadata": {},
   "source": [
    "#### ✔단계2 : 1085번(직사각형에서 탈출)"
   ]
  },
  {
   "cell_type": "markdown",
   "id": "8b64cdb3-f2b4-461f-9ac2-ba23f76a5f60",
   "metadata": {},
   "source": [
    "- **문제** : 한수는 지금 (x, y)에 있다. 직사각형은 각 변이 좌표축에 평행하고, 왼쪽 아래 꼭짓점은 (0, 0), 오른쪽 위 꼭짓점은 (w, h)에 있다. 직사각형의 경계선까지 가는 거리의 최솟값을 구하는 프로그램을 작성하시오.\n",
    "\n",
    "\n",
    "- **입력** : 첫째 줄에 x, y, w, h가 주어진다.\n",
    "\n",
    "- **출력** : 첫째 줄에 문제의 정답을 출력한다.\n",
    "\n",
    "\n",
    "- **예제 입출력** \n",
    "    - 입력1\n",
    "        - `6 2 10 3`\n",
    "        \n",
    "       \n",
    "    - 출력1\n",
    "        - `1`\n"
   ]
  },
  {
   "cell_type": "code",
   "execution_count": 10,
   "id": "a453c516-d94a-44ba-a2f4-56f3ee0ac146",
   "metadata": {},
   "outputs": [
    {
     "name": "stdin",
     "output_type": "stream",
     "text": [
      " 653 375 1000 1000\n"
     ]
    },
    {
     "name": "stdout",
     "output_type": "stream",
     "text": [
      "347\n"
     ]
    }
   ],
   "source": [
    "x, y, w, h = map(int, input().split())\n",
    "lb = 0\n",
    "rt = 0\n",
    "\n",
    "a = []\n",
    "a.append(x)\n",
    "a.append(y)\n",
    "a.append(w-x)\n",
    "a.append(h-y)\n",
    "a.sort()\n",
    "print(a[0])"
   ]
  },
  {
   "cell_type": "markdown",
   "id": "c75ddfce-b159-4d22-a650-767ac3f6684e",
   "metadata": {},
   "source": [
    "---"
   ]
  },
  {
   "cell_type": "markdown",
   "id": "70bdd3c2-ea7c-40bc-aea8-caeead19ed0b",
   "metadata": {},
   "source": [
    "#### ✔단계3 : 3009번(네 번째 점)"
   ]
  },
  {
   "cell_type": "markdown",
   "id": "c59071dd-77f0-4968-8cf7-0dea91b97ba7",
   "metadata": {},
   "source": [
    "- **문제** : 세 점이 주어졌을 때, 축에 평행한 직사각형을 만들기 위해서 필요한 네 번째 점을 찾는 프로그램을 작성하시오.\n",
    "\n",
    "\n",
    "- **입력** : 세 점의 좌표가 한 줄에 하나씩 주어진다. 좌표는 1보다 크거나 같고, 1000보다 작거나 같은 정수이다.\n",
    "\n",
    "- **출력** : 직사각형의 네 번째 점의 좌표를 출력한다.\n",
    "- **예제 입출력** \n",
    "    - 입력1\n",
    "        - `5 5`\n",
    "        - `5 7`\n",
    "        - `7 5`\n",
    "       \n",
    "    - 출력1\n",
    "        - `7 7`"
   ]
  },
  {
   "cell_type": "code",
   "execution_count": 34,
   "id": "54712145-757c-4b7f-9ff3-366ebbe78e9c",
   "metadata": {},
   "outputs": [
    {
     "name": "stdin",
     "output_type": "stream",
     "text": [
      " 5 5\n",
      " 5 7\n",
      " 7 5\n"
     ]
    },
    {
     "name": "stdout",
     "output_type": "stream",
     "text": [
      "7 7 "
     ]
    }
   ],
   "source": [
    "xx = []\n",
    "yy = []\n",
    "for _ in range(3) :\n",
    "    x, y = map(int, input().split())\n",
    "    xx.append(x)\n",
    "    yy.append(y)\n",
    " \n",
    "\n",
    "t = []\n",
    "for i in xx :\n",
    "    if xx.count(i)==1 :\n",
    "        t.append(i)\n",
    "        break\n",
    "for j in yy :\n",
    "    if yy.count(j)==1 :\n",
    "        t.append(j)\n",
    "        break\n",
    "        \n",
    "for l in t :\n",
    "    print(l, end=' ')"
   ]
  },
  {
   "cell_type": "markdown",
   "id": "4e7a57ee-0d8d-4c86-a52c-679e54a6a06e",
   "metadata": {},
   "source": [
    "---"
   ]
  },
  {
   "cell_type": "markdown",
   "id": "fce37ba2-bf47-4d1d-bae5-dc69b0d23b8b",
   "metadata": {},
   "source": [
    "#### ✔단계4 : 15894번(수학은 체육과목입니다.)"
   ]
  },
  {
   "cell_type": "markdown",
   "id": "10bc022a-1dca-401b-9d62-a8822a8b8f2b",
   "metadata": {},
   "source": [
    "- **문제** : 성원이는 수학을 정말 못 하는 고등학생이다. 수학을 못하는 대신 근성과 팔 힘이 뛰어난 성원이는 수학 시험에서 수학 지식을 사용하지 않고 근성과 체력을 사용해 문제를 푼다. 지난 시험에서는 아래 사진에 나와있는 문제를 근성과 체력을 사용해 열심히 풀었지만 사진에서 볼 수 있듯이 틀려버리고 말았다!\n",
    "결국 이 문제는 틀려버렸지만 성원이는 여전히 자신의 체력에 강한 자신감을 갖고 있다. 어떤 어려운 문제가 나와도 이런 식으로 근성과 체력을 사용하면 다 풀 수 있으니 이 방법은 최고의 방법이라고 생각하고 있다. 성원이의 친구 형석이는 근성과 체력으로 수학 문제를 푸는 것은 굉장히 무식한 방법이라고 생각한다. 형석이는 수학을 공부하면 문제를 훨씬 빨리 풀 수 있다는 것을 알려주기 위해 위 사진에 나와있는 문제를 갖고 성원이와 퀴즈 내기를 하기로 했다. 위 사진의 문제를 다시 정리하면 아래와 같다. \"한 변의 길이가 1인 정사각형을 아래 그림과 같이 겹치지 않게 빈틈없이 계속 붙여 나간다. 가장 아랫부분의 정사각형이 n개가 되었을 때, 실선으로 이루어진 도형의 둘레의 길이를 구하시오.\"\n",
    "가장 아랫부분의 정사각형 개수가 주어지면 그에 해당하는 답을 출력하는 프로그램을 만들어 형석이를 도와주자!\n",
    "\n",
    "\n",
    "- **입력** : 첫 번째 줄에 가장 아랫부분의 정사각형 개수 n이 주어진다. (1 ≤ n ≤ 109)\n",
    "\n",
    "- **출력** : 첫 번째 줄에 형석이가 말해야 하는 답을 출력한다.\n",
    "\n",
    "- **예제 입출력** \n",
    "    - 입력1\n",
    "        - `1`\n",
    "       \n",
    "    - 출력1\n",
    "        - `4`\n",
    "    - 입력2\n",
    "        - `4`\n",
    "    - 출력2\n",
    "        - `3`"
   ]
  },
  {
   "cell_type": "code",
   "execution_count": 36,
   "id": "07adbd9d-3843-469e-b634-a4548850f237",
   "metadata": {},
   "outputs": [
    {
     "name": "stdin",
     "output_type": "stream",
     "text": [
      " 3\n"
     ]
    },
    {
     "name": "stdout",
     "output_type": "stream",
     "text": [
      "12\n"
     ]
    }
   ],
   "source": [
    "n = int(input())\n",
    "print(4*n)"
   ]
  },
  {
   "cell_type": "markdown",
   "id": "a4d6c870-d5d4-4f73-a283-58a535ce50a8",
   "metadata": {},
   "source": [
    "---"
   ]
  },
  {
   "cell_type": "markdown",
   "id": "12e2896a-afca-41e5-bb18-a2f496188e1e",
   "metadata": {},
   "source": [
    "#### ✔단계5 : 9063번(대지)"
   ]
  },
  {
   "cell_type": "markdown",
   "id": "e2c6b04c-017b-4dd1-897e-0f3bb7376055",
   "metadata": {},
   "source": [
    "- **문제** :  임씨는 1950 년 한국전쟁으로 많은 손해를 본 사람들 중 하나다. 전쟁 통에 손해보지 않은 사람이 어디 있을까 만은 그는 6.25 가 일어나기 전만 해도 충청도 지방에 넓은 대지를 소유한 큰 부자였다. 전쟁이 나자 임씨는 땅문서와 값 나가는 것들만 챙겨서 일본으로 피난을 가지만 피난 중에 그만 땅문서를 잃어버리고 만다. 전쟁이 끝난 후에 임씨의 땅은 이미 다른 사람들의 논밭이 되어 있었고, 임씨는 땅을 되찾으려 했지만 문서가 없으니 생떼 쓰는 것과 다를 바 없었다. 이러다가 임씨는 길바닥에 나앉게 생겼다. 이때, 임씨에게 좋은 생각이 떠올랐으니 바로 자신이 습관처럼 땅 깊숙이 뭔가 표식을 해놓았던 사실이다. 임씨는 한적할 때마다 자신의 논밭을 거닐다가 땅속 깊은 곳에 자신의 이름이 씌어진 옥구슬을 묻어놓았던 것이다. 즉, 어떤 지점에서 그의 이름이 적힌 옥구슬이 나온다면 그 지점은 예전에 임씨의 땅이었다는 것을 증명하는 것이다. 임씨는 즉시 민사소송을 통해 자신의 땅을 찾고자 했고 논리적인 근거를 들어 옥구슬이 나오는 지점이 원래 자신의 땅의 한 지점이었다는 것을 주장하여 결국 담당판사를 설득하는 데에 성공하였다. 담당판사는 다음과 같은 판결을 내렸다. “ 6.25 이전의 개인소유 대지들은 99%가 남북, 동서 방향으로 평행한 직사각형 모양이었으므로, 임씨의 이름이 새겨진 옥구슬이 나오는 모든 지점을 포함하는 가장 작은 남북, 동서 방향으로 평행한 변을 갖는 직사각형의 대지를 임씨의 소유로 인정한다.” 임씨는 많은 손해를 보는 셈이지만 더 이상을 요구할 만한 근거가 없었기 때문에 이 판결을 따르기로 했다. 임씨의 이름이 새겨진 옥구슬의 위치 N 개가 주어질 때에, 임씨에게 돌아갈 대지의 넓이를 계산하는 프로그램을 작성하시오. 단, 옥구슬의 위치는 2 차원 정수 좌표로 주어지고 옥구슬은 같은 위치에 여러 개가 발견될 수도 있으며, x 축의 양의방향을 동쪽, y 축의 양의방향을 북쪽이라고 가정한다. 예를 들어 위와 같이 (2, 1), (3, 2), (5, 2), (3, 4) 네 점에서 옥구슬을 발견하였다면, 임씨에게 돌아갈 대지는 (2, 1), (5, 1), (2, 4), (5, 4)를 네 꼭짓점으로 하는 직사각형이며, 넓이는 (5 - 2) × (4 - 1) = 9 가 된다. \n",
    " \n",
    "\n",
    "- **입력** : 첫째 줄에는 점의 개수 N (1 ≤ N ≤ 100,000) 이 주어진다. 이어지는 N 줄에는 각 점의 좌표가 두 개의 정수로 한 줄에 하나씩 주어진다. 각각의 좌표는 -10,000 이상 10,000 이하의 정수이다. \n",
    "\n",
    "- **출력** : 첫째 줄에 N 개의 점을 둘러싸는 최소 크기의 직사각형의 넓이를 출력하시오. \n",
    "\n",
    "- **예제 입출력** \n",
    "    - 입력1\n",
    "        - `3`\n",
    "        - `20 24`\n",
    "        - `40 21`\n",
    "        - `10 12`\n",
    "       \n",
    "    - 출력1\n",
    "        - `360`"
   ]
  },
  {
   "cell_type": "code",
   "execution_count": 37,
   "id": "07459db2-5272-40a2-a9db-10f6245d4c5f",
   "metadata": {},
   "outputs": [
    {
     "name": "stdin",
     "output_type": "stream",
     "text": [
      " 3\n",
      " 20 24\n",
      " 40 21\n",
      " 10 12\n"
     ]
    },
    {
     "name": "stdout",
     "output_type": "stream",
     "text": [
      "360\n"
     ]
    }
   ],
   "source": [
    "n = int(input())\n",
    "xx = []\n",
    "yy = []\n",
    "for _ in range(n) :\n",
    "    x, y = map(int, input().split())\n",
    "    xx.append(x)\n",
    "    yy.append(y)\n",
    "xx.sort()\n",
    "yy.sort()\n",
    "print((xx[-1]-xx[0])*(yy[-1]-yy[0]))"
   ]
  },
  {
   "cell_type": "markdown",
   "id": "8124363f-dd82-414b-9e97-d6cf656fe886",
   "metadata": {},
   "source": [
    "---"
   ]
  },
  {
   "cell_type": "markdown",
   "id": "14da9a75-87ef-4735-a3c0-1fa616549b18",
   "metadata": {},
   "source": [
    "#### ✔단계6 : 10101번(삼각형 외우기)"
   ]
  },
  {
   "cell_type": "markdown",
   "id": "3a79c05d-b5c3-469e-bc09-7a67efde59fe",
   "metadata": {},
   "source": [
    "- **문제** : 창영이는 삼각형의 종류를 잘 구분하지 못한다. 따라서 프로그램을 이용해 이를 외우려고 한다. 삼각형의 세 각을 입력받은 다음, \n",
    "    - 세 각의 크기가 모두 60이면, Equilateral\n",
    "    - 세 각의 합이 180이고, 두 각이 같은 경우에는 Isosceles\n",
    "    - 세 각의 합이 180이고, 같은 각이 없는 경우에는 Scalene\n",
    "    - 세 각의 합이 180이 아닌 경우에는 Error 를 출력하는 프로그램을 작성하시오.\n",
    "\n",
    "- **입력** : 총 3개의 줄에 걸쳐 삼각형의 각의 크기가 주어진다. 모든 정수는 0보다 크고, 180보다 작다.\n",
    "\n",
    "- **출력** : 문제의 설명에 따라 Equilateral, Isosceles, Scalene, Error 중 하나를 출력한다.\n",
    "\n",
    "- **예제 입출력** \n",
    "    - 입력1\n",
    "        - `60`\n",
    "        - `70`\n",
    "        - `50`\n",
    "       \n",
    "    - 출력1\n",
    "        - `Scalene`"
   ]
  },
  {
   "cell_type": "code",
   "execution_count": 46,
   "id": "c4fed878-26e2-477f-951d-f25993d90a3d",
   "metadata": {},
   "outputs": [
    {
     "name": "stdin",
     "output_type": "stream",
     "text": [
      " 50\n",
      " 50\n",
      " 80\n"
     ]
    },
    {
     "name": "stdout",
     "output_type": "stream",
     "text": [
      "Isosceles\n"
     ]
    }
   ],
   "source": [
    "gak = []\n",
    "a = int(input())\n",
    "b = int(input())\n",
    "c = int(input())\n",
    "gak.append(a)\n",
    "gak.append(b)\n",
    "gak.append(c)\n",
    "    \n",
    "if a==b==c==60 :\n",
    "    print('Equilateral')\n",
    "elif ((a+b+c)==180) and len(set(gak))==2  :\n",
    "    print('Isosceles')\n",
    "elif ((a+b+c)==180) and len(set(gak))==3 :\n",
    "    print('Scalene')\n",
    "elif ((a+b+c)!=180) :\n",
    "    print('Error')"
   ]
  },
  {
   "cell_type": "markdown",
   "id": "1c771096-8c36-4e3c-aa8f-6aec5b16817f",
   "metadata": {},
   "source": [
    "---"
   ]
  },
  {
   "cell_type": "markdown",
   "id": "429d6077-f9f3-4a1f-ae33-16534c10663e",
   "metadata": {},
   "source": [
    "#### ✔단계7 : 5073번(삼각형과 세 변)"
   ]
  },
  {
   "cell_type": "markdown",
   "id": "71f11c6f-b4ec-4504-9ca4-b6dd99ee2d25",
   "metadata": {},
   "source": [
    "- **문제** : 삼각형의 세 변의 길이가 주어질 때 변의 길이에 따라 다음과 같이 정의한다. 단 주어진 세 변의 길이가 삼각형의 조건을 만족하지 못하는 경우에는 \"Invalid\" 를 출력한다. 예를 들어 6, 3, 2가 이 경우에 해당한다. 가장 긴 변의 길이보다 나머지 두 변의 길이의 합이 길지 않으면 삼각형의 조건을 만족하지 못한다. 세 변의 길이가 주어질 때 위 정의에 따른 결과를 출력하시오.\n",
    "    - Equilateral :  세 변의 길이가 모두 같은 경우\n",
    "    - Isosceles : 두 변의 길이만 같은 경우\n",
    "    - Scalene : 세 변의 길이가 모두 다른 경우\n",
    "    \n",
    "\n",
    "- **입력** : 각 줄에는 1,000을 넘지 않는 양의 정수 3개가 입력된다. 마지막 줄은 0 0 0이며 이 줄은 계산하지 않는다.\n",
    "\n",
    "- **출력** : 각 입력에 맞는 결과 (Equilateral, Isosceles, Scalene, Invalid) 를 출력하시오.\n",
    "\n",
    "- **예제 입출력** \n",
    "    - 입력1\n",
    "        - `7 7 7`\n",
    "        - `6 5 4`\n",
    "        - `3 2 5`\n",
    "        - `6 2 6`\n",
    "        - `0 0 0`\n",
    "       \n",
    "    - 출력1\n",
    "        - `Equilateral`\n",
    "        - `Scalene`\n",
    "        - `Invalid`\n",
    "        - `Isosceles`"
   ]
  },
  {
   "cell_type": "code",
   "execution_count": 49,
   "id": "7a06aa95-cdf2-4cbe-8f43-56228611a773",
   "metadata": {},
   "outputs": [
    {
     "name": "stdin",
     "output_type": "stream",
     "text": [
      " 7 7 7\n"
     ]
    },
    {
     "name": "stdout",
     "output_type": "stream",
     "text": [
      "Equilateral\n"
     ]
    },
    {
     "name": "stdin",
     "output_type": "stream",
     "text": [
      " 3 2 5\n"
     ]
    },
    {
     "name": "stdout",
     "output_type": "stream",
     "text": [
      "Invalid\n"
     ]
    },
    {
     "name": "stdin",
     "output_type": "stream",
     "text": [
      " 0 0 0\n"
     ]
    }
   ],
   "source": [
    "while True :\n",
    "    a, b, c = map(int, input().split())\n",
    "    sam = []\n",
    "    sam.append(a)\n",
    "    sam.append(b)\n",
    "    sam.append(c)\n",
    "    sam.sort()\n",
    "    if a==b==c==0 :\n",
    "        break\n",
    "    \n",
    "    if (sam[0]+sam[1]) <= sam[2] :\n",
    "        print(\"Invalid\")\n",
    "    elif len(set(sam))==1 :\n",
    "        print(\"Equilateral\")\n",
    "    elif len(set(sam))==2 :\n",
    "        print(\"Isosceles\")\n",
    "    elif len(set(sam))==3 :\n",
    "        print(\"Scalene\")"
   ]
  },
  {
   "cell_type": "markdown",
   "id": "eb078a8d-ca17-46f2-a50b-3640b821939f",
   "metadata": {},
   "source": [
    "---"
   ]
  },
  {
   "cell_type": "markdown",
   "id": "92e8d9de-cb3b-46c6-8569-1308b9449b07",
   "metadata": {},
   "source": [
    "#### ✔단계8 : 14215번(세 막대)"
   ]
  },
  {
   "cell_type": "markdown",
   "id": "34b2fe56-917d-4820-8acc-75019668c5e3",
   "metadata": {},
   "source": [
    "- **문제** : 영선이는 길이가 a, b, c인 세 막대를 가지고 있고, 각 막대의 길이를 마음대로 줄일 수 있다. 영선이는 세 막대를 이용해서 아래 조건을 만족하는 삼각형을 만들려고 한다. a, b, c가 주어졌을 때, 만들 수 있는 가장 큰 둘레를 구하는 프로그램을 작성하시오. \n",
    "    - 각 막대의 길이는 양의 정수이다\n",
    "    - 세 막대를 이용해서 넓이가 양수인 삼각형을 만들 수 있어야 한다.\n",
    "    - 삼각형의 둘레를 최대로 해야 한다.\n",
    "\n",
    "\n",
    "- **입력** : 첫째 줄에 a, b, c (1 ≤ a, b, c ≤ 100)가 주어진다.\n",
    "\n",
    "- **출력** : 첫째 줄에 만들 수 있는 가장 큰 삼각형의 둘레를 출력한다.\n",
    "\n",
    "- **예제 입출력** \n",
    "    - 입력1\n",
    "        - `1 2 3`\n",
    "        \n",
    "       \n",
    "    - 출력1\n",
    "        - `5`\n",
    "    - 입력2\n",
    "        - `1 100 1`\n",
    "    - 출력2\n",
    "        - `3`"
   ]
  },
  {
   "cell_type": "code",
   "execution_count": 65,
   "id": "83a68961-801e-4626-aff9-cd352f9d2a0a",
   "metadata": {},
   "outputs": [
    {
     "name": "stdin",
     "output_type": "stream",
     "text": [
      " 41 64 16\n"
     ]
    },
    {
     "name": "stdout",
     "output_type": "stream",
     "text": [
      "113\n"
     ]
    }
   ],
   "source": [
    "sam = []\n",
    "a, b, c = map(int, input().split())\n",
    "sam.append(a)\n",
    "sam.append(b)\n",
    "sam.append(c)\n",
    "sam.sort()\n",
    "if (sam[0]+sam[1]) <= sam[2] :\n",
    "    print(2*(sam[0]+sam[1]) - 1)\n",
    "else :\n",
    "    print(a+b+c)"
   ]
  }
 ],
 "metadata": {
  "kernelspec": {
   "display_name": "Python 3 (ipykernel)",
   "language": "python",
   "name": "python3"
  },
  "language_info": {
   "codemirror_mode": {
    "name": "ipython",
    "version": 3
   },
   "file_extension": ".py",
   "mimetype": "text/x-python",
   "name": "python",
   "nbconvert_exporter": "python",
   "pygments_lexer": "ipython3",
   "version": "3.9.13"
  }
 },
 "nbformat": 4,
 "nbformat_minor": 5
}
