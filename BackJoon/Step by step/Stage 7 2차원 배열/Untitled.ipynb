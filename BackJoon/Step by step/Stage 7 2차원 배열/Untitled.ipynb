{
 "cells": [
  {
   "cell_type": "code",
   "execution_count": 2,
   "id": "f9f661e4-2a31-447a-a9f8-0986704a4082",
   "metadata": {},
   "outputs": [
    {
     "name": "stdin",
     "output_type": "stream",
     "text": [
      " 1 1 1\n",
      " 2 2 2\n",
      " 0 1 0\n",
      " 3 3 3\n",
      " 4 4 4\n",
      " 5 5 100\n"
     ]
    }
   ],
   "source": [
    "n, m = map(int, input().split())\n",
    "H = []\n",
    "\n",
    "for _ in range(2) :\n",
    "    for i in range(n) :\n",
    "        h = list(map(int, input().split()))\n",
    "        H.append(h)\n",
    "        \n",
    "for i in range(n) :\n",
    "    for j in range(m) :\n",
    "        print(H[i][j]+H[i+n][j], end=' ')\n",
    "    print()"
   ]
  },
  {
   "cell_type": "markdown",
   "id": "f670d005-e1ad-4064-8075-044235b27242",
   "metadata": {},
   "source": [
    "---"
   ]
  },
  {
   "cell_type": "code",
   "execution_count": 41,
   "id": "9b2d89af-f412-4463-8f1f-ca8bda2bf698",
   "metadata": {},
   "outputs": [
    {
     "name": "stdin",
     "output_type": "stream",
     "text": [
      " 3\n",
      " 3 7\n",
      " 15 7\n",
      " 5 2\n"
     ]
    },
    {
     "name": "stdout",
     "output_type": "stream",
     "text": [
      "1500\n"
     ]
    }
   ],
   "source": [
    "d = [[0]*100 for _ in range(100)]\n",
    "# d = [[0]*100]*100\n",
    "\n",
    "n = int(input())\n",
    "for _ in range(n) :\n",
    "    a, b = map(int, input().split())\n",
    "    for j in range(a, a+10) :\n",
    "        for k in range(b, b+10) :\n",
    "            d[j][k] = 1\n",
    "          \n",
    "s = 0\n",
    "for l in d :\n",
    "    s += sum(l)\n",
    "    \n",
    "print(s)"
   ]
  },
  {
   "cell_type": "code",
   "execution_count": 52,
   "id": "4013e5d0-67e0-4f7e-bddd-52d668b8709e",
   "metadata": {},
   "outputs": [
    {
     "name": "stdin",
     "output_type": "stream",
     "text": [
      " 3\n",
      " 3 7\n",
      " 15 7\n",
      " 5 2\n"
     ]
    },
    {
     "name": "stdout",
     "output_type": "stream",
     "text": [
      "1500\n"
     ]
    }
   ],
   "source": [
    "d = [[0]*100]*100\n",
    "\n",
    "n = int(input())\n",
    "for _ in range(n) :\n",
    "    a, b = map(int, input().split())\n",
    "    for j in range(a, a+10) :\n",
    "        for k in range(b, b+10) :\n",
    "            d[j][k] = 1\n",
    "          \n",
    "s = 0\n",
    "for l in d :\n",
    "    s += sum(l)\n",
    "    \n",
    "print(s)"
   ]
  },
  {
   "cell_type": "code",
   "execution_count": 43,
   "id": "7f02d8c9-bca4-45dd-9a9e-6c694b1bae02",
   "metadata": {},
   "outputs": [],
   "source": [
    "dd = [[0]*100 for _ in range(100)]"
   ]
  },
  {
   "cell_type": "code",
   "execution_count": 55,
   "id": "b9a5ff50-70e9-4fcc-8a10-345777c8e488",
   "metadata": {},
   "outputs": [],
   "source": [
    "d = [[0]*2]*5"
   ]
  },
  {
   "cell_type": "code",
   "execution_count": 56,
   "id": "f953eb93-6cb3-40cb-8498-da0b2204786c",
   "metadata": {},
   "outputs": [],
   "source": [
    "d[0][1] = 1"
   ]
  },
  {
   "cell_type": "code",
   "execution_count": 57,
   "id": "a9af9fea-1d0f-4949-a950-a1f817fc2322",
   "metadata": {},
   "outputs": [
    {
     "data": {
      "text/plain": [
       "[[0, 1], [0, 1], [0, 1], [0, 1], [0, 1]]"
      ]
     },
     "execution_count": 57,
     "metadata": {},
     "output_type": "execute_result"
    }
   ],
   "source": [
    "d"
   ]
  },
  {
   "cell_type": "code",
   "execution_count": null,
   "id": "7f60158b-cea3-4e8b-b1b3-8ef4f70c6594",
   "metadata": {},
   "outputs": [],
   "source": [
    "dd = [[0]*2 for _ in range(5)]"
   ]
  },
  {
   "cell_type": "code",
   "execution_count": null,
   "id": "ef63bc32-be84-4cc2-a11d-06c8fe02c18a",
   "metadata": {},
   "outputs": [],
   "source": []
  }
 ],
 "metadata": {
  "kernelspec": {
   "display_name": "Python 3 (ipykernel)",
   "language": "python",
   "name": "python3"
  },
  "language_info": {
   "codemirror_mode": {
    "name": "ipython",
    "version": 3
   },
   "file_extension": ".py",
   "mimetype": "text/x-python",
   "name": "python",
   "nbconvert_exporter": "python",
   "pygments_lexer": "ipython3",
   "version": "3.9.13"
  }
 },
 "nbformat": 4,
 "nbformat_minor": 5
}
