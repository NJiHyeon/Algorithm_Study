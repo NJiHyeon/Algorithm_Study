{
 "cells": [
  {
   "cell_type": "markdown",
   "id": "25aeb394-4bac-4ac6-92d9-fe0c9005778f",
   "metadata": {},
   "source": [
    "### Stage🔟 시간복잡도"
   ]
  },
  {
   "cell_type": "markdown",
   "id": "4c6ac445-ca0e-4d0f-a1d8-01e1d00e09a1",
   "metadata": {},
   "source": [
    "#### ✔단계1 : 24262번(알고리즘 수업 - 알고리즘의 수행 시간1)"
   ]
  },
  {
   "cell_type": "markdown",
   "id": "198ca8d8-f372-4425-bbef-76a4e2b69ce9",
   "metadata": {},
   "source": [
    "- **문제** : 오늘도 서준이는 알고리즘의 수행시간 수업 조교를 하고 있다. 아빠가 수업한 내용을 학생들이 잘 이해했는지 문제를 통해서 확인해보자. 입력의 크기 n이 주어지면 MenOfPassion 알고리즘 수행 시간을 예제 출력과 같은 방식으로 출력해보자. MenOfPassion 알고리즘은 다음과 같다.\n",
    "    - `MenOfPassion(A[], n) { `\n",
    "    - ` i = ⌊n / 2⌋;             `\n",
    "    - `return A[i];           ` # 코드1\n",
    "    - `}                      `\n",
    "\n",
    "- **입력** : 첫째 줄에 입력의 크기 n(1 ≤ n ≤ 500,000)이 주어진다.\n",
    "\n",
    "- **출력** : 첫째 줄에 코드1 의 수행 횟수를 출력한다. 둘째 줄에 코드1의 수행 횟수를 다항식으로 나타내었을 때, 최고차항의 차수를 출력한다. 단, 다항식으로 나타낼 수 없거나 최고차항의 차수가 3보다 크면 4를 출력한다.\n",
    "\n",
    "- **예제 입출력** \n",
    "    - 입력1\n",
    "        - `1`\n",
    "        \n",
    "       \n",
    "    - 출력1\n",
    "        - `1`\n",
    "        - `0`\n"
   ]
  },
  {
   "cell_type": "code",
   "execution_count": null,
   "id": "d1a689ff-3900-4bbe-97f2-ce9ff917b91c",
   "metadata": {},
   "outputs": [],
   "source": [
    "n = int(input())"
   ]
  },
  {
   "cell_type": "code",
   "execution_count": 2,
   "id": "4ad35656-8968-4298-840d-ed526d2856a0",
   "metadata": {},
   "outputs": [
    {
     "name": "stdout",
     "output_type": "stream",
     "text": [
      "1\n",
      "0\n"
     ]
    }
   ],
   "source": [
    "print(1)\n",
    "print(0)"
   ]
  },
  {
   "cell_type": "markdown",
   "id": "aa035df8-32ac-4762-b0e2-1137f745ac6a",
   "metadata": {},
   "source": [
    "---"
   ]
  },
  {
   "cell_type": "markdown",
   "id": "ef616511-4441-4a6d-adbf-8f1296f8121a",
   "metadata": {},
   "source": [
    "#### ✔❌단계2 : 24263번(알고리즘 수업 - 알고리즘의 수행 시간2)"
   ]
  },
  {
   "cell_type": "markdown",
   "id": "e518fdad-3179-4310-9151-6075bd95547c",
   "metadata": {},
   "source": [
    "- **문제** : 오늘도 서준이는 알고리즘의 수행시간 수업 조교를 하고 있다. 아빠가 수업한 내용을 학생들이 잘 이해했는지 문제를 통해서 확인해보자. 입력의 크기 n이 주어지면 MenOfPassion 알고리즘 수행 시간을 예제 출력과 같은 방식으로 출력해보자. MenOfPassion 알고리즘은 다음과 같다.\n",
    "    - `MenOfPassion(A[], n) {   `\n",
    "    - `sum <- 0;               `\n",
    "    - `for i <- 1 to n         ` \n",
    "    - `    sum <- sum + A[i];   `# 코드1\n",
    "    - `}                      `\n",
    "\n",
    "- **입력** : 첫째 줄에 입력의 크기 n(1 ≤ n ≤ 500,000)이 주어진다.\n",
    "\n",
    "- **출력** : 첫째 줄에 코드1 의 수행 횟수를 출력한다. 둘째 줄에 코드1의 수행 횟수를 다항식으로 나타내었을 때, 최고차항의 차수를 출력한다. 단, 다항식으로 나타낼 수 없거나 최고차항의 차수가 3보다 크면 4를 출력한다.\n",
    "\n",
    "- **예제 입출력** \n",
    "    - 입력1\n",
    "        - `7`\n",
    "        \n",
    "       \n",
    "    - 출력1\n",
    "        - `7`\n",
    "        - `1`\n"
   ]
  },
  {
   "cell_type": "code",
   "execution_count": 3,
   "id": "f4d0db73-af6b-4450-844d-af571d039197",
   "metadata": {},
   "outputs": [
    {
     "name": "stdin",
     "output_type": "stream",
     "text": [
      " 7\n"
     ]
    },
    {
     "name": "stdout",
     "output_type": "stream",
     "text": [
      "7\n",
      "1\n"
     ]
    }
   ],
   "source": [
    "n = int(input())\n",
    "print(n)\n",
    "print(1)"
   ]
  },
  {
   "cell_type": "code",
   "execution_count": null,
   "id": "35f346e7-5944-4b45-99d4-d6260fe5fe98",
   "metadata": {},
   "outputs": [],
   "source": [
    "# 파이썬 코드로 변환하면\n",
    "def MenOfPassion(A, n) :\n",
    "    answer = 0\n",
    "    for i in range(n) :\n",
    "        answer = answer + A[i]\n",
    "    return answer"
   ]
  },
  {
   "cell_type": "markdown",
   "id": "3339f383-51cc-45de-a605-0970507df23c",
   "metadata": {},
   "source": [
    "---"
   ]
  },
  {
   "cell_type": "markdown",
   "id": "69152c6b-cd70-4486-92c7-b30f7059370d",
   "metadata": {},
   "source": [
    "#### ✔❌단계3 : 24264번(알고리즘 수업 - 알고리즘의 수행 시간3)"
   ]
  },
  {
   "cell_type": "markdown",
   "id": "bc849eed-b2bf-4980-8e4c-9d3288030443",
   "metadata": {},
   "source": [
    "- **문제** : 오늘도 서준이는 알고리즘의 수행시간 수업 조교를 하고 있다. 아빠가 수업한 내용을 학생들이 잘 이해했는지 문제를 통해서 확인해보자. 입력의 크기 n이 주어지면 MenOfPassion 알고리즘 수행 시간을 예제 출력과 같은 방식으로 출력해보자. MenOfPassion 알고리즘은 다음과 같다.\n",
    "    - `MenOfPassion(A[], n) {                `\n",
    "    - `    sum <- 0;                         `\n",
    "    - `    for i <- 1 to n                   `\n",
    "    - `        for j <- 1 to n               `\n",
    "    - `            sum <- sum + A[i] × A[j];` # 코드1\n",
    "    - `    return sum;                       `\n",
    "    - `}                                     `\n",
    "\n",
    "- **입력** : 첫째 줄에 입력의 크기 n(1 ≤ n ≤ 500,000)이 주어진다.\n",
    "\n",
    "- **출력** : 첫째 줄에 코드1 의 수행 횟수를 출력한다. 둘째 줄에 코드1의 수행 횟수를 다항식으로 나타내었을 때, 최고차항의 차수를 출력한다. 단, 다항식으로 나타낼 수 없거나 최고차항의 차수가 3보다 크면 4를 출력한다.\n",
    "\n",
    "- **예제 입출력** \n",
    "    - 입력1\n",
    "        - `7`\n",
    "        \n",
    "       \n",
    "    - 출력1\n",
    "        - `49`\n",
    "        - `2`"
   ]
  },
  {
   "cell_type": "code",
   "execution_count": 4,
   "id": "15c5c9b6-5188-44a8-9e1b-71aa5e35bc93",
   "metadata": {},
   "outputs": [
    {
     "name": "stdin",
     "output_type": "stream",
     "text": [
      " 7\n"
     ]
    },
    {
     "name": "stdout",
     "output_type": "stream",
     "text": [
      "49\n",
      "2\n"
     ]
    }
   ],
   "source": [
    "n = int(input())\n",
    "print(n*n)\n",
    "print(2)"
   ]
  },
  {
   "cell_type": "markdown",
   "id": "96b4d59f-8b7c-462a-9e2f-4891356ace11",
   "metadata": {},
   "source": [
    "---"
   ]
  },
  {
   "cell_type": "markdown",
   "id": "fede8f74-4db9-47f0-ae69-7c20a46d8c86",
   "metadata": {},
   "source": [
    "#### ✔❌단계4 : 24265번(알고리즘 수업 - 알고리즘의 수행 시간4)"
   ]
  },
  {
   "cell_type": "markdown",
   "id": "fbeab253-223a-4f1f-a821-100a3cc6f1be",
   "metadata": {},
   "source": [
    "- **문제** : 오늘도 서준이는 알고리즘의 수행시간 수업 조교를 하고 있다. 아빠가 수업한 내용을 학생들이 잘 이해했는지 문제를 통해서 확인해보자. 입력의 크기 n이 주어지면 MenOfPassion 알고리즘 수행 시간을 예제 출력과 같은 방식으로 출력해보자. MenOfPassion 알고리즘은 다음과 같다.\n",
    "    - `MenOfPassion(A[], n) {               `\n",
    "    - `    sum <- 0;                        `\n",
    "    - `    for i <- 1 to n - 1              `\n",
    "    - `        for j <- i + 1 to n          `\n",
    "    - `            sum <- sum + A[i] × A[j];` # 코드1\n",
    "    - `    return sum;                      `\n",
    "    - `}                                    `\n",
    "\n",
    "- **입력** : 첫째 줄에 입력의 크기 n(1 ≤ n ≤ 500,000)이 주어진다.\n",
    "\n",
    "- **출력** : 첫째 줄에 코드1 의 수행 횟수를 출력한다. 둘째 줄에 코드1의 수행 횟수를 다항식으로 나타내었을 때, 최고차항의 차수를 출력한다. 단, 다항식으로 나타낼 수 없거나 최고차항의 차수가 3보다 크면 4를 출력한다.\n",
    "\n",
    "- **예제 입출력** \n",
    "    - 입력1\n",
    "        - `7`\n",
    "        \n",
    "       \n",
    "    - 출력1\n",
    "        - `21`\n",
    "        - `2`"
   ]
  },
  {
   "cell_type": "code",
   "execution_count": 6,
   "id": "6ccd14d3-4459-4e48-8a41-46bbd84edcb4",
   "metadata": {},
   "outputs": [
    {
     "name": "stdin",
     "output_type": "stream",
     "text": [
      " 7\n"
     ]
    },
    {
     "name": "stdout",
     "output_type": "stream",
     "text": [
      "21\n",
      "2\n"
     ]
    }
   ],
   "source": [
    "n = int(input())\n",
    "s = 0\n",
    "for i in range(1, n) :\n",
    "    s += i\n",
    "print(s)\n",
    "print(2)"
   ]
  },
  {
   "cell_type": "markdown",
   "id": "22333905-eb20-4a71-813f-85edf8ce1d44",
   "metadata": {},
   "source": [
    "---"
   ]
  },
  {
   "cell_type": "markdown",
   "id": "fb77a646-030f-4a9d-afa6-b4d9497aa8a7",
   "metadata": {},
   "source": [
    "#### ✔❌단계5 : 24266번(알고리즘 수업 - 알고리즘의 수행 시간5)"
   ]
  },
  {
   "cell_type": "markdown",
   "id": "64ca314b-f3f2-4ad7-af33-fc725dc02954",
   "metadata": {},
   "source": [
    "- **문제** : 오늘도 서준이는 알고리즘의 수행시간 수업 조교를 하고 있다. 아빠가 수업한 내용을 학생들이 잘 이해했는지 문제를 통해서 확인해보자. 입력의 크기 n이 주어지면 MenOfPassion 알고리즘 수행 시간을 예제 출력과 같은 방식으로 출력해보자. MenOfPassion 알고리즘은 다음과 같다.\n",
    "    - `MenOfPassion(A[], n) {                  `\n",
    "    - `    sum <- 0;                             `\n",
    "    - `    for i <- 1 to n                       `\n",
    "    - `        for j <- 1 to n                   `\n",
    "    - `            for k <- 1 to n               `\n",
    "    - `               sum <- sum + A[i] × A[j];` # 코드1\n",
    "    - `    return sum;                           `\n",
    "    - `}                                       `\n",
    "\n",
    "- **입력** : 첫째 줄에 입력의 크기 n(1 ≤ n ≤ 500,000)이 주어진다.\n",
    "\n",
    "- **출력** : 첫째 줄에 코드1 의 수행 횟수를 출력한다. 둘째 줄에 코드1의 수행 횟수를 다항식으로 나타내었을 때, 최고차항의 차수를 출력한다. 단, 다항식으로 나타낼 수 없거나 최고차항의 차수가 3보다 크면 4를 출력한다.\n",
    "\n",
    "- **예제 입출력** \n",
    "    - 입력1\n",
    "        - `7`\n",
    "        \n",
    "       \n",
    "    - 출력1\n",
    "        - `343`\n",
    "        - `3`"
   ]
  },
  {
   "cell_type": "code",
   "execution_count": 7,
   "id": "16c3f90d-ecdd-490d-934c-adf999b93dc0",
   "metadata": {},
   "outputs": [
    {
     "name": "stdin",
     "output_type": "stream",
     "text": [
      " 7\n"
     ]
    },
    {
     "name": "stdout",
     "output_type": "stream",
     "text": [
      "343\n",
      "3\n"
     ]
    }
   ],
   "source": [
    "n = int(input())\n",
    "print(n**3)\n",
    "print(3)"
   ]
  },
  {
   "cell_type": "markdown",
   "id": "a9d45edc-f3d9-46ca-9065-eeaf3c0fe398",
   "metadata": {},
   "source": [
    "---"
   ]
  },
  {
   "cell_type": "markdown",
   "id": "84a1999b-aa9b-4aa1-b823-cd3c2aeb80d0",
   "metadata": {},
   "source": [
    "#### ❌단계6 : 24267번(알고리즘 수업 - 알고리즘의 수행 시간6)"
   ]
  },
  {
   "cell_type": "markdown",
   "id": "e81a404f-97b2-42ff-9e43-ef4d512cdf77",
   "metadata": {},
   "source": [
    "- **문제** : 오늘도 서준이는 알고리즘의 수행시간 수업 조교를 하고 있다. 아빠가 수업한 내용을 학생들이 잘 이해했는지 문제를 통해서 확인해보자. 입력의 크기 n이 주어지면 MenOfPassion 알고리즘 수행 시간을 예제 출력과 같은 방식으로 출력해보자. MenOfPassion 알고리즘은 다음과 같다.\n",
    "    - `MenOfPassion(A[], n) {                        `\n",
    "    - `    sum <- 0;                                   `\n",
    "    - `    for i <- 1 to n - 2                         `\n",
    "    - `        for j <- i + 1 to n - 1                 `\n",
    "    - `            for k <- j + 1 to n                 `\n",
    "    - `              sum <- sum + A[i] × A[j] × A[k];` # 코드1\n",
    "    - `    return sum;                                 `\n",
    "    - `}                                             `\n",
    "- **입력** : 첫째 줄에 입력의 크기 n(1 ≤ n ≤ 500,000)이 주어진다.\n",
    "\n",
    "- **출력** : 첫째 줄에 코드1 의 수행 횟수를 출력한다. 둘째 줄에 코드1의 수행 횟수를 다항식으로 나타내었을 때, 최고차항의 차수를 출력한다. 단, 다항식으로 나타낼 수 없거나 최고차항의 차수가 3보다 크면 4를 출력한다.\n",
    "\n",
    "- **예제 입출력** \n",
    "    - 입력1\n",
    "        - `7`\n",
    "        \n",
    "       \n",
    "    - 출력1\n",
    "        - `35`\n",
    "        - `3`\n",
    "- **코드1은 35회 수행되고 알고리즘의 수행 시간이 n^3에 비례한다.**"
   ]
  },
  {
   "cell_type": "code",
   "execution_count": 8,
   "id": "fa0ee10e-b3c6-4b99-a6a2-4c62053e9243",
   "metadata": {},
   "outputs": [
    {
     "name": "stdin",
     "output_type": "stream",
     "text": [
      " 7\n"
     ]
    },
    {
     "name": "stdout",
     "output_type": "stream",
     "text": [
      "35\n",
      "3\n"
     ]
    }
   ],
   "source": [
    "n = int(input())\n",
    "print(((n-2)*(n-1)*(2*n-3)+3*(n-1)*(n-2))//12)\n",
    "print(3)"
   ]
  },
  {
   "cell_type": "markdown",
   "id": "24cb6c63-1583-4387-880b-a82024d0ba75",
   "metadata": {},
   "source": [
    "---"
   ]
  },
  {
   "cell_type": "markdown",
   "id": "d5c5a40d-c415-4e69-8ded-609e1e93d673",
   "metadata": {},
   "source": [
    "#### ❌단계7 : 24313번(알고리즘 수업 - 점근적 표기1)"
   ]
  },
  {
   "cell_type": "markdown",
   "id": "637664fc-3731-49b8-bc5c-9686baed9c4f",
   "metadata": {},
   "source": [
    "- **문제** : 오늘도 서준이는 점근적 표기 수업 조교를 하고 있다. 아빠가 수업한 내용을 학생들이 잘 이해했는지 문제를 통해서 확인해보자. 알고리즘의 소요 시간을 나타내는 O-표기법(빅-오)을 다음과 같이 정의하자. 이 정의는 실제 O-표기법(https://en.wikipedia.org/wiki/Big_O_notation)과 다를 수 있다. 함수 f(n) = a1n + a0, 양의 정수 c, n0가 주어질 경우 O(n) 정의를 만족하는지 알아보자.\n",
    "                                       `\n",
    "- **입력** : 첫째 줄에 함수 f(n)을 나타내는 정수 a1, a0가 주어진다. (0 ≤ |ai| ≤ 100) 다음 줄에 양의 정수 c가 주어진다. (1 ≤ c ≤ 100) 다음 줄에 양의 정수 n0가 주어진다. (1 ≤ n0 ≤ 100)\n",
    "\n",
    "- **출력** : f(n), c, n0가 O(n) 정의를 만족하면 1, 아니면 0을 출력한다.\n",
    "\n",
    "- **예제 입출력** \n",
    "    - 입력1\n",
    "        - `7 7`\n",
    "        - `8`\n",
    "        - `1`\n",
    "        \n",
    "       \n",
    "    - 출력1\n",
    "        - `0` \n",
    "        - ##### f(n) = 7n + 7, g(n) = n, c = 8, n0 = 1이다. f(1) = 14, c × g(1) = 8이므로 O(n) 정의를 만족하지 못한다.\n",
    "\n"
   ]
  },
  {
   "cell_type": "code",
   "execution_count": 21,
   "id": "9ae54f45-820d-4a3d-8b8c-cb12f44496a1",
   "metadata": {},
   "outputs": [
    {
     "name": "stdin",
     "output_type": "stream",
     "text": [
      " 7 7\n",
      " 8\n",
      " 10\n"
     ]
    },
    {
     "name": "stdout",
     "output_type": "stream",
     "text": [
      "1\n"
     ]
    }
   ],
   "source": [
    "a1, a0 = map(int, input().split())\n",
    "c = int(input())\n",
    "n0 = int(input())\n",
    "\n",
    "\n",
    "if ((a1*n0 + a0) <= c*n0) and c>=a1 :\n",
    "    print(1)\n",
    "else :\n",
    "    print(0)"
   ]
  }
 ],
 "metadata": {
  "kernelspec": {
   "display_name": "Python 3 (ipykernel)",
   "language": "python",
   "name": "python3"
  },
  "language_info": {
   "codemirror_mode": {
    "name": "ipython",
    "version": 3
   },
   "file_extension": ".py",
   "mimetype": "text/x-python",
   "name": "python",
   "nbconvert_exporter": "python",
   "pygments_lexer": "ipython3",
   "version": "3.9.13"
  }
 },
 "nbformat": 4,
 "nbformat_minor": 5
}
