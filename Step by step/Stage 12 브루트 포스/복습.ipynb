{
 "cells": [
  {
   "cell_type": "markdown",
   "id": "63554c89-d025-45aa-b0f6-fc84da967720",
   "metadata": {},
   "source": [
    "### Stage1️⃣1️⃣ 브루트 포스"
   ]
  },
  {
   "cell_type": "markdown",
   "id": "275eb596-bcc6-4d4b-8004-4fb135d68cc3",
   "metadata": {},
   "source": [
    "#### ✔단계1 : 2798번(블랙잭)"
   ]
  },
  {
   "cell_type": "markdown",
   "id": "cb800a07-38a9-45df-864b-6238881e3972",
   "metadata": {},
   "source": [
    "- **문제** : 카지노에서 제일 인기 있는 게임 블랙잭의 규칙은 상당히 쉽다. 카드의 합이 21을 넘지 않는 한도 내에서, 카드의 합을 최대한 크게 만드는 게임이다. 블랙잭은 카지노마다 다양한 규정이 있다. 한국 최고의 블랙잭 고수 김정인은 새로운 블랙잭 규칙을 만들어 상근, 창영이와 게임하려고 한다. 김정인 버전의 블랙잭에서 각 카드에는 양의 정수가 쓰여 있다. 그 다음, 딜러는 N장의 카드를 모두 숫자가 보이도록 바닥에 놓는다. 그런 후에 딜러는 숫자 M을 크게 외친다. 이제 플레이어는 제한된 시간 안에 N장의 카드 중에서 3장의 카드를 골라야 한다. 블랙잭 변형 게임이기 때문에, 플레이어가 고른 카드의 합은 M을 넘지 않으면서 M과 최대한 가깝게 만들어야 한다. N장의 카드에 써져 있는 숫자가 주어졌을 때, M을 넘지 않으면서 M에 최대한 가까운 카드 3장의 합을 구해 출력하시오.\n",
    "\n",
    "- **입력** : 첫째 줄에 카드의 개수 N(3 ≤ N ≤ 100)과 M(10 ≤ M ≤ 300,000)이 주어진다. 둘째 줄에는 카드에 쓰여 있는 수가 주어지며, 이 값은 100,000을 넘지 않는 양의 정수이다. 합이 M을 넘지 않는 카드 3장을 찾을 수 있는 경우만 입력으로 주어진다.\n",
    "\n",
    "- **출력** : 첫째 줄에 M을 넘지 않으면서 M에 최대한 가까운 카드 3장의 합을 출력한다.\n",
    "\n",
    "- **예제 입출력** \n",
    "    - 입력1\n",
    "        - `5 21`\n",
    "        - `5 6 7 8 9`\n",
    "        \n",
    "       \n",
    "    - 출력1\n",
    "        - `21`\n"
   ]
  },
  {
   "cell_type": "code",
   "execution_count": 49,
   "id": "91e4fd8b-b34c-4e01-aafa-bf8b6459fa61",
   "metadata": {},
   "outputs": [
    {
     "name": "stdin",
     "output_type": "stream",
     "text": [
      " 10 500\n",
      " 93 181 245 214 315 36 185 138 216 295\n"
     ]
    },
    {
     "name": "stdout",
     "output_type": "stream",
     "text": [
      "497\n"
     ]
    }
   ],
   "source": [
    "import sys\n",
    "\n",
    "n, m = map(int, input().split())\n",
    "card = list(map(int, input().split()))\n",
    "\n",
    "from itertools import combinations\n",
    "combi = list(combinations(card, 3))\n",
    "\n",
    "combi_sum = []\n",
    "for i in range(len(combi)) :\n",
    "    combi_sum.append(sum(combi[i]))\n",
    "\n",
    "combi_sum = list(set(combi_sum))\n",
    "combi_new = []\n",
    "card_minus = []\n",
    "\n",
    "for j in combi_sum :\n",
    "    if j <= m :\n",
    "        combi_new.append(j)\n",
    "        card_minus.append(m-j)\n",
    "\n",
    "i = card_minus.index(min(card_minus))\n",
    "print(combi_new[i])"
   ]
  },
  {
   "cell_type": "code",
   "execution_count": 52,
   "id": "d0156023-c981-492f-b7cf-02652f731a13",
   "metadata": {},
   "outputs": [
    {
     "name": "stdin",
     "output_type": "stream",
     "text": [
      " 10 500\n",
      " 93 181 245 214 315 36 185 138 216 295\n"
     ]
    },
    {
     "name": "stdout",
     "output_type": "stream",
     "text": [
      "497\n"
     ]
    }
   ],
   "source": [
    "n, m = map(int, input().split())\n",
    "card = list(map(int, input().split()))\n",
    "num_max = 0\n",
    "\n",
    "from itertools import combinations\n",
    "combi = list(combinations(card, 3))\n",
    "\n",
    "for i in combi :\n",
    "    if sum(i) <= m :\n",
    "        if sum(i) > num_max :\n",
    "            num_max = sum(i)\n",
    "            \n",
    "print(num_max)"
   ]
  },
  {
   "cell_type": "markdown",
   "id": "78c03e81-bbab-4466-a217-cc36ad01e0e8",
   "metadata": {},
   "source": [
    "---"
   ]
  },
  {
   "cell_type": "markdown",
   "id": "3625f809-942f-403b-8fc0-541ea402a036",
   "metadata": {},
   "source": [
    "#### ✔단계2 : 2231번(분해합)"
   ]
  },
  {
   "cell_type": "markdown",
   "id": "be04205c-b845-4423-b1ba-0bd704223f37",
   "metadata": {},
   "source": [
    "- **문제** : 어떤 자연수 N이 있을 때, 그 자연수 N의 분해합은 N과 N을 이루는 각 자리수의 합을 의미한다. 어떤 자연수 M의 분해합이 N인 경우, M을 N의 생성자라 한다. 예를 들어, 245의 분해합은 256(=245+2+4+5)이 된다. 따라서 245는 256의 생성자가 된다. 물론, 어떤 자연수의 경우에는 생성자가 없을 수도 있다. 반대로, 생성자가 여러 개인 자연수도 있을 수 있다. 자연수 N이 주어졌을 때, N의 가장 작은 생성자를 구해내는 프로그램을 작성하시오.\n",
    "\n",
    "- **입력** : 첫째 줄에 자연수 N(1 ≤ N ≤ 1,000,000)이 주어진다.\n",
    "\n",
    "- **출력** : 첫째 줄에 답을 출력한다. 생성자가 없는 경우에는 0을 출력한다.\n",
    "\n",
    "- **예제 입출력** \n",
    "    - 입력1\n",
    "        - `216`\n",
    "        \n",
    "       \n",
    "    - 출력1\n",
    "        - `198`"
   ]
  },
  {
   "cell_type": "code",
   "execution_count": 93,
   "id": "c5c47528-121f-4718-a93d-735de5a6d98c",
   "metadata": {},
   "outputs": [
    {
     "name": "stdin",
     "output_type": "stream",
     "text": [
      " 216\n"
     ]
    },
    {
     "name": "stdout",
     "output_type": "stream",
     "text": [
      "198\n"
     ]
    }
   ],
   "source": [
    "n = input()\n",
    "b_sum = []\n",
    "\n",
    "for i in range(1, int(n)) :\n",
    "    i_sum = i\n",
    "    for j in range(len(str(i))) :\n",
    "        i_sum += int(str(i)[j])\n",
    "\n",
    "    if i_sum==int(n) : \n",
    "        b_sum.append(i)\n",
    "       \n",
    "    \n",
    "if len(b_sum) == 0 :\n",
    "    print(0)\n",
    "else :\n",
    "    print(min(b_sum))"
   ]
  },
  {
   "cell_type": "markdown",
   "id": "5da1fb2f-37da-464f-9eda-4ba5c1549e59",
   "metadata": {},
   "source": [
    "---"
   ]
  },
  {
   "cell_type": "markdown",
   "id": "84a9d9de-6ce5-4d21-83f7-d8669ac63133",
   "metadata": {},
   "source": [
    "#### ✔단계3 : 19532번(수학은 비대면강의입니다)"
   ]
  },
  {
   "cell_type": "markdown",
   "id": "301cd167-3626-48a5-95f5-6241bcd32934",
   "metadata": {},
   "source": [
    "- **문제** : 수현이는 4차 산업혁명 시대에 살고 있는 중학생이다. 코로나 19로 인해, 수현이는 버추얼 학교로 버추얼 출석해 버추얼 강의를 듣고 있다. 수현이의 버추얼 선생님은 문자가 2개인 연립방정식을 해결하는 방법에 대해 강의하고, 다음과 같은 문제를 숙제로 냈다. 4차 산업혁명 시대에 숙제나 하고 앉아있는 것보다 버추얼 친구들을 만나러 가는 게 더 가치있는 일이라고 생각했던 수현이는 이런 연립방정식을 풀 시간이 없었다. 다행히도, 버추얼 강의의 숙제 제출은 인터넷 창의 빈 칸에 수들을 입력하는 식이다. 각 칸에는 \n",
    "$-999$ 이상 \n",
    "$999$ 이하의 정수만 입력할 수 있다. 수현이가 버추얼 친구들을 만나러 버추얼 세계로 떠날 수 있게 도와주자.\n",
    "\n",
    "- **입력** : 정수 \n",
    "$a$, \n",
    "$b$, \n",
    "$c$, \n",
    "$d$, \n",
    "$e$, \n",
    "$f$가 공백으로 구분되어 차례대로 주어진다. (\n",
    "$-999 \\leq a,b,c,d,e,f \\leq 999$) 문제에서 언급한 방정식을 만족하는 \n",
    "$\\left(x,y\\right)$가 유일하게 존재하고, 이 때 \n",
    "$x$와 \n",
    "$y$가 각각 \n",
    "$-999$ 이상 \n",
    "$999$ 이하의 정수인 경우만 입력으로 주어짐이 보장된다.\n",
    "\n",
    "- **출력** : 문제의 답인 \n",
    "$x$와 \n",
    "$y$를 공백으로 구분해 출력한다.\n",
    "\n",
    "- **예제 입출력** \n",
    "    - 입력1\n",
    "        - `1 3 -1 4 1 7`\n",
    "        \n",
    "       \n",
    "    - 출력1\n",
    "        - `2 -1`"
   ]
  },
  {
   "cell_type": "code",
   "execution_count": 16,
   "id": "34e0e0ae-5c2b-4081-8601-f4c62d6dcae1",
   "metadata": {},
   "outputs": [
    {
     "name": "stdin",
     "output_type": "stream",
     "text": [
      " 2 5 8 3 -4 -11\n"
     ]
    },
    {
     "name": "stdout",
     "output_type": "stream",
     "text": [
      "-1 2 "
     ]
    }
   ],
   "source": [
    "a, b, c, d, e, f = map(int, input().split())\n",
    "x = (b*f-c*e)//(b*d-a*e) # x, y가 모두 정수이므로\n",
    "y = (a*f-c*d)//(a*e-b*d)\n",
    "\n",
    "print(x, y, end=' ')"
   ]
  },
  {
   "cell_type": "code",
   "execution_count": 2,
   "id": "9140fbef-a0cb-4c76-95fa-d4374f5908a9",
   "metadata": {},
   "outputs": [
    {
     "name": "stdin",
     "output_type": "stream",
     "text": [
      " 2 5 8 3 -4 -11\n"
     ]
    },
    {
     "name": "stdout",
     "output_type": "stream",
     "text": [
      "-1 2\n"
     ]
    }
   ],
   "source": [
    "# 구글링 코드\n",
    "a, b, c, d, e, f = map(int, input().split())\n",
    "for i in range(-999, 1000) :\n",
    "    for j in range(-999, 1000) :\n",
    "        if (a*i)+(b*j)==c and (d*i)+(e*j)==f :\n",
    "            print(i, j)"
   ]
  },
  {
   "cell_type": "markdown",
   "id": "b98a5e5e-872b-4fd4-84f8-062d7bbf2daa",
   "metadata": {},
   "source": [
    "---"
   ]
  },
  {
   "cell_type": "markdown",
   "id": "17ba78f7-fc3f-46c4-8e29-ee07559e6f7c",
   "metadata": {},
   "source": [
    "#### ✔❌단계4 : 1018번(체스판 다시 칠하기)"
   ]
  },
  {
   "cell_type": "markdown",
   "id": "c7674ae5-91b0-4da2-8ca4-2b03b0e4d1af",
   "metadata": {},
   "source": [
    "- **문제** : 지민이는 자신의 저택에서 MN개의 단위 정사각형으로 나누어져 있는 M×N 크기의 보드를 찾았다. 어떤 정사각형은 검은색으로 칠해져 있고, 나머지는 흰색으로 칠해져 있다. 지민이는 이 보드를 잘라서 8×8 크기의 체스판으로 만들려고 한다. 체스판은 검은색과 흰색이 번갈아서 칠해져 있어야 한다. 구체적으로, 각 칸이 검은색과 흰색 중 하나로 색칠되어 있고, 변을 공유하는 두 개의 사각형은 다른 색으로 칠해져 있어야 한다. 따라서 이 정의를 따르면 체스판을 색칠하는 경우는 두 가지뿐이다. 하나는 맨 왼쪽 위 칸이 흰색인 경우, 하나는 검은색인 경우이다. 보드가 체스판처럼 칠해져 있다는 보장이 없어서, 지민이는 8×8 크기의 체스판으로 잘라낸 후에 몇 개의 정사각형을 다시 칠해야겠다고 생각했다. 당연히 8*8 크기는 아무데서나 골라도 된다. 지민이가 다시 칠해야 하는 정사각형의 최소 개수를 구하는 프로그램을 작성하시오.\n",
    "\n",
    "- **입력** : 첫째 줄에 N과 M이 주어진다. N과 M은 8보다 크거나 같고, 50보다 작거나 같은 자연수이다. 둘째 줄부터 N개의 줄에는 보드의 각 행의 상태가 주어진다. B는 검은색이며, W는 흰색이다.\n",
    "\n",
    "- **출력** : 첫째 줄에 지민이가 다시 칠해야 하는 정사각형 개수의 최솟값을 출력한다.\n",
    "\n",
    "- **예제 입출력** \n",
    "    - 입력1\n",
    "        - `8 8`\n",
    "        - `WBWBWBWB`\n",
    "        - `BWBWBWBW`\n",
    "        - `WBWBWBWB`\n",
    "        - `BWBBBWBW`\n",
    "        - `WBWBWBWB`\n",
    "        - `BWBWBWBW`\n",
    "        - `WBWBWBWB`\n",
    "        - `BWBWBWBW`\n",
    "        \n",
    "       \n",
    "    - 출력1\n",
    "        - `1`"
   ]
  },
  {
   "cell_type": "code",
   "execution_count": null,
   "id": "f6430c2d-5e52-492c-b555-daaa8d1da497",
   "metadata": {},
   "outputs": [],
   "source": []
  },
  {
   "cell_type": "code",
   "execution_count": null,
   "id": "c4b318b0-c64d-4930-adf6-6d26f3e5fcf0",
   "metadata": {},
   "outputs": [],
   "source": []
  },
  {
   "cell_type": "markdown",
   "id": "5db6d681-5b3c-4711-a3a5-6b36f7800da6",
   "metadata": {},
   "source": [
    "---"
   ]
  },
  {
   "cell_type": "markdown",
   "id": "b430bca9-50f1-4447-9b3a-a1dac01480cd",
   "metadata": {},
   "source": [
    "#### ✔단계5 : 1436번(영화감독 숌)"
   ]
  },
  {
   "cell_type": "markdown",
   "id": "3f44f837-610e-46cd-a862-e4f78872c8f9",
   "metadata": {},
   "source": [
    "- **문제** : 666은 종말을 나타내는 수라고 한다. 따라서, 많은 블록버스터 영화에서는 666이 들어간 제목을 많이 사용한다. 영화감독 숌은 세상의 종말 이라는 시리즈 영화의 감독이다. 조지 루카스는 스타워즈를 만들 때, 스타워즈 1, 스타워즈 2, 스타워즈 3, 스타워즈 4, 스타워즈 5, 스타워즈 6과 같이 이름을 지었고, 피터 잭슨은 반지의 제왕을 만들 때, 반지의 제왕 1, 반지의 제왕 2, 반지의 제왕 3과 같이 영화 제목을 지었다. 하지만 숌은 자신이 조지 루카스와 피터 잭슨을 뛰어넘는다는 것을 보여주기 위해서 영화 제목을 좀 다르게 만들기로 했다. 종말의 수란 어떤 수에 6이 적어도 3개 이상 연속으로 들어가는 수를 말한다. 제일 작은 종말의 수는 666이고, 그 다음으로 큰 수는 1666, 2666, 3666, .... 이다. 따라서, 숌은 첫 번째 영화의 제목은 \"세상의 종말 666\", 두 번째 영화의 제목은 \"세상의 종말 1666\"와 같이 이름을 지을 것이다. 일반화해서 생각하면, N번째 영화의 제목은 세상의 종말 (N번째로 작은 종말의 수) 와 같다. 숌이 만든 N번째 영화의 제목에 들어간 수를 출력하는 프로그램을 작성하시오. 숌은 이 시리즈를 항상 차례대로 만들고, 다른 영화는 만들지 않는다.\n",
    "\n",
    "- **입력** : 첫째 줄에 N이 주어진다. N은 10,000보다 작거나 같은 자연수이다.\n",
    "\n",
    "- **출력** : 첫째 줄에 N번째 영화의 제목에 들어간 수를 출력한다.\n",
    "\n",
    "- **예제 입출력** \n",
    "    - 입력1\n",
    "        - `500`\n",
    "        \n",
    "       \n",
    "    - 출력1\n",
    "        - `166699`"
   ]
  },
  {
   "cell_type": "code",
   "execution_count": 42,
   "id": "caa500ae-05a5-4e09-8987-aa1c56c93ed2",
   "metadata": {},
   "outputs": [
    {
     "name": "stdin",
     "output_type": "stream",
     "text": [
      " 500\n"
     ]
    }
   ],
   "source": [
    "n = int(input())\n",
    "nn = 0\n",
    "a = 0\n",
    "\n",
    "while True :\n",
    "    a += 1\n",
    "    if '666' in str(a) :\n",
    "        nn += 1\n",
    "        if nn == n :\n",
    "            break\n",
    "print(a)"
   ]
  },
  {
   "cell_type": "markdown",
   "id": "e775182b-bab6-4daa-b381-b7eeb3b9226b",
   "metadata": {},
   "source": [
    "---"
   ]
  },
  {
   "cell_type": "markdown",
   "id": "f989117a-eb1a-4466-acee-d09e9f4d1466",
   "metadata": {},
   "source": [
    "#### ✔단계6 : 2839번(설탕 배달)"
   ]
  },
  {
   "cell_type": "markdown",
   "id": "9bf8c550-12c9-4651-9614-d2afa4834b91",
   "metadata": {},
   "source": [
    "- **문제** : 상근이는 요즘 설탕공장에서 설탕을 배달하고 있다. 상근이는 지금 사탕가게에 설탕을 정확하게 N킬로그램을 배달해야 한다. 설탕공장에서 만드는 설탕은 봉지에 담겨져 있다. 봉지는 3킬로그램 봉지와 5킬로그램 봉지가 있다. 상근이는 귀찮기 때문에, 최대한 적은 봉지를 들고 가려고 한다. 예를 들어, 18킬로그램 설탕을 배달해야 할 때, 3킬로그램 봉지 6개를 가져가도 되지만, 5킬로그램 3개와 3킬로그램 1개를 배달하면, 더 적은 개수의 봉지를 배달할 수 있다. 상근이가 설탕을 정확하게 N킬로그램 배달해야 할 때, 봉지 몇 개를 가져가면 되는지 그 수를 구하는 프로그램을 작성하시오.\n",
    "\n",
    "- **입력** : 첫째 줄에 N이 주어진다. (3 ≤ N ≤ 5000)\n",
    "\n",
    "- **출력** : 상근이가 배달하는 봉지의 최소 개수를 출력한다. 만약, 정확하게 N킬로그램을 만들 수 없다면 -1을 출력한다.\n",
    "\n",
    "- **예제 입출력** \n",
    "    - 입력1\n",
    "        - `18`\n",
    "        \n",
    "       \n",
    "    - 출력1\n",
    "        - `4`"
   ]
  },
  {
   "cell_type": "code",
   "execution_count": 62,
   "id": "cc315adf-293e-4af0-a51a-e5bbe3f6547e",
   "metadata": {},
   "outputs": [
    {
     "name": "stdout",
     "output_type": "stream",
     "text": [
      "3\n"
     ]
    }
   ],
   "source": [
    "n = int(input())\n",
    "\n",
    "# n의 최대가 5000이니까 5000/3 = 1666.666 -> 최대 1667봉지\n",
    "# 5000/5=1000\n",
    "ii = 1667\n",
    "jj = 1000\n",
    "for i in range(0, 1668) :\n",
    "    for j in range(0, 1001) :\n",
    "        if 3*i + 5*j == n : \n",
    "            if ii+jj > i+j :\n",
    "                ii = i\n",
    "                jj = j\n",
    "                \n",
    "if ii+jj == 2667 :\n",
    "    print(-1)\n",
    "else :\n",
    "    print(ii+jj)"
   ]
  }
 ],
 "metadata": {
  "kernelspec": {
   "display_name": "Python 3 (ipykernel)",
   "language": "python",
   "name": "python3"
  },
  "language_info": {
   "codemirror_mode": {
    "name": "ipython",
    "version": 3
   },
   "file_extension": ".py",
   "mimetype": "text/x-python",
   "name": "python",
   "nbconvert_exporter": "python",
   "pygments_lexer": "ipython3",
   "version": "3.10.9"
  }
 },
 "nbformat": 4,
 "nbformat_minor": 5
}
