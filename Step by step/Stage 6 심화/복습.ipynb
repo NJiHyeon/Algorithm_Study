{
 "cells": [
  {
   "cell_type": "markdown",
   "id": "f5ef4058-0085-40e5-861a-c00599e9f44a",
   "metadata": {},
   "source": [
    "### Stage6️⃣ 심화"
   ]
  },
  {
   "cell_type": "markdown",
   "id": "4b2bb5a3-6b76-4803-906d-10c44d6c8982",
   "metadata": {},
   "source": [
    "---"
   ]
  },
  {
   "cell_type": "markdown",
   "id": "78386505-09cd-4bb5-97f2-ef7484210d31",
   "metadata": {},
   "source": [
    "#### ✔ 단계1 : 25083번(새싹) "
   ]
  },
  {
   "cell_type": "markdown",
   "id": "f318428e-b8c1-416d-a588-07019f81b9d4",
   "metadata": {},
   "source": [
    "- **문제** : 아래 예제와 같이 새싹을 출력하시오.\n",
    "- **입력** : 입력은 없다.\n",
    "\n",
    "- **출력** : 새싹을 출력한다."
   ]
  },
  {
   "cell_type": "code",
   "execution_count": 16,
   "id": "18809e1d-bd2d-483c-93bb-18df286336ff",
   "metadata": {},
   "outputs": [
    {
     "name": "stdout",
     "output_type": "stream",
     "text": [
      "         ,r'\"7\n",
      "r`-_   ,'  ,/\n",
      " \\. \". L_r'\n",
      "   `~\\/\n",
      "      |\n",
      "      |\n"
     ]
    }
   ],
   "source": [
    "print(\"         ,r'\"+'\"7',\n",
    "      \"r`-_   ,'  ,/\", \n",
    "      ' \\. \"'+\". L_r'\",\n",
    "      \"   `~\\/\",\n",
    "      \"      |\",\n",
    "      \"      |\",sep='\\n')"
   ]
  },
  {
   "cell_type": "markdown",
   "id": "c77b3391-b718-4957-82bf-d4a64d382a1f",
   "metadata": {},
   "source": [
    "---"
   ]
  },
  {
   "cell_type": "markdown",
   "id": "bf707847-58d6-4217-a196-38430ae6b0f0",
   "metadata": {},
   "source": [
    "#### ✔ 단계2 : 3003번(킹, 퀸, 룩, 비숍, 나이트, 폰)"
   ]
  },
  {
   "cell_type": "markdown",
   "id": "747eddd6-dc71-495a-9380-0de2c316de4d",
   "metadata": {},
   "source": [
    "- **문제** : 동혁이는 오래된 창고를 뒤지다가 낡은 체스판과 피스를 발견했다. 체스판의 먼지를 털어내고 걸레로 닦으니 그럭저럭 쓸만한 체스판이 되었다. 하지만, 검정색 피스는 모두 있었으나, 흰색 피스는 개수가 올바르지 않았다. 체스는 총 16개의 피스를 사용하며, 킹 1개, 퀸 1개, 룩 2개, 비숍 2개, 나이트 2개, 폰 8개로 구성되어 있다. 동혁이가 발견한 흰색 피스의 개수가 주어졌을 때, 몇 개를 더하거나 빼야 올바른 세트가 되는지 구하는 프로그램을 작성하시오.\n",
    "- **입력** : 첫째 줄에 동혁이가 찾은 흰색 킹, 퀸, 룩, 비숍, 나이트, 폰의 개수가 주어진다. 이 값은 0보다 크거나 같고 10보다 작거나 같은 정수이다.\n",
    "\n",
    "- **출력** : 첫째 줄에 입력에서 주어진 순서대로 몇 개의 피스를 더하거나 빼야 되는지를 출력한다. 만약 수가 양수라면 동혁이는 그 개수 만큼 피스를 더해야 하는 것이고, 음수라면 제거해야 하는 것이다.\n",
    "    \n",
    "- **예제 입출력** \n",
    "    - 입력1\n",
    "        - `0 1 2 2 2 7`\n",
    "    - 출력1\n",
    "        - `1 0 0 0 0 1`"
   ]
  },
  {
   "cell_type": "code",
   "execution_count": 21,
   "id": "6d0a4bc5-d21c-4ab0-b423-d0b32d9fd6c7",
   "metadata": {},
   "outputs": [
    {
     "name": "stdin",
     "output_type": "stream",
     "text": [
      " 2 1 2 1 2 1\n"
     ]
    },
    {
     "name": "stdout",
     "output_type": "stream",
     "text": [
      "-1 0 0 1 0 7 "
     ]
    }
   ],
   "source": [
    "chase = [1, 1, 2, 2, 2, 8]\n",
    "\n",
    "dh = list(map(int, input().split()))\n",
    "\n",
    "for i in range(6) :\n",
    "    print(chase[i]-dh[i], end=' ')"
   ]
  },
  {
   "cell_type": "markdown",
   "id": "05ca758b-7c5b-40b0-9925-36e4fe4c7dfc",
   "metadata": {},
   "source": [
    "---"
   ]
  },
  {
   "cell_type": "markdown",
   "id": "b4be1c37-b150-4c18-8cda-d627f375bd2f",
   "metadata": {},
   "source": [
    "#### ✔ 단계3 : 2444번(별 찍기 - 7)"
   ]
  },
  {
   "cell_type": "markdown",
   "id": "6e9b2246-33f9-4f80-8886-db3f55c45dea",
   "metadata": {},
   "source": [
    "- **문제** : 예제를 보고 규칙을 유추한 뒤에 별을 찍어 보세요.\n",
    "- **입력** : 첫째 줄에 N(1 ≤ N ≤ 100)이 주어진다.\n",
    "\n",
    "- **출력** : 첫째 줄부터 2×N-1번째 줄까지 차례대로 별을 출력한다.\n",
    "    \n",
    "- **예제 입출력** \n",
    "    - 입력1\n",
    "        - `5`\n",
    "    - 출력1\n",
    "- ⚠ *을 출력하고 뒤에 공백이 있는 줄 알고 그것도 print했다가 계속 에러가 났다."
   ]
  },
  {
   "cell_type": "code",
   "execution_count": 55,
   "id": "51e55769-e394-4508-ab1f-de43206717e7",
   "metadata": {},
   "outputs": [
    {
     "name": "stdin",
     "output_type": "stream",
     "text": [
      " 5\n"
     ]
    },
    {
     "name": "stdout",
     "output_type": "stream",
     "text": [
      "    *    \n",
      "   ***   \n",
      "  *****  \n",
      " ******* \n",
      "*********\n",
      " ******* \n",
      "  *****  \n",
      "   ***   \n",
      "    *    \n"
     ]
    }
   ],
   "source": [
    "n = int(input())\n",
    "n_list = [i for i in range(1, 2*n, 2)]\n",
    "m_list = [j for j in range(2*n-3, 0, -2)]\n",
    "total = n_list+m_list\n",
    "total_n = 2*n-1\n",
    "\n",
    "for k in total :\n",
    "    print(' '*((total_n-k)//2) + '*'*k )"
   ]
  },
  {
   "cell_type": "markdown",
   "id": "9dac900c-7578-45cb-aafa-e108277ed334",
   "metadata": {},
   "source": [
    "---"
   ]
  },
  {
   "cell_type": "markdown",
   "id": "e9802d11-8167-457a-b3a1-8878ca5c4622",
   "metadata": {},
   "source": [
    "#### ✔ 단계4 : 10812번 (바구니 순서 바꾸기)"
   ]
  },
  {
   "cell_type": "markdown",
   "id": "f49ed740-44f1-4f61-a966-7bd02965264f",
   "metadata": {},
   "source": [
    "- **문제** : 도현이는 바구니를 총 N개 가지고 있고, 각각의 바구니에는 1번부터 N번까지 번호가 순서대로 적혀져 있다. 바구니는 일렬로 놓여져 있고, 가장 왼쪽 바구니를 1번째 바구니, 그 다음 바구니를 2번째 바구니, ..., 가장 오른쪽 바구니를 N번째 바구니라고 부른다. 도현이는 앞으로 M번 바구니의 순서를 회전시키려고 만들려고 한다. 도현이는 바구니의 순서를 회전시킬 때, 순서를 회전시킬 범위를 정하고, 그 범위 안에서 기준이 될 바구니를 선택한다. 도현이가 선택한 바구니의 범위가 begin, end이고, 기준이 되는 바구니를 mid라고 했을 때, begin, begin+1, ..., mid-1, mid, mid+1, ..., end-1, end 순서로 되어있는 바구니의 순서를 mid, mid+1, ..., end-1, end, begin, begin+1, ..., mid-1로 바꾸게 된다. 바구니의 순서를 어떻게 회전시킬지 주어졌을 때, M번 바구니의 순서를 회전시킨 다음, 바구니에 적혀있는 번호를 가장 왼쪽 바구니부터 출력하는 프로그램을 작성하시오.\n",
    "- **입력** : 첫째 줄에 N (1 ≤ N ≤ 100)과 M (1 ≤ M ≤ 100)이 주어진다. 둘째 줄부터 M개의 줄에는 바구니의 순서를 바꾸는 만드는 방법이 주어진다. 방법은 i, j, k로 나타내고, 왼쪽으로부터 i번째 바구니부터 j번째 바구니의 순서를 회전시키는데, 그 때 기준 바구니는 k번째 바구니라는 뜻이다. (1 ≤ i ≤ k ≤ j ≤ N) 도현이는 입력으로 주어진 순서대로 바구니의 순서를 회전시킨다\n",
    "\n",
    "- **출력** : 모든 순서를 회전시킨 다음에, 가장 왼쪽에 있는 바구니부터 바구니에 적혀있는 순서를 공백으로 구분해 출력한다.\n",
    "    \n",
    "- **예제 입출력** \n",
    "    - 입력1\n",
    "        - `10 5`\n",
    "        - `1 6 4`\n",
    "        - `3 9 8`\n",
    "        - `2 10 5`\n",
    "        - `1 3 3`\n",
    "        - `2 6 2`\n",
    "    - 출력1\n",
    "        - `1 4 6 2 3 7 10 5 8 9`\n",
    "- ⚠ baguni 앞과 뒤에 나머지 인덱스를 붙여주면 되는데.. 인덱스를 붙여주면 new와 중복될 거라고 착각해서 i, j가 맨 앞과 맨 뒤일때를 모두 나눠주었다. 그럴 필요 없이 그냥 baguni[:i-1]이랑 baguni[j:]를 더해주면 됨!"
   ]
  },
  {
   "cell_type": "code",
   "execution_count": 12,
   "id": "8c9bcd8b-fb50-49bf-a335-0456dba4c0a9",
   "metadata": {},
   "outputs": [
    {
     "name": "stdin",
     "output_type": "stream",
     "text": [
      " 10 1\n",
      " 1 10 3\n"
     ]
    },
    {
     "name": "stdout",
     "output_type": "stream",
     "text": [
      "3 4 5 6 7 8 9 10 1 2 "
     ]
    }
   ],
   "source": [
    "n, m = map(int, input().split()) # 10, 5\n",
    "\n",
    "baguni = [i for i in range(1, n+1)]\n",
    "\n",
    "for _ in range(m) :\n",
    "    i, j, k = map(int, input().split())\n",
    "    if i == 1 :\n",
    "        if j == n :\n",
    "            new = baguni[k-1:j] + baguni[i-1:k-1]\n",
    "            baguni = new\n",
    "            \n",
    "        else :\n",
    "            new = baguni[k-1:j] + baguni[i-1:k-1]\n",
    "            baguni = new + baguni[j:]\n",
    "    \n",
    "    else :\n",
    "        if j == n :\n",
    "            new = baguni[k-1:j] + baguni[i-1:k-1]\n",
    "            baguni = baguni[0:i-1] + new\n",
    "        \n",
    "        else :\n",
    "            new = baguni[k-1:j] + baguni[i-1:k-1]\n",
    "            baguni = baguni[0:i-1] + new + baguni[j:]\n",
    "            \n",
    "            \n",
    "            \n",
    "for b in baguni :\n",
    "    print(b, end=' ')"
   ]
  },
  {
   "cell_type": "code",
   "execution_count": 16,
   "id": "3e8a6621-572c-4172-9a44-e01751aed6a1",
   "metadata": {},
   "outputs": [
    {
     "data": {
      "text/plain": [
       "[1, 2, 3, 4, 5, 6, 7, 8, 9, 10]"
      ]
     },
     "execution_count": 16,
     "metadata": {},
     "output_type": "execute_result"
    }
   ],
   "source": [
    "# 이렇게 짧은 코든데...\n",
    "n, m = map(int, input().split())\n",
    "box = [i+1 for i in range(n)]\n",
    "for _ in range(m):\n",
    "  i,j,k = map(int, input().split())\n",
    "  box=box[:i-1]+box[k-1:j]+box[i-1:k-1]+box[j:]\n",
    "for b in box:\n",
    "  print(b, end=' ')"
   ]
  },
  {
   "cell_type": "markdown",
   "id": "b1af96a3-f157-4f50-bcbc-874800d20574",
   "metadata": {},
   "source": [
    "---"
   ]
  },
  {
   "cell_type": "markdown",
   "id": "459670cf-f23a-4bff-b2de-592f23eec4b6",
   "metadata": {},
   "source": [
    "#### ✔ 단계5 : 10988번(팰린드롬인지 확인하기)"
   ]
  },
  {
   "cell_type": "markdown",
   "id": "71c0c893-79d6-4128-bba2-1ad8845f385d",
   "metadata": {},
   "source": [
    "- **문제** : 알파벳 소문자로만 이루어진 단어가 주어진다. 이때, 이 단어가 팰린드롬인지 아닌지 확인하는 프로그램을 작성하시오. 팰린드롬이란 앞으로 읽을 때와 거꾸로 읽을 때 똑같은 단어를 말한다. level, noon은 팰린드롬이고, baekjoon, online, judge는 팰린드롬이 아니다.\n",
    "- **입력** : 첫째 줄에 단어가 주어진다. 단어의 길이는 1보다 크거나 같고, 100보다 작거나 같으며, 알파벳 소문자로만 이루어져 있다.\n",
    "\n",
    "- **출력** : 첫째 줄에 팰린드롬이면 1, 아니면 0을 출력한다.\n",
    "    \n",
    "- **예제 입출력** \n",
    "    - 입력1\n",
    "        - `level`\n",
    "    - 출력1\n",
    "        - `1`\n",
    "    - 입력2\n",
    "        - `baekjoon`\n",
    "    - 출력2\n",
    "        - `0`"
   ]
  },
  {
   "cell_type": "code",
   "execution_count": 18,
   "id": "ec447ddc-59a4-4a96-a518-2df6798f5b2c",
   "metadata": {},
   "outputs": [
    {
     "name": "stdin",
     "output_type": "stream",
     "text": [
      " nooon\n"
     ]
    },
    {
     "name": "stdout",
     "output_type": "stream",
     "text": [
      "1\n"
     ]
    }
   ],
   "source": [
    "eng = list(input())\n",
    "eng_len = len(eng)\n",
    "\n",
    "a = eng[0:eng_len//2]\n",
    "\n",
    "b = eng[::-1]\n",
    "b = b[0:eng_len//2]\n",
    "\n",
    "if a == b:\n",
    "    print(1)\n",
    "else :\n",
    "    print(0)"
   ]
  },
  {
   "cell_type": "markdown",
   "id": "e129ffa8-7f7f-462a-86be-d22c2cab28ac",
   "metadata": {},
   "source": [
    "---"
   ]
  },
  {
   "cell_type": "markdown",
   "id": "0a46fa6f-bace-4438-a577-1fd727abd425",
   "metadata": {},
   "source": [
    "#### ✔ 단계6 : 4344번(평균은 넘겠지)"
   ]
  },
  {
   "cell_type": "markdown",
   "id": "cdd56158-604a-4365-83b9-ada4dc040086",
   "metadata": {},
   "source": [
    "- **문제** : 대학생 새내기들의 90%는 자신이 반에서 평균은 넘는다고 생각한다. 당신은 그들에게 슬픈 진실을 알려줘야 한다.\n",
    "- **입력** : 첫째 줄에는 테스트 케이스의 개수 C가 주어진다. 둘째 줄부터 각 테스트 케이스마다 학생의 수 N(1 ≤ N ≤ 1000, N은 정수)이 첫 수로 주어지고, 이어서 N명의 점수가 주어진다. 점수는 0보다 크거나 같고, 100보다 작거나 같은 정수이다.\n",
    "\n",
    "- **출력** : 각 케이스마다 한 줄씩 평균을 넘는 학생들의 비율을 반올림하여 소수점 셋째 자리까지 출력한다.\n",
    "    \n",
    "- **예제 입출력** \n",
    "    - 입력1\n",
    "        - `5`\n",
    "        - `5 50 50 70 80 100`\n",
    "        - `7 100 95 90 80 70 60 50`\n",
    "        - `3 70 90 80`\n",
    "        - `3 70 90 81`\n",
    "        - `9 100 99 98 97 96 95 94 93 91`\n",
    "    - 출력1\n",
    "        - `40.000%`\n",
    "        - `57.143%`\n",
    "        - `33.333%`\n",
    "        - `66.667%`\n",
    "        - `55.556%`\n",
    "- **⚠ 자리수와 소수점 표현하기**\n",
    "    - 정수 3자리 : `print(\"{:3d}\".format(숫자))`\n",
    "    - 소수점 3자리 : `print({:.3f}.format(숫자))`"
   ]
  },
  {
   "cell_type": "code",
   "execution_count": 54,
   "id": "a9ee01d5-639f-4b1c-ac5a-420c6a973c2a",
   "metadata": {},
   "outputs": [
    {
     "name": "stdin",
     "output_type": "stream",
     "text": [
      " 5\n",
      " 5 50 50 70 80 100\n"
     ]
    },
    {
     "name": "stdout",
     "output_type": "stream",
     "text": [
      "40.000%\n"
     ]
    },
    {
     "name": "stdin",
     "output_type": "stream",
     "text": [
      " 7 100 95 90 80 70 60 50\n"
     ]
    },
    {
     "name": "stdout",
     "output_type": "stream",
     "text": [
      "57.143%\n"
     ]
    },
    {
     "name": "stdin",
     "output_type": "stream",
     "text": [
      " 3 70 90 80\n"
     ]
    },
    {
     "name": "stdout",
     "output_type": "stream",
     "text": [
      "33.333%\n"
     ]
    },
    {
     "name": "stdin",
     "output_type": "stream",
     "text": [
      " 3 70 90 81\n"
     ]
    },
    {
     "name": "stdout",
     "output_type": "stream",
     "text": [
      "66.667%\n"
     ]
    },
    {
     "name": "stdin",
     "output_type": "stream",
     "text": [
      " 9 100 99 98 97 96 95 94 93 91\n"
     ]
    },
    {
     "name": "stdout",
     "output_type": "stream",
     "text": [
      "55.556%\n"
     ]
    }
   ],
   "source": [
    "c = int(input())\n",
    "for i in range(c) :\n",
    "    # 입력받기\n",
    "    nscore = list(map(int, input().split()))\n",
    "    # 학생 수\n",
    "    n = nscore[0]\n",
    "    # 학생 점수\n",
    "    score = nscore[1:]\n",
    "    # 점수의 합\n",
    "    sscore = 0\n",
    "    for s in score :\n",
    "        sscore += s\n",
    "    # 점수의 평균\n",
    "    mscore = sscore / n\n",
    "    # 평균을 넘는 학생 수 정의\n",
    "    nn = 0\n",
    "    for i in range(n) :\n",
    "        if score[i] > mscore :\n",
    "            nn += 1\n",
    "    \n",
    "    total = nn/n*100\n",
    "    print(\"{:.3f}\".format(total) + '%')"
   ]
  },
  {
   "cell_type": "markdown",
   "id": "d11ab4e2-0132-4417-929a-c984e6d27388",
   "metadata": {},
   "source": [
    "---"
   ]
  },
  {
   "cell_type": "markdown",
   "id": "b84e169a-258b-4eb6-a481-aa3dc5519207",
   "metadata": {},
   "source": [
    "#### ✔ 단계7 : 2941번(크로아티아 알파벳)"
   ]
  },
  {
   "cell_type": "markdown",
   "id": "2e2ac44d-dcee-48d8-b507-ecd3d9682f7b",
   "metadata": {},
   "source": [
    "- **문제** : 예전에는 운영체제에서 크로아티아 알파벳을 입력할 수가 없었다. 따라서, 다음과 같이 크로아티아 알파벳을 변경해서 입력했다. 예를 들어, ljes=njak은 크로아티아 알파벳 6개(lj, e, š, nj, a, k)로 이루어져 있다. 단어가 주어졌을 때, 몇 개의 크로아티아 알파벳으로 이루어져 있는지 출력한다. dž는 무조건 하나의 알파벳으로 쓰이고, d와 ž가 분리된 것으로 보지 않는다. lj와 nj도 마찬가지이다. 위 목록에 없는 알파벳은 한 글자씩 센다.\n",
    "- **입력** : 첫째 줄에 최대 100글자의 단어가 주어진다. 알파벳 소문자와 '-', '='로만 이루어져 있다. 단어는 크로아티아 알파벳으로 이루어져 있다. 문제 설명의 표에 나와있는 알파벳은 변경된 형태로 입력된다.\n",
    "\n",
    "- **출력** : 입력으로 주어진 단어가 몇 개의 크로아티아 알파벳으로 이루어져 있는지 출력한다.\n",
    "    \n",
    "- **예제 입출력** \n",
    "    - 입력1\n",
    "        - `ljes=njak`\n",
    "    - 출력1\n",
    "        - `6`\n",
    "    - 입력2\n",
    "        - `ddz=z=`\n",
    "    - 출력2\n",
    "        - `3`\n",
    "- **⚠겹치는 것 빼기**\n",
    "    - 문자열.replace(뺄것, 수정할표현)"
   ]
  },
  {
   "cell_type": "code",
   "execution_count": 75,
   "id": "822a3c82-0807-40f5-8f8b-c7df0d572c64",
   "metadata": {},
   "outputs": [
    {
     "name": "stdin",
     "output_type": "stream",
     "text": [
      " ddz=z=\n"
     ]
    },
    {
     "name": "stdout",
     "output_type": "stream",
     "text": [
      "6\n",
      "3\n"
     ]
    }
   ],
   "source": [
    "croatia = ['c=', 'c-', 'dz=', 'd-', 'lj', 'nj', 's=', 'z=']\n",
    "alphabet = input()\n",
    "n = 0\n",
    "l = len(alphabet)\n",
    "\n",
    "for c in croatia :\n",
    "    if c in alphabet :\n",
    "        n += 1\n",
    "        l -= len(c)\n",
    "        alphabet = alphabet.replace(c, '*')\n",
    "        \n",
    "        \n",
    "print(len(alphabet))"
   ]
  },
  {
   "cell_type": "markdown",
   "id": "151aaa7c-8390-48ec-9d96-4d641c1a682b",
   "metadata": {},
   "source": [
    "---"
   ]
  },
  {
   "cell_type": "markdown",
   "id": "8b2447cc-d1b7-4d92-96c8-8153279b21a1",
   "metadata": {},
   "source": [
    "#### ✔ 단계8 : 1316번(그룹 단어 체커)"
   ]
  },
  {
   "cell_type": "markdown",
   "id": "8e271642-590a-40c5-8fe5-3e8728192982",
   "metadata": {},
   "source": [
    "- **문제** : 그룹 단어란 단어에 존재하는 모든 문자에 대해서, 각 문자가 연속해서 나타나는 경우만을 말한다. 예를 들면, ccazzzzbb는 c, a, z, b가 모두 연속해서 나타나고, kin도 k, i, n이 연속해서 나타나기 때문에 그룹 단어이지만, aabbbccb는 b가 떨어져서 나타나기 때문에 그룹 단어가 아니다. 단어 N개를 입력으로 받아 그룹 단어의 개수를 출력하는 프로그램을 작성하시오.\n",
    "- **입력** : 첫째 줄에 단어의 개수 N이 들어온다. N은 100보다 작거나 같은 자연수이다. 둘째 줄부터 N개의 줄에 단어가 들어온다. 단어는 알파벳 소문자로만 되어있고 중복되지 않으며, 길이는 최대 100이다.\n",
    "\n",
    "- **출력** : 첫째 줄에 그룹 단어의 개수를 출력한다.\n",
    "    \n",
    "- **예제 입출력** \n",
    "    - 입력1\n",
    "        - `3`\n",
    "        - `happy`\n",
    "        - `new`\n",
    "        - `year`\n",
    "    - 출력1\n",
    "        - `3`\n",
    "- **⚠ sorted...**"
   ]
  },
  {
   "cell_type": "code",
   "execution_count": null,
   "id": "fc2ab68e-d3ea-4d46-8ed3-d2390ca1b2c2",
   "metadata": {},
   "outputs": [],
   "source": []
  },
  {
   "cell_type": "markdown",
   "id": "bd848414-6079-48c0-af1a-8d7f7de19253",
   "metadata": {},
   "source": [
    "---"
   ]
  },
  {
   "cell_type": "markdown",
   "id": "150355e6-d14a-4232-82aa-e1a29db33d58",
   "metadata": {},
   "source": [
    "#### ✔ 단계9 : 25206번(너의 평점은)"
   ]
  },
  {
   "cell_type": "markdown",
   "id": "b181dd80-0bed-4212-aa35-3dbd0e40463e",
   "metadata": {},
   "source": [
    "- **문제** : 인하대학교 컴퓨터공학과를 졸업하기 위해서는, 전공평점이 3.3 이상이거나 졸업고사를 통과해야 한다. 그런데 아뿔싸, 치훈이는 깜빡하고 졸업고사를 응시하지 않았다는 사실을 깨달았다! 치훈이의 전공평점을 계산해주는 프로그램을 작성해보자. 전공평점은 전공과목별 (학점 × 과목평점)의 합을 학점의 총합으로 나눈 값이다. 인하대학교 컴퓨터공학과의 등급에 따른 과목평점은 다음 표와 같다. P/F 과목의 경우 등급이 P또는 F로 표시되는데, 등급이 P인 과목은 계산에서 제외해야 한다.\n",
    "\n",
    "과연 치훈이는 무사히 졸업할 수 있을까?\n",
    "- **입력** : 20줄에 걸쳐 치훈이가 수강한 전공과목의 과목명, 학점, 등급이 공백으로 구분되어 주어진다.\n",
    "\n",
    "- **출력** : 치훈이의 전공평점을 출력한다. 정답과의 절대오차 또는 상대오차가 \\(10^{-4}\\) 이하이면 정답으로 인정한다.\n",
    "    \n",
    "- **예제 입출력** \n",
    "    - 입력1\n",
    "        - ``\n",
    "    - 출력1\n",
    "        - ``"
   ]
  },
  {
   "cell_type": "code",
   "execution_count": null,
   "id": "80f77db7-b616-48b3-a8f2-4ceace1f9555",
   "metadata": {},
   "outputs": [],
   "source": [
    "total = 0\n",
    "g = 0\n",
    "\n",
    "for i in range(20) :\n",
    "    subject, grade, rating = input().split()\n",
    "    grade = int(grade[0])\n",
    "    \n",
    "    if rating == 'A+' :\n",
    "        gt = grade*4.5\n",
    "        total += gt\n",
    "        g += grade\n",
    "    elif rating == 'A0' :\n",
    "        gt = grade*4.0\n",
    "        total += gt\n",
    "        g += grade\n",
    "    elif rating == 'B+' :\n",
    "        gt = grade*3.5\n",
    "        total += gt\n",
    "        g += grade\n",
    "    elif rating == 'B0' :\n",
    "        gt = grade*3.0\n",
    "        total += gt\n",
    "        g += grade\n",
    "    elif rating == 'C+' :\n",
    "        gt = grade*2.5\n",
    "        total += gt\n",
    "        g += grade\n",
    "    elif rating == 'C0' :\n",
    "        gt = grade*2.0\n",
    "        total += gt\n",
    "        g += grade\n",
    "    elif rating == 'D+' :\n",
    "        gt = grade*1.5\n",
    "        total += gt\n",
    "        g += grade\n",
    "    elif rating == 'D0' :\n",
    "        gt = grade*1.0\n",
    "        total += gt\n",
    "        g += grade\n",
    "    elif rating == 'F' :\n",
    "        gt = grade*0\n",
    "        total += gt\n",
    "        g += grade\n",
    "    elif rating == 'P' :\n",
    "        pass\n",
    "        \n",
    "print(total/g)"
   ]
  }
 ],
 "metadata": {
  "kernelspec": {
   "display_name": "Python 3 (ipykernel)",
   "language": "python",
   "name": "python3"
  },
  "language_info": {
   "codemirror_mode": {
    "name": "ipython",
    "version": 3
   },
   "file_extension": ".py",
   "mimetype": "text/x-python",
   "name": "python",
   "nbconvert_exporter": "python",
   "pygments_lexer": "ipython3",
   "version": "3.9.13"
  }
 },
 "nbformat": 4,
 "nbformat_minor": 5
}
