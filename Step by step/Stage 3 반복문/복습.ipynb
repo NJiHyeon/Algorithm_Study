{
 "cells": [
  {
   "cell_type": "markdown",
   "id": "cfbd3cdc-6b66-4cc4-89b0-44be811cef1a",
   "metadata": {},
   "source": [
    "### Stage3️⃣ 반복문"
   ]
  },
  {
   "cell_type": "markdown",
   "id": "f6cc668b-ef52-467a-82cc-95244b692a13",
   "metadata": {},
   "source": [
    "-------------------------------------------------------------------"
   ]
  },
  {
   "cell_type": "markdown",
   "id": "e141e8c6-68a4-4838-af80-b224b61e8bba",
   "metadata": {},
   "source": [
    "#### 단계1 : 2739번(구구단)"
   ]
  },
  {
   "cell_type": "markdown",
   "id": "d3e8a9ef-e3ce-4287-87ad-238efeb8a2ee",
   "metadata": {},
   "source": [
    "- **문제** : N을 입력받은 뒤, 구구단 N단을 출력하는 프로그램을 작성하시오. 출력 형식에 맞춰서 출력하면 된다.\n",
    "\n",
    "- **입력** : 첫째 줄에 N이 주어진다. N은 1보다 크거나 같고, 9보다 작거나 같다.\n",
    "\n",
    "- **출력** : 출력형식과 같게 N*1부터 N*9까지 출력한다.\n",
    "    \n",
    "- 예제 입출력 \n",
    "    - `2` **->** `2 * 1 = 2` \\n ... \\n `2 * 9 = 18`\n"
   ]
  },
  {
   "cell_type": "code",
   "execution_count": 7,
   "id": "1665f460-a821-4525-9801-f99504db74d8",
   "metadata": {},
   "outputs": [
    {
     "name": "stdin",
     "output_type": "stream",
     "text": [
      " 2\n"
     ]
    },
    {
     "name": "stdout",
     "output_type": "stream",
     "text": [
      "2 * 1 = 2\n",
      "2 * 2 = 4\n",
      "2 * 3 = 6\n",
      "2 * 4 = 8\n",
      "2 * 5 = 10\n",
      "2 * 6 = 12\n",
      "2 * 7 = 14\n",
      "2 * 8 = 16\n",
      "2 * 9 = 18\n"
     ]
    }
   ],
   "source": [
    "n = int(input())\n",
    "\n",
    "for i in range(1, 10) :\n",
    "    print(n, '*' , i, '=' , n*i) "
   ]
  },
  {
   "cell_type": "markdown",
   "id": "293ddb4e-ae0a-4446-af82-42965bb74587",
   "metadata": {},
   "source": [
    "-------------------------------------------------------------------"
   ]
  },
  {
   "cell_type": "markdown",
   "id": "59576a9f-14d5-4d17-a8b0-6ec316c6c3dd",
   "metadata": {},
   "source": [
    "#### 단계2 : 1095번(A+B-3)"
   ]
  },
  {
   "cell_type": "markdown",
   "id": "a5cf80fc-bfc5-411e-a4cf-605f55bd2366",
   "metadata": {},
   "source": [
    "- **문제** : 두 정수 A와 B를 입력받은 다음, A+B를 출력하는 프로그램을 작성하시오.\n",
    "\n",
    "- **입력** : 첫째 줄에 테스트 케이스의 개수 T가 주어진다. 각 테스트 케이스는 한 줄로 이루어져 있으며, 각 줄에 A와 B가 주어진다. (0 < A, B < 10)\n",
    "\n",
    "- **출력** : 각 테스트 케이스마다 A+B를 출력한다.\n",
    "\n",
    "- 예제 입출력 \n",
    "    - `5` \\n `1 1`, \\n `2 3` \\n `3 4` \\n `9 8` \\n `5 2`  **->** `2` \\n `5` \\n `7` \\n `17` \\n `7` \n",
    "    \n",
    "\n",
    "- **풀이 방법** : "
   ]
  },
  {
   "cell_type": "code",
   "execution_count": 9,
   "id": "2017aa6e-90bb-4c50-822e-ce125138c23b",
   "metadata": {},
   "outputs": [
    {
     "name": "stdin",
     "output_type": "stream",
     "text": [
      " 5\n",
      " 1 1\n"
     ]
    },
    {
     "name": "stdout",
     "output_type": "stream",
     "text": [
      "2\n"
     ]
    },
    {
     "name": "stdin",
     "output_type": "stream",
     "text": [
      " 2 3\n"
     ]
    },
    {
     "name": "stdout",
     "output_type": "stream",
     "text": [
      "5\n"
     ]
    },
    {
     "name": "stdin",
     "output_type": "stream",
     "text": [
      " 3 4\n"
     ]
    },
    {
     "name": "stdout",
     "output_type": "stream",
     "text": [
      "7\n"
     ]
    },
    {
     "name": "stdin",
     "output_type": "stream",
     "text": [
      " 9 8\n"
     ]
    },
    {
     "name": "stdout",
     "output_type": "stream",
     "text": [
      "17\n"
     ]
    },
    {
     "name": "stdin",
     "output_type": "stream",
     "text": [
      " 5 2\n"
     ]
    },
    {
     "name": "stdout",
     "output_type": "stream",
     "text": [
      "7\n"
     ]
    }
   ],
   "source": [
    "t = int(input())\n",
    "for i in range(t) : \n",
    "    A, B = map(int, input().split())\n",
    "    print(A+B)"
   ]
  },
  {
   "cell_type": "markdown",
   "id": "dfc57ee0-1a58-4653-9b62-25dfa8996362",
   "metadata": {},
   "source": [
    "-------------------------------------------------------------------"
   ]
  },
  {
   "cell_type": "markdown",
   "id": "559b9daa-4759-4ef6-b4e5-be470ef0ec51",
   "metadata": {},
   "source": [
    "#### 단계3 : 8393번(합)"
   ]
  },
  {
   "cell_type": "markdown",
   "id": "11217a53-e42e-48e7-82ed-1e922b4e6dff",
   "metadata": {},
   "source": [
    "- **문제** : n이 주어졌을 때, 1부터 n까지 합을 구하는 프로그램을 작성하시오.\n",
    "\n",
    "- **입력** : 첫째 줄에 n (1 ≤ n ≤ 10,000)이 주어진다.\n",
    "\n",
    "- **출력** : 1부터 n까지 합을 출력한다.\n",
    "    \n",
    "- 예제 입출력 \n",
    "    - `3` -> `6`\n",
    "    \n",
    "- **풀이 방법** : "
   ]
  },
  {
   "cell_type": "code",
   "execution_count": 11,
   "id": "edb28f54-aaad-4175-9e99-86770de1302b",
   "metadata": {},
   "outputs": [
    {
     "name": "stdin",
     "output_type": "stream",
     "text": [
      " 5\n"
     ]
    },
    {
     "name": "stdout",
     "output_type": "stream",
     "text": [
      "15\n"
     ]
    }
   ],
   "source": [
    "n = int(input())\n",
    "s = 0\n",
    "for i in range(1, n+1) :\n",
    "    s += i\n",
    "    \n",
    "print(s)"
   ]
  },
  {
   "cell_type": "markdown",
   "id": "456bb6d6-68f3-4412-9ef2-3a646b7e813c",
   "metadata": {},
   "source": [
    "-------------------------------------------------------------------"
   ]
  },
  {
   "cell_type": "markdown",
   "id": "5c027731-602e-4418-9d80-77980e6532fb",
   "metadata": {},
   "source": [
    "#### 단계4 : 25304번(영수증)"
   ]
  },
  {
   "cell_type": "markdown",
   "id": "2cdd8c1f-d97c-4616-bf8f-28f65ea8ded3",
   "metadata": {},
   "source": [
    "- **문제** : 준원이는 저번 주에 살면서 처음으로 코스트코를 가 봤다. 정말 멋졌다. 그런데, 몇 개 담지도 않았는데 수상하게 높은 금액이 나오는 것이다! 준원이는 영수증을 보면서 정확하게 계산된 것이 맞는지 확인해보려 한다. 영수증에 적힌, 아래의 내용을 보고, 구매한 물건의 가격과 개수로 계산한 총 금액이 영수증에 적힌 총 금액과 일치하는지 검사해보자.\n",
    "    - 구매한 각 물건의 가격과 개수\n",
    "    - 구매한 물건들의 총 금액\n",
    "- **입력** : 첫째 줄에는 영수증에 적힌 총 금액 $X$가 주어진다. 둘째 줄에는 영수증 적힌 구매한 물건의 종류의 수 $N$이 주어진다. 이후 $N$개의 줄에는 각 물건의 가격 \n",
    "$a$와 개수 \n",
    "$b$가 공백을 사이에 두고 주어진다.\n",
    "\n",
    "- **출력** : 구매한 물건의 가격과 개수로 계산한 총 금액이 영수증에 적힌 총 금액과 일치하면 Yes를 출력한다. 일치하지 않는다면 No를 출력한다.\n",
    "    \n",
    "- 예제 입출력 \n",
    "    - 입력1 \n",
    "        - `260000`\n",
    "        - `4`\n",
    "        - `20000 5`\n",
    "        - `30000 2`\n",
    "        - `10000 6`\n",
    "        - `5000 8`\n",
    "    - 출력1\n",
    "        - `Yes`\n",
    "    \n",
    "- **풀이 방법** : "
   ]
  },
  {
   "cell_type": "code",
   "execution_count": 13,
   "id": "cff13bf2-7c34-4ea3-bedc-2a2d22b43942",
   "metadata": {},
   "outputs": [
    {
     "name": "stdin",
     "output_type": "stream",
     "text": [
      " 260000\n",
      " 4\n",
      " 20000 5\n",
      " 30000 2\n",
      " 10000 6\n",
      " 5000 8\n"
     ]
    },
    {
     "name": "stdout",
     "output_type": "stream",
     "text": [
      "Yes\n"
     ]
    }
   ],
   "source": [
    "X = int(input())\n",
    "N = int(input())\n",
    "s = 0\n",
    "for i in range(N) :\n",
    "    a, b = map(int, input().split())\n",
    "    s += a*b\n",
    "    \n",
    "if X == s :\n",
    "    print('Yes')\n",
    "else :\n",
    "    print('No')"
   ]
  },
  {
   "cell_type": "markdown",
   "id": "62d26ce2-ebc7-436b-a0ae-3567ef152fe8",
   "metadata": {},
   "source": [
    "-------------------------------------------------------------------"
   ]
  },
  {
   "cell_type": "markdown",
   "id": "6cfe7c89-6a5f-4593-9e11-c4fd5239f9e8",
   "metadata": {},
   "source": [
    "#### 단계5 : 25314번(코딩은 체육과목입니다.)"
   ]
  },
  {
   "cell_type": "markdown",
   "id": "5645d5ce-4a50-445c-ab33-b03007bb7500",
   "metadata": {},
   "source": [
    "- **문제** : 오늘은 혜아의 면접 날이다. 면접 준비를 열심히 해서 앞선 질문들을 잘 대답한 혜아는 이제 마지막으로 칠판에 직접 코딩하는 문제를 받았다. 혜아가 받은 문제는 두 수를 더하는 문제였다. C++ 책을 열심히 읽었던 혜아는 간단히 두 수를 더하는 코드를 칠판에 적었다. 코드를 본 면접관은 다음 질문을 했다. “만약, 입출력이 \n",
    "$N$바이트 크기의 정수라면 프로그램을 어떻게 구현해야 할까요?”\n",
    "\n",
    "혜아는 책에 있는 정수 자료형과 관련된 내용을 기억해 냈다. 책에는 long int는 \n",
    "$4$바이트 정수까지 저장할 수 있는 정수 자료형이고 long long int는 \n",
    "$8$바이트 정수까지 저장할 수 있는 정수 자료형이라고 적혀 있었다. 혜아는 이런 생각이 들었다. “int 앞에 long을 하나씩 더 붙일 때마다 \n",
    "$4$바이트씩 저장할 수 있는 공간이 늘어나는 걸까? 분명 long long long int는 \n",
    "$12$바이트, long long long long int는 \n",
    "$16$바이트까지 저장할 수 있는 정수 자료형일 거야!” 그렇게 혜아는 당황하는 면접관의 얼굴을 뒤로한 채 칠판에 정수 자료형을 써 내려가기 시작했다.\n",
    "\n",
    "혜아가 \n",
    "$N$바이트 정수까지 저장할 수 있다고 생각해서 칠판에 쓴 정수 자료형의 이름은 무엇일까?\n",
    "\n",
    "\n",
    "\n",
    "- **입력** : 첫 번째 줄에는 문제의 정수 \n",
    "$N$이 주어진다. \n",
    "$(4\\le N\\le 1\\, 000$; \n",
    "$N$은 \n",
    "$4$의 배수\n",
    "$)$ \n",
    "\n",
    "- **출력** : 혜아가 \n",
    "$N$바이트 정수까지 저장할 수 있다고 생각하는 정수 자료형의 이름을 출력하여라.\n",
    "    \n",
    "- 예제 입출력 \n",
    "    - `4` -> `long int`\n",
    "    - `20` -> `long long long long long int`\n",
    "    \n",
    "\n",
    "- **풀이 방법** : "
   ]
  },
  {
   "cell_type": "code",
   "execution_count": 23,
   "id": "e78ac007-3940-4ed5-a301-5a1ea8b9e6aa",
   "metadata": {},
   "outputs": [
    {
     "name": "stdin",
     "output_type": "stream",
     "text": [
      " 20\n"
     ]
    },
    {
     "name": "stdout",
     "output_type": "stream",
     "text": [
      "long long long long long int "
     ]
    }
   ],
   "source": [
    "N = int(input())\n",
    "n = N//4\n",
    "\n",
    "for i in range(n) :N = int(input())\n",
    "n = N//4\n",
    "\n",
    "for i in range(n) :\n",
    "    print('long', end=' ')\n",
    "    \n",
    "print('int', end=' ')\n",
    "    print('long', end=' ')\n",
    "    \n",
    "print('int', end=' ')"
   ]
  },
  {
   "cell_type": "markdown",
   "id": "650316b6-59d1-47b8-af97-aad57f731306",
   "metadata": {},
   "source": [
    "-------------------------------------------------------------------"
   ]
  },
  {
   "cell_type": "markdown",
   "id": "a02ac859-70f1-40c8-a6b0-f78102d0a71d",
   "metadata": {},
   "source": [
    "#### 단계6 : 15552번(빠른 A+B)"
   ]
  },
  {
   "cell_type": "markdown",
   "id": "3a1c1bc7-ca0a-4ed4-8eda-5d45ee94ed67",
   "metadata": {},
   "source": [
    "- **문제** : 본격적으로 for문 문제를 풀기 전에 주의해야 할 점이 있다. 입출력 방식이 느리면 여러 줄을 입력받거나 출력할 때 시간초과가 날 수 있다는 점이다.\n",
    "\n",
    "- **입력** : 첫 줄에 테스트케이스의 개수 T가 주어진다. T는 최대 1,000,000이다. 다음 T줄에는 각각 두 정수 A와 B가 주어진다. A와 B는 1 이상, 1,000 이하이다.\n",
    "\n",
    "- **출력** : 각 테스트케이스마다 A+B를 한 줄에 하나씩 순서대로 출력한다\n",
    "    \n",
    "- 예제 입출력 \n",
    "    - 입력1\n",
    "        - `5` \n",
    "        - `1 1`\n",
    "        - `12 34`\n",
    "        - `40 60`\n",
    "        - `1000 1000`\n",
    "    - 출력1\n",
    "        - `2`\n",
    "        - `46`\n",
    "        - `505`\n",
    "        - `100`\n",
    "        - `2000`\n",
    "        \n",
    "\n",
    "- **풀이 방법** : "
   ]
  },
  {
   "cell_type": "code",
   "execution_count": null,
   "id": "7e4319b9-5b57-4ba3-8863-74da8a1ab01f",
   "metadata": {},
   "outputs": [],
   "source": [
    "import sys\n",
    "T = int(sys.stdin.readline())\n",
    "for i in range(T) :\n",
    "    A, B = map(int, sys.stdin.readline().split())\n",
    "    print(A+B)"
   ]
  },
  {
   "cell_type": "markdown",
   "id": "e29f03d3-2ca2-4b4b-a5d9-672a0a4fcaed",
   "metadata": {},
   "source": [
    "-------------------------------------------------------------------"
   ]
  },
  {
   "cell_type": "markdown",
   "id": "1ac95fd4-52ca-44d8-93a8-39ac13f0a51b",
   "metadata": {},
   "source": [
    "#### 단계7 : 11021번(A+B-7)"
   ]
  },
  {
   "cell_type": "markdown",
   "id": "7c2091c2-e9ed-48e4-acea-9583280a021f",
   "metadata": {},
   "source": [
    "- **문제** : 두 정수 A와 B를 입력받은 다음, A+B를 출력하는 프로그램을 작성하시오.\n",
    "\n",
    "- **입력** : 첫째 줄에 테스트 케이스의 개수 T가 주어진다.\n",
    "\n",
    "각 테스트 케이스는 한 줄로 이루어져 있으며, 각 줄에 A와 B가 주어진다. (0 < A, B < 10)\n",
    "\n",
    "- **출력** : 각 테스트 케이스마다 \"Case #x: \"를 출력한 다음, A+B를 출력한다. 테스트 케이스 번호는 1부터 시작한다.\n",
    "    \n",
    "- 예제 입출력 \n",
    "    - 입력\n",
    "        - `5`\n",
    "        - `1 1`\n",
    "        - `2 3`\n",
    "        - `3 4`\n",
    "        - `9 8`\n",
    "        - `5 2`\n",
    "    - 출력\n",
    "        - `Case #1: 2`\n",
    "        - `Case #2: 5`\n",
    "        - `Case #3: 7`\n",
    "        - `Case #4: 17`\n",
    "        - `Case #5: 7`\n",
    "\n",
    "\n",
    "- **풀이 방법** : "
   ]
  },
  {
   "cell_type": "code",
   "execution_count": 1,
   "id": "0fed7717-47a1-4659-bd0f-b9d3a0f320f7",
   "metadata": {},
   "outputs": [
    {
     "name": "stdin",
     "output_type": "stream",
     "text": [
      " 5\n",
      " 1 1\n"
     ]
    },
    {
     "name": "stdout",
     "output_type": "stream",
     "text": [
      "Case #1: 2\n"
     ]
    },
    {
     "name": "stdin",
     "output_type": "stream",
     "text": [
      " 2 3\n"
     ]
    },
    {
     "name": "stdout",
     "output_type": "stream",
     "text": [
      "Case #2: 5\n"
     ]
    },
    {
     "name": "stdin",
     "output_type": "stream",
     "text": [
      " 3 4\n"
     ]
    },
    {
     "name": "stdout",
     "output_type": "stream",
     "text": [
      "Case #3: 7\n"
     ]
    },
    {
     "name": "stdin",
     "output_type": "stream",
     "text": [
      " 9 8\n"
     ]
    },
    {
     "name": "stdout",
     "output_type": "stream",
     "text": [
      "Case #4: 17\n"
     ]
    },
    {
     "name": "stdin",
     "output_type": "stream",
     "text": [
      " 5 2\n"
     ]
    },
    {
     "name": "stdout",
     "output_type": "stream",
     "text": [
      "Case #5: 7\n"
     ]
    }
   ],
   "source": [
    "T = int(input())\n",
    "for i in range(1, T+1) :\n",
    "    A, B = map(int, input().split())\n",
    "    print('Case #%s: %s' %(i, A+B))"
   ]
  },
  {
   "cell_type": "markdown",
   "id": "57a6fafc-6917-4ac8-95d0-df241635dbe3",
   "metadata": {},
   "source": [
    "-------------------------------------------------------------------"
   ]
  },
  {
   "cell_type": "markdown",
   "id": "297bee67-54ab-4cb7-97f2-786ce5f1a8c2",
   "metadata": {},
   "source": [
    "#### 단계8 : 11022번(A+B-8)"
   ]
  },
  {
   "cell_type": "markdown",
   "id": "911e4794-eab6-4a1b-8f53-395a0ce6db03",
   "metadata": {},
   "source": [
    "- **문제** : 두 정수 A와 B를 입력받은 다음, A+B를 출력하는 프로그램을 작성하시오.\n",
    "\n",
    "- **입력** : 첫째 줄에 테스트 케이스의 개수 T가 주어진다.\n",
    "\n",
    "각 테스트 케이스는 한 줄로 이루어져 있으며, 각 줄에 A와 B가 주어진다. (0 < A, B < 10)\n",
    "\n",
    "- **출력** : 각 테스트 케이스마다 \"Case #x: A + B = C\" 형식으로 출력한다. x는 테스트 케이스 번호이고 1부터 시작하며, C는 A+B이다.\n",
    "\n",
    "- 예제 입출력 \n",
    "    - 입력\n",
    "        - `5`\n",
    "        - `1 1`\n",
    "        - `2 3`\n",
    "        - `3 4`\n",
    "        - `9 8`\n",
    "        - `5 2`\n",
    "    - 출력\n",
    "        - `Case #1: 1 + 1 = 2`\n",
    "        - `Case #2: 2 + 3 = 5`\n",
    "        - `Case #3: 3 + 4 = 7`\n",
    "        - `Case #4: 9 + 8 = 17`\n",
    "        - `Case #5: 5 + 2 = 7`\n",
    "\n",
    "\n",
    "\n",
    "- **풀이 방법** : "
   ]
  },
  {
   "cell_type": "code",
   "execution_count": 5,
   "id": "996e46ba-9df5-48b5-8f9a-8be804ea9b7d",
   "metadata": {},
   "outputs": [
    {
     "name": "stdin",
     "output_type": "stream",
     "text": [
      " 5 \n",
      " 1 1\n"
     ]
    },
    {
     "name": "stdout",
     "output_type": "stream",
     "text": [
      "Case #1: 1 + 1 = 2\n"
     ]
    },
    {
     "name": "stdin",
     "output_type": "stream",
     "text": [
      " 2 2\n"
     ]
    },
    {
     "name": "stdout",
     "output_type": "stream",
     "text": [
      "Case #2: 2 + 2 = 4\n"
     ]
    },
    {
     "name": "stdin",
     "output_type": "stream",
     "text": [
      " 3 3\n"
     ]
    },
    {
     "name": "stdout",
     "output_type": "stream",
     "text": [
      "Case #3: 3 + 3 = 6\n"
     ]
    },
    {
     "name": "stdin",
     "output_type": "stream",
     "text": [
      " 5 5\n"
     ]
    },
    {
     "name": "stdout",
     "output_type": "stream",
     "text": [
      "Case #4: 5 + 5 = 10\n"
     ]
    },
    {
     "name": "stdin",
     "output_type": "stream",
     "text": [
      " 2 6\n"
     ]
    },
    {
     "name": "stdout",
     "output_type": "stream",
     "text": [
      "Case #5: 2 + 6 = 8\n"
     ]
    }
   ],
   "source": [
    "T = int(input())\n",
    "for i in range(1, T+1) :\n",
    "    A, B = map(int, input().split())\n",
    "    print('Case #%s: %s + %s = %d' %(i, A, B, A+B))"
   ]
  },
  {
   "cell_type": "markdown",
   "id": "131a900d-c748-435e-ad62-4bfe91623620",
   "metadata": {},
   "source": [
    "-------------------------------------------------------------------"
   ]
  },
  {
   "cell_type": "markdown",
   "id": "075afed7-a661-40de-8973-016127df9e21",
   "metadata": {},
   "source": [
    "#### 단계9 : 2438번(별 찍기 - 1)"
   ]
  },
  {
   "cell_type": "markdown",
   "id": "21f9a260-af87-4c78-9915-655887021f46",
   "metadata": {},
   "source": [
    "- **문제** : 첫째 줄에는 별 1개, 둘째 줄에는 별 2개, N번째 줄에는 별 N개를 찍는 문제\n",
    "\n",
    "- **입력** : 첫째 줄에 N(1 ≤ N ≤ 100)이 주어진다.\n",
    "\n",
    "- **출력** : 첫째 줄부터 N번째 줄까지 차례대로 별을 출력한다.\n",
    "    \n",
    "- 예제 입출력 \n",
    "    - 입력1\n",
    "        - `5`\n",
    "    - 출력1\n",
    "        - `*`\n",
    "        - `**`\n",
    "        - `***`\n",
    "        - `****`\n",
    "        - `*****`\n",
    "    \n",
    "\n",
    "- **풀이 방법** : "
   ]
  },
  {
   "cell_type": "code",
   "execution_count": 8,
   "id": "b6876b90-160a-436e-8a71-26e9cb04a8b7",
   "metadata": {},
   "outputs": [
    {
     "name": "stdin",
     "output_type": "stream",
     "text": [
      " 5\n"
     ]
    },
    {
     "name": "stdout",
     "output_type": "stream",
     "text": [
      "*\n",
      "**\n",
      "***\n",
      "****\n",
      "*****\n"
     ]
    }
   ],
   "source": [
    "n = int(input())\n",
    "\n",
    "for i in range(1, n+1) :\n",
    "    print('*'*i)"
   ]
  },
  {
   "cell_type": "markdown",
   "id": "31f28f2e-24b5-4ffe-9c40-0b111bef6519",
   "metadata": {},
   "source": [
    "-------------------------------------------------------------------"
   ]
  },
  {
   "cell_type": "markdown",
   "id": "37b6781b-1bf0-4da8-a32e-201d71ee42b0",
   "metadata": {},
   "source": [
    "#### 단계10 : 2439번(별 찍기 - 2)"
   ]
  },
  {
   "cell_type": "markdown",
   "id": "73c11a63-c83b-43b8-ace6-b09ccfeb5af7",
   "metadata": {},
   "source": [
    "- **문제** : 째 줄에는 별 1개, 둘째 줄에는 별 2개, N번째 줄에는 별 N개를 찍는 문제\n",
    "\n",
    "하지만, 오른쪽을 기준으로 정렬한 별(예제 참고)을 출력하시오.\n",
    "\n",
    "- **입력** : 첫째 줄에 N(1 ≤ N ≤ 100)이 주어진다.\n",
    "\n",
    "- **출력** : 첫째 줄부터 N번째 줄까지 차례대로 별을 출력한다.\n",
    "\n",
    "    \n",
    "- 예제 입출력 \n",
    "    - 입력1\n",
    "        - `5`\n",
    "    - 출력1\n",
    "        - `    *`\n",
    "        - `   **`\n",
    "        - `  ***`\n",
    "        - ` ****`\n",
    "        - `*****`\n",
    "    \n",
    "\n",
    "- **풀이 방법** : "
   ]
  },
  {
   "cell_type": "code",
   "execution_count": 26,
   "id": "dd601caf-44b5-4fcb-9b73-44d47d8d5626",
   "metadata": {},
   "outputs": [
    {
     "name": "stdin",
     "output_type": "stream",
     "text": [
      " 5\n"
     ]
    },
    {
     "name": "stdout",
     "output_type": "stream",
     "text": [
      "    *\n",
      "   **\n",
      "  ***\n",
      " ****\n",
      "*****\n"
     ]
    }
   ],
   "source": [
    "n = int(input())\n",
    "\n",
    "for i in range(1, n+1) :\n",
    "    print(str(' '*(n-i))+str('*'*i))"
   ]
  },
  {
   "cell_type": "markdown",
   "id": "55369f3b-05b7-4439-bb28-2372b687f901",
   "metadata": {},
   "source": [
    "-------------------------------------------------------------------"
   ]
  },
  {
   "cell_type": "markdown",
   "id": "ff27ffd3-c2e1-403f-a9c5-c39ef985787e",
   "metadata": {},
   "source": [
    "#### 단계11 : 10952번(A+B-5)"
   ]
  },
  {
   "cell_type": "markdown",
   "id": "11fe1b52-ef73-4443-9b72-f71b7e68a793",
   "metadata": {},
   "source": [
    "- **문제** : 두 정수 A와 B를 입력받은 다음, A+B를 출력하는 프로그램을 작성하시오.\n",
    "\n",
    "- **입력** : 입력은 여러 개의 테스트 케이스로 이루어져 있다.\n",
    "\n",
    "각 테스트 케이스는 한 줄로 이루어져 있으며, 각 줄에 A와 B가 주어진다. (0 < A, B < 10)\n",
    "\n",
    "입력의 마지막에는 0 두 개가 들어온다.\n",
    "\n",
    "- **출력** : 각 테스트 케이스마다 A+B를 출력한다.\n",
    "    \n",
    "- 예제 입출력 \n",
    "    - 입력1\n",
    "        - `1 1`\n",
    "        - `2 3`\n",
    "        - `3 4`\n",
    "        - `9 8`\n",
    "        - `5 2`\n",
    "        - `0 0`\n",
    "    - 출력1\n",
    "        - `2`\n",
    "        - `5`\n",
    "        - `7`\n",
    "        - `17`\n",
    "        - `7`\n",
    "    \n",
    "\n",
    "- **풀이 방법** : "
   ]
  },
  {
   "cell_type": "code",
   "execution_count": 28,
   "id": "09dcda9a-b80a-4367-8a0b-527ac7bcf2d5",
   "metadata": {},
   "outputs": [
    {
     "name": "stdin",
     "output_type": "stream",
     "text": [
      " 1 1\n"
     ]
    },
    {
     "name": "stdout",
     "output_type": "stream",
     "text": [
      "2\n"
     ]
    },
    {
     "name": "stdin",
     "output_type": "stream",
     "text": [
      " 2 3\n"
     ]
    },
    {
     "name": "stdout",
     "output_type": "stream",
     "text": [
      "5\n"
     ]
    },
    {
     "name": "stdin",
     "output_type": "stream",
     "text": [
      " 0 0\n"
     ]
    }
   ],
   "source": [
    "while True :\n",
    "    A, B = map(int, input().split())\n",
    "    if A==0 and B==0 :\n",
    "        break\n",
    "    print(A+B)"
   ]
  },
  {
   "cell_type": "markdown",
   "id": "210f3685-1625-47fd-9029-f379068e9e17",
   "metadata": {},
   "source": [
    "-------------------------------------------------------------------"
   ]
  },
  {
   "cell_type": "markdown",
   "id": "41c6e2d1-2b10-4e21-8ba8-1cadd97edd04",
   "metadata": {},
   "source": [
    "#### 단계12 : 10951번(A+B-4) ✨"
   ]
  },
  {
   "cell_type": "markdown",
   "id": "5907223e-d943-46fb-864a-dc99fda57881",
   "metadata": {},
   "source": [
    "- **문제** : 두 정수 A와 B를 입력받은 다음, A+B를 출력하는 프로그램을 작성하시오.\n",
    "\n",
    "- **입력** : 입력은 여러 개의 테스트 케이스로 이루어져 있다.\n",
    "\n",
    "각 테스트 케이스는 한 줄로 이루어져 있으며, 각 줄에 A와 B가 주어진다. (0 < A, B < 10)\n",
    "\n",
    "- **출력** : 각 테스트 케이스마다 A+B를 출력한다.\n",
    "\n",
    "    \n",
    "- 예제 입출력 \n",
    "    - 입력1\n",
    "        - `1 1`\n",
    "        - `2 3`\n",
    "        - `3 4`\n",
    "        - `9 8`\n",
    "        - `5 2`\n",
    "        \n",
    "    - 출력1\n",
    "        - `2`\n",
    "        - `5`\n",
    "        - `7`\n",
    "        - `17`\n",
    "        - `7`\n",
    "     \n",
    "\n",
    "- **풀이 방법** : "
   ]
  },
  {
   "cell_type": "code",
   "execution_count": 31,
   "id": "cacf57df-2f55-4bcc-8c9d-5659f977cd35",
   "metadata": {},
   "outputs": [
    {
     "name": "stdin",
     "output_type": "stream",
     "text": [
      " 1 1\n"
     ]
    },
    {
     "name": "stdout",
     "output_type": "stream",
     "text": [
      "3\n"
     ]
    },
    {
     "name": "stdin",
     "output_type": "stream",
     "text": [
      " 2 3\n"
     ]
    },
    {
     "name": "stdout",
     "output_type": "stream",
     "text": [
      "3\n"
     ]
    },
    {
     "name": "stdin",
     "output_type": "stream",
     "text": [
      " \n"
     ]
    }
   ],
   "source": [
    "# 입력이 끝날때까지 출력하는 문제\n",
    "while True :\n",
    "    try : \n",
    "        A, B = map(int, input().split())\n",
    "    except :\n",
    "        break\n",
    "    print(a+b)"
   ]
  }
 ],
 "metadata": {
  "kernelspec": {
   "display_name": "Python 3 (ipykernel)",
   "language": "python",
   "name": "python3"
  },
  "language_info": {
   "codemirror_mode": {
    "name": "ipython",
    "version": 3
   },
   "file_extension": ".py",
   "mimetype": "text/x-python",
   "name": "python",
   "nbconvert_exporter": "python",
   "pygments_lexer": "ipython3",
   "version": "3.9.13"
  }
 },
 "nbformat": 4,
 "nbformat_minor": 5
}
