{
 "cells": [
  {
   "cell_type": "markdown",
   "id": "cf5df170-ca7b-4c7b-b84e-faa6c0469778",
   "metadata": {},
   "source": [
    "### Stage8️⃣ 기본 수학1"
   ]
  },
  {
   "cell_type": "code",
   "execution_count": null,
   "id": "ba10c6bb-108e-4e14-870d-2fe21516adac",
   "metadata": {},
   "outputs": [],
   "source": [
    "#### ❌✔단계1 : "
   ]
  },
  {
   "cell_type": "markdown",
   "id": "bd0ccdf4-ccef-49f0-8d69-b85ab215c7a4",
   "metadata": {},
   "source": [
    "- **문제** : \n",
    "\n",
    "- **입력** : \n",
    "\n",
    "- **출력** :\n",
    "\n",
    "- **예제 입출력** \n",
    "    - 입력1\n",
    "        - \n",
    "    - 출력1\n",
    "        -"
   ]
  }
 ],
 "metadata": {
  "kernelspec": {
   "display_name": "Python 3 (ipykernel)",
   "language": "python",
   "name": "python3"
  },
  "language_info": {
   "codemirror_mode": {
    "name": "ipython",
    "version": 3
   },
   "file_extension": ".py",
   "mimetype": "text/x-python",
   "name": "python",
   "nbconvert_exporter": "python",
   "pygments_lexer": "ipython3",
   "version": "3.9.13"
  }
 },
 "nbformat": 4,
 "nbformat_minor": 5
}
