{
 "cells": [
  {
   "cell_type": "markdown",
   "id": "1e291378-b344-423d-bf30-2bc45738b63e",
   "metadata": {},
   "source": [
    "### Stage4️⃣ 1차원 배열"
   ]
  },
  {
   "cell_type": "markdown",
   "id": "3441802a-bff7-4d29-bcdf-c5a8a80b9ea2",
   "metadata": {},
   "source": [
    "-------------------"
   ]
  },
  {
   "cell_type": "markdown",
   "id": "55978cfa-cd72-4960-9b5a-857a2963ba36",
   "metadata": {},
   "source": [
    "#### 단계1 : 10807번(개수 세기)"
   ]
  },
  {
   "cell_type": "markdown",
   "id": "a7c022d3-f0a6-447d-85c6-7b75d4bd5892",
   "metadata": {},
   "source": [
    "- **문제** : 총 N개의 정수가 주어졌을 때, 정수 v가 몇 개인지 구하는 프로그램을 작성하시오.\n",
    "\n",
    "- **입력** : 첫째 줄에 정수의 개수 N(1 ≤ N ≤ 100)이 주어진다. 둘째 줄에는 정수가 공백으로 구분되어져있다. 셋째 줄에는 찾으려고 하는 정수 v가 주어진다. 입력으로 주어지는 정수와 v는 -100보다 크거나 같으며, 100보다 작거나 같다.\n",
    "\n",
    "- **출력** : 첫째 줄에 입력으로 주어진 N개의 정수 중에 v가 몇 개인지 출력한다.\n",
    "    \n",
    "- 예제 입출력 \n",
    "    - 입력1\n",
    "        - `11`\n",
    "        - `1 4 1 2 4 2 4 2 3 4 4`\n",
    "        - `2`\n",
    "    - 출력1\n",
    "        - `3`"
   ]
  },
  {
   "cell_type": "code",
   "execution_count": 2,
   "id": "106c60d9-518f-48e2-b253-2808c2a41376",
   "metadata": {},
   "outputs": [
    {
     "name": "stdin",
     "output_type": "stream",
     "text": [
      " 11\n",
      " 1 4 1 2 4 2 4 2 3 4 4\n",
      " 2\n"
     ]
    },
    {
     "name": "stdout",
     "output_type": "stream",
     "text": [
      "3\n"
     ]
    }
   ],
   "source": [
    "n = int(input())\n",
    "d = list(map(int, input().split()))\n",
    "v = int(input())\n",
    "\n",
    "n_v = 0\n",
    "for i in range(n) :\n",
    "    if d[i] == v :\n",
    "        n_v += 1\n",
    "        \n",
    "print(n_v)"
   ]
  },
  {
   "cell_type": "code",
   "execution_count": 3,
   "id": "cf74fc0a-677e-49a5-b097-0ac0462f5cd2",
   "metadata": {},
   "outputs": [
    {
     "name": "stdin",
     "output_type": "stream",
     "text": [
      " 11\n",
      " 1 4 1 2 4 2 4 2 3 4 4\n",
      " 2\n"
     ]
    },
    {
     "name": "stdout",
     "output_type": "stream",
     "text": [
      "3\n"
     ]
    }
   ],
   "source": [
    "n = int(input())\n",
    "d = list(map(int, input().split()))\n",
    "v = int(input())\n",
    "\n",
    "print(d.count(v))"
   ]
  },
  {
   "cell_type": "markdown",
   "id": "d6ea7e93-7197-4b4c-a58a-2a41095e4883",
   "metadata": {},
   "source": [
    "-------------------"
   ]
  },
  {
   "cell_type": "markdown",
   "id": "7f0057a2-a222-4bf5-8f0f-4576900dba8f",
   "metadata": {},
   "source": [
    "#### 단계2 : 10871번(X보다 작은 수)"
   ]
  },
  {
   "cell_type": "markdown",
   "id": "985b5475-187c-49a8-bb56-563389a8116f",
   "metadata": {},
   "source": [
    "- **문제** : 정수 N개로 이루어진 수열 A와 정수 X가 주어진다. 이때, A에서 X보다 작은 수를 모두 출력하는 프로그램을 작성하시오.\n",
    "\n",
    "- **입력** : 첫째 줄에 N과 X가 주어진다. (1 ≤ N, X ≤ 10,000)\n",
    "\n",
    "둘째 줄에 수열 A를 이루는 정수 N개가 주어진다. 주어지는 정수는 모두 1보다 크거나 같고, 10,000보다 작거나 같은 정수이다.\n",
    "\n",
    "- **출력** : X보다 작은 수를 입력받은 순서대로 공백으로 구분해 출력한다. X보다 작은 수는 적어도 하나 존재한다.\n",
    "    \n",
    "- 예제 입출력 \n",
    "    - 입력1\n",
    "        - ``\n",
    "    - 출력1\n",
    "        - ``"
   ]
  },
  {
   "cell_type": "code",
   "execution_count": null,
   "id": "b0402dc0-8e39-455c-9d54-95d6cb1a7698",
   "metadata": {},
   "outputs": [],
   "source": []
  },
  {
   "cell_type": "markdown",
   "id": "65f64ec2-9dfc-440e-a5f5-41d43014a4bd",
   "metadata": {},
   "source": [
    "---"
   ]
  },
  {
   "cell_type": "markdown",
   "id": "eb573441-f465-4c9d-a8ba-d8f73afe5a4e",
   "metadata": {},
   "source": [
    "#### 단계3 : 10818번(최소, 최대)"
   ]
  },
  {
   "cell_type": "markdown",
   "id": "d9e1adbe-f36f-4b40-9cc3-a64a8924b36f",
   "metadata": {},
   "source": [
    "- **문제** : \n",
    "\n",
    "- **입력** :\n",
    "\n",
    "- **출력** :\n",
    "    \n",
    "- 예제 입출력 \n",
    "    - 입력1\n",
    "        - ``\n",
    "    - 출력1\n",
    "        - ``"
   ]
  },
  {
   "cell_type": "code",
   "execution_count": null,
   "id": "35420cf0-a7a4-4746-bdde-b925dd94672c",
   "metadata": {},
   "outputs": [],
   "source": []
  },
  {
   "cell_type": "markdown",
   "id": "3182fd65-6a59-4b2c-a016-04f23e151712",
   "metadata": {},
   "source": [
    "---"
   ]
  },
  {
   "cell_type": "markdown",
   "id": "46c5878e-2884-48d7-b44d-6aef52982dff",
   "metadata": {},
   "source": [
    "#### 단계4 : 2562번(최댓값)"
   ]
  },
  {
   "cell_type": "markdown",
   "id": "3f2dc4b3-f4e5-4d14-8aca-9605a754706f",
   "metadata": {},
   "source": [
    "- **문제** : \n",
    "\n",
    "- **입력** :\n",
    "\n",
    "- **출력** :\n",
    "    \n",
    "- 예제 입출력 \n",
    "    - 입력1\n",
    "        - ``\n",
    "    - 출력1\n",
    "        - ``"
   ]
  },
  {
   "cell_type": "code",
   "execution_count": null,
   "id": "dcdfaed4-df6f-42a0-b40a-962651a08102",
   "metadata": {},
   "outputs": [],
   "source": []
  },
  {
   "cell_type": "markdown",
   "id": "aef73dc8-fc36-467b-8c30-bb6b474b9970",
   "metadata": {},
   "source": [
    "---"
   ]
  },
  {
   "cell_type": "markdown",
   "id": "6d5a4627-e7a7-4d28-991d-0c36841ff676",
   "metadata": {},
   "source": [
    "#### 단계5 : 10810번(공넣기)"
   ]
  },
  {
   "cell_type": "markdown",
   "id": "cd0187af-3eec-4e2a-b54c-fe09c341721c",
   "metadata": {},
   "source": [
    "- **문제** : \n",
    "\n",
    "- **입력** :\n",
    "\n",
    "- **출력** :\n",
    "    \n",
    "- 예제 입출력 \n",
    "    - 입력1\n",
    "        - ``\n",
    "    - 출력1\n",
    "        - ``"
   ]
  },
  {
   "cell_type": "code",
   "execution_count": null,
   "id": "26219e43-da37-41be-af15-58cc65e034c0",
   "metadata": {},
   "outputs": [],
   "source": []
  },
  {
   "cell_type": "markdown",
   "id": "82546873-bbe7-4b41-b0b6-ef944e433108",
   "metadata": {},
   "source": [
    "---"
   ]
  },
  {
   "cell_type": "markdown",
   "id": "b58bf25c-e034-48a4-935b-c3903481a4f7",
   "metadata": {},
   "source": [
    "#### 단계6 : 10813번(공 바꾸기)"
   ]
  },
  {
   "cell_type": "markdown",
   "id": "ade4c58d-d753-4e93-8c14-fe5601b559fd",
   "metadata": {},
   "source": [
    "- **문제** : \n",
    "\n",
    "- **입력** :\n",
    "\n",
    "- **출력** :\n",
    "    \n",
    "- 예제 입출력 \n",
    "    - 입력1\n",
    "        - ``\n",
    "    - 출력1\n",
    "        - ``"
   ]
  },
  {
   "cell_type": "code",
   "execution_count": null,
   "id": "c0b806bf-5bcb-4aec-9933-6c20383087ee",
   "metadata": {},
   "outputs": [],
   "source": []
  },
  {
   "cell_type": "markdown",
   "id": "09009dd0-5f3e-4123-a394-d6666e835aec",
   "metadata": {},
   "source": [
    "---"
   ]
  },
  {
   "cell_type": "markdown",
   "id": "d1cb692d-d707-4478-84df-34d0e105e37c",
   "metadata": {},
   "source": [
    "#### 단계7 : 5597번(과제 안 내신 분...?)"
   ]
  },
  {
   "cell_type": "markdown",
   "id": "7bc255e5-0960-4f60-878b-650a19288258",
   "metadata": {},
   "source": [
    "- **문제** : \n",
    "\n",
    "- **입력** :\n",
    "\n",
    "- **출력** :\n",
    "    \n",
    "- 예제 입출력 \n",
    "    - 입력1\n",
    "        - ``\n",
    "    - 출력1\n",
    "        - ``"
   ]
  },
  {
   "cell_type": "code",
   "execution_count": null,
   "id": "fe1307d2-ee61-4e12-a65a-61a79e0ebbbe",
   "metadata": {},
   "outputs": [],
   "source": []
  },
  {
   "cell_type": "markdown",
   "id": "cc53be65-8840-473e-8014-fa3ab915e5b7",
   "metadata": {},
   "source": [
    "---"
   ]
  },
  {
   "cell_type": "markdown",
   "id": "76180741-e7fd-4d71-9dde-36bababc1af2",
   "metadata": {},
   "source": [
    "#### 단계8 : 3052번(나머지)"
   ]
  },
  {
   "cell_type": "markdown",
   "id": "a0b966fc-b84d-40ce-817a-33edddb2e78b",
   "metadata": {},
   "source": [
    "- **문제** : \n",
    "\n",
    "- **입력** :\n",
    "\n",
    "- **출력** :\n",
    "    \n",
    "- 예제 입출력 \n",
    "    - 입력1\n",
    "        - ``\n",
    "    - 출력1\n",
    "        - ``"
   ]
  },
  {
   "cell_type": "code",
   "execution_count": null,
   "id": "83eef671-7daa-4c0c-872e-dbd4c5b22c58",
   "metadata": {},
   "outputs": [],
   "source": []
  },
  {
   "cell_type": "markdown",
   "id": "375e9c92-bdfc-41a1-9319-dd6cabef7363",
   "metadata": {},
   "source": [
    "---"
   ]
  },
  {
   "cell_type": "markdown",
   "id": "6358d23d-b954-48ce-b2c2-8fd81e948b9b",
   "metadata": {},
   "source": [
    "#### 단계9 : 10811번(바구니 뒤집기)"
   ]
  },
  {
   "cell_type": "markdown",
   "id": "5a5368f8-52d0-4fcf-9998-cacb3c3373f0",
   "metadata": {},
   "source": [
    "- **문제** : \n",
    "\n",
    "- **입력** :\n",
    "\n",
    "- **출력** :\n",
    "    \n",
    "- 예제 입출력 \n",
    "    - 입력1\n",
    "        - ``\n",
    "    - 출력1\n",
    "        - ``"
   ]
  },
  {
   "cell_type": "code",
   "execution_count": null,
   "id": "334f05a2-15ce-4816-aa9b-7c88de4522a5",
   "metadata": {},
   "outputs": [],
   "source": []
  },
  {
   "cell_type": "markdown",
   "id": "dc12fe70-4f4a-48f3-839f-4c5b9e540b66",
   "metadata": {},
   "source": [
    "---"
   ]
  },
  {
   "cell_type": "markdown",
   "id": "679ab0a2-8ac2-469a-aabf-7cb61f54e15c",
   "metadata": {},
   "source": [
    "#### 단계10 : 1546번(평균)"
   ]
  },
  {
   "cell_type": "markdown",
   "id": "b733525c-d7a5-458f-b65c-311bf74f4f39",
   "metadata": {},
   "source": [
    "- **문제** : \n",
    "\n",
    "- **입력** :\n",
    "\n",
    "- **출력** :\n",
    "    \n",
    "- 예제 입출력 \n",
    "    - 입력1\n",
    "        - ``\n",
    "    - 출력1\n",
    "        - ``"
   ]
  },
  {
   "cell_type": "code",
   "execution_count": null,
   "id": "e0f231ae-5c78-450b-8131-b8b0d5c8a0be",
   "metadata": {},
   "outputs": [],
   "source": []
  }
 ],
 "metadata": {
  "kernelspec": {
   "display_name": "Python 3 (ipykernel)",
   "language": "python",
   "name": "python3"
  },
  "language_info": {
   "codemirror_mode": {
    "name": "ipython",
    "version": 3
   },
   "file_extension": ".py",
   "mimetype": "text/x-python",
   "name": "python",
   "nbconvert_exporter": "python",
   "pygments_lexer": "ipython3",
   "version": "3.9.13"
  }
 },
 "nbformat": 4,
 "nbformat_minor": 5
}
