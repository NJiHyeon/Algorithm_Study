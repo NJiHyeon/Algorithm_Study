{
 "cells": [
  {
   "cell_type": "markdown",
   "id": "82f6a9ac-507f-412c-9f86-bcc9fdc5fdbc",
   "metadata": {},
   "source": [
    "### Stage15 약수, 배수와 소수2"
   ]
  },
  {
   "cell_type": "markdown",
   "id": "b0e65824-4c0e-4a71-b9e3-50b85fa06732",
   "metadata": {},
   "source": [
    "#### 🔎함수\n",
    "- `import math`\n",
    "- `gcd` : 최대공약수\n",
    "- `lcm` : 최소공배수\n",
    "\n",
    "#### 시간초과\n",
    "- 범위가 크면 시간초과가 잘 발생한다.\n",
    "- 주어진 범위까지 리스트를 만들어도 되는지 생각하고, 만들어도 되면 이 방법 추천 !\n",
    "    - ex) 개수세기\n",
    "    \n",
    "#### 문제\n",
    "- 단계 5,6 : 소수 함수를 만들어서 \n",
    "- 단계 7,8 : 소수를 더 자유자재로 다루는 문제"
   ]
  },
  {
   "cell_type": "markdown",
   "id": "784fdd33-edb0-44c9-b9e8-c46d3ac520de",
   "metadata": {},
   "source": [
    "---"
   ]
  },
  {
   "cell_type": "markdown",
   "id": "4d1ecd62-c98b-4e9f-a6c0-43cbbba40fd0",
   "metadata": {},
   "source": [
    "#### ❌단계1 : 1934번(최소공배수)"
   ]
  },
  {
   "cell_type": "markdown",
   "id": "76b877c2-c53e-4943-bb80-df427b36c6b4",
   "metadata": {},
   "source": [
    "- **문제** : 두 자연수 A와 B에 대해서, A의 배수이면서 B의 배수인 자연수를 A와 B의 공배수라고 한다. 이런 공배수 중에서 가장 작은 수를 최소공배수라고 한다. 예를 들어, 6과 15의 공배수는 30, 60, 90등이 있으며, 최소 공배수는 30이다. 두 자연수 A와 B가 주어졌을 때, A와 B의 최소공배수를 구하는 프로그램을 작성하시오.\n",
    "\n",
    "- **입력** : 첫째 줄에 테스트 케이스의 개수 T(1 ≤ T ≤ 1,000)가 주어진다. 둘째 줄부터 T개의 줄에 걸쳐서 A와 B가 주어진다. (1 ≤ A, B ≤ 45,000)\n",
    "\n",
    "- **출력** : 첫째 줄부터 T개의 줄에 A와 B의 최소공배수를 입력받은 순서대로 한 줄에 하나씩 출력한다.\n",
    "\n",
    "- **예제 입출력** \n",
    "    - 입력1\n",
    "        - `3`\n",
    "        - `1 45000`\n",
    "        - `6 10`\n",
    "        - `13 17`\n",
    "        \n",
    "    - 출력1\n",
    "        - `45000`\n",
    "        - `30`\n",
    "        - `221`"
   ]
  },
  {
   "cell_type": "code",
   "execution_count": 3,
   "id": "c22be214-05f1-46bc-b812-a931f926fa11",
   "metadata": {},
   "outputs": [
    {
     "name": "stdin",
     "output_type": "stream",
     "text": [
      " 3\n",
      " 1 45000\n"
     ]
    },
    {
     "name": "stdout",
     "output_type": "stream",
     "text": [
      "45000\n"
     ]
    },
    {
     "name": "stdin",
     "output_type": "stream",
     "text": [
      " 6 10\n"
     ]
    },
    {
     "name": "stdout",
     "output_type": "stream",
     "text": [
      "30\n"
     ]
    },
    {
     "name": "stdin",
     "output_type": "stream",
     "text": [
      " 13 17\n"
     ]
    },
    {
     "name": "stdout",
     "output_type": "stream",
     "text": [
      "221\n"
     ]
    }
   ],
   "source": [
    "t = int(input())\n",
    "import math\n",
    "for _ in range(t) :\n",
    "    a, b = map(int, input().split())\n",
    "    print(math.lcm(a, b))"
   ]
  },
  {
   "cell_type": "code",
   "execution_count": 29,
   "id": "7761b64a-0fd7-4ad3-831d-6c8edd29b48c",
   "metadata": {},
   "outputs": [
    {
     "name": "stdin",
     "output_type": "stream",
     "text": [
      " 3\n",
      " 1 45000\n"
     ]
    },
    {
     "name": "stdout",
     "output_type": "stream",
     "text": [
      "45000\n"
     ]
    },
    {
     "name": "stdin",
     "output_type": "stream",
     "text": [
      " 6 10\n"
     ]
    },
    {
     "name": "stdout",
     "output_type": "stream",
     "text": [
      "30\n"
     ]
    },
    {
     "name": "stdin",
     "output_type": "stream",
     "text": [
      " 13 17\n"
     ]
    },
    {
     "name": "stdout",
     "output_type": "stream",
     "text": [
      "221\n"
     ]
    }
   ],
   "source": [
    "# 런타임 에러..\n",
    "t = int(input())\n",
    "for i in range(t) :\n",
    "    a, b = map(int, input().split())\n",
    "    \n",
    "    if a > b :\n",
    "        e = 45000//b\n",
    "        a_list = []\n",
    "        b_list = []\n",
    "        for i in range(1, e+1) :\n",
    "            a_list.append(a*i)\n",
    "            b_list.append(b*i)\n",
    "        \n",
    "        ab = Counter(a_list + b_list)\n",
    "    \n",
    "        ab_set = list(set(a_list + b_list))\n",
    "        ab_set.sort()\n",
    "    \n",
    "        for j in ab_set :\n",
    "            if ab[j] == 2 :\n",
    "                print(j)\n",
    "                break\n",
    "            \n",
    "    elif a < b :\n",
    "        e = 45000//a\n",
    "        a_list = []\n",
    "        b_list = []\n",
    "        for i in range(1, e+1) :\n",
    "            a_list.append(a*i)\n",
    "            b_list.append(b*i)\n",
    "        \n",
    "        ab = Counter(a_list + b_list)\n",
    "    \n",
    "        ab_set = list(set(a_list + b_list))\n",
    "        ab_set.sort()\n",
    "    \n",
    "        for j in ab_set :\n",
    "            if ab[j] == 2 :\n",
    "                print(j)\n",
    "                break\n",
    "            \n",
    "    elif a==b :\n",
    "        print(a)"
   ]
  },
  {
   "cell_type": "code",
   "execution_count": 41,
   "id": "f9c52433-f098-4591-b8e1-ae0e57af63cf",
   "metadata": {},
   "outputs": [
    {
     "name": "stdin",
     "output_type": "stream",
     "text": [
      " 3\n",
      " 13 17\n"
     ]
    },
    {
     "name": "stdout",
     "output_type": "stream",
     "text": [
      "221\n"
     ]
    },
    {
     "name": "stdin",
     "output_type": "stream",
     "text": [
      " 1 45000\n"
     ]
    },
    {
     "name": "stdout",
     "output_type": "stream",
     "text": [
      "45000\n"
     ]
    },
    {
     "name": "stdin",
     "output_type": "stream",
     "text": [
      " 6 30\n"
     ]
    },
    {
     "name": "stdout",
     "output_type": "stream",
     "text": [
      "30\n"
     ]
    }
   ],
   "source": [
    "# 최소공배수 -> 시간초과\n",
    "t = int(input())\n",
    "for i in range(t) :\n",
    "    a, b = map(int, input().split())\n",
    "    \n",
    "    for i in range(max(a,b), (a*b)+1) :\n",
    "        if i%a==0 and i%b==0 :\n",
    "            print(i)\n",
    "            break"
   ]
  },
  {
   "cell_type": "code",
   "execution_count": 42,
   "id": "b532907a-6cce-48b9-ac25-c565a66f6c1a",
   "metadata": {},
   "outputs": [
    {
     "name": "stdin",
     "output_type": "stream",
     "text": [
      " 3\n",
      " 13 17\n"
     ]
    },
    {
     "name": "stdout",
     "output_type": "stream",
     "text": [
      "221\n"
     ]
    },
    {
     "name": "stdin",
     "output_type": "stream",
     "text": [
      " 1 45000\n"
     ]
    },
    {
     "name": "stdout",
     "output_type": "stream",
     "text": [
      "45000\n"
     ]
    },
    {
     "name": "stdin",
     "output_type": "stream",
     "text": [
      " 6 10\n"
     ]
    },
    {
     "name": "stdout",
     "output_type": "stream",
     "text": [
      "30\n"
     ]
    }
   ],
   "source": [
    "# 함수 사용\n",
    "# 방법1\n",
    "import math\n",
    " \n",
    "t = int(input())\n",
    "for i in range(t):\n",
    "  a, b = map(int, input().split())\n",
    "  print(math.lcm(a, b))\n",
    "    \n",
    "# 방법2\n",
    "from math import gcd\n",
    " \n",
    "t = int(input())\n",
    "for i in range(t):\n",
    "  a, b = map(int, input().split())\n",
    "  print(a*b//gcd(a,b))"
   ]
  },
  {
   "cell_type": "code",
   "execution_count": 39,
   "id": "ae46183d-050f-496e-8619-29a837b22a49",
   "metadata": {},
   "outputs": [],
   "source": [
    "# 구글링 코드\n",
    "n = int(input())\n",
    "for i in range(n) :\n",
    "    A, B = map(int, input().split())\n",
    "    A1, B1 = A, B\n",
    "    while B != 0 :\n",
    "        A = A%B\n",
    "        A, B = B, A\n",
    "    print(int(A1*B1/A))"
   ]
  },
  {
   "cell_type": "markdown",
   "id": "cc4deee5-806b-4099-9d4a-d4d9988f23ce",
   "metadata": {},
   "source": [
    "---"
   ]
  },
  {
   "cell_type": "markdown",
   "id": "12a2ed2c-6b71-49ef-9505-3d8ff7b130e1",
   "metadata": {},
   "source": [
    "#### ✔️단계2 : 13241번(최소공배수)"
   ]
  },
  {
   "cell_type": "markdown",
   "id": "161bc149-e598-4384-9100-143dbc0e0f48",
   "metadata": {},
   "source": [
    "- **문제** : 정수 B에 0보다 큰 정수인 N을 곱해 정수 A를 만들 수 있다면, A는 B의 배수이다. 당신은 두 수에 대하여 최소공배수를 구하는 프로그램을 작성 하는 것이 목표이다.\n",
    "\n",
    "\n",
    "- **입력** : 한 줄에 두 정수 A와 B가 공백으로 분리되어 주어진다. 50%의 입력 중 A와 B는 1000(103)보다 작다. 다른 50%의 입력은 1000보다 크고 100000000(108)보다 작다. 추가: 큰 수 입력에 대하여 변수를 64비트 정수로 선언하시오. C/C++에서는 long long int를 사용하고, Java에서는 long을 사용하시오.\n",
    " \n",
    "- **출력** : A와 B의 최소공배수를 한 줄에 출력한다.\n",
    "\n",
    "- **예제 입출력** \n",
    "    - 입력1\n",
    "        - `3 5`\n",
    "        \n",
    "    - 출력1\n",
    "        - `15`"
   ]
  },
  {
   "cell_type": "code",
   "execution_count": 49,
   "id": "05094255-932c-4069-be98-ccd07c6e4705",
   "metadata": {},
   "outputs": [
    {
     "name": "stdin",
     "output_type": "stream",
     "text": [
      " 121 199\n"
     ]
    },
    {
     "name": "stdout",
     "output_type": "stream",
     "text": [
      "24079\n"
     ]
    }
   ],
   "source": [
    "A, B = map(int, input().split())\n",
    "A1, B1 = A, B\n",
    "while B != 0 :\n",
    "    A = A%B\n",
    "    A, B = B, A\n",
    "print(int(A1*B1/A))"
   ]
  },
  {
   "cell_type": "code",
   "execution_count": 51,
   "id": "eece3df0-0107-4d82-8746-b604aeddc2a2",
   "metadata": {},
   "outputs": [
    {
     "name": "stdin",
     "output_type": "stream",
     "text": [
      " 1 123\n"
     ]
    },
    {
     "name": "stdout",
     "output_type": "stream",
     "text": [
      "123\n"
     ]
    }
   ],
   "source": [
    "# 함수 사용\n",
    "import math\n",
    "a,b = map(int, input().split())\n",
    "print(math.lcm(a,b))"
   ]
  },
  {
   "cell_type": "markdown",
   "id": "4232a783-ba49-453f-adb7-cbfd5c47e8e0",
   "metadata": {},
   "source": [
    "---"
   ]
  },
  {
   "cell_type": "markdown",
   "id": "9ff3908a-d0da-468a-9c52-fe30a2ea611a",
   "metadata": {},
   "source": [
    "#### ✔️단계3 : 1735번(분수 합)"
   ]
  },
  {
   "cell_type": "markdown",
   "id": "167dfbc6-4f4f-4f9c-af7d-e1586863defb",
   "metadata": {},
   "source": [
    "- **문제** : 분수 A/B는 분자가 A, 분모가 B인 분수를 의미한다. A와 B는 모두 자연수라고 하자.\n",
    "\n",
    "\n",
    "- **입력** : 두 분수의 합 또한 분수로 표현할 수 있다. 두 분수가 주어졌을 때, 그 합을 기약분수의 형태로 구하는 프로그램을 작성하시오. 기약분수란 더 이상 약분되지 않는 분수를 의미한다.\n",
    " \n",
    "- **출력** : 첫째 줄과 둘째 줄에, 각 분수의 분자와 분모를 뜻하는 두 개의 자연수가 순서대로 주어진다. 입력되는 네 자연수는 모두 30,000 이하이다.\n",
    "\n",
    "- **예제 입출력** \n",
    "    - 입력1\n",
    "        - `2 7`\n",
    "        - `3 5`\n",
    "        \n",
    "    - 출력1\n",
    "        - `31 35`"
   ]
  },
  {
   "cell_type": "code",
   "execution_count": 58,
   "id": "7c028e8a-7e94-4d64-ac7c-9dd7bac8c41e",
   "metadata": {},
   "outputs": [
    {
     "name": "stdin",
     "output_type": "stream",
     "text": [
      " 2 7\n",
      " 12 7\n"
     ]
    },
    {
     "name": "stdout",
     "output_type": "stream",
     "text": [
      "2 1\n"
     ]
    }
   ],
   "source": [
    "a1, b1 = map(int, input().split())\n",
    "a2, b2 = map(int, input().split())\n",
    "\n",
    "import math\n",
    "bb = math.lcm(b1, b2)\n",
    "aa1 = a1 * (bb//b1)\n",
    "aa2 = a2 * (bb//b2)\n",
    "aa12 = aa1+aa2\n",
    "\n",
    "i = math.gcd((aa12), bb)\n",
    "\n",
    "# 기약분수를 만들어야 함!!\n",
    "if i == 1 :\n",
    "    print(aa12, bb)\n",
    "else :\n",
    "    aa12 //= i\n",
    "    bb //= i\n",
    "    print(aa12, bb)"
   ]
  },
  {
   "cell_type": "markdown",
   "id": "345f10e5-2244-4403-9712-5385834f7af6",
   "metadata": {},
   "source": [
    "---"
   ]
  },
  {
   "cell_type": "markdown",
   "id": "0e711e49-48bd-42db-9f0f-5a6524fe8bc6",
   "metadata": {},
   "source": [
    "#### 💡단계4 : 2485번(가로수) -> 시간초과"
   ]
  },
  {
   "cell_type": "markdown",
   "id": "18dc85d9-c6f2-43a2-9b56-b946f386a237",
   "metadata": {},
   "source": [
    "- **문제** : 직선으로 되어있는 도로의 한 편에 가로수가 임의의 간격으로 심어져있다. KOI 시에서는 가로수들이 모두 같은 간격이 되도록 가로수를 추가로 심는 사업을 추진하고 있다. KOI 시에서는 예산문제로 가능한 한 가장 적은 수의 나무를 심고 싶다. 편의상 가로수의 위치는 기준점으로 부터 떨어져 있는 거리로 표현되며, 가로수의 위치는 모두 양의 정수이다. 예를 들어, 가로수가 (1, 3, 7, 13)의 위치에 있다면 (5, 9, 11)의 위치에 가로수를 더 심으면 모든 가로수들의 간격이 같게 된다. 또한, 가로수가 (2, 6, 12, 18)에 있다면 (4, 8, 10, 14, 16)에 가로수를 더 심어야 한다. 심어져 있는 가로수의 위치가 주어질 때, 모든 가로수가 같은 간격이 되도록 새로 심어야 하는 가로수의 최소수를 구하는 프로그램을 작성하라. 단, 추가되는 나무는 기존의 나무들 사이에만 심을 수 있다.\n",
    "\n",
    "\n",
    "- **입력** : 첫째 줄에는 이미 심어져 있는 가로수의 수를 나타내는 하나의 정수 N이 주어진다(3 ≤ N ≤ 100,000). 둘째 줄부터 N개의 줄에는 각 줄마다 심어져 있는 가로수의 위치가 양의 정수로 주어지며, 가로수의 위치를 나타내는 정수는 1,000,000,000 이하이다. 가로수의 위치를 나타내는 정수는 모두 다르다.\n",
    " \n",
    "- **출력** : 모든 가로수가 같은 간격이 되도록 새로 심어야 하는 가로수의 최소수를 첫 번째 줄에 출력한다.\n",
    "\n",
    "- **예제 입출력** \n",
    "    - 입력1\n",
    "        - `4`\n",
    "        - `1`\n",
    "        - `3`\n",
    "        - `7`\n",
    "        - `13`\n",
    "        \n",
    "    - 출력1\n",
    "        - `3`"
   ]
  },
  {
   "cell_type": "code",
   "execution_count": 38,
   "id": "001c4c09-1fb0-43b6-a0b0-01a9dc61ef34",
   "metadata": {},
   "outputs": [
    {
     "name": "stdin",
     "output_type": "stream",
     "text": [
      " 4\n",
      " 2\n",
      " 6\n",
      " 12\n",
      " 18\n"
     ]
    },
    {
     "name": "stdout",
     "output_type": "stream",
     "text": [
      "5\n"
     ]
    }
   ],
   "source": [
    "# 시간 초과....\n",
    "n = int(input())\n",
    "tree = []\n",
    "for _ in range(n) :\n",
    "    tree.append(int(input()))\n",
    "\n",
    "# tree list에서 나무가 심어져 있는 간격 찾기\n",
    "s = []\n",
    "for i in range(n-1) :\n",
    "    s.append(tree[i+1]-tree[i])\n",
    "    \n",
    "# s list에서 최대공약수 찾기\n",
    "import math\n",
    "gcd = s[0]\n",
    "for item in s :\n",
    "    gcd = math.gcd(gcd, item)\n",
    "\n",
    "# 원래 심어져 있는 나무 개수\n",
    "origin_n = len(tree)\n",
    "\n",
    "# 나무 추가\n",
    "g = tree[0]\n",
    "while True :\n",
    "    g += gcd\n",
    "    if g not in tree :\n",
    "        tree.append(g)\n",
    "    tree.sort()\n",
    "    if g==tree[-1] :\n",
    "        break\n",
    "\n",
    "print(len(tree) - origin_n)"
   ]
  },
  {
   "cell_type": "code",
   "execution_count": 40,
   "id": "87a9f95d-4fcc-4300-974b-1e18534e84ad",
   "metadata": {},
   "outputs": [
    {
     "name": "stdin",
     "output_type": "stream",
     "text": [
      " 4\n",
      " 2\n",
      " 6\n",
      " 12\n",
      " 18\n"
     ]
    },
    {
     "name": "stdout",
     "output_type": "stream",
     "text": [
      "5\n"
     ]
    }
   ],
   "source": [
    "# 최대한 for문을 안써야함\n",
    "from math import gcd\n",
    "n = int(input())\n",
    "a = int(input())\n",
    "\n",
    "tree = []\n",
    "\n",
    "for _ in range(n-1) :\n",
    "    num = int(input())\n",
    "    tree.append(num-a)\n",
    "    a = num\n",
    "    \n",
    "g = tree[0]\n",
    "for t in tree :\n",
    "    g = gcd(t, g)\n",
    "    \n",
    "# key point !!!!\n",
    "result = 0\n",
    "for tr in tree :\n",
    "    result += tr//g - 1\n",
    "    \n",
    "print(result)"
   ]
  },
  {
   "cell_type": "markdown",
   "id": "4a798bc3-4bfe-44e7-a209-1b93e9087c74",
   "metadata": {},
   "source": [
    "---"
   ]
  },
  {
   "cell_type": "markdown",
   "id": "a3160df1-606b-4a6e-9c39-c38b25fdea68",
   "metadata": {},
   "source": [
    "#### 💡단계5 : 4134번(다음 소수) -> 시간초과"
   ]
  },
  {
   "cell_type": "markdown",
   "id": "1c3fbae4-6944-4175-a893-f804fc6baba1",
   "metadata": {},
   "source": [
    "- **문제** : 정수 n(0 ≤ n ≤ 4*109)가 주어졌을 때, n보다 크거나 같은 소수 중 가장 작은 소수 찾는 프로그램을 작성하시오. \n",
    "\n",
    "- **입력** : 첫째 줄에 테스트 케이스의 개수가 주어진다. 각 테스트 케이스는 한 줄로 이루어져 있고, 정수 n이 주어진다.\n",
    " \n",
    "- **출력** : 각각의 테스트 케이스에 대해서 n보다 크거나 같은 소수 중 가장 작은 소수를 한 줄에 하나씩 출력한다.\n",
    "\n",
    "- **예제 입출력** \n",
    "    - 입력1\n",
    "        - `3`\n",
    "        - `6`\n",
    "        - `20`\n",
    "        - `100`\n",
    "        \n",
    "        \n",
    "    - 출력1\n",
    "        - `7`\n",
    "        - `23`\n",
    "        - `101`"
   ]
  },
  {
   "cell_type": "code",
   "execution_count": 17,
   "id": "2ded01d6-ad1e-49f5-947e-f5285a5fc0a2",
   "metadata": {},
   "outputs": [
    {
     "name": "stdin",
     "output_type": "stream",
     "text": [
      " 3\n",
      " 6\n"
     ]
    },
    {
     "name": "stdout",
     "output_type": "stream",
     "text": [
      "7\n"
     ]
    },
    {
     "name": "stdin",
     "output_type": "stream",
     "text": [
      " 10\n"
     ]
    },
    {
     "name": "stdout",
     "output_type": "stream",
     "text": [
      "11\n"
     ]
    },
    {
     "name": "stdin",
     "output_type": "stream",
     "text": [
      " 100\n"
     ]
    },
    {
     "name": "stdout",
     "output_type": "stream",
     "text": [
      "101\n"
     ]
    }
   ],
   "source": [
    "# 시간초과...\n",
    "import math\n",
    "import sys\n",
    "\n",
    "n = int(sys.stdin.readline())\n",
    "for _ in range(n) :\n",
    "    nn = int(sys.stdin.readline())\n",
    "    while True :\n",
    "        y = 0\n",
    "        for i in range(2, int(math.sqrt(nn))+1) :\n",
    "            if nn%i == 0 :\n",
    "                y += 1\n",
    "        if y == 1 :\n",
    "            print(nn)\n",
    "            break\n",
    "    \n",
    "        else :\n",
    "            nn += 1"
   ]
  },
  {
   "cell_type": "code",
   "execution_count": null,
   "id": "6a07074a-387d-4512-ac73-737a88523ef3",
   "metadata": {},
   "outputs": [],
   "source": [
    "# 함수 이용해서 판별 !!!!\n",
    "import math\n",
    "n = int(input())\n",
    "\n",
    "def sosu(nn) :\n",
    "    for i in range(2, int(math.sqrt(nn))+1) :\n",
    "        if nn%i == 0 :\n",
    "            return False\n",
    "    return True\n",
    "\n",
    "for i in range(n) :\n",
    "    nn = int(input())\n",
    "    while True :\n",
    "        if nn==0 or nn==1 :\n",
    "            print(2)\n",
    "            break\n",
    "            \n",
    "        elif sosu(nn) :\n",
    "            print(nn) \n",
    "            break\n",
    "            \n",
    "        else :\n",
    "            nn += 1\n",
    "            \n"
   ]
  },
  {
   "cell_type": "markdown",
   "id": "d27c9e83-3dce-431c-9eb6-c8f8d101fd47",
   "metadata": {},
   "source": [
    "---"
   ]
  },
  {
   "cell_type": "markdown",
   "id": "d6a29b3c-9442-41ad-9413-1bc294c7c3ab",
   "metadata": {},
   "source": [
    "#### ✔️단계6 : 1929번(소수 구하기)"
   ]
  },
  {
   "cell_type": "markdown",
   "id": "2f9dbc12-16e8-4aec-a9db-ccc31a243cb8",
   "metadata": {},
   "source": [
    "- **문제** : M이상 N이하의 소수를 모두 출력하는 프로그램을 작성하시오.\n",
    "\n",
    "\n",
    "- **입력** : 첫째 줄에 자연수 M과 N이 빈 칸을 사이에 두고 주어진다. (1 ≤ M ≤ N ≤ 1,000,000) M이상 N이하의 소수가 하나 이상 있는 입력만 주어진다.\n",
    "\n",
    "- **출력** : 한 줄에 하나씩, 증가하는 순서대로 소수를 출력한다.\n",
    "\n",
    "- **예제 입출력** \n",
    "    - 입력1\n",
    "        - `3 16`\n",
    "\n",
    "        \n",
    "    - 출력1\n",
    "        - `3`\n",
    "        - `5`\n",
    "        - `7`\n",
    "        - `11`\n",
    "        - `13`"
   ]
  },
  {
   "cell_type": "code",
   "execution_count": 36,
   "id": "18c767b8-453f-4628-b3c8-e0d813b12228",
   "metadata": {},
   "outputs": [
    {
     "name": "stdin",
     "output_type": "stream",
     "text": [
      " 1 2\n"
     ]
    }
   ],
   "source": [
    "m, n = map(int, input().split())"
   ]
  },
  {
   "cell_type": "code",
   "execution_count": 37,
   "id": "16dcb2cf-9b42-4286-a988-aa1e1aef8a4f",
   "metadata": {},
   "outputs": [
    {
     "name": "stdout",
     "output_type": "stream",
     "text": [
      "2\n"
     ]
    }
   ],
   "source": [
    "import math\n",
    "def sosu(x) :\n",
    "    for i in range(2, int(math.sqrt(x))+1) :\n",
    "        if x%i == 0 :\n",
    "            return False\n",
    "    return True\n",
    "\n",
    "for i in range(m, n+1, 1) :\n",
    "    if sosu(i) :\n",
    "        if i != 1 :\n",
    "            print(i)\n",
    "    else : \n",
    "        pass"
   ]
  },
  {
   "cell_type": "markdown",
   "id": "276fbe66-c93f-4476-8434-96c7bb7a3ca7",
   "metadata": {},
   "source": [
    "---"
   ]
  },
  {
   "cell_type": "markdown",
   "id": "e6faadb5-1419-4c59-9c56-7196cb697122",
   "metadata": {},
   "source": [
    "#### 💡단계7 : 4948번(베르트랑 공준)"
   ]
  },
  {
   "cell_type": "markdown",
   "id": "6e4d1e86-ffe1-491e-9d05-0b8566b064e7",
   "metadata": {},
   "source": [
    "- **문제** : 베르트랑 공준은 임의의 자연수 n에 대하여, n보다 크고, 2n보다 작거나 같은 소수는 적어도 하나 존재한다는 내용을 담고 있다. 이 명제는 조제프 베르트랑이 1845년에 추측했고, 파프누티 체비쇼프가 1850년에 증명했다. 예를 들어, 10보다 크고, 20보다 작거나 같은 소수는 4개가 있다. (11, 13, 17, 19) 또, 14보다 크고, 28보다 작거나 같은 소수는 3개가 있다. (17,19, 23). 자연수 n이 주어졌을 때, n보다 크고, 2n보다 작거나 같은 소수의 개수를 구하는 프로그램을 작성하시오. \n",
    "\n",
    "- **입력** : 입력은 여러 개의 테스트 케이스로 이루어져 있다. 각 케이스는 n을 포함하는 한 줄로 이루어져 있다.입력의 마지막에는 0이 주어진다. \n",
    "\n",
    "- **출력** : 각 테스트 케이스에 대해서, n보다 크고, 2n보다 작거나 같은 소수의 개수를 출력한다.\n",
    "\n",
    "- **예제 입출력** \n",
    "    - 입력1\n",
    "        - `1`\n",
    "        - `10`\n",
    "        - `13`\n",
    "        - `100`\n",
    "        - `1000`\n",
    "        - `10000`\n",
    "        - `100000`\n",
    "        - `0`\n",
    "\n",
    "        \n",
    "    - 출력1\n",
    "        - `1`\n",
    "        - `4`\n",
    "        - `3`\n",
    "        - `21`\n",
    "        - `135`\n",
    "        - `1033`\n",
    "        - `8392`"
   ]
  },
  {
   "cell_type": "code",
   "execution_count": 4,
   "id": "c657a355-fe32-4c35-9820-f9445c621e47",
   "metadata": {},
   "outputs": [
    {
     "name": "stdin",
     "output_type": "stream",
     "text": [
      " 10\n",
      " 10\n"
     ]
    },
    {
     "name": "stdout",
     "output_type": "stream",
     "text": [
      "4\n"
     ]
    },
    {
     "name": "stdin",
     "output_type": "stream",
     "text": [
      " 13\n"
     ]
    },
    {
     "name": "stdout",
     "output_type": "stream",
     "text": [
      "3\n"
     ]
    },
    {
     "name": "stdin",
     "output_type": "stream",
     "text": [
      " 100\n"
     ]
    },
    {
     "name": "stdout",
     "output_type": "stream",
     "text": [
      "21\n"
     ]
    },
    {
     "name": "stdin",
     "output_type": "stream",
     "text": [
      " 1000\n"
     ]
    },
    {
     "name": "stdout",
     "output_type": "stream",
     "text": [
      "135\n"
     ]
    },
    {
     "name": "stdin",
     "output_type": "stream",
     "text": [
      " 10000\n"
     ]
    },
    {
     "name": "stdout",
     "output_type": "stream",
     "text": [
      "1033\n"
     ]
    },
    {
     "name": "stdin",
     "output_type": "stream",
     "text": [
      " 100000\n"
     ]
    },
    {
     "name": "stdout",
     "output_type": "stream",
     "text": [
      "8392\n"
     ]
    },
    {
     "name": "stdin",
     "output_type": "stream",
     "text": [
      " 0\n"
     ]
    }
   ],
   "source": [
    "# 시간초과..\n",
    "import math\n",
    "\n",
    "def sosu(x) :\n",
    "    for i in range(2, int(math.sqrt(x))+1) :\n",
    "        if x%i == 0 :\n",
    "            return False\n",
    "    return True\n",
    "\n",
    "n = int(input())\n",
    "\n",
    "\n",
    "while True :\n",
    "    n = int(input())\n",
    "    sosu_n = 0\n",
    "    if n != 0 : \n",
    "        for i in range(n+1, 2*n+1, 1) :\n",
    "            if sosu(i) :\n",
    "                sosu_n += 1\n",
    "        print(sosu_n)\n",
    "    \n",
    "    else :\n",
    "        break"
   ]
  },
  {
   "cell_type": "code",
   "execution_count": null,
   "id": "6a5760a1-30fa-45e5-8a05-2ca2ca448f93",
   "metadata": {},
   "outputs": [],
   "source": [
    "# 다시 생각"
   ]
  },
  {
   "cell_type": "markdown",
   "id": "eb1bd81d-adf5-4f2a-a0a4-5f3546963e0b",
   "metadata": {},
   "source": [
    "---"
   ]
  },
  {
   "cell_type": "markdown",
   "id": "9e8f726d-0441-454f-b695-948980a381fd",
   "metadata": {},
   "source": [
    "#### 💡단계8 : 17103번(골든바흐 파티션)"
   ]
  },
  {
   "cell_type": "markdown",
   "id": "8b306afe-dc7f-4111-9b04-72be25677718",
   "metadata": {},
   "source": [
    "- **문제** : 골드바흐의 추측: 2보다 큰 짝수는 두 소수의 합으로 나타낼 수 있다.\n",
    "짝수 N을 두 소수의 합으로 나타내는 표현을 골드바흐 파티션이라고 한다. 짝수 N이 주어졌을 때, 골드바흐 파티션의 개수를 구해보자. 두 소수의 순서만 다른 것은 같은 파티션이다.\n",
    "\n",
    "- **입력** : 첫째 줄에 테스트 케이스의 개수 T (1 ≤ T ≤ 100)가 주어진다. 각 테스트 케이스는 한 줄로 이루어져 있고, 정수 N은 짝수이고, 2 < N ≤ 1,000,000을 만족한다.\n",
    "\n",
    "- **출력** : 각각의 테스트 케이스마다 골드바흐 파티션의 수를 출력한다.\n",
    "\n",
    "- **예제 입출력** \n",
    "    - 입력1\n",
    "        - `5`\n",
    "        - `6`\n",
    "        - `8`\n",
    "        - `10`\n",
    "        - `12`\n",
    "        - `100`\n",
    "\n",
    "        \n",
    "    - 출력1\n",
    "        - `1`\n",
    "        - `1`\n",
    "        - `2`\n",
    "        - `1`\n",
    "        - `6`"
   ]
  },
  {
   "cell_type": "code",
   "execution_count": null,
   "id": "6b9a0ce4-ea97-4d7c-a511-6bfe547e396c",
   "metadata": {},
   "outputs": [],
   "source": [
    "# 시간 초과\n",
    "import math\n",
    "import sys\n",
    "def sosu(x) :\n",
    "    for i in range(2, int(math.sqrt(x))+1) :\n",
    "        if x%i == 0 :\n",
    "            return False\n",
    "    return True\n",
    "\n",
    "t = int(sys.stdin.readline())\n",
    "for _ in range(t) :\n",
    "    n = int(sys.stdin.readline())\n",
    "    sosu_n = 0\n",
    "    for i in range(2, n//2+1) :\n",
    "        if sosu(i) == True :\n",
    "            if sosu(n-i) == True :\n",
    "                sosu_n += 1\n",
    "    print(sosu_n)"
   ]
  },
  {
   "cell_type": "code",
   "execution_count": null,
   "id": "6348294c-d43c-495b-b976-9f5dae932d4c",
   "metadata": {},
   "outputs": [],
   "source": [
    "다시 생각"
   ]
  },
  {
   "cell_type": "markdown",
   "id": "166a3086-d376-4f53-b828-ee5a5db0dbc2",
   "metadata": {},
   "source": [
    "---"
   ]
  },
  {
   "cell_type": "markdown",
   "id": "ae3c7929-d9cb-4c23-a1c8-d89fa68ef963",
   "metadata": {},
   "source": [
    "#### ❌단계9 : 13909번(창문 닫기)"
   ]
  },
  {
   "cell_type": "markdown",
   "id": "0149c099-e3bd-404a-83b0-b92e03fa5955",
   "metadata": {},
   "source": [
    "- **문제** : 서강대학교 컴퓨터공학과 실습실 R912호에는 현재 N개의 창문이 있고 또 N명의 사람이 있다. 1번째 사람은 1의 배수 번째 창문을 열려 있으면 닫고 닫혀 있으면 연다.  2번째 사람은 2의 배수 번째 창문을 열려 있으면 닫고 닫혀 있으면 연다. 이러한 행동을 N번째 사람까지 진행한 후 열려 있는 창문의 개수를 구하라. 단, 처음에 모든 창문은 닫혀 있다. 예를 들어 현재 3개의 창문이 있고 3명의 사람이 있을 때,\n",
    "- 1번째 사람은 1의 배수인 1,2,3번 창문을 연다. (1, 1, 1)\n",
    "- 2번째 사람은 2의 배수인 2번 창문을 닫는다. (1, 0, 1)\n",
    "- 3번째 사람은 3의 배수인 3번 창문을 닫는다. (1, 0, 0)\n",
    "결과적으로 마지막에 열려 있는 창문의 개수는 1개 이다.\n",
    "\n",
    "- **입력** : 첫 번째 줄에는 창문의 개수와 사람의 수 N(1 ≤ N ≤ 2,100,000,000)이 주어진다.\n",
    "\n",
    "- **출력** : 마지막에 열려 있는 창문의 개수를 출력한다.\n",
    "\n",
    "- **예제 입출력** \n",
    "    - 입력1\n",
    "        - `3`\n",
    "\n",
    "        \n",
    "    - 출력1\n",
    "        - `1`\n",
    "\n",
    "    - 입력2\n",
    "        - `24`\n",
    "    - 출력2\n",
    "        - `4`"
   ]
  },
  {
   "cell_type": "code",
   "execution_count": 55,
   "id": "ae117893-9dfe-4135-9561-e305e4c75907",
   "metadata": {},
   "outputs": [
    {
     "name": "stdin",
     "output_type": "stream",
     "text": [
      " 24\n"
     ]
    }
   ],
   "source": [
    "# 메모리 초과...\n",
    "n = int(input())\n",
    "\n",
    "chang = [0 for i in range(n+1)]\n",
    "\n",
    "for i in range(1, n+1, 1) :\n",
    "    # 먼저 첫번째 사람 -> 1의 배수 창문 교체\n",
    "    for j in range(i, n+1, i) :\n",
    "        if chang[j] == 0 :\n",
    "            chang[j] = 1\n",
    "        elif chang[j] == 1 :\n",
    "            chang[j] = 0\n",
    "            \n",
    "total = 0\n",
    "for c in chang :\n",
    "    total += c\n",
    "print(total)"
   ]
  },
  {
   "cell_type": "code",
   "execution_count": null,
   "id": "afa603b8-a682-46b1-807a-0da85269a90a",
   "metadata": {},
   "outputs": [],
   "source": [
    "# 엄청 간단하면서 생각지도 못한 해결방법 ..?ㅋㅠ\n",
    "N = int(input())\n",
    "\n",
    "count = 1\n",
    "while count * count <= N:\n",
    "    count += 1\n",
    "\n",
    "print(count - 1)"
   ]
  }
 ],
 "metadata": {
  "kernelspec": {
   "display_name": "Python 3 (ipykernel)",
   "language": "python",
   "name": "python3"
  },
  "language_info": {
   "codemirror_mode": {
    "name": "ipython",
    "version": 3
   },
   "file_extension": ".py",
   "mimetype": "text/x-python",
   "name": "python",
   "nbconvert_exporter": "python",
   "pygments_lexer": "ipython3",
   "version": "3.10.9"
  }
 },
 "nbformat": 4,
 "nbformat_minor": 5
}
