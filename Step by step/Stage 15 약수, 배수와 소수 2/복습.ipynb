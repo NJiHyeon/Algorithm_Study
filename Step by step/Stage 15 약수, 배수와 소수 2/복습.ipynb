{
 "cells": [
  {
   "cell_type": "markdown",
   "id": "82f6a9ac-507f-412c-9f86-bcc9fdc5fdbc",
   "metadata": {},
   "source": [
    "### Stage15 약수, 배수와 소수2"
   ]
  },
  {
   "cell_type": "markdown",
   "id": "b0e65824-4c0e-4a71-b9e3-50b85fa06732",
   "metadata": {},
   "source": [
    "#### 🔎함수\n",
    "- `import math`\n",
    "- `gcd` : 최대공약수\n",
    "- `lcm` : 최소공배수"
   ]
  },
  {
   "cell_type": "markdown",
   "id": "4d1ecd62-c98b-4e9f-a6c0-43cbbba40fd0",
   "metadata": {},
   "source": [
    "#### ❌단계1 : 1934번(최소공배수)"
   ]
  },
  {
   "cell_type": "markdown",
   "id": "76b877c2-c53e-4943-bb80-df427b36c6b4",
   "metadata": {},
   "source": [
    "- **문제** : 두 자연수 A와 B에 대해서, A의 배수이면서 B의 배수인 자연수를 A와 B의 공배수라고 한다. 이런 공배수 중에서 가장 작은 수를 최소공배수라고 한다. 예를 들어, 6과 15의 공배수는 30, 60, 90등이 있으며, 최소 공배수는 30이다. 두 자연수 A와 B가 주어졌을 때, A와 B의 최소공배수를 구하는 프로그램을 작성하시오.\n",
    "\n",
    "- **입력** : 첫째 줄에 테스트 케이스의 개수 T(1 ≤ T ≤ 1,000)가 주어진다. 둘째 줄부터 T개의 줄에 걸쳐서 A와 B가 주어진다. (1 ≤ A, B ≤ 45,000)\n",
    "\n",
    "- **출력** : 첫째 줄부터 T개의 줄에 A와 B의 최소공배수를 입력받은 순서대로 한 줄에 하나씩 출력한다.\n",
    "\n",
    "- **예제 입출력** \n",
    "    - 입력1\n",
    "        - `3`\n",
    "        - `1 45000`\n",
    "        - `6 10`\n",
    "        - `13 17`\n",
    "        \n",
    "    - 출력1\n",
    "        - `45000`\n",
    "        - `30`\n",
    "        - `221`"
   ]
  },
  {
   "cell_type": "code",
   "execution_count": 29,
   "id": "7761b64a-0fd7-4ad3-831d-6c8edd29b48c",
   "metadata": {},
   "outputs": [
    {
     "name": "stdin",
     "output_type": "stream",
     "text": [
      " 3\n",
      " 1 45000\n"
     ]
    },
    {
     "name": "stdout",
     "output_type": "stream",
     "text": [
      "45000\n"
     ]
    },
    {
     "name": "stdin",
     "output_type": "stream",
     "text": [
      " 6 10\n"
     ]
    },
    {
     "name": "stdout",
     "output_type": "stream",
     "text": [
      "30\n"
     ]
    },
    {
     "name": "stdin",
     "output_type": "stream",
     "text": [
      " 13 17\n"
     ]
    },
    {
     "name": "stdout",
     "output_type": "stream",
     "text": [
      "221\n"
     ]
    }
   ],
   "source": [
    "# 런타임 에러..\n",
    "t = int(input())\n",
    "for i in range(t) :\n",
    "    a, b = map(int, input().split())\n",
    "    \n",
    "    if a > b :\n",
    "        e = 45000//b\n",
    "        a_list = []\n",
    "        b_list = []\n",
    "        for i in range(1, e+1) :\n",
    "            a_list.append(a*i)\n",
    "            b_list.append(b*i)\n",
    "        \n",
    "        ab = Counter(a_list + b_list)\n",
    "    \n",
    "        ab_set = list(set(a_list + b_list))\n",
    "        ab_set.sort()\n",
    "    \n",
    "        for j in ab_set :\n",
    "            if ab[j] == 2 :\n",
    "                print(j)\n",
    "                break\n",
    "            \n",
    "    elif a < b :\n",
    "        e = 45000//a\n",
    "        a_list = []\n",
    "        b_list = []\n",
    "        for i in range(1, e+1) :\n",
    "            a_list.append(a*i)\n",
    "            b_list.append(b*i)\n",
    "        \n",
    "        ab = Counter(a_list + b_list)\n",
    "    \n",
    "        ab_set = list(set(a_list + b_list))\n",
    "        ab_set.sort()\n",
    "    \n",
    "        for j in ab_set :\n",
    "            if ab[j] == 2 :\n",
    "                print(j)\n",
    "                break\n",
    "            \n",
    "    elif a==b :\n",
    "        print(a)"
   ]
  },
  {
   "cell_type": "code",
   "execution_count": 41,
   "id": "f9c52433-f098-4591-b8e1-ae0e57af63cf",
   "metadata": {},
   "outputs": [
    {
     "name": "stdin",
     "output_type": "stream",
     "text": [
      " 3\n",
      " 13 17\n"
     ]
    },
    {
     "name": "stdout",
     "output_type": "stream",
     "text": [
      "221\n"
     ]
    },
    {
     "name": "stdin",
     "output_type": "stream",
     "text": [
      " 1 45000\n"
     ]
    },
    {
     "name": "stdout",
     "output_type": "stream",
     "text": [
      "45000\n"
     ]
    },
    {
     "name": "stdin",
     "output_type": "stream",
     "text": [
      " 6 30\n"
     ]
    },
    {
     "name": "stdout",
     "output_type": "stream",
     "text": [
      "30\n"
     ]
    }
   ],
   "source": [
    "# 최소공배수 -> 시간초과\n",
    "t = int(input())\n",
    "for i in range(t) :\n",
    "    a, b = map(int, input().split())\n",
    "    \n",
    "    for i in range(max(a,b), (a*b)+1) :\n",
    "        if i%a==0 and i%b==0 :\n",
    "            print(i)\n",
    "            break"
   ]
  },
  {
   "cell_type": "code",
   "execution_count": 42,
   "id": "b532907a-6cce-48b9-ac25-c565a66f6c1a",
   "metadata": {},
   "outputs": [
    {
     "name": "stdin",
     "output_type": "stream",
     "text": [
      " 3\n",
      " 13 17\n"
     ]
    },
    {
     "name": "stdout",
     "output_type": "stream",
     "text": [
      "221\n"
     ]
    },
    {
     "name": "stdin",
     "output_type": "stream",
     "text": [
      " 1 45000\n"
     ]
    },
    {
     "name": "stdout",
     "output_type": "stream",
     "text": [
      "45000\n"
     ]
    },
    {
     "name": "stdin",
     "output_type": "stream",
     "text": [
      " 6 10\n"
     ]
    },
    {
     "name": "stdout",
     "output_type": "stream",
     "text": [
      "30\n"
     ]
    }
   ],
   "source": [
    "# 함수 사용\n",
    "# 방법1\n",
    "import math\n",
    " \n",
    "t = int(input())\n",
    "for i in range(t):\n",
    "  a, b = map(int, input().split())\n",
    "  print(math.lcm(a, b))\n",
    "    \n",
    "# 방법2\n",
    "from math import gcd\n",
    " \n",
    "t = int(input())\n",
    "for i in range(t):\n",
    "  a, b = map(int, input().split())\n",
    "  print(a*b//gcd(a,b))"
   ]
  },
  {
   "cell_type": "code",
   "execution_count": 39,
   "id": "ae46183d-050f-496e-8619-29a837b22a49",
   "metadata": {},
   "outputs": [],
   "source": [
    "# 구글링 코드\n",
    "n = int(input())\n",
    "for i in range(n) :\n",
    "    A, B = map(int, input().split())\n",
    "    A1, B1 = A, B\n",
    "    while B != 0 :\n",
    "        A = A%B\n",
    "        A, B = B, A\n",
    "    print(int(A1*B1/A))"
   ]
  },
  {
   "cell_type": "markdown",
   "id": "cc4deee5-806b-4099-9d4a-d4d9988f23ce",
   "metadata": {},
   "source": [
    "---"
   ]
  },
  {
   "cell_type": "markdown",
   "id": "12a2ed2c-6b71-49ef-9505-3d8ff7b130e1",
   "metadata": {},
   "source": [
    "#### ✔️단계2 : 13241번(최소공배수)"
   ]
  },
  {
   "cell_type": "markdown",
   "id": "161bc149-e598-4384-9100-143dbc0e0f48",
   "metadata": {},
   "source": [
    "- **문제** : 정수 B에 0보다 큰 정수인 N을 곱해 정수 A를 만들 수 있다면, A는 B의 배수이다. 당신은 두 수에 대하여 최소공배수를 구하는 프로그램을 작성 하는 것이 목표이다.\n",
    "\n",
    "\n",
    "- **입력** : 한 줄에 두 정수 A와 B가 공백으로 분리되어 주어진다. 50%의 입력 중 A와 B는 1000(103)보다 작다. 다른 50%의 입력은 1000보다 크고 100000000(108)보다 작다. 추가: 큰 수 입력에 대하여 변수를 64비트 정수로 선언하시오. C/C++에서는 long long int를 사용하고, Java에서는 long을 사용하시오.\n",
    " \n",
    "- **출력** : A와 B의 최소공배수를 한 줄에 출력한다.\n",
    "\n",
    "- **예제 입출력** \n",
    "    - 입력1\n",
    "        - `3 5`\n",
    "        \n",
    "    - 출력1\n",
    "        - `15`"
   ]
  },
  {
   "cell_type": "code",
   "execution_count": 49,
   "id": "05094255-932c-4069-be98-ccd07c6e4705",
   "metadata": {},
   "outputs": [
    {
     "name": "stdin",
     "output_type": "stream",
     "text": [
      " 121 199\n"
     ]
    },
    {
     "name": "stdout",
     "output_type": "stream",
     "text": [
      "24079\n"
     ]
    }
   ],
   "source": [
    "A, B = map(int, input().split())\n",
    "A1, B1 = A, B\n",
    "while B != 0 :\n",
    "    A = A%B\n",
    "    A, B = B, A\n",
    "print(int(A1*B1/A))"
   ]
  },
  {
   "cell_type": "code",
   "execution_count": 51,
   "id": "eece3df0-0107-4d82-8746-b604aeddc2a2",
   "metadata": {},
   "outputs": [
    {
     "name": "stdin",
     "output_type": "stream",
     "text": [
      " 1 123\n"
     ]
    },
    {
     "name": "stdout",
     "output_type": "stream",
     "text": [
      "123\n"
     ]
    }
   ],
   "source": [
    "# 함수 사용\n",
    "import math\n",
    "a,b = map(int, input().split())\n",
    "print(math.lcm(a,b))"
   ]
  },
  {
   "cell_type": "markdown",
   "id": "4232a783-ba49-453f-adb7-cbfd5c47e8e0",
   "metadata": {},
   "source": [
    "---"
   ]
  },
  {
   "cell_type": "markdown",
   "id": "9ff3908a-d0da-468a-9c52-fe30a2ea611a",
   "metadata": {},
   "source": [
    "#### ✔️단계3 : 1735번(분수 합)"
   ]
  },
  {
   "cell_type": "markdown",
   "id": "167dfbc6-4f4f-4f9c-af7d-e1586863defb",
   "metadata": {},
   "source": [
    "- **문제** : 분수 A/B는 분자가 A, 분모가 B인 분수를 의미한다. A와 B는 모두 자연수라고 하자.\n",
    "\n",
    "\n",
    "- **입력** : 두 분수의 합 또한 분수로 표현할 수 있다. 두 분수가 주어졌을 때, 그 합을 기약분수의 형태로 구하는 프로그램을 작성하시오. 기약분수란 더 이상 약분되지 않는 분수를 의미한다.\n",
    " \n",
    "- **출력** : 첫째 줄과 둘째 줄에, 각 분수의 분자와 분모를 뜻하는 두 개의 자연수가 순서대로 주어진다. 입력되는 네 자연수는 모두 30,000 이하이다.\n",
    "\n",
    "- **예제 입출력** \n",
    "    - 입력1\n",
    "        - `2 7`\n",
    "        - `3 5`\n",
    "        \n",
    "    - 출력1\n",
    "        - `31 35`"
   ]
  },
  {
   "cell_type": "code",
   "execution_count": 58,
   "id": "7c028e8a-7e94-4d64-ac7c-9dd7bac8c41e",
   "metadata": {},
   "outputs": [
    {
     "name": "stdin",
     "output_type": "stream",
     "text": [
      " 2 7\n",
      " 12 7\n"
     ]
    },
    {
     "name": "stdout",
     "output_type": "stream",
     "text": [
      "2 1\n"
     ]
    }
   ],
   "source": [
    "a1, b1 = map(int, input().split())\n",
    "a2, b2 = map(int, input().split())\n",
    "\n",
    "import math\n",
    "bb = math.lcm(b1, b2)\n",
    "aa1 = a1 * (bb//b1)\n",
    "aa2 = a2 * (bb//b2)\n",
    "aa12 = aa1+aa2\n",
    "\n",
    "i = math.gcd((aa12), bb)\n",
    "\n",
    "# 기약분수를 만들어야 함!!\n",
    "if i == 1 :\n",
    "    print(aa12, bb)\n",
    "else :\n",
    "    aa12 //= i\n",
    "    bb //= i\n",
    "    print(aa12, bb)"
   ]
  },
  {
   "cell_type": "markdown",
   "id": "345f10e5-2244-4403-9712-5385834f7af6",
   "metadata": {},
   "source": [
    "---"
   ]
  },
  {
   "cell_type": "code",
   "execution_count": null,
   "id": "f2a27f55-6b06-45bc-b76a-1d0a8129d47d",
   "metadata": {},
   "outputs": [],
   "source": []
  }
 ],
 "metadata": {
  "kernelspec": {
   "display_name": "Python 3 (ipykernel)",
   "language": "python",
   "name": "python3"
  },
  "language_info": {
   "codemirror_mode": {
    "name": "ipython",
    "version": 3
   },
   "file_extension": ".py",
   "mimetype": "text/x-python",
   "name": "python",
   "nbconvert_exporter": "python",
   "pygments_lexer": "ipython3",
   "version": "3.9.13"
  }
 },
 "nbformat": 4,
 "nbformat_minor": 5
}
