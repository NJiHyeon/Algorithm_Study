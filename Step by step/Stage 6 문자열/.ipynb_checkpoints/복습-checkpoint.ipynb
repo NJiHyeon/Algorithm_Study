{
 "cells": [
  {
   "cell_type": "markdown",
   "id": "ca999dca-f1bc-4d42-af2a-e267405e85cd",
   "metadata": {},
   "source": [
    "### Stage5️⃣ 문자열"
   ]
  },
  {
   "cell_type": "markdown",
   "id": "723f025c-730b-45a3-bd7f-da05d917a124",
   "metadata": {},
   "source": [
    "---"
   ]
  },
  {
   "cell_type": "markdown",
   "id": "33332467-ecef-4330-a695-b958ab32f534",
   "metadata": {},
   "source": [
    "#### ✔ 단계1 : 11654번(아스키 코드)"
   ]
  },
  {
   "cell_type": "markdown",
   "id": "e6cdcf19-cb2e-49a4-94f6-4d1de660576e",
   "metadata": {},
   "source": [
    "- **문제** : 알파벳 소문자, 대문자, 숫자 0-9중 하나가 주어졌을 때, 주어진 글자의 아스키 코드값을 출력하는 프로그램을 작성하시오.\n",
    "\n",
    "- **입력** : 알파벳 소문자, 대문자, 숫자 0-9 중 하나가 첫째 줄에 주어진다.\n",
    "\n",
    "- **출력** : 입력으로 주어진 글자의 아스키 코드 값을 출력한다.\n",
    "    \n",
    "- **예제 입출력** \n",
    "    - 입력1\n",
    "        - `A`\n",
    "    - 출력1\n",
    "        - `65`\n",
    "    - 입력2\n",
    "        - `0`\n",
    "    - 출력2\n",
    "        - `48`\n",
    "    - 입력3\n",
    "        - `a`\n",
    "    - 출력3\n",
    "        - `97`"
   ]
  },
  {
   "cell_type": "code",
   "execution_count": 7,
   "id": "57efdeb9-669c-414b-a9e4-088831320dbe",
   "metadata": {},
   "outputs": [
    {
     "name": "stdin",
     "output_type": "stream",
     "text": [
      " z\n"
     ]
    },
    {
     "name": "stdout",
     "output_type": "stream",
     "text": [
      "122\n"
     ]
    }
   ],
   "source": [
    "ar = input()\n",
    "print(ord(ar))"
   ]
  },
  {
   "cell_type": "markdown",
   "id": "15242631-938d-4092-a5bf-dd091e1d350e",
   "metadata": {},
   "source": [
    "---"
   ]
  },
  {
   "cell_type": "markdown",
   "id": "a05e4947-8d58-454d-8078-b6ebde055ec8",
   "metadata": {},
   "source": [
    "#### ✔ 단계2 : 2743번(단어 길이 재기)"
   ]
  },
  {
   "cell_type": "markdown",
   "id": "04c77e18-7a3c-40f6-8358-988f882eb73c",
   "metadata": {},
   "source": [
    "- **문제** : 알파벳으로만 이루어진 단어를 입력받아, 그 길이를 출력하는 프로그램을 작성하시오.\n",
    "\n",
    "- **입력** : 첫째 줄에 영어 소문자와 대문자로만 이루어진 단어가 주어진다. 단어의 길이는 최대 100이다.\n",
    "\n",
    "- **출력** : 첫째 줄에 입력으로 주어진 단어의 길이를 출력한다.\n",
    "    \n",
    "- **예제 입출력** \n",
    "    - 입력1\n",
    "        - `pulljima`\n",
    "    - 출력1\n",
    "        - `8`\n",
    "- **키워드**\n",
    "    - `len(문자열)`"
   ]
  },
  {
   "cell_type": "code",
   "execution_count": 9,
   "id": "439326fc-58aa-416b-becb-511d8eb2cd00",
   "metadata": {},
   "outputs": [
    {
     "name": "stdin",
     "output_type": "stream",
     "text": [
      " pulljima\n"
     ]
    },
    {
     "name": "stdout",
     "output_type": "stream",
     "text": [
      "8\n"
     ]
    }
   ],
   "source": [
    "word = input()\n",
    "print(len(word))"
   ]
  },
  {
   "cell_type": "markdown",
   "id": "c2e9b3a5-ac45-4665-aa01-01437a2b3dab",
   "metadata": {},
   "source": [
    "---"
   ]
  },
  {
   "cell_type": "markdown",
   "id": "44b535da-d7cd-4407-ac13-a00c300a0ef0",
   "metadata": {},
   "source": [
    "#### ✔ 단계3 : 9086번(문자열)"
   ]
  },
  {
   "cell_type": "markdown",
   "id": "043d9c30-a807-4484-95c7-fcf88b8e1dbd",
   "metadata": {},
   "source": [
    "- **문제** : 문자열을 입력으로 주면 문자열의 첫 글자와 마지막 글자를 출력하는 프로그램을 작성하시오.\n",
    "\n",
    "- **입력** : 입력의 첫 줄에는 테스트 케이스의 개수 T(1 ≤ T ≤ 10)가 주어진다. 각 테스트 케이스는 한 줄에 하나의 문자열이 주어진다. 문자열은 알파벳 A~Z 대문자로 이루어지며 알파벳 사이에 공백은 없으며 문자열의 길이는 1000보다 작다.\n",
    "\n",
    "- **출력** : 각 테스트 케이스에 대해서 주어진 문자열의 첫 글자와 마지막 글자를 연속하여 출력한다.\n",
    "    \n",
    "- **예제 입출력** \n",
    "    - 입력1\n",
    "        - `3`\n",
    "        - `ACDKJFOWIEGHE`\n",
    "        - `O`\n",
    "        - `AB`\n",
    "    - 출력1\n",
    "        - `AE`\n",
    "        - `OO`\n",
    "        - `AB`\n",
    "- **키워드**\n",
    "    - `list(문자열)`"
   ]
  },
  {
   "cell_type": "code",
   "execution_count": 12,
   "id": "2cc116ee-b561-449c-ab72-0a2013af2b21",
   "metadata": {},
   "outputs": [
    {
     "name": "stdin",
     "output_type": "stream",
     "text": [
      " 3\n",
      " ACDKJFOWIEGHE\n"
     ]
    },
    {
     "name": "stdout",
     "output_type": "stream",
     "text": [
      "AE\n"
     ]
    },
    {
     "name": "stdin",
     "output_type": "stream",
     "text": [
      " O\n"
     ]
    },
    {
     "name": "stdout",
     "output_type": "stream",
     "text": [
      "OO\n"
     ]
    },
    {
     "name": "stdin",
     "output_type": "stream",
     "text": [
      " AB\n"
     ]
    },
    {
     "name": "stdout",
     "output_type": "stream",
     "text": [
      "AB\n"
     ]
    }
   ],
   "source": [
    "T = int(input())\n",
    "for i in range(T) :\n",
    "    word = list(input())\n",
    "    print(word[0]+word[-1])"
   ]
  },
  {
   "cell_type": "markdown",
   "id": "00b561d3-a0d4-4f5f-bd9d-c4be919eefec",
   "metadata": {},
   "source": [
    "---"
   ]
  },
  {
   "cell_type": "markdown",
   "id": "ad9ab8d1-4f6c-4a67-9580-e0b34513efd4",
   "metadata": {},
   "source": [
    "#### ✔ 단계4 : 11720번(숫자의 합)"
   ]
  },
  {
   "cell_type": "markdown",
   "id": "63194725-87f2-4482-9b1b-43ee8a39fef0",
   "metadata": {},
   "source": [
    "- **문제** : N개의 숫자가 공백 없이 쓰여있다. 이 숫자를 모두 합해서 출력하는 프로그램을 작성하시오.\n",
    "\n",
    "- **입력** : 첫째 줄에 숫자의 개수 N (1 ≤ N ≤ 100)이 주어진다. 둘째 줄에 숫자 N개가 공백없이 주어진다.\n",
    "\n",
    "- **출력** : 입력으로 주어진 숫자 N개의 합을 출력한다.\n",
    "    \n",
    "- **예제 입출력** \n",
    "    - 입력1\n",
    "        - `5`\n",
    "        - `54321`\n",
    "    - 출력1\n",
    "        - `15`\n",
    "- **키워드**\n",
    "    - 입력은 문자열로 받지만 출력을 위해 각각의 자릿수(숫자열)로 바꾸기\n",
    "    - `list(map(int, str(input())))`"
   ]
  },
  {
   "cell_type": "code",
   "execution_count": 14,
   "id": "76b2e65d-f002-4827-b692-5041d816313b",
   "metadata": {},
   "outputs": [
    {
     "name": "stdin",
     "output_type": "stream",
     "text": [
      " 25\n",
      " 7000000000000000000000000\n"
     ]
    },
    {
     "name": "stdout",
     "output_type": "stream",
     "text": [
      "7\n"
     ]
    }
   ],
   "source": [
    "N = int(input())\n",
    "number = input()\n",
    "s = 0\n",
    "\n",
    "for i in range(N) :\n",
    "    s += int(number[i])\n",
    "    \n",
    "print(s)"
   ]
  },
  {
   "cell_type": "code",
   "execution_count": 15,
   "id": "3eede80d-38c9-4503-811b-4b3afec49bc9",
   "metadata": {},
   "outputs": [
    {
     "name": "stdin",
     "output_type": "stream",
     "text": [
      " 25\n",
      " 7000000000000000000000000\n"
     ]
    },
    {
     "name": "stdout",
     "output_type": "stream",
     "text": [
      "7\n"
     ]
    }
   ],
   "source": [
    "N = int(input())\n",
    "number = list(map(int, str(input())))\n",
    "s = 0\n",
    "\n",
    "for i in number :\n",
    "    s += i\n",
    "\n",
    "print(s)  "
   ]
  },
  {
   "cell_type": "markdown",
   "id": "2fcd3390-a42d-467e-bb41-bc08974a8f4d",
   "metadata": {},
   "source": [
    "---"
   ]
  },
  {
   "cell_type": "markdown",
   "id": "f64afd86-9663-47b0-b1c6-fec13f424743",
   "metadata": {},
   "source": [
    "#### ✔ 단계5 : 10809번(알파벳 찾기)"
   ]
  },
  {
   "cell_type": "markdown",
   "id": "7f496891-7bc4-4e4e-a9c3-2175703b2a27",
   "metadata": {},
   "source": [
    "- **문제** : 알파벳 소문자로만 이루어진 단어 S가 주어진다. 각각의 알파벳에 대해서, 단어에 포함되어 있는 경우에는 처음 등장하는 위치를, 포함되어 있지 않은 경우에는 -1을 출력하는 프로그램을 작성하시오.\n",
    "\n",
    "- **입력** : 첫째 줄에 단어 S가 주어진다. 단어의 길이는 100을 넘지 않으며, 알파벳 소문자로만 이루어져 있다.\n",
    "\n",
    "- **출력** : 각각의 알파벳에 대해서, a가 처음 등장하는 위치, b가 처음 등장하는 위치, ... z가 처음 등장하는 위치를 공백으로 구분해서 출력한다.\n",
    "\n",
    "만약, 어떤 알파벳이 단어에 포함되어 있지 않다면 -1을 출력한다. 단어의 첫 번째 글자는 0번째 위치이고, 두 번째 글자는 1번째 위치이다.\n",
    "    \n",
    "- **예제 입출력** \n",
    "    - 입력1\n",
    "        - `baekjoon`\n",
    "    - 출력1\n",
    "        - `1 0 -1 -1 2 -1 -1 -1 -1 4 3 -1 -1 7 5 -1 -1 -1 -1 -1 -1 -1 -1 -1 -1 -1`"
   ]
  },
  {
   "cell_type": "code",
   "execution_count": 21,
   "id": "b4b8aae7-368d-47c0-946a-cbdca87eb3d6",
   "metadata": {},
   "outputs": [
    {
     "name": "stdin",
     "output_type": "stream",
     "text": [
      " baekjoon\n"
     ]
    },
    {
     "name": "stdout",
     "output_type": "stream",
     "text": [
      "1 0 -1 -1 2 -1 -1 -1 -1 4 3 -1 -1 7 5 -1 -1 -1 -1 -1 -1 -1 -1 -1 -1 -1 "
     ]
    }
   ],
   "source": [
    "s = list(input())\n",
    "alphabet = ['a','b','c','d','e','f','g','h','i','j','k','l','m','n','o','p','q','r','s','t','u','v','w','x','y','z']\n",
    "\n",
    "for alp in alphabet :\n",
    "    if alp in s :\n",
    "        print(s.index(alp), end=' ')\n",
    "    else :\n",
    "        print(-1, end=' ')"
   ]
  },
  {
   "cell_type": "code",
   "execution_count": 27,
   "id": "c5750014-7e16-4241-bd51-ea3cd52e00c9",
   "metadata": {},
   "outputs": [
    {
     "name": "stdin",
     "output_type": "stream",
     "text": [
      " baekjoon\n"
     ]
    },
    {
     "name": "stdout",
     "output_type": "stream",
     "text": [
      "1 0 -1 -1 2 -1 -1 -1 -1 4 3 -1 -1 7 5 -1 -1 -1 -1 -1 -1 -1 -1 -1 -1 -1 "
     ]
    }
   ],
   "source": [
    "S = input()\n",
    "num = list(range(97, 123))\n",
    "for i in num :\n",
    "    print(S.find(chr(i)), end=' ')"
   ]
  },
  {
   "cell_type": "markdown",
   "id": "0adf3e48-7054-45bd-adcc-4cd5dee5a441",
   "metadata": {},
   "source": [
    "---"
   ]
  },
  {
   "cell_type": "markdown",
   "id": "dbb26a02-6e4e-4da1-b5bb-8895d8447396",
   "metadata": {},
   "source": [
    "#### ✔ 단계6 : 2675번(문자열 반복)"
   ]
  },
  {
   "cell_type": "markdown",
   "id": "25d3046b-70a3-4839-86aa-8be768087cef",
   "metadata": {},
   "source": [
    "- **문제** : 문자열 S를 입력받은 후에, 각 문자를 R번 반복해 새 문자열 P를 만든 후 출력하는 프로그램을 작성하시오. 즉, 첫 번째 문자를 R번 반복하고, 두 번째 문자를 R번 반복하는 식으로 P를 만들면 된다. S에는 QR Code \"alphanumeric\" 문자만 들어있다. QR Code \"alphanumeric\" 문자는 0123456789ABCDEFGHIJKLMNOPQRSTUVWXYZ\\$%*+-./: 이다.\n",
    "\n",
    "- **입력** : 첫째 줄에 테스트 케이스의 개수 T(1 ≤ T ≤ 1,000)가 주어진다. 각 테스트 케이스는 반복 횟수 R(1 ≤ R ≤ 8), 문자열 S가 공백으로 구분되어 주어진다. S의 길이는 적어도 1이며, 20글자를 넘지 않는다. \n",
    "\n",
    "- **출력** : 각 테스트 케이스에 대해 P를 출력한다.\n",
    "    \n",
    "- **예제 입출력** \n",
    "    - 입력1\n",
    "        - `2`\n",
    "        - `3 ABC`\n",
    "        - `5 /HTP`\n",
    "    - 출력1\n",
    "        - `AAABBBCCC`\n",
    "        - `/////HHHHHTTTTTPPPPP`\n",
    "        \n",
    "- **키워드**\n",
    "    - `print()` : 하나의 for문이 끝나고 또 다른 for문을 수행해야 할 때 줄넘김 역할"
   ]
  },
  {
   "cell_type": "code",
   "execution_count": 30,
   "id": "0b8aeb26-b2a4-4b8f-9cfe-67d1400817be",
   "metadata": {},
   "outputs": [
    {
     "name": "stdin",
     "output_type": "stream",
     "text": [
      " 3\n",
      " 4 123\n"
     ]
    },
    {
     "name": "stdout",
     "output_type": "stream",
     "text": [
      "111122223333"
     ]
    },
    {
     "name": "stdin",
     "output_type": "stream",
     "text": [
      " 5 ARC\n"
     ]
    },
    {
     "name": "stdout",
     "output_type": "stream",
     "text": [
      "AAAAARRRRRCCCCC"
     ]
    },
    {
     "name": "stdin",
     "output_type": "stream",
     "text": [
      " 3 DIEK2/.\n"
     ]
    },
    {
     "name": "stdout",
     "output_type": "stream",
     "text": [
      "DDDIIIEEEKKK222///..."
     ]
    }
   ],
   "source": [
    "T = int(input())\n",
    "for i in range(T) :\n",
    "    R, S = input().split()\n",
    "    for j in range(len(S)) :\n",
    "        print(S[j]*int(R), end='')\n",
    "    # 중요중요\n",
    "    print()"
   ]
  },
  {
   "cell_type": "markdown",
   "id": "d53e8b19-cce4-461f-ac48-aff728842f8e",
   "metadata": {},
   "source": [
    "---"
   ]
  },
  {
   "cell_type": "markdown",
   "id": "f56cd1ed-a472-4799-8c00-0ed90949eb51",
   "metadata": {},
   "source": [
    "#### ✔ 단계7 : 1157번(단어 공부)"
   ]
  },
  {
   "cell_type": "markdown",
   "id": "f89e0934-660a-4943-b670-085d9887d729",
   "metadata": {},
   "source": [
    "- **문제** : 알파벳 대소문자로 된 단어가 주어지면, 이 단어에서 가장 많이 사용된 알파벳이 무엇인지 알아내는 프로그램을 작성하시오. 단, 대문자와 소문자를 구분하지 않는다.\n",
    "\n",
    "- **입력** : 첫째 줄에 알파벳 대소문자로 이루어진 단어가 주어진다. 주어지는 단어의 길이는 1,000,000을 넘지 않는다.\n",
    "\n",
    "- **출력** : 첫째 줄에 이 단어에서 가장 많이 사용된 알파벳을 대문자로 출력한다. 단, 가장 많이 사용된 알파벳이 여러 개 존재하는 경우에는 ?를 출력한다.\n",
    "    \n",
    "- **예제 입출력** \n",
    "    - 입력1\n",
    "        - `Mississipi`\n",
    "    - 출력1\n",
    "        - `?`\n",
    "    - 입력2\n",
    "        - `zZa\n",
    "    - 출력2\n",
    "        - `Z`"
   ]
  },
  {
   "cell_type": "code",
   "execution_count": 56,
   "id": "a91d2557-6c8f-447d-9e86-57997023156c",
   "metadata": {},
   "outputs": [
    {
     "name": "stdin",
     "output_type": "stream",
     "text": [
      " zZa\n"
     ]
    },
    {
     "name": "stdout",
     "output_type": "stream",
     "text": [
      "Z\n"
     ]
    }
   ],
   "source": [
    "alphabet = list(input().upper())\n",
    "\n",
    "short_alphabet = list(set(alphabet))\n",
    "max_alphabet_n = 0\n",
    "\n",
    "for alp in short_alphabet :\n",
    "    n = alphabet.count(alp)\n",
    "    if max_alphabet_n < n :\n",
    "        max_alphabet_n = n\n",
    "        max_alphabet = alp\n",
    "    elif max_alphabet_n == n :\n",
    "        max_alphabet = \"?\"\n",
    "        \n",
    "print(max_alphabet)"
   ]
  },
  {
   "cell_type": "markdown",
   "id": "e02d039b-f2d0-4424-a2ce-23ffbadceedf",
   "metadata": {},
   "source": [
    "---"
   ]
  },
  {
   "cell_type": "markdown",
   "id": "e1467d9d-94d3-4e63-8fb6-c4b742c68b33",
   "metadata": {},
   "source": [
    "#### ✔ 단계8 : 1152번(단어의 개수)"
   ]
  },
  {
   "cell_type": "markdown",
   "id": "bcbf963e-8880-40ed-aa42-bc591445b0ff",
   "metadata": {},
   "source": [
    "- **문제** : 영어 대소문자와 공백으로 이루어진 문자열이 주어진다. 이 문자열에는 몇 개의 단어가 있을까? 이를 구하는 프로그램을 작성하시오. 단, 한 단어가 여러 번 등장하면 등장한 횟수만큼 모두 세어야 한다.\n",
    "\n",
    "- **입력** : 첫 줄에 영어 대소문자와 공백으로 이루어진 문자열이 주어진다. 이 문자열의 길이는 1,000,000을 넘지 않는다. 단어는 공백 한 개로 구분되며, 공백이 연속해서 나오는 경우는 없다. 또한 문자열은 공백으로 시작하거나 끝날 수 있다.\n",
    "\n",
    "- **출력** : 첫째 줄에 단어의 개수를 출력한다.\n",
    "    \n",
    "- **예제 입출력** \n",
    "    - 입력1\n",
    "        - `The Curious Case of Benjamin Button`\n",
    "    - 출력1\n",
    "        - `6`\n",
    "    - 입력2\n",
    "        - ` The first character is a blank`\n",
    "    - 출력2\n",
    "        - `2`"
   ]
  },
  {
   "cell_type": "code",
   "execution_count": 65,
   "id": "acded3ea-d37a-4913-b219-0e8678468b6c",
   "metadata": {},
   "outputs": [
    {
     "name": "stdin",
     "output_type": "stream",
     "text": [
      " The first character is a blank\n"
     ]
    },
    {
     "name": "stdout",
     "output_type": "stream",
     "text": [
      "6\n"
     ]
    }
   ],
   "source": [
    "sen = list(input().strip().split())\n",
    "print(len(sen))"
   ]
  },
  {
   "cell_type": "markdown",
   "id": "168dd863-cdea-45af-91de-60a7f8c0a888",
   "metadata": {},
   "source": [
    "---"
   ]
  },
  {
   "cell_type": "markdown",
   "id": "f2117e35-eb4a-410b-b324-09fe354050c6",
   "metadata": {},
   "source": [
    "#### ✔ 단계9 : 2908번(상수)"
   ]
  },
  {
   "cell_type": "markdown",
   "id": "18c3d27d-65ee-4b74-a9dc-d63d4cf21ba0",
   "metadata": {},
   "source": [
    "- **문제** : 상근이의 동생 상수는 수학을 정말 못한다. 상수는 숫자를 읽는데 문제가 있다. 이렇게 수학을 못하는 상수를 위해서 상근이는 수의 크기를 비교하는 문제를 내주었다. 상근이는 세 자리 수 두 개를 칠판에 써주었다. 그 다음에 크기가 큰 수를 말해보라고 했다. 상수는 수를 다른 사람과 다르게 거꾸로 읽는다. 예를 들어, 734와 893을 칠판에 적었다면, 상수는 이 수를 437과 398로 읽는다. 따라서, 상수는 두 수중 큰 수인 437을 큰 수라고 말할 것이다. 두 수가 주어졌을 때, 상수의 대답을 출력하는 프로그램을 작성하시오.\n",
    "\n",
    "- **입력** : 첫째 줄에 상근이가 칠판에 적은 두 수 A와 B가 주어진다. 두 수는 같지 않은 세 자리 수이며, 0이 포함되어 있지 않다.\n",
    "\n",
    "- **출력** : 첫째 줄에 상수의 대답을 출력한다.\n",
    "    \n",
    "- **예제 입출력** \n",
    "    - 입력1\n",
    "        - `734 893`\n",
    "    - 출력1\n",
    "        - `437`\n",
    "    - 입력2\n",
    "        - `221 231`\n",
    "    - 출력1\n",
    "        - `132`"
   ]
  },
  {
   "cell_type": "code",
   "execution_count": 70,
   "id": "bea61026-d9c3-42d0-b758-9d66e3e8b3e7",
   "metadata": {},
   "outputs": [
    {
     "name": "stdin",
     "output_type": "stream",
     "text": [
      " 839 237\n"
     ]
    },
    {
     "name": "stdout",
     "output_type": "stream",
     "text": [
      "938\n"
     ]
    }
   ],
   "source": [
    "a, b = input().split()\n",
    "\n",
    "ab = []\n",
    "na = a[::-1]\n",
    "ab.append(na)\n",
    "\n",
    "nb = b[::-1]\n",
    "ab.append(nb)\n",
    "\n",
    "print(max(ab))"
   ]
  },
  {
   "cell_type": "markdown",
   "id": "b76fe7bc-4533-4337-ab7a-f9197a7f3351",
   "metadata": {},
   "source": [
    "---"
   ]
  },
  {
   "cell_type": "markdown",
   "id": "0d3d1a93-5701-4e03-9211-bd528df5a1fe",
   "metadata": {},
   "source": [
    "#### ✔ 단계10 : 5622번(다이얼)"
   ]
  },
  {
   "cell_type": "markdown",
   "id": "65cd7325-6c8e-4793-8ea1-ef60cc05205b",
   "metadata": {},
   "source": [
    "- **문제** : 상근이의 할머니는 아래 그림과 같이 오래된 다이얼 전화기를 사용한다. 전화를 걸고 싶은 번호가 있다면, 숫자를 하나를 누른 다음에 금속 핀이 있는 곳 까지 시계방향으로 돌려야 한다. 숫자를 하나 누르면 다이얼이 처음 위치로 돌아가고, 다음 숫자를 누르려면 다이얼을 처음 위치에서 다시 돌려야 한다. 숫자 1을 걸려면 총 2초가 필요하다. 1보다 큰 수를 거는데 걸리는 시간은 이보다 더 걸리며, 한 칸 옆에 있는 숫자를 걸기 위해선 1초씩 더 걸린다. 상근이의 할머니는 전화 번호를 각 숫자에 해당하는 문자로 외운다. 즉, 어떤 단어를 걸 때, 각 알파벳에 해당하는 숫자를 걸면 된다. 예를 들어, UNUCIC는 868242와 같다. 할머니가 외운 단어가 주어졌을 때, 이 전화를 걸기 위해서 필요한 최소 시간을 구하는 프로그램을 작성하시오.\n",
    "\n",
    "- **입력** : 첫째 줄에 알파벳 대문자로 이루어진 단어가 주어진다. 단어의 길이는 2보다 크거나 같고, 15보다 작거나 같다.\n",
    "\n",
    "- **출력** : 첫째 줄에 다이얼을 걸기 위해서 필요한 최소 시간을 출력한다.\n",
    "    \n",
    "- **예제 입출력** \n",
    "    - 입력1\n",
    "        - `WA`\n",
    "    - 출력1\n",
    "        - `13`\n",
    "    - 입력2\n",
    "        - `UNUCIC`\n",
    "    - 출력1\n",
    "        - `36`"
   ]
  },
  {
   "cell_type": "code",
   "execution_count": 94,
   "id": "0fc20fcc-8b30-460d-9b76-12e8df723b58",
   "metadata": {},
   "outputs": [
    {
     "name": "stdin",
     "output_type": "stream",
     "text": [
      " UNUCIC\n"
     ]
    },
    {
     "name": "stdout",
     "output_type": "stream",
     "text": [
      "36\n"
     ]
    }
   ],
   "source": [
    "alphabet = list(input())\n",
    "\n",
    "time = 0\n",
    "call = [[], [], [], ['A', 'B', 'C'], ['D', 'E', 'F'], ['G', 'H', 'I'], ['J', 'K', 'L'], ['M', 'N', 'O'], ['P', 'Q', 'R', 'S'], ['T', 'U', 'V'], ['W', 'X', 'Y', 'Z']]\n",
    "\n",
    "for j in alphabet :\n",
    "    for i in range(11) :\n",
    "        if j in call[i] :\n",
    "            time += i\n",
    "print(time)"
   ]
  },
  {
   "cell_type": "code",
   "execution_count": 96,
   "id": "a782bfc2-584b-4fe6-bb10-9721bb347d2e",
   "metadata": {},
   "outputs": [
    {
     "name": "stdin",
     "output_type": "stream",
     "text": [
      " UNUCIC\n"
     ]
    },
    {
     "name": "stdout",
     "output_type": "stream",
     "text": [
      "36\n"
     ]
    }
   ],
   "source": [
    "alphabet = list(input())\n",
    "\n",
    "time = 0\n",
    "call = [['A', 'B', 'C'], ['D', 'E', 'F'], ['G', 'H', 'I'], ['J', 'K', 'L'], ['M', 'N', 'O'], ['P', 'Q', 'R', 'S'], ['T', 'U', 'V'], ['W', 'X', 'Y', 'Z']]\n",
    "\n",
    "for j in alphabet :\n",
    "    for i in range(8) :\n",
    "        if j in call[i] :\n",
    "            time += i+3\n",
    "print(time)"
   ]
  },
  {
   "cell_type": "markdown",
   "id": "8b8ed5dc-182f-48fe-bbf3-5384dd6f9f59",
   "metadata": {},
   "source": [
    "---"
   ]
  },
  {
   "cell_type": "markdown",
   "id": "27a6a3cc-b3e8-4d43-9a4b-b6e739010183",
   "metadata": {},
   "source": [
    "#### ✔ 단계11 : 11718번(그대로 출력하기)"
   ]
  },
  {
   "cell_type": "markdown",
   "id": "c016a6db-a96d-42a7-932a-83dee9eca7cb",
   "metadata": {},
   "source": [
    "- **문제** : 입력 받은 대로 출력하는 프로그램을 작성하시오.\n",
    "\n",
    "- **입력** : 입력이 주어진다. 입력은 최대 100줄로 이루어져 있고, 알파벳 소문자, 대문자, 공백, 숫자로만 이루어져 있다. 각 줄은 100글자를 넘지 않으며, 빈 줄은 주어지지 않는다. 또, 각 줄은 공백으로 시작하지 않고, 공백으로 끝나지 않는다.\n",
    "\n",
    "- **출력** : 입력받은 그대로 출력한다.\n",
    "    \n",
    "- **예제 입출력** \n",
    "    - 입력1\n",
    "        - `Hello`\n",
    "        - `Baekjoon`\n",
    "        - `Online Judge`\n",
    "    - 출력1\n",
    "        - `Hello`\n",
    "        - `Baekjoon`\n",
    "        - `Online Judge`"
   ]
  },
  {
   "cell_type": "code",
   "execution_count": null,
   "id": "0bb84dc9-f7fd-4e25-a343-d6d1056fa33e",
   "metadata": {},
   "outputs": [],
   "source": [
    "while True :\n",
    "    try :\n",
    "        print(input())\n",
    "    except :\n",
    "        break"
   ]
  }
 ],
 "metadata": {
  "kernelspec": {
   "display_name": "Python 3 (ipykernel)",
   "language": "python",
   "name": "python3"
  },
  "language_info": {
   "codemirror_mode": {
    "name": "ipython",
    "version": 3
   },
   "file_extension": ".py",
   "mimetype": "text/x-python",
   "name": "python",
   "nbconvert_exporter": "python",
   "pygments_lexer": "ipython3",
   "version": "3.9.13"
  }
 },
 "nbformat": 4,
 "nbformat_minor": 5
}
