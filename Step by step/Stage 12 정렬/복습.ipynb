{
 "cells": [
  {
   "cell_type": "markdown",
   "id": "ad08d1b5-026d-4ab1-97c4-b9eaf8d21f7b",
   "metadata": {},
   "source": [
    "### Stage12 정렬 \n",
    "###### ❌ ✔"
   ]
  },
  {
   "cell_type": "markdown",
   "id": "2358c502-ace3-44f0-8cf4-5e07a41f26ea",
   "metadata": {},
   "source": [
    "#### ✔단계1 : 2750번(수 정렬하기1)"
   ]
  },
  {
   "cell_type": "markdown",
   "id": "97eb35ab-14e0-471e-bbd0-ae52d69befd9",
   "metadata": {},
   "source": [
    "- **문제** : N개의 수가 주어졌을 때, 이를 오름차순으로 정렬하는 프로그램을 작성하시오.\n",
    "\n",
    "- **입력** : 첫째 줄에 수의 개수 N(1 ≤ N ≤ 1,000)이 주어진다. 둘째 줄부터 N개의 줄에는 수가 주어진다. 이 수는 절댓값이 1,000보다 작거나 같은 정수이다. 수는 중복되지 않는다.\n",
    "\n",
    "- **출력** : 첫째 줄부터 N개의 줄에 오름차순으로 정렬한 결과를 한 줄에 하나씩 출력한다.\n",
    "\n",
    "- **예제 입출력** \n",
    "    - 입력1\n",
    "        - `5`\n",
    "        - `5`\n",
    "        - `2`\n",
    "        - `3`\n",
    "        - `4`\n",
    "        - `1`\n",
    "        \n",
    "    - 출력1\n",
    "        - `1`\n",
    "        - `2`\n",
    "        - `3`\n",
    "        - `4`\n",
    "        - `5`"
   ]
  },
  {
   "cell_type": "code",
   "execution_count": 1,
   "id": "67802e3a-0d05-4e3a-b34b-c2398a08da1f",
   "metadata": {},
   "outputs": [
    {
     "name": "stdin",
     "output_type": "stream",
     "text": [
      " 5\n",
      " 5\n",
      " 2\n",
      " 3\n",
      " 4\n",
      " 1\n"
     ]
    },
    {
     "name": "stdout",
     "output_type": "stream",
     "text": [
      "1\n",
      "2\n",
      "3\n",
      "4\n",
      "5\n"
     ]
    }
   ],
   "source": [
    "n = int(input())\n",
    "N = []\n",
    "for _ in range(n) :\n",
    "    N.append(int(input()))\n",
    "\n",
    "N.sort()\n",
    "\n",
    "for k in N :\n",
    "    print(k, sep='/n')"
   ]
  },
  {
   "cell_type": "markdown",
   "id": "6a621c16-35f6-4e61-adf9-ab867477e7c0",
   "metadata": {},
   "source": [
    "---"
   ]
  },
  {
   "cell_type": "markdown",
   "id": "e9115d60-2687-4408-af49-04dbec22d24a",
   "metadata": {},
   "source": [
    "#### ✔단계2 : 2587번(대표값2)"
   ]
  },
  {
   "cell_type": "markdown",
   "id": "b46c2989-ed73-40f6-abcf-79486c22b06d",
   "metadata": {},
   "source": [
    "- **문제** : 어떤 수들이 있을 때, 그 수들을 대표하는 값으로 가장 흔하게 쓰이는 것은 평균이다. 평균은 주어진 모든 수의 합을 수의 개수로 나눈 것이다. 예를 들어 10, 40, 30, 60, 30의 평균은 (10 + 40 + 30 + 60 + 30) / 5 = 170 / 5 = 34가 된다. 평균 이외의 또 다른 대표값으로 중앙값이라는 것이 있다. 중앙값은 주어진 수를 크기 순서대로 늘어 놓았을 때 가장 중앙에 놓인 값이다. 예를 들어 10, 40, 30, 60, 30의 경우, 크기 순서대로 늘어 놓으면 10 30 30 40 60이 되고 따라서 중앙값은 30이 된다. \n",
    "\n",
    "- **입력** : 첫째 줄부터 다섯 번째 줄까지 한 줄에 하나씩 자연수가 주어진다. 주어지는 자연수는 100 보다 작은 10의 배수이다.\n",
    "\n",
    "\n",
    "- **출력** : 첫째 줄에는 평균을 출력하고, 둘째 줄에는 중앙값을 출력한다. 평균과 중앙값은 모두 자연수이다.\n",
    "\n",
    "\n",
    "- **예제 입출력** \n",
    "    - 입력1\n",
    "        - `10`\n",
    "        - `40`\n",
    "        - `30`\n",
    "        - `60`\n",
    "        - `30`\n",
    "        \n",
    "        \n",
    "    - 출력1\n",
    "        - `34`\n",
    "        - `30`"
   ]
  },
  {
   "cell_type": "code",
   "execution_count": 6,
   "id": "3bda1f4f-190c-439c-a3b5-499db44afa88",
   "metadata": {},
   "outputs": [
    {
     "name": "stdin",
     "output_type": "stream",
     "text": [
      " 10\n",
      " 40\n",
      " 30\n",
      " 60\n",
      " 30\n"
     ]
    },
    {
     "name": "stdout",
     "output_type": "stream",
     "text": [
      "34\n",
      "30\n"
     ]
    }
   ],
   "source": [
    "N = []\n",
    "for _ in range(5) :\n",
    "    N.append(int(input()))\n",
    "\n",
    "N.sort()\n",
    "\n",
    "s = 0\n",
    "for i in range(5) :\n",
    "    s += N[i]\n",
    "    \n",
    "# 평균 출력\n",
    "print(s//5)\n",
    "\n",
    "# 중앙값 출력\n",
    "print(N[2])"
   ]
  },
  {
   "cell_type": "markdown",
   "id": "c748620e-2d52-4778-ac69-065e61ea86a4",
   "metadata": {},
   "source": [
    "---"
   ]
  },
  {
   "cell_type": "markdown",
   "id": "45d96f6c-6c9d-4625-860c-3393adea7184",
   "metadata": {},
   "source": [
    "#### ✔단계3 : 25305번(커트라인)"
   ]
  },
  {
   "cell_type": "markdown",
   "id": "b9853654-15fa-4310-a610-b5fa1fe05f98",
   "metadata": {},
   "source": [
    "- **문제** : 2022 연세대학교 미래캠퍼스 슬기로운 코딩생활에 \n",
    "$N$명의 학생들이 응시했다. 이들 중 점수가 가장 높은 \n",
    "$k$명은 상을 받을 것이다. 이 때, 상을 받는 커트라인이 몇 점인지 구하라.\n",
    "\n",
    "커트라인이란 상을 받는 사람들 중 점수가 가장 가장 낮은 사람의 점수를 말한다.\n",
    "\n",
    "\n",
    "- **입력** : 첫째 줄에는 응시자의 수 \n",
    "$N$과 상을 받는 사람의 수 \n",
    "$k$가 공백을 사이에 두고 주어진다.\n",
    "\n",
    "둘째 줄에는 각 학생의 점수 \n",
    "$x$가 공백을 사이에 두고 주어진다.\n",
    "\n",
    "\n",
    "\n",
    "- **출력** : 상을 받는 커트라인을 출력하라.\n",
    "\n",
    "- **예제 입출력** \n",
    "    - 입력1\n",
    "        - `5 2`\n",
    "        - `100 76 85 93 98`\n",
    "        \n",
    "    - 출력1\n",
    "        - `98`"
   ]
  },
  {
   "cell_type": "code",
   "execution_count": 11,
   "id": "07a3574d-4202-45bb-9a99-76b94fe7ff6e",
   "metadata": {},
   "outputs": [
    {
     "name": "stdin",
     "output_type": "stream",
     "text": [
      " 5 2\n",
      " 100 76 85 93 98\n"
     ]
    },
    {
     "name": "stdout",
     "output_type": "stream",
     "text": [
      "98\n"
     ]
    }
   ],
   "source": [
    "n, k = map(int, input().split())\n",
    "score = list(map(int, input().split()))\n",
    "score.sort(reverse=True)\n",
    "print(score[k-1])"
   ]
  },
  {
   "cell_type": "markdown",
   "id": "4c2d9d92-a90b-40a0-80a2-2099cc5db1e0",
   "metadata": {},
   "source": [
    "---"
   ]
  },
  {
   "cell_type": "markdown",
   "id": "2f850f99-d690-492c-9d90-ac352bc9df65",
   "metadata": {},
   "source": [
    "#### ✔단계4 : 2751번(수 정렬하기 2)"
   ]
  },
  {
   "cell_type": "markdown",
   "id": "8e323efc-adc9-43c2-9597-ff935ebc647f",
   "metadata": {},
   "source": [
    "- **문제** : N개의 수가 주어졌을 때, 이를 오름차순으로 정렬하는 프로그램을 작성하시오.\n",
    "\n",
    "- **입력** : 첫째 줄에 수의 개수 N(1 ≤ N ≤ 1,000,000)이 주어진다. 둘째 줄부터 N개의 줄에는 수가 주어진다. 이 수는 절댓값이 1,000,000보다 작거나 같은 정수이다. 수는 중복되지 않는다.\n",
    "\n",
    "- **출력** : 첫째 줄부터 N개의 줄에 오름차순으로 정렬한 결과를 한 줄에 하나씩 출력한다.\n",
    "\n",
    "- **예제 입출력** \n",
    "    - 단계1과 같으나 범위가 커졌음"
   ]
  },
  {
   "cell_type": "code",
   "execution_count": null,
   "id": "7e7d9d44-34a2-4a6c-aad3-7c6f7f106eb9",
   "metadata": {},
   "outputs": [],
   "source": [
    "import sys\n",
    "n = int(sys.stdin.readline())\n",
    "N = []\n",
    "for _ in range(n) :\n",
    "    N.append(int(sys.stdin.readline()))\n",
    "\n",
    "N.sort()\n",
    "\n",
    "for k in N :\n",
    "    print(k, sep='/n')"
   ]
  },
  {
   "cell_type": "markdown",
   "id": "c6a8f781-bbaa-476f-ac2c-27681fb8cc09",
   "metadata": {},
   "source": [
    "---"
   ]
  },
  {
   "cell_type": "markdown",
   "id": "e0085952-5532-4eee-9774-7f556861c692",
   "metadata": {},
   "source": [
    "#### ❌단계5 : 10989번(수 정렬하기 3)"
   ]
  },
  {
   "cell_type": "markdown",
   "id": "82fc00e5-4c4b-4b7e-bbf0-19aa1fedb930",
   "metadata": {},
   "source": [
    "- **문제** : N개의 수가 주어졌을 때, 이를 오름차순으로 정렬하는 프로그램을 작성하시오.\n",
    "\n",
    "- **입력** : 첫째 줄에 수의 개수 N(1 ≤ N ≤ 1,000,000)이 주어진다. 둘째 줄부터 N개의 줄에는 수가 주어진다. 이 수는 절댓값이 1,000,000보다 작거나 같은 정수이다. 수는 중복되지 않는다.\n",
    "\n",
    "- **출력** : 첫째 줄부터 N개의 줄에 오름차순으로 정렬한 결과를 한 줄에 하나씩 출력한다.\n",
    "\n",
    "- **예제 입출력** \n",
    "    - 단계1과 같으나 범위가 다름"
   ]
  },
  {
   "cell_type": "code",
   "execution_count": null,
   "id": "30a68c07-cd78-4955-81ea-7878585d39a9",
   "metadata": {},
   "outputs": [],
   "source": [
    "# 메모리 초과\n",
    "import sys\n",
    "n = int(sys.stdin.readline())\n",
    "N = []\n",
    "for _ in range(n) :\n",
    "    N.append(int(sys.stdin.readline()))\n",
    "\n",
    "N.sort()\n",
    "\n",
    "for k in N :\n",
    "    print(k, sep='/n')"
   ]
  },
  {
   "cell_type": "code",
   "execution_count": null,
   "id": "7e2beab7-5ad7-4df1-9bc8-717a1c9246a7",
   "metadata": {},
   "outputs": [],
   "source": [
    "# 카운팅 정렬 사용\n",
    "import sys\n",
    "n = int(input())\n",
    "# 입력받는 숫자는 범위가 작으므로 0이 10000개인 리스트를 만들어준다. \n",
    "b = [0] * 10001\n",
    "\n",
    "for i in range(n) :\n",
    "    # 한번 나타날 때마다 1씩 더한다. \n",
    "    b[int(input())] += 1\n",
    "    \n",
    "for i in range(10001) :\n",
    "    if b[i] != 0 :\n",
    "        # b가 더해진 개수만큼 인덱스를 출력한다. \n",
    "        for j in range(b[i]) :\n",
    "            print(i)"
   ]
  },
  {
   "cell_type": "code",
   "execution_count": null,
   "id": "fa659e44-1c77-4b8d-9e26-10236c513fbe",
   "metadata": {},
   "outputs": [],
   "source": [
    "# 카운팅 정렬 사용\n",
    "import sys\n",
    "n = int(sys.stdin.readline())\n",
    "# 입력받는 숫자는 범위가 작으므로 0이 10000개인 리스트를 만들어준다. \n",
    "b = [0] * 10001\n",
    "\n",
    "for i in range(n) :\n",
    "    # 한번 나타날 때마다 1씩 더한다. \n",
    "    b[int(sys.stdin.readline())] += 1\n",
    "    \n",
    "for j in range(10001) :\n",
    "    if b[i] != 0 :\n",
    "        # b가 더해진 개수만큼 인덱스를 출력한다. \n",
    "        for j in range(b[i]) :\n",
    "            print(i)"
   ]
  },
  {
   "cell_type": "markdown",
   "id": "bc22897b-1029-4585-8148-35c10a70dd11",
   "metadata": {},
   "source": [
    "---"
   ]
  },
  {
   "cell_type": "markdown",
   "id": "0377a678-39db-4fe4-852c-b149c1aaa544",
   "metadata": {},
   "source": [
    "#### ✔단계6 : 2108번(통계학)"
   ]
  },
  {
   "cell_type": "markdown",
   "id": "95c9f69e-568a-4f9d-ba99-f4f19aed75fb",
   "metadata": {},
   "source": [
    "- **문제** : \n",
    "\n",
    "- **입력** : \n",
    "\n",
    "- **출력** : \n",
    "\n",
    "- **예제 입출력** \n",
    "    - 입력1\n",
    "\n",
    "        \n",
    "    - 출력1\n"
   ]
  },
  {
   "cell_type": "code",
   "execution_count": null,
   "id": "91a6d51f-1eb0-4686-961c-9ca8411eec5e",
   "metadata": {},
   "outputs": [],
   "source": []
  },
  {
   "cell_type": "markdown",
   "id": "cbf53a8f-1530-4384-9353-5a621b1ce935",
   "metadata": {},
   "source": [
    "---"
   ]
  },
  {
   "cell_type": "markdown",
   "id": "8164e158-e20e-465a-82c2-d531eec13ebe",
   "metadata": {},
   "source": [
    "#### ✔단계7 : 1427번(소트인사이드)"
   ]
  },
  {
   "cell_type": "markdown",
   "id": "d416651b-40ea-4966-9686-496a9021c117",
   "metadata": {},
   "source": [
    "- **문제** : 배열을 정렬하는 것은 쉽다. 수가 주어지면, 그 수의 각 자리수를 내림차순으로 정렬해보자.\n",
    "\n",
    "- **입력** : 첫째 줄에 정렬하려고 하는 수 N이 주어진다. N은 1,000,000,000보다 작거나 같은 자연수이다.\n",
    "\n",
    "- **출력** : 첫째 줄에 자리수를 내림차순으로 정렬한 수를 출력한다.\n",
    "\n",
    "- **예제 입출력** \n",
    "    - 입력1\n",
    "        - `2143`\n",
    "        \n",
    "    - 출력1\n",
    "        - `4321`"
   ]
  },
  {
   "cell_type": "code",
   "execution_count": 19,
   "id": "d7bf10b0-1d3d-4ff0-a295-24c51446b3ad",
   "metadata": {},
   "outputs": [
    {
     "name": "stdin",
     "output_type": "stream",
     "text": [
      " 500613009\n"
     ]
    },
    {
     "name": "stdout",
     "output_type": "stream",
     "text": [
      "965310000"
     ]
    }
   ],
   "source": [
    "n = input()\n",
    "n_list = []\n",
    "for i in range(len(n)) :\n",
    "    n_list.append(n[i])\n",
    "n_list.sort(reverse=True)\n",
    "\n",
    "for j in n_list :\n",
    "    print(j, end='')"
   ]
  },
  {
   "cell_type": "markdown",
   "id": "93f0a972-a113-4953-9114-2b5b08d3c855",
   "metadata": {},
   "source": [
    "---"
   ]
  },
  {
   "cell_type": "markdown",
   "id": "ccb1af91-c1ba-411d-a7f8-18fa4b616b66",
   "metadata": {},
   "source": [
    "#### ✔단계8 : 11650번(좌표 정렬하기)"
   ]
  },
  {
   "cell_type": "markdown",
   "id": "d9fa7b1d-c36d-4ce4-a1f9-c235255bf4bd",
   "metadata": {},
   "source": [
    "- **문제** : 2차원 평면 위의 점 N개가 주어진다. 좌표를 x좌표가 증가하는 순으로, x좌표가 같으면 y좌표가 증가하는 순서로 정렬한 다음 출력하는 프로그램을 작성하시오.\n",
    "\n",
    "- **입력** : 첫째 줄에 점의 개수 N (1 ≤ N ≤ 100,000)이 주어진다. 둘째 줄부터 N개의 줄에는 i번점의 위치 xi와 yi가 주어진다. (-100,000 ≤ xi, yi ≤ 100,000) 좌표는 항상 정수이고, 위치가 같은 두 점은 없다.\n",
    "\n",
    "- **출력** : 첫째 줄부터 N개의 줄에 점을 정렬한 결과를 출력한다.\n",
    "\n",
    "- **예제 입출력** \n",
    "    - 입력1\n",
    "        - `5`\n",
    "        - `3 4`\n",
    "        - `1 1`\n",
    "        - `1 -1`\n",
    "        - `2 2`\n",
    "        - `3 3`\n",
    "        \n",
    "    - 출력1\n",
    "        - `1 -1`\n",
    "        - `1 1`\n",
    "        - `2 2`\n",
    "        - `3 3`\n",
    "        - `4 4`"
   ]
  },
  {
   "cell_type": "code",
   "execution_count": 32,
   "id": "ab50f102-16f9-40f2-b5ec-55752f23950c",
   "metadata": {},
   "outputs": [
    {
     "name": "stdin",
     "output_type": "stream",
     "text": [
      " 5\n",
      " 3 4\n",
      " 1 1\n",
      " 1 -1\n",
      " 2 2\n",
      " 3 3\n"
     ]
    },
    {
     "name": "stdout",
     "output_type": "stream",
     "text": [
      "1 -1 \n",
      "1 1 \n",
      "2 2 \n",
      "3 3 \n",
      "3 4 \n"
     ]
    }
   ],
   "source": [
    "n = int(input())\n",
    "N = []\n",
    "for _ in range(n) :\n",
    "    nn = list(map(int, input().split()))\n",
    "    N.append(nn)\n",
    "    \n",
    "N.sort()\n",
    "\n",
    "for k in N :\n",
    "    for l in k :\n",
    "        print(l, end=' ')\n",
    "    print()"
   ]
  },
  {
   "cell_type": "markdown",
   "id": "11467f4d-91b3-42ab-83c3-09fdac54bf00",
   "metadata": {},
   "source": [
    "---"
   ]
  },
  {
   "cell_type": "markdown",
   "id": "87c9a315-f559-4275-a692-b81a91bf6cd6",
   "metadata": {},
   "source": [
    "#### ✔단계9 : 11651번(좌표 정렬하기2)"
   ]
  },
  {
   "cell_type": "markdown",
   "id": "79977e7b-f0de-4519-ad99-7aef62ac4653",
   "metadata": {},
   "source": [
    "- **문제** : 2차원 평면 위의 점 N개가 주어진다. 좌표를 y좌표가 증가하는 순으로, y좌표가 같으면 x좌표가 증가하는 순서로 정렬한 다음 출력하는 프로그램을 작성하시오.\n",
    "\n",
    "- **입력** : 첫째 줄에 점의 개수 N (1 ≤ N ≤ 100,000)이 주어진다. 둘째 줄부터 N개의 줄에는 i번점의 위치 xi와 yi가 주어진다. (-100,000 ≤ xi, yi ≤ 100,000) 좌표는 항상 정수이고, 위치가 같은 두 점은 없다.\n",
    "\n",
    "- **출력** : 첫째 줄부터 N개의 줄에 점을 정렬한 결과를 출력한다.\n",
    "\n",
    "- **예제 입출력** \n",
    "    - 입력1\n",
    "        - `5`\n",
    "        - `0 4`\n",
    "        - `1 2`\n",
    "        - `1 -1`\n",
    "        - `2 2`\n",
    "        - `3 3`\n",
    "\n",
    "        \n",
    "    - 출력1\n",
    "        - `1 -1`\n",
    "        - `1 2`\n",
    "        - `2 2`\n",
    "        - `0 3`\n",
    "        - `0 4`\n"
   ]
  },
  {
   "cell_type": "code",
   "execution_count": 7,
   "id": "8a8a78c4-890c-4712-b871-30aaad20a723",
   "metadata": {},
   "outputs": [
    {
     "name": "stdin",
     "output_type": "stream",
     "text": [
      " 5\n",
      " 0 4\n",
      " 1 2\n",
      " 1 -1\n",
      " 2 2\n",
      " 3 3\n"
     ]
    },
    {
     "name": "stdout",
     "output_type": "stream",
     "text": [
      "1 -1 \n",
      "1 2 \n",
      "2 2 \n",
      "3 3 \n",
      "0 4 \n"
     ]
    }
   ],
   "source": [
    "n = int(input())\n",
    "L = []\n",
    "for _ in range(n) :\n",
    "    l = list(map(int, input().split()))\n",
    "    L.append(l)\n",
    "    \n",
    "L.sort(key=lambda x : (x[1], x[0]))\n",
    "\n",
    "for i in L :\n",
    "    for j in i :\n",
    "        print(j, end=' ')\n",
    "    print()"
   ]
  },
  {
   "cell_type": "markdown",
   "id": "d24ce2be-f2e5-4fd2-bc1a-622fa78eed31",
   "metadata": {},
   "source": [
    "---"
   ]
  },
  {
   "cell_type": "markdown",
   "id": "404864d4-10ce-43b2-b92b-e9abbf42da65",
   "metadata": {},
   "source": [
    "#### ✔단계10 : 1181번(단어 정렬)"
   ]
  },
  {
   "cell_type": "markdown",
   "id": "57d26814-43b8-41ee-9b87-265b0cf21e37",
   "metadata": {},
   "source": [
    "- **문제** : 알파벳 소문자로 이루어진 N개의 단어가 들어오면 아래와 같은 조건에 따라 정렬하는 프로그램을 작성하시오. 1) 길이가 짧은 것부터 2) 길이가 같으면 사전 순으로 (단, 중복된 단어는 하나만 남기고 제거해야 한다.)\n",
    "\n",
    "- **입력** : 첫째 줄에 단어의 개수 N이 주어진다. (1 ≤ N ≤ 20,000) 둘째 줄부터 N개의 줄에 걸쳐 알파벳 소문자로 이루어진 단어가 한 줄에 하나씩 주어진다. 주어지는 문자열의 길이는 50을 넘지 않는다.\n",
    "\n",
    "- **출력** : 조건에 따라 정렬하여 단어들을 출력한다.\n",
    "\n",
    "- **예제 입출력** \n",
    "    - 입력1\n",
    "        - `13`\n",
    "        - `but`\n",
    "        - `i`\n",
    "        - `wont`\n",
    "        - `hesitate`\n",
    "        - `no`\n",
    "        - `more`\n",
    "        - `no`\n",
    "        - `more`\n",
    "        - `it`\n",
    "        - `cannot`\n",
    "        - `wait`\n",
    "        - `im`\n",
    "        - `yours`\n",
    "\n",
    "        \n",
    "    - 출력1\n",
    "        - `i`\n",
    "        - `im`\n",
    "        - `it`\n",
    "        - `no`\n",
    "        - `but`\n",
    "        - `more`\n",
    "        - `wait`\n",
    "        - `wont`\n",
    "        - `yours`\n",
    "        - `cannot`\n",
    "        - `hesitate`\n"
   ]
  },
  {
   "cell_type": "code",
   "execution_count": 41,
   "id": "f0f2abef-d4aa-4535-b5b6-b7c9d3779fef",
   "metadata": {},
   "outputs": [
    {
     "name": "stdin",
     "output_type": "stream",
     "text": [
      " 13\n",
      " but\n",
      " i\n",
      " wont\n",
      " hesitate\n",
      " no\n",
      " more\n",
      " no\n",
      " more\n",
      " it\n",
      " cannot\n",
      " wait\n",
      " im\n",
      " yours\n"
     ]
    },
    {
     "name": "stdout",
     "output_type": "stream",
     "text": [
      "i\n",
      "im\n",
      "it\n",
      "no\n",
      "but\n",
      "more\n",
      "wait\n",
      "wont\n",
      "yours\n",
      "cannot\n",
      "hesitate\n"
     ]
    }
   ],
   "source": [
    "word = []\n",
    "n = int(input())\n",
    "for _ in range(n) :\n",
    "    word.append(input())\n",
    "\n",
    "# 중복처리\n",
    "word = list(set(word))\n",
    "\n",
    "# 중복처리된 단어들과, 그 단어의 길이를 갖는 새로운 리스트 만들기\n",
    "new_word = []\n",
    "for i in range(len(word)) :\n",
    "    new_word.append([word[i], len(word[i])])\n",
    "   \n",
    "# 기준값을 먼저 길이, 그 다음 사전 순으로 정렬\n",
    "new_word.sort(key=lambda x : (x[1], x[0]))\n",
    "\n",
    "for i in range(len(new_word)) :\n",
    "    print(new_word[i][0], sep='\\n')"
   ]
  },
  {
   "cell_type": "markdown",
   "id": "20d05888-cc85-4e47-aa28-1189c3ee1154",
   "metadata": {},
   "source": [
    "---"
   ]
  },
  {
   "cell_type": "markdown",
   "id": "9bdf9782-d3ea-48a0-9526-ef9426a894c2",
   "metadata": {},
   "source": [
    "#### ❌단계11 : 10814번(나이순 정렬)"
   ]
  },
  {
   "cell_type": "markdown",
   "id": "ca1bc297-43ce-4e61-ab28-af0956e66fd9",
   "metadata": {},
   "source": [
    "- **문제** : 온라인 저지에 가입한 사람들의 나이와 이름이 가입한 순서대로 주어진다. 이때, 회원들을 나이가 증가하는 순으로, 나이가 같으면 먼저 가입한 사람이 앞에 오는 순서로 정렬하는 프로그램을 작성하시오.\n",
    "\n",
    "- **입력** : 첫째 줄에 온라인 저지 회원의 수 N이 주어진다. (1 ≤ N ≤ 100,000) 둘째 줄부터 N개의 줄에는 각 회원의 나이와 이름이 공백으로 구분되어 주어진다. 나이는 1보다 크거나 같으며, 200보다 작거나 같은 정수이고, 이름은 알파벳 대소문자로 이루어져 있고, 길이가 100보다 작거나 같은 문자열이다. 입력은 가입한 순서로 주어진다.\n",
    "\n",
    "- **출력** : 첫째 줄부터 총 N개의 줄에 걸쳐 온라인 저지 회원을 나이 순, 나이가 같으면 가입한 순으로 한 줄에 한 명씩 나이와 이름을 공백으로 구분해 출력한다.\n",
    "\n",
    "- **예제 입출력** \n",
    "    - 입력1\n",
    "        - `3`\n",
    "        - `21 Junkyu`\n",
    "        - `21 Dohyun`\n",
    "        - `20 Sunyoung`\n",
    "\n",
    "        \n",
    "    - 출력1\n",
    "        - `20 Sunyoung`\n",
    "        - `21 Junkyu`\n",
    "        - `21 Dohyun`\n"
   ]
  },
  {
   "cell_type": "code",
   "execution_count": 58,
   "id": "e52c011f-dcfb-4b0e-9385-7f73d1cb0b4a",
   "metadata": {},
   "outputs": [
    {
     "name": "stdin",
     "output_type": "stream",
     "text": [
      " 5\n",
      " 21 e\n",
      " 21 d\n",
      " 23 c\n",
      " 30 b\n",
      " 21 a\n"
     ]
    },
    {
     "name": "stdout",
     "output_type": "stream",
     "text": [
      "21 e \n",
      "21 d \n",
      "21 a \n",
      "23 c \n",
      "30 b \n"
     ]
    }
   ],
   "source": [
    "n = int(input())\n",
    "online = []\n",
    "for _ in range(n) :\n",
    "    age, name = input().split()\n",
    "    age = int(age)\n",
    "    online.append([age, name])\n",
    "    \n",
    "# 정렬\n",
    "online.sort(key=lambda x: (x[0]))\n",
    "\n",
    "# print\n",
    "for i in range(n) :\n",
    "    print(online[i][0], online[i][1])"
   ]
  },
  {
   "cell_type": "markdown",
   "id": "f3993c0e-6453-42a4-8446-85145f74a171",
   "metadata": {},
   "source": [
    "---"
   ]
  },
  {
   "cell_type": "markdown",
   "id": "40f40b7d-1690-47c3-b049-0a1d4212dd4d",
   "metadata": {},
   "source": [
    "#### 💡단계12 : 18870번(좌표 압축)"
   ]
  },
  {
   "cell_type": "markdown",
   "id": "941561a4-533f-4ba0-aee1-e4dd68af4b1a",
   "metadata": {},
   "source": [
    "- **문제** : 수직선 위에 N개의 좌표 X1, X2, ..., XN이 있다. 이 좌표에 좌표 압축을 적용하려고 한다. Xi를 좌표 압축한 결과 X'i의 값은 Xi > Xj를 만족하는 서로 다른 좌표의 개수와 같아야 한다. X1, X2, ..., XN에 좌표 압축을 적용한 결과 X'1, X'2, ..., X'N를 출력해보자.\n",
    "\n",
    "- **입력** : 첫째 줄에 N이 주어진다. 둘째 줄에는 공백 한 칸으로 구분된 X1, X2, ..., XN이 주어진다.\n",
    "\n",
    "- **출력** : 첫째 줄에 X'1, X'2, ..., X'N을 공백 한 칸으로 구분해서 출력한다.\n",
    "\n",
    "- **예제 입출력** \n",
    "    - 입력1\n",
    "        - `5`\n",
    "        - `2 4 -10 4 -9`\n",
    "      \n",
    "\n",
    "        \n",
    "    - 출력1\n",
    "        - `2 3 0 3 1`"
   ]
  },
  {
   "cell_type": "code",
   "execution_count": null,
   "id": "de1dc7e1-644d-4b43-9e69-b24ded949c23",
   "metadata": {},
   "outputs": [],
   "source": [
    "import sys\n",
    "n = int(sys.stdin.readline())\n",
    "l = list(map(int, sys.stdin.readline().split()))\n",
    "\n",
    "new_l = list(set(l))\n",
    "new_l.sort(reverse=True)\n",
    "\n",
    "new_n = []\n",
    "for i in l :\n",
    "    nn = len(new_l[new_l.index(i)+1:])\n",
    "    new_n.append(nn)\n",
    "    \n",
    "for n in new_n :\n",
    "    print(n, end=' ')"
   ]
  },
  {
   "cell_type": "code",
   "execution_count": null,
   "id": "68cb326b-2542-4918-bea9-35ee21093373",
   "metadata": {},
   "outputs": [],
   "source": [
    "# 딕셔너리로 만들어야 시간초과가 안난다...\n",
    "import sys\n",
    "N = int(sys.stdin.readline())\n",
    "n_list = list(map(int, sys.stdin.readline().split()))\n",
    "set_list = sorted(list(set(n_list)))\n",
    "\n",
    "dic = {set_list[i] : i for i in range(len(set_list))}\n",
    "for i in n_list :\n",
    "    print(dic[i], end=' ')"
   ]
  }
 ],
 "metadata": {
  "kernelspec": {
   "display_name": "Python 3 (ipykernel)",
   "language": "python",
   "name": "python3"
  },
  "language_info": {
   "codemirror_mode": {
    "name": "ipython",
    "version": 3
   },
   "file_extension": ".py",
   "mimetype": "text/x-python",
   "name": "python",
   "nbconvert_exporter": "python",
   "pygments_lexer": "ipython3",
   "version": "3.9.13"
  }
 },
 "nbformat": 4,
 "nbformat_minor": 5
}
