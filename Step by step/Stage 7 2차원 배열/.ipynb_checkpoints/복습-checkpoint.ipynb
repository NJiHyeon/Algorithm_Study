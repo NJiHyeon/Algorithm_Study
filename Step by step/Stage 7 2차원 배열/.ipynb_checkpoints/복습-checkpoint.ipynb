{
 "cells": [
  {
   "cell_type": "markdown",
   "id": "4d0145a9-99a6-49b1-96cf-c8c389efdc60",
   "metadata": {},
   "source": [
    "### Stage7️⃣ 2차원 배열"
   ]
  },
  {
   "cell_type": "markdown",
   "id": "b2059db8-eeab-4999-b109-abe6f151034a",
   "metadata": {},
   "source": [
    "---"
   ]
  },
  {
   "cell_type": "markdown",
   "id": "ce28de9d-b385-4104-96f1-cb6df3d72f91",
   "metadata": {},
   "source": [
    "#### ❌단계1 : 2738번(행렬 덧셈)"
   ]
  },
  {
   "cell_type": "markdown",
   "id": "ef2ee23e-d7e0-4990-b6d2-8386771c8f70",
   "metadata": {},
   "source": [
    "- **문제** : N*M크기의 두 행렬 A와 B가 주어졌을 때, 두 행렬을 더하는 프로그램을 작성하시오.\n",
    "\n",
    "- **입력** : 첫째 줄에 행렬의 크기 N 과 M이 주어진다. 둘째 줄부터 N개의 줄에 행렬 A의 원소 M개가 차례대로 주어진다. 이어서 N개의 줄에 행렬 B의 원소 M개가 차례대로 주어진다. N과 M은 100보다 작거나 같고, 행렬의 원소는 절댓값이 100보다 작거나 같은 정수이다.\n",
    "\n",
    "- **출력** : 첫째 줄부터 N개의 줄에 행렬 A와 B를 더한 행렬을 출력한다. 행렬의 각 원소는 공백으로 구분한다.\n",
    "    \n",
    "- **예제 입출력** \n",
    "    - 입력1\n",
    "        - `3 3`\n",
    "        - `1 1 1`\n",
    "        - `2 2 2`\n",
    "        - `0 1 0`\n",
    "        - `3 3 3`\n",
    "        - `4 4 4`\n",
    "        - `5 5 100`\n",
    "    - 출력1\n",
    "        - `4 4 4`\n",
    "        - `6 6 6`\n",
    "        - `5 6 100`"
   ]
  },
  {
   "cell_type": "code",
   "execution_count": 25,
   "id": "bf6588c7-5420-40bf-89c9-e83b30229e89",
   "metadata": {},
   "outputs": [
    {
     "name": "stdin",
     "output_type": "stream",
     "text": [
      " 3 3\n",
      " 1 1 1\n",
      " 2 2 2\n",
      " 0 1 0\n",
      " 3 3 3\n",
      " 4 4 4\n",
      " 5 5 100\n"
     ]
    },
    {
     "name": "stdout",
     "output_type": "stream",
     "text": [
      "4 4 4 \n",
      "6 6 6 \n",
      "5 6 100 \n"
     ]
    }
   ],
   "source": [
    "n, m = map(int, input().split())\n",
    "H = []\n",
    "\n",
    "for _ in range(2) :\n",
    "    for i in range(n) :\n",
    "        h = list(map(int, input().split()))\n",
    "        H.append(h)\n",
    "for k in range(n) :\n",
    "    for l in range(m) :\n",
    "        print(H[k][l] + H[k+n][l], end=' ')\n",
    "    print()    "
   ]
  },
  {
   "cell_type": "markdown",
   "id": "b2780235-e5e5-4cd3-b172-222ae5b37c8c",
   "metadata": {},
   "source": [
    "---"
   ]
  },
  {
   "cell_type": "markdown",
   "id": "b7f7f30c-942a-4b7b-bd1d-56864d73855d",
   "metadata": {},
   "source": [
    "#### ✔단계2 : 2566번(최댓값)"
   ]
  },
  {
   "cell_type": "markdown",
   "id": "b374e50c-d5b5-4521-a3c4-2c92c9bea466",
   "metadata": {},
   "source": [
    "- **문제** : <그림 1>과 같이 9×9 격자판에 쓰여진 81개의 자연수 또는 0이 주어질 때, 이들 중 최댓값을 찾고 그 최댓값이 몇 행 몇 열에 위치한 수인지 구하는 프로그램을 작성하시오. 예를 들어, 다음과 같이 81개의 수가 주어지면 이들 중 최댓값은 90이고, 이 값은 5행 7열에 위치한다.\n",
    "\n",
    "- **입력** : 첫째 줄부터 아홉 번째 줄까지 한 줄에 아홉 개씩 수가 주어진다. 주어지는 수는 100보다 작은 자연수 또는 0이다.\n",
    "\n",
    "- **출력** : 첫째 줄에 최댓값을 출력하고, 둘째 줄에 최댓값이 위치한 행 번호와 열 번호를 빈칸을 사이에 두고 차례로 출력한다. 최댓값이 두 개 이상인 경우 그 중 한 곳의 위치를 출력한다.\n",
    "    \n",
    "- **예제 입출력** \n",
    "    - 생략"
   ]
  },
  {
   "cell_type": "code",
   "execution_count": 28,
   "id": "1b24b37f-c26e-4ef7-955c-4835efdee16a",
   "metadata": {},
   "outputs": [
    {
     "name": "stdin",
     "output_type": "stream",
     "text": [
      " 3 23 85 34 17 74 25 52 65\n",
      " 10 7 39 42 88 52 14 72 63\n",
      " 87 42 18 78 53 45 18 84 53\n",
      " 34 28 64 85 12 16 75 36 55\n",
      " 21 77 45 35 28 75 90 76 1\n",
      " 25 87 65 15 28 11 37 28 74\n",
      " 65 27 75 41 7 89 78 64 39\n",
      " 47 47 70 45 23 65 3 41 44\n",
      " 87 13 82 38 31 12 29 29 80\n"
     ]
    }
   ],
   "source": [
    "H = []\n",
    "\n",
    "for i in range(1, 10) :\n",
    "    r = list(map(int, input().split()))\n",
    "    H.append(r)\n",
    "    \n",
    "\n",
    "R_max = []\n",
    "c_max_index = []\n",
    "\n",
    "for i in range(9) :\n",
    "    # 각 행에서 최댓값 저장\n",
    "    R_max.append(max(H[i]))\n",
    "    # 각 행에서 최댓값에 해당하는 열 인덱스 저장\n",
    "    c_max_index.append(H[i].index(max(H[i])))\n",
    "    \n",
    "print(max(R_max))\n",
    "print(R_max.index(max(R_max))+1, c_max_index[R_max.index(max(R_max))]+1)"
   ]
  },
  {
   "cell_type": "code",
   "execution_count": 56,
   "id": "678d239a-1078-464e-925e-846e8e50408f",
   "metadata": {},
   "outputs": [
    {
     "name": "stdout",
     "output_type": "stream",
     "text": [
      "5 7\n"
     ]
    }
   ],
   "source": [
    "# 다른 방법\n",
    "H = []\n",
    "for i in range(9) :\n",
    "    r = list(map(int, input().split()))\n",
    "    H.append(r)\n",
    "\n",
    "# 0부터 시작하므로 최댓값을 -1로 설정\n",
    "max = -1\n",
    "row = 0\n",
    "col = 1\n",
    "for r in range(9) :\n",
    "    for c in range(9) :\n",
    "        if H[r][c] > max :\n",
    "            max = H[r][c]\n",
    "            row = r+1\n",
    "            col = c+1\n",
    "            \n",
    "print(max)\n",
    "print(r, c)"
   ]
  },
  {
   "cell_type": "markdown",
   "id": "17d88c97-9188-4cc0-942e-4a94b91b760b",
   "metadata": {},
   "source": [
    "---"
   ]
  },
  {
   "cell_type": "markdown",
   "id": "ba11dbef-e06b-4d2d-b36f-233b05cda982",
   "metadata": {},
   "source": [
    "#### ✔단계3 : 10798번(세로읽기)"
   ]
  },
  {
   "cell_type": "markdown",
   "id": "724801b8-023d-48d8-be7a-9137725ab9f4",
   "metadata": {},
   "source": [
    "- **문제** : 아직 글을 모르는 영석이가 벽에 걸린 칠판에 자석이 붙어있는 글자들을 붙이는 장난감을 가지고 놀고 있다. 이 장난감에 있는 글자들은 영어 대문자 ‘A’부터 ‘Z’, 영어 소문자 ‘a’부터 ‘z’, 숫자 ‘0’부터 ‘9’이다. 영석이는 칠판에 글자들을 수평으로 일렬로 붙여서 단어를 만든다. 다시 그 아래쪽에 글자들을 붙여서 또 다른 단어를 만든다. 이런 식으로 다섯 개의 단어를 만든다. 아래 그림 1은 영석이가 칠판에 붙여 만든 단어들의 예이다. \n",
    "\n",
    "- **입력** : 총 다섯줄의 입력이 주어진다. 각 줄에는 최소 1개, 최대 15개의 글자들이 빈칸 없이 연속으로 주어진다. 주어지는 글자는 영어 대문자 ‘A’부터 ‘Z’, 영어 소문자 ‘a’부터 ‘z’, 숫자 ‘0’부터 ‘9’ 중 하나이다. 각 줄의 시작과 마지막에 빈칸은 없다.\n",
    "\n",
    "- **출력** : 영석이가 세로로 읽은 순서대로 글자들을 출력한다. 이때, 글자들을 공백 없이 연속해서 출력한다. \n",
    "    \n",
    "- **예제 입출력** \n",
    "    - 입력\n",
    "        - `ABCDE`\n",
    "        - `abcde`\n",
    "        - `01234`\n",
    "        - `FGHIJ`\n",
    "        - `fghij`\n",
    "    - 출력\n",
    "        - `Aa0FfBb1GgCc2HhDd3IiEe4Jj`"
   ]
  },
  {
   "cell_type": "code",
   "execution_count": 67,
   "id": "ae9c45b1-f299-4e45-8500-4a1bcbc8afb4",
   "metadata": {
    "jupyter": {
     "source_hidden": true
    },
    "tags": []
   },
   "outputs": [
    {
     "name": "stdin",
     "output_type": "stream",
     "text": [
      " AABCDD\n",
      " afzz\n",
      " 09121\n",
      " a8EWg6\n",
      " P5h3kx\n"
     ]
    }
   ],
   "source": [
    "## 1)\n",
    "# 입력받기\n",
    "word = []\n",
    "for _ in range(5) :\n",
    "    w = input()\n",
    "    word.append(w)\n",
    "    \n",
    "# 최대 길이값 구하기\n",
    "word_len = []\n",
    "for i in range(5) :\n",
    "    word_len.append(len(word[i]))\n",
    "word_max = max(word_len)\n",
    "\n",
    "# 길이 조정\n",
    "for i in range(5) :\n",
    "    if len(word[i]) < word_max :\n",
    "        word[i] = word[i] + ' '*(word_max-len(word[i]))\n",
    " \n",
    "\n",
    "\n",
    "## 2)\n",
    "# 문자열을 일렬로 만들기 -> 공백이 발생한다.\n",
    "word_long = ''\n",
    "for i in range(word_max) :\n",
    "    for j in range(5) :\n",
    "        word_long = word_long + word[j][i]\n",
    "        \n",
    "# 리스트로 만들어 준 후, 공백이 아니면 일렬로 출력하도록\n",
    "word_list = []\n",
    "for i in word_long :\n",
    "    word_list.append(i)\n",
    "\n",
    "    \n",
    "    \n",
    "## 3)\n",
    "for i in word_list :\n",
    "    if i != ' ' :\n",
    "        print(i, end='')"
   ]
  },
  {
   "cell_type": "code",
   "execution_count": null,
   "id": "01664167-8540-4114-b6e3-b0db52e91505",
   "metadata": {},
   "outputs": [],
   "source": [
    "# 다른 풀이\n",
    "## 1)\n",
    "a = []\n",
    "b = []\n",
    "c = []\n",
    "for i in range(5) :\n",
    "    s = input()\n",
    "    b.append(len(s))\n",
    "    a.append(s)\n",
    "    \n",
    "## 2)\n",
    "for j in range(max(b)) :\n",
    "    for k in range(5) :\n",
    "        # ✨ Important Point!!!\n",
    "        if (j < b[k]) :\n",
    "            c += a[k][j]\n",
    " \n",
    "## 3)\n",
    "for l in c :\n",
    "    print(l, end='')"
   ]
  },
  {
   "cell_type": "markdown",
   "id": "cc5ecd9b-009e-4f6a-b1f4-14224357799b",
   "metadata": {},
   "source": [
    "---"
   ]
  },
  {
   "cell_type": "markdown",
   "id": "c58ac066-8662-4ea8-a03f-d314a8abd669",
   "metadata": {},
   "source": [
    "#### ❌단계4 : 2563번(색종이)"
   ]
  },
  {
   "cell_type": "markdown",
   "id": "29c2dc4e-4bb0-4561-aecc-b95b200d68e5",
   "metadata": {},
   "source": [
    "- **문제** : 가로, 세로의 크기가 각각 100인 정사각형 모양의 흰색 도화지가 있다. 이 도화지 위에 가로, 세로의 크기가 각각 10인 정사각형 모양의 검은색 색종이를 색종이의 변과 도화지의 변이 평행하도록 붙인다. 이러한 방식으로 색종이를 한 장 또는 여러 장 붙인 후 색종이가 붙은 검은 영역의 넓이를 구하는 프로그램을 작성하시오. 예를 들어 흰색 도화지 위에 세 장의 검은색 색종이를 그림과 같은 모양으로 붙였다면 검은색 영역의 넓이는 260이 된다.\n",
    "\n",
    "- **입력** : 첫째 줄에 색종이의 수가 주어진다. 이어 둘째 줄부터 한 줄에 하나씩 색종이를 붙인 위치가 주어진다. 색종이를 붙인 위치는 두 개의 자연수로 주어지는데 첫 번째 자연수는 색종이의 왼쪽 변과 도화지의 왼쪽 변 사이의 거리이고, 두 번째 자연수는 색종이의 아래쪽 변과 도화지의 아래쪽 변 사이의 거리이다. 색종이의 수는 100 이하이며, 색종이가 도화지 밖으로 나가는 경우는 없다\n",
    "\n",
    "- **출력** : 첫째 줄에 색종이가 붙은 검은 영역의 넓이를 출력한다.\n",
    "    \n",
    "- **예제 입출력** \n",
    "    - 입력\n",
    "        - `3`\n",
    "        - `3 7`\n",
    "        - `15 7`\n",
    "        - `5 2`\n",
    "    - 출력\n",
    "        - `260`"
   ]
  },
  {
   "cell_type": "code",
   "execution_count": 161,
   "id": "6b4cf146-7e1a-4f7a-976a-9bd382a88eda",
   "metadata": {},
   "outputs": [],
   "source": [
    "S = [[0]*100]*100"
   ]
  },
  {
   "cell_type": "code",
   "execution_count": 168,
   "id": "52083845-bdeb-4ae1-9c75-6b9057ed365f",
   "metadata": {},
   "outputs": [
    {
     "name": "stdin",
     "output_type": "stream",
     "text": [
      " 3\n",
      " 3 7\n",
      " 15 7\n",
      " 5 2\n"
     ]
    }
   ],
   "source": [
    "l = int(input())\n",
    "for _ in range(l) :\n",
    "    a, b = map(int, input().split())\n",
    "    for i in range(a, a+10) :\n",
    "        for j in range(b, b+10) :\n",
    "            S[i][j] = 1\n",
    "            \n",
    "result = 0\n",
    "for k in range(100) :\n",
    "    result += S[k].count(1)\n",
    "    \n",
    "print(result)"
   ]
  }
 ],
 "metadata": {
  "kernelspec": {
   "display_name": "Python 3 (ipykernel)",
   "language": "python",
   "name": "python3"
  },
  "language_info": {
   "codemirror_mode": {
    "name": "ipython",
    "version": 3
   },
   "file_extension": ".py",
   "mimetype": "text/x-python",
   "name": "python",
   "nbconvert_exporter": "python",
   "pygments_lexer": "ipython3",
   "version": "3.9.13"
  }
 },
 "nbformat": 4,
 "nbformat_minor": 5
}
