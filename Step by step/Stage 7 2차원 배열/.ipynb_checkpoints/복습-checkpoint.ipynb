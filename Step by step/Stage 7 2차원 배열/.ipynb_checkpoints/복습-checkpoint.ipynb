{
 "cells": [
  {
   "cell_type": "markdown",
   "id": "4d0145a9-99a6-49b1-96cf-c8c389efdc60",
   "metadata": {},
   "source": [
    "### Stage7️⃣ 2차원 배열"
   ]
  },
  {
   "cell_type": "markdown",
   "id": "ce28de9d-b385-4104-96f1-cb6df3d72f91",
   "metadata": {},
   "source": [
    "#### ❌단계1 : 2738번(행렬 덧셈)"
   ]
  },
  {
   "cell_type": "markdown",
   "id": "ef2ee23e-d7e0-4990-b6d2-8386771c8f70",
   "metadata": {},
   "source": [
    "- **문제** : N*M크기의 두 행렬 A와 B가 주어졌을 때, 두 행렬을 더하는 프로그램을 작성하시오.\n",
    "\n",
    "- **입력** : 첫째 줄에 행렬의 크기 N 과 M이 주어진다. 둘째 줄부터 N개의 줄에 행렬 A의 원소 M개가 차례대로 주어진다. 이어서 N개의 줄에 행렬 B의 원소 M개가 차례대로 주어진다. N과 M은 100보다 작거나 같고, 행렬의 원소는 절댓값이 100보다 작거나 같은 정수이다.\n",
    "\n",
    "- **출력** : 첫째 줄부터 N개의 줄에 행렬 A와 B를 더한 행렬을 출력한다. 행렬의 각 원소는 공백으로 구분한다.\n",
    "    \n",
    "- **예제 입출력** \n",
    "    - 입력1\n",
    "        - `3 3`\n",
    "        - `1 1 1`\n",
    "        - `2 2 2`\n",
    "        - `0 1 0`\n",
    "        - `3 3 3`\n",
    "        - `4 4 4`\n",
    "        - `5 5 100`\n",
    "    - 출력1\n",
    "        - `4 4 4`\n",
    "        - `6 6 6`\n",
    "        - `5 6 100`"
   ]
  },
  {
   "cell_type": "code",
   "execution_count": 18,
   "id": "bf6588c7-5420-40bf-89c9-e83b30229e89",
   "metadata": {},
   "outputs": [
    {
     "name": "stdin",
     "output_type": "stream",
     "text": [
      " 3 3\n",
      " 1 1 1\n",
      " 2 2 2\n",
      " 0 1 0\n",
      " 3 3 3\n",
      " 4 4 4\n",
      " 5 5 100\n"
     ]
    },
    {
     "name": "stdout",
     "output_type": "stream",
     "text": [
      "4 4 4 \n",
      "6 6 6 \n",
      "5 6 100 \n"
     ]
    }
   ],
   "source": [
    "n, m = map(int, input().split())\n",
    "\n",
    "A = []\n",
    "B = []\n",
    "\n",
    "for i in range(n) :\n",
    "    a = list(map(int, input().split()))\n",
    "    A.append(a)\n",
    "    \n",
    "for j in range(m) :\n",
    "    b = list(map(int, input().split()))\n",
    "    B.append(b)\n",
    "    \n",
    "C = A+B\n",
    "for k in range(n) :\n",
    "    for l in range(m) :\n",
    "        print(C[k][l]+C[k+n][l], end=' ')\n",
    "    print()"
   ]
  },
  {
   "cell_type": "code",
   "execution_count": null,
   "id": "9e26cf84-d761-456a-8f85-6e044abc0169",
   "metadata": {},
   "outputs": [],
   "source": []
  }
 ],
 "metadata": {
  "kernelspec": {
   "display_name": "Python 3 (ipykernel)",
   "language": "python",
   "name": "python3"
  },
  "language_info": {
   "codemirror_mode": {
    "name": "ipython",
    "version": 3
   },
   "file_extension": ".py",
   "mimetype": "text/x-python",
   "name": "python",
   "nbconvert_exporter": "python",
   "pygments_lexer": "ipython3",
   "version": "3.9.13"
  }
 },
 "nbformat": 4,
 "nbformat_minor": 5
}
