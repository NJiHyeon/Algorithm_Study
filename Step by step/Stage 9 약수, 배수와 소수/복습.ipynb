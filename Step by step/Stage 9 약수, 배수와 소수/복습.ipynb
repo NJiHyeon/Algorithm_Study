{
 "cells": [
  {
   "cell_type": "markdown",
   "id": "61d6e203-2452-4fff-b529-9b7cbd43dbfc",
   "metadata": {},
   "source": [
    "### Stage9️⃣ 약수, 배수와 소수"
   ]
  },
  {
   "cell_type": "markdown",
   "id": "05ea83c5-b381-4b4a-a19a-b269c96b1286",
   "metadata": {},
   "source": [
    "#### ✔단계1 : 5086번(배수와 약수)"
   ]
  },
  {
   "cell_type": "markdown",
   "id": "20c2478a-67e1-4a4d-82ce-0dd0ec3338c7",
   "metadata": {},
   "source": [
    "- **문제** : 4 × 3 = 12이다.\n",
    "\n",
    "이 식을 통해 다음과 같은 사실을 알 수 있다.\n",
    "\n",
    "3은 12의 약수이고, 12는 3의 배수이다.\n",
    "\n",
    "4도 12의 약수이고, 12는 4의 배수이다.\n",
    "\n",
    "두 수가 주어졌을 때, 다음 3가지 중 어떤 관계인지 구하는 프로그램을 작성하시오.\n",
    "\n",
    "첫 번째 숫자가 두 번째 숫자의 약수이다.\n",
    "첫 번째 숫자가 두 번째 숫자의 배수이다.\n",
    "첫 번째 숫자가 두 번째 숫자의 약수와 배수 모두 아니다.\n",
    "\n",
    "- **입력** : 입력은 여러 테스트 케이스로 이루어져 있다. 각 테스트 케이스는 10,000이 넘지않는 두 자연수로 이루어져 있다. 마지막 줄에는 0이 2개 주어진다. 두 수가 같은 경우는 없다.\n",
    "\n",
    "- **출력** : 각 테스트 케이스마다 첫 번째 숫자가 두 번째 숫자의 약수라면 factor를, 배수라면 multiple을, 둘 다 아니라면 neither를 출력한다.\n",
    "\n",
    "- **예제 입출력** \n",
    "    - 입력1\n",
    "        - `8 16`\n",
    "        - `32 4`\n",
    "        - `17 5`\n",
    "        - `0 0`\n",
    "       \n",
    "    - 출력1\n",
    "        - `factor`\n",
    "        - `multiple`\n",
    "        - `neither`"
   ]
  },
  {
   "cell_type": "code",
   "execution_count": 1,
   "id": "db4c2318-a589-4d1f-b699-bdc3c8fe6acb",
   "metadata": {},
   "outputs": [
    {
     "name": "stdin",
     "output_type": "stream",
     "text": [
      " 8 16\n"
     ]
    },
    {
     "name": "stdout",
     "output_type": "stream",
     "text": [
      "factor\n"
     ]
    },
    {
     "name": "stdin",
     "output_type": "stream",
     "text": [
      " 32 4\n"
     ]
    },
    {
     "name": "stdout",
     "output_type": "stream",
     "text": [
      "multiple\n"
     ]
    },
    {
     "name": "stdin",
     "output_type": "stream",
     "text": [
      " 17 5\n"
     ]
    },
    {
     "name": "stdout",
     "output_type": "stream",
     "text": [
      "neither\n"
     ]
    },
    {
     "name": "stdin",
     "output_type": "stream",
     "text": [
      " 4 2\n"
     ]
    },
    {
     "name": "stdout",
     "output_type": "stream",
     "text": [
      "multiple\n"
     ]
    },
    {
     "name": "stdin",
     "output_type": "stream",
     "text": [
      " 0 0\n"
     ]
    }
   ],
   "source": [
    "while True :\n",
    "    a, b = map(int, input().split())\n",
    "    if a!=0 and b!=0 : \n",
    "        if b%a == 0 :\n",
    "            print('factor')\n",
    "        elif a%b == 0 :\n",
    "            print('multiple')\n",
    "        else :\n",
    "            print('neither')\n",
    "    else :\n",
    "        break"
   ]
  },
  {
   "cell_type": "markdown",
   "id": "c74b060b-13b6-47c0-b830-cd1480117e29",
   "metadata": {},
   "source": [
    "---"
   ]
  },
  {
   "cell_type": "markdown",
   "id": "5806fd7c-be03-4fc1-91ac-bf2e11dbb75e",
   "metadata": {},
   "source": [
    "#### ✔단계2 : 2501번(약수 구하기)"
   ]
  },
  {
   "cell_type": "markdown",
   "id": "721f4a3a-0155-4ce5-98f5-717d56213214",
   "metadata": {},
   "source": [
    "- **문제** : 어떤 자연수 p와 q가 있을 때, 만일 p를 q로 나누었을 때 나머지가 0이면 q는 p의 약수이다. \n",
    "\n",
    "6을 예로 들면\n",
    "\n",
    "6 ÷ 1 = 6 … 0\n",
    "6 ÷ 2 = 3 … 0\n",
    "6 ÷ 3 = 2 … 0\n",
    "6 ÷ 4 = 1 … 2\n",
    "6 ÷ 5 = 1 … 1\n",
    "6 ÷ 6 = 1 … 0\n",
    "그래서 6의 약수는 1, 2, 3, 6, 총 네 개이다.\n",
    "\n",
    "두 개의 자연수 N과 K가 주어졌을 때, N의 약수들 중 K번째로 작은 수를 출력하는 프로그램을 작성하시오.\n",
    "- **입력** : 첫째 줄에 N과 K가 빈칸을 사이에 두고 주어진다. N은 1 이상 10,000 이하이다. K는 1 이상 N 이하이다.\n",
    "\n",
    "- **출력** : 첫째 줄에 N의 약수들 중 K번째로 작은 수를 출력한다. 만일 N의 약수의 개수가 K개보다 적어서 K번째 약수가 존재하지 않을 경우에는 0을 출력하시오.\n",
    "\n",
    "- **예제 입출력** \n",
    "    - 입력1\n",
    "        - `6 3`\n",
    "       \n",
    "    - 출력1\n",
    "        - `3`\n",
    "    - 입력2\n",
    "        - `25 4`\n",
    "    - 출력2\n",
    "        - `0`"
   ]
  },
  {
   "cell_type": "code",
   "execution_count": 10,
   "id": "d5266011-67dc-42c5-8120-17436665b332",
   "metadata": {},
   "outputs": [
    {
     "name": "stdin",
     "output_type": "stream",
     "text": [
      " 6 3\n"
     ]
    },
    {
     "name": "stdout",
     "output_type": "stream",
     "text": [
      "3\n"
     ]
    }
   ],
   "source": [
    "n, k = map(int, input().split())\n",
    "a = []\n",
    "for i in range(1, n+1) :\n",
    "    if n%i == 0 :\n",
    "        a.append(i)\n",
    "\n",
    "if k <= len(a) :\n",
    "    print(a[k-1])\n",
    "else :\n",
    "    print(0)"
   ]
  },
  {
   "cell_type": "markdown",
   "id": "80f5f3e4-2467-4dd4-b12e-a6192d58450c",
   "metadata": {},
   "source": [
    "---"
   ]
  },
  {
   "cell_type": "markdown",
   "id": "9013ba1e-f85d-4cd0-b2e9-8b34b43d13e9",
   "metadata": {},
   "source": [
    "#### ✔단계3 : 9506번(약수들의 합)"
   ]
  },
  {
   "cell_type": "markdown",
   "id": "4ef98a64-42e6-4973-9144-14b57c05719c",
   "metadata": {},
   "source": [
    "- **문제** : 어떤 숫자 n이 자신을 제외한 모든 약수들의 합과 같으면, 그 수를 완전수라고 한다. 예를 들어 6은 6 = 1 + 2 + 3 으로 완전수이다. n이 완전수인지 아닌지 판단해주는 프로그램을 작성하라.\n",
    "\n",
    "- **입력** : 입력은 테스트 케이스마다 한 줄 간격으로 n이 주어진다. (2 < n < 100,000) 입력의 마지막엔 -1이 주어진다.\n",
    "\n",
    "- **출력** : 테스트케이스 마다 한줄에 하나씩 출력해야 한다. n이 완전수라면, n을 n이 아닌 약수들의 합으로 나타내어 출력한다(예제 출력 참고). 이때, 약수들은 오름차순으로 나열해야 한다. n이 완전수가 아니라면 n is NOT perfect. 를 출력한다.\n",
    "\n",
    "- **예제 입출력** \n",
    "    - 입력1\n",
    "        - `6`\n",
    "        - `12`\n",
    "        - `28`\n",
    "        - `-1`\n",
    "       \n",
    "    - 출력1\n",
    "        - `6 = 1 + 2 + 3`\n",
    "        - `12 is NOT perfect.`\n",
    "        - `28 = 1 + 2 + 4 + 7 + 14`\n",
    "- **⚠️ 반복문이랑 문자열을 합쳐서 출력하고 싶을 때**\n",
    "    - `print(n, ' = ', '+'.join(str(i) for i in list), sep=\"\")"
   ]
  },
  {
   "cell_type": "code",
   "execution_count": 50,
   "id": "fca1b0e3-f8a7-4bef-aab2-6b22b29f72e2",
   "metadata": {},
   "outputs": [
    {
     "name": "stdin",
     "output_type": "stream",
     "text": [
      " 28\n"
     ]
    },
    {
     "name": "stdout",
     "output_type": "stream",
     "text": [
      "28 = 1 + 2 + 4 + 7 + 14 "
     ]
    },
    {
     "name": "stdin",
     "output_type": "stream",
     "text": [
      " 12\n"
     ]
    },
    {
     "name": "stdout",
     "output_type": "stream",
     "text": [
      "12 is NOT perfect.\n"
     ]
    },
    {
     "name": "stdin",
     "output_type": "stream",
     "text": [
      " 6\n"
     ]
    },
    {
     "name": "stdout",
     "output_type": "stream",
     "text": [
      "6 = 1 + 2 + 3 "
     ]
    },
    {
     "name": "stdin",
     "output_type": "stream",
     "text": [
      " 120\n"
     ]
    },
    {
     "name": "stdout",
     "output_type": "stream",
     "text": [
      "120 is NOT perfect.\n"
     ]
    },
    {
     "name": "stdin",
     "output_type": "stream",
     "text": [
      " 28\n"
     ]
    },
    {
     "name": "stdout",
     "output_type": "stream",
     "text": [
      "28 = 1 + 2 + 4 + 7 + 14 "
     ]
    },
    {
     "name": "stdin",
     "output_type": "stream",
     "text": [
      " -1\n"
     ]
    }
   ],
   "source": [
    "while True :\n",
    "    n = int(input())\n",
    "    if n!=-1 :\n",
    "        a = []\n",
    "        for i in range(1, n) :\n",
    "            if n%i == 0 :\n",
    "                a.append(i)  \n",
    "                \n",
    "        if sum(a) == n :\n",
    "            b = []\n",
    "            for j in range(len(a)) :\n",
    "                b.append(a[j])\n",
    "                b.append('+')\n",
    "            del b[-1]\n",
    "            \n",
    "            c = []\n",
    "            c.append(n)\n",
    "            c.append('=')\n",
    "            \n",
    "            output = c+b\n",
    "            for k in output :\n",
    "                print(k, end=' ')\n",
    "            \n",
    "        else :\n",
    "            print(n, 'is NOT perfect.')\n",
    "   \n",
    "\n",
    "    else :\n",
    "        break"
   ]
  },
  {
   "cell_type": "code",
   "execution_count": null,
   "id": "11860e2f-ee7a-4653-bc96-6d9ce6ebb1ce",
   "metadata": {},
   "outputs": [],
   "source": [
    "# 합으로 표현하는 부분을 더 간단하게!\n",
    "if sum(a) == n :\n",
    "    print(n, ' = ', ' + '.join(str(i) for i in a), sep=\"\")"
   ]
  },
  {
   "cell_type": "markdown",
   "id": "02b1d1d5-1dd0-4e4b-8673-d03e9d983dc5",
   "metadata": {},
   "source": [
    "---"
   ]
  },
  {
   "cell_type": "markdown",
   "id": "fda8a274-4555-4d59-97a6-60322169d9e9",
   "metadata": {},
   "source": [
    "#### ✔단계4 : 1978번(소수 찾기)"
   ]
  },
  {
   "cell_type": "markdown",
   "id": "a7b7d905-639f-438d-9f09-2c0ed803c67e",
   "metadata": {},
   "source": [
    "- **문제** : 주어진 수 N개 중에서 소수가 몇 개인지 찾아서 출력하는 프로그램을 작성하시오.\n",
    "\n",
    "- **입력** : 첫 줄에 수의 개수 N이 주어진다. N은 100이하이다. 다음으로 N개의 수가 주어지는데 수는 1,000 이하의 자연수이다.\n",
    "\n",
    "- **출력** : 주어진 수들 중 소수의 개수를 출력한다.\n",
    "\n",
    "- **예제 입출력** \n",
    "    - 입력1\n",
    "        - `4`\n",
    "        - `1 3 5 7`\n",
    "       \n",
    "    - 출력1\n",
    "        - `3`"
   ]
  },
  {
   "cell_type": "code",
   "execution_count": 5,
   "id": "abce87ce-c61f-499a-b16f-1e59f767ecaa",
   "metadata": {},
   "outputs": [
    {
     "name": "stdout",
     "output_type": "stream",
     "text": [
      "3\n"
     ]
    }
   ],
   "source": [
    "n = int(input())\n",
    "s = list(map(int, input().split()))\n",
    "\n",
    "sosu = 0\n",
    "for i in s :\n",
    "    ss = 0\n",
    "    for j in range(1, i+1) :\n",
    "        if i%j == 0 :\n",
    "            ss += 1\n",
    "    if ss == 2 :\n",
    "        sosu += 1\n",
    "\n",
    "print(sosu)"
   ]
  },
  {
   "cell_type": "markdown",
   "id": "6d914228-536e-438c-b4eb-ff2df6c5688d",
   "metadata": {},
   "source": [
    "---"
   ]
  },
  {
   "cell_type": "markdown",
   "id": "66cfdf3f-57f0-480a-851a-c969af58d571",
   "metadata": {},
   "source": [
    "#### ✔단계5 : 2581번(소수)"
   ]
  },
  {
   "cell_type": "markdown",
   "id": "77fa1ca9-9745-4c39-b6bc-55fda750afd7",
   "metadata": {},
   "source": [
    "- **문제** : 자연수 M과 N이 주어질 때 M이상 N이하의 자연수 중 소수인 것을 모두 골라 이들 소수의 합과 최솟값을 찾는 프로그램을 작성하시오. 예를 들어 M=60, N=100인 경우 60이상 100이하의 자연수 중 소수는 61, 67, 71, 73, 79, 83, 89, 97 총 8개가 있으므로, 이들 소수의 합은 620이고, 최솟값은 61이 된다.\n",
    "\n",
    "- **입력** : 입력의 첫째 줄에 M이, 둘째 줄에 N이 주어진다. M과 N은 10,000이하의 자연수이며, M은 N보다 작거나 같다.\n",
    "\n",
    "- **출력** : M이상 N이하의 자연수 중 소수인 것을 모두 찾아 첫째 줄에 그 합을, 둘째 줄에 그 중 최솟값을 출력한다. 단, M이상 N이하의 자연수 중 소수가 없을 경우는 첫째 줄에 -1을 출력한다.\n",
    "\n",
    "- **예제 입출력** \n",
    "    - 입력1\n",
    "        - `60`\n",
    "        - `100`\n",
    "       \n",
    "    - 출력1\n",
    "        - `620`\n",
    "        - `61`"
   ]
  },
  {
   "cell_type": "code",
   "execution_count": 37,
   "id": "34399990-8384-4233-952f-1362a7ff5016",
   "metadata": {},
   "outputs": [
    {
     "name": "stdin",
     "output_type": "stream",
     "text": [
      " 64\n",
      " 65\n"
     ]
    },
    {
     "name": "stdout",
     "output_type": "stream",
     "text": [
      "-1\n"
     ]
    }
   ],
   "source": [
    "m = int(input())\n",
    "n = int(input())\n",
    "\n",
    "sosu_sum = 0\n",
    "sosu_len = []\n",
    "for i in range(m, n+1) :\n",
    "    # i=60, i=61, ...\n",
    "    s = 0\n",
    "    for j in range(1, i+1) :\n",
    "        # i=60일 때, j=1, 2, ..., 60\n",
    "        if i%j == 0 :\n",
    "            s += 1\n",
    "    if s == 2 :\n",
    "        sosu_sum += i\n",
    "        sosu_len.append(i)\n",
    "\n",
    "if sosu_sum == 0 :\n",
    "    print(-1)\n",
    "else :\n",
    "    print(sosu_sum)\n",
    "    sosu_len.sort()\n",
    "    print(sosu_len[0])"
   ]
  },
  {
   "cell_type": "markdown",
   "id": "49cd1a07-d3b7-4b37-a06d-d40d3dff96aa",
   "metadata": {},
   "source": [
    "---"
   ]
  },
  {
   "cell_type": "markdown",
   "id": "9daac5fd-1916-4dba-bcf6-b7705727500a",
   "metadata": {},
   "source": [
    "#### ❌단계6 : 11653번(소인수분해)"
   ]
  },
  {
   "cell_type": "markdown",
   "id": "9716bfc9-9616-410b-b55b-e7bf180074d6",
   "metadata": {},
   "source": [
    "- **문제** : 정수 N이 주어졌을 때, 소인수분해하는 프로그램을 작성하시오.\n",
    "\n",
    "- **입력** : 첫째 줄에 정수 N (1 ≤ N ≤ 10,000,000)이 주어진다.\n",
    "\n",
    "- **출력** : N의 소인수분해 결과를 한 줄에 하나씩 오름차순으로 출력한다. N이 1인 경우 아무것도 출력하지 않는다.\n",
    "\n",
    "- **예제 입출력** \n",
    "    - 입력1\n",
    "        - `72`\n",
    "       \n",
    "    - 출력1\n",
    "        - `2`\n",
    "        - `2`\n",
    "        - `2`\n",
    "        - `3`\n",
    "        - `3`"
   ]
  },
  {
   "cell_type": "code",
   "execution_count": 71,
   "id": "a0034958-abcd-485a-b1c7-43d9dbcfa8b7",
   "metadata": {},
   "outputs": [
    {
     "name": "stdin",
     "output_type": "stream",
     "text": [
      " 72\n"
     ]
    },
    {
     "name": "stdout",
     "output_type": "stream",
     "text": [
      "2\n",
      "2\n",
      "2\n",
      "3\n",
      "3\n"
     ]
    }
   ],
   "source": [
    "n = int(input())\n",
    "\n",
    "if n == 1:\n",
    "    print(\"\")\n",
    "\n",
    "for s in range(2, n+1) :\n",
    "    if n%s == 0 :\n",
    "        while n%s == 0 :\n",
    "            print(s)\n",
    "            n = n//s"
   ]
  },
  {
   "cell_type": "markdown",
   "id": "d5723082-5d98-4dc6-a941-f9b7abd7da4d",
   "metadata": {},
   "source": [
    "---"
   ]
  },
  {
   "cell_type": "markdown",
   "id": "93619b1f-95c3-4739-9744-bfe860ea3607",
   "metadata": {},
   "source": [
    "#### ✔❌단계7 : 9020번(골든바흐의 추측)"
   ]
  },
  {
   "cell_type": "markdown",
   "id": "aa33da6a-b366-472c-bde7-eadc70842421",
   "metadata": {},
   "source": [
    "- **문제** : 1보다 큰 자연수 중에서  1과 자기 자신을 제외한 약수가 없는 자연수를 소수라고 한다. 예를 들어, 5는 1과 5를 제외한 약수가 없기 때문에 소수이다. 하지만, 6은 6 = 2 × 3 이기 때문에 소수가 아니다. 골드바흐의 추측은 유명한 정수론의 미해결 문제로, 2보다 큰 모든 짝수는 두 소수의 합으로 나타낼 수 있다는 것이다. 이러한 수를 골드바흐 수라고 한다. 또, 짝수를 두 소수의 합으로 나타내는 표현을 그 수의 골드바흐 파티션이라고 한다. 예를 들면, 4 = 2 + 2, 6 = 3 + 3, 8 = 3 + 5, 10 = 5 + 5, 12 = 5 + 7, 14 = 3 + 11, 14 = 7 + 7이다. 10000보다 작거나 같은 모든 짝수 n에 대한 골드바흐 파티션은 존재한다. 2보다 큰 짝수 n이 주어졌을 때, n의 골드바흐 파티션을 출력하는 프로그램을 작성하시오. 만약 가능한 n의 골드바흐 파티션이 여러 가지인 경우에는 두 소수의 차이가 가장 작은 것을 출력한다.\n",
    "\n",
    "- **입력** : 첫째 줄에 테스트 케이스의 개수 T가 주어진다. 각 테스트 케이스는 한 줄로 이루어져 있고 짝수 n이 주어진다.\n",
    "\n",
    "- **출력** : 각 테스트 케이스에 대해서 주어진 n의 골드바흐 파티션을 출력한다. 출력하는 소수는 작은 것부터 먼저 출력하며, 공백으로 구분한다.\n",
    "\n",
    "- **예제 입출력** \n",
    "    - 입력1\n",
    "        - `3`\n",
    "        - `8`\n",
    "        - `10`\n",
    "        - `16`\n",
    "       \n",
    "    - 출력1\n",
    "        - `3 5`\n",
    "        - `5 5`\n",
    "        - `5 11`"
   ]
  },
  {
   "cell_type": "code",
   "execution_count": null,
   "id": "824e0d52-ac7a-4cc4-8b6b-cdd05b66ecbd",
   "metadata": {},
   "outputs": [],
   "source": []
  }
 ],
 "metadata": {
  "kernelspec": {
   "display_name": "Python 3 (ipykernel)",
   "language": "python",
   "name": "python3"
  },
  "language_info": {
   "codemirror_mode": {
    "name": "ipython",
    "version": 3
   },
   "file_extension": ".py",
   "mimetype": "text/x-python",
   "name": "python",
   "nbconvert_exporter": "python",
   "pygments_lexer": "ipython3",
   "version": "3.9.13"
  }
 },
 "nbformat": 4,
 "nbformat_minor": 5
}
