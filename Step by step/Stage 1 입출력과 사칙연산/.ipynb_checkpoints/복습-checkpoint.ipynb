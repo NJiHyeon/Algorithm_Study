{
 "cells": [
  {
   "cell_type": "markdown",
   "id": "1124c041-d6a5-4650-9849-797f9ad59d1d",
   "metadata": {},
   "source": [
    "### Stage1️⃣ 입출력과 사칙연산"
   ]
  },
  {
   "cell_type": "markdown",
   "id": "f9988955-fa0b-4367-93b9-756f595b4f80",
   "metadata": {},
   "source": [
    "#### 단계1 : 2557번(Hello World)"
   ]
  },
  {
   "cell_type": "markdown",
   "id": "46237063-a8c3-4d0c-9612-d1323fcf06b3",
   "metadata": {},
   "source": [
    "- 문제 : Hello World!를 출력하시오.\n",
    "- 입력 : 없음\n",
    "- 출력 : `Hello World!`\n",
    "- 풀이 방법 \n",
    "    - 입력 없이 출력만 있는 문제이므로 바로 `print()`\n",
    "    - 문자열을 출력해야 하므로 `\" \"`는 무조건~"
   ]
  },
  {
   "cell_type": "code",
   "execution_count": 2,
   "id": "8f0eea06-61c5-4300-8d59-26f1164fc6d8",
   "metadata": {},
   "outputs": [
    {
     "name": "stdout",
     "output_type": "stream",
     "text": [
      "Hello World!\n"
     ]
    }
   ],
   "source": [
    "print(\"Hello World!\")"
   ]
  },
  {
   "cell_type": "markdown",
   "id": "518a5a4c-c2ce-44fd-b539-d7de9e8bef04",
   "metadata": {},
   "source": [
    "-------------------------------------------------------------------------"
   ]
  },
  {
   "cell_type": "markdown",
   "id": "27d132c1-e969-49f8-af4b-14731b472275",
   "metadata": {},
   "source": [
    "#### 단계2 : 1000번(A+B)"
   ]
  },
  {
   "cell_type": "markdown",
   "id": "85c45e78-b315-4878-9a15-316079a5e3de",
   "metadata": {},
   "source": [
    "- 문제 : 두 정수 A와 B를 입력받은 다음, A+B를 출력하는 프로그램을 작성하시오.\n",
    "- 입력 : 첫째 줄에 A와 B가 주어진다. (0 < A, B < 10)\n",
    "    - `1 2`\n",
    "- 출력 : 첫째 줄에 A+B를 출력한다.\n",
    "    - `3`\n",
    "- 풀이 방법 \n",
    "    - 입력을 받아야 되는 문제이므로 `input()`\n",
    "    - 한 줄에 입력을 여러개 받아야 되고 몇개인지 알고 있으므로 `.split()`\n",
    "    - 출력을 할 때 입력받은 숫자(문자X)를 계산해야 하므로 `map`을 사용하여 `int`"
   ]
  },
  {
   "cell_type": "code",
   "execution_count": 5,
   "id": "96b57a3d-1452-495f-99d0-fdd564f3ceb1",
   "metadata": {},
   "outputs": [
    {
     "name": "stdin",
     "output_type": "stream",
     "text": [
      " 1 2\n"
     ]
    },
    {
     "name": "stdout",
     "output_type": "stream",
     "text": [
      "3\n"
     ]
    }
   ],
   "source": [
    "A, B = map(int, input().split())\n",
    "print(A+B)"
   ]
  },
  {
   "cell_type": "markdown",
   "id": "e84170ce-4db3-4b05-a2a7-9fe65b640bdd",
   "metadata": {},
   "source": [
    "-------------------------------------------------------------------------"
   ]
  },
  {
   "cell_type": "markdown",
   "id": "5ce29361-83d6-491d-bc43-e4c735e6d91f",
   "metadata": {},
   "source": [
    "#### 단계3 : 1001번(A-B)"
   ]
  },
  {
   "cell_type": "markdown",
   "id": "626cd923-bba3-4fd0-ad05-46b52b633325",
   "metadata": {},
   "source": [
    "- 문제 : 두 정수 A와 B를 입력받은 다음, A-B를 출력하는 프로그램을 작성하시오.\n",
    "- 입력 : 첫째 줄에 A와 B가 주어진다. (0 < A, B < 10)\n",
    "    - `3 2`\n",
    "- 출력 : 첫째 줄에 A-B를 출력한다.\n",
    "    - `1`\n",
    "- 풀이 방법 \n",
    "    - 위와 동일"
   ]
  },
  {
   "cell_type": "code",
   "execution_count": 6,
   "id": "c951b6de-44f4-4f71-bff8-d81bb8843fbe",
   "metadata": {},
   "outputs": [
    {
     "name": "stdin",
     "output_type": "stream",
     "text": [
      " 3 2\n"
     ]
    },
    {
     "name": "stdout",
     "output_type": "stream",
     "text": [
      "1\n"
     ]
    }
   ],
   "source": [
    "A, B = map(int, input().split())\n",
    "print(A-B)"
   ]
  },
  {
   "cell_type": "markdown",
   "id": "2fc3cfcc-7420-428e-9a12-fbb0d708bfb6",
   "metadata": {},
   "source": [
    "-------------------------------------------------------------------------"
   ]
  },
  {
   "cell_type": "markdown",
   "id": "b6306a2d-9a5b-411f-9485-cc2fba14ce48",
   "metadata": {},
   "source": [
    "#### 단계4 : 10998번(AXB)"
   ]
  },
  {
   "cell_type": "markdown",
   "id": "14ff0c50-20de-4e7b-9e45-858a8994c1ee",
   "metadata": {},
   "source": [
    "- 문제 : 두 정수 A와 B를 입력받은 다음, A×B를 출력하는 프로그램을 작성하시오.\n",
    "- 입력 : 첫째 줄에 A와 B가 주어진다. (0 < A, B < 10)\n",
    "    - `1 2`\n",
    "    - `3 4`\n",
    "- 출력 : 첫째 줄에 A×B를 출력한다.\n",
    "    - `2`\n",
    "    - `12`\n",
    "- 풀이 방법 \n",
    "    - 위와 동일"
   ]
  },
  {
   "cell_type": "code",
   "execution_count": 8,
   "id": "a5695702-cfa4-414c-a3b1-68aa6e3de68d",
   "metadata": {},
   "outputs": [
    {
     "name": "stdin",
     "output_type": "stream",
     "text": [
      " 3 4\n"
     ]
    },
    {
     "name": "stdout",
     "output_type": "stream",
     "text": [
      "12\n"
     ]
    }
   ],
   "source": [
    "A, B = map(int, input().split())\n",
    "print(A*B)"
   ]
  },
  {
   "cell_type": "markdown",
   "id": "5ebe89bb-345d-489e-809f-3a3751f5f2c5",
   "metadata": {},
   "source": [
    "-------------------------------------------------------------------------"
   ]
  },
  {
   "cell_type": "markdown",
   "id": "0c34678f-f819-4fb4-b490-1d4931f943e6",
   "metadata": {},
   "source": [
    "#### 단계5 : 1008번(A/B)"
   ]
  },
  {
   "cell_type": "markdown",
   "id": "56397c48-db3b-485f-9364-7e5e0578bcd6",
   "metadata": {},
   "source": [
    "- 문제 : 두 정수 A와 B를 입력받은 다음, A/B를 출력하는 프로그램을 작성하시오.\n",
    "- 입력 : 첫째 줄에 A와 B가 주어진다. (0 < A, B < 10)\n",
    "    - `1 3`\n",
    "    - `4 5`\n",
    "- 출력 : 첫째 줄에 A/B를 출력한다. 실제 정답과 출력값의 절대오차 또는 상대오차가 10-9 이하이면 정답이다.\n",
    "    - `0.33333333333333333333333333333333` (10-9 이하의 오차를 허용한다는 말은 꼭 소수 9번째 자리까지만 출력하라는 뜻이 아니다.)\n",
    "    - `0.8`\n",
    "- 풀이 방법 : 위와 동일"
   ]
  },
  {
   "cell_type": "code",
   "execution_count": 13,
   "id": "b493a629-9851-42f7-b106-df32d2b57252",
   "metadata": {},
   "outputs": [
    {
     "name": "stdin",
     "output_type": "stream",
     "text": [
      " 4 5\n"
     ]
    },
    {
     "name": "stdout",
     "output_type": "stream",
     "text": [
      "0.8\n"
     ]
    }
   ],
   "source": [
    "A, B = map(int, input().split())\n",
    "print(A/B)"
   ]
  },
  {
   "cell_type": "markdown",
   "id": "ac238e7f-ca42-48ab-ace7-5ca19df9885d",
   "metadata": {},
   "source": [
    "-------------------------------------------------------------------------"
   ]
  },
  {
   "cell_type": "markdown",
   "id": "9e5b23cd-e241-47ef-9689-0663a1e2dd07",
   "metadata": {},
   "source": [
    "#### 단계6 : 10869번(사칙연산)"
   ]
  },
  {
   "cell_type": "markdown",
   "id": "6717af54-04b2-43f2-8e6f-aac1f8fe90c2",
   "metadata": {},
   "source": [
    "- **문제** : 두 자연수 A와 B가 주어진다. 이때, A+B, A-B, A*B, A/B(몫), A%B(나머지)를 출력하는 프로그램을 작성하시오. \n",
    "- **입력** : 두 자연수 A와 B가 주어진다. (1 ≤ A, B ≤ 10,000)\n",
    "    - `7 3`\n",
    "- **출력** : 첫째 줄에 A+B, 둘째 줄에 A-B, 셋째 줄에 A*B, 넷째 줄에 A/B, 다섯째 줄에 A%B를 출력한다.\n",
    "    - `'10\\n4\\n21\\n2\\n1'`\n",
    "- **풀이 방법** : 위와 동일\n",
    "    - 출력을 할 때 한 줄에 한 결과씩 보여야 하므로 `sep='\\n'`을 사용하여 출력하도록"
   ]
  },
  {
   "cell_type": "code",
   "execution_count": 19,
   "id": "88244f2b-e5eb-4a7d-80ad-2c9ad9822ac7",
   "metadata": {},
   "outputs": [
    {
     "name": "stdin",
     "output_type": "stream",
     "text": [
      " 7 3\n"
     ]
    },
    {
     "name": "stdout",
     "output_type": "stream",
     "text": [
      "10\n",
      "4\n",
      "21\n",
      "2\n",
      "1\n"
     ]
    }
   ],
   "source": [
    "A, B = map(int, input().split())\n",
    "print(A+B, A-B, A*B, A//B, A%B, sep='\\n')"
   ]
  },
  {
   "cell_type": "markdown",
   "id": "64b3cac7-b459-4a7d-b6df-0d6055e375bb",
   "metadata": {},
   "source": [
    "-------------------------------------------------------------------------"
   ]
  },
  {
   "cell_type": "markdown",
   "id": "14b76f98-6946-4496-b0c4-7c31aa2f56a5",
   "metadata": {},
   "source": [
    "#### 단계7 : 10926번(??!)"
   ]
  },
  {
   "cell_type": "markdown",
   "id": "d5d8c4a1-3061-43ab-b519-41a20cf18219",
   "metadata": {},
   "source": [
    "- **문제** : 준하는 사이트에 회원가입을 하다가 joonas라는 아이디가 이미 존재하는 것을 보고 놀랐다. 준하는 놀람을 ??!로 표현한다. 준하가 가입하려고 하는 사이트에 이미 존재하는 아이디가 주어졌을 때, 놀람을 표현하는 프로그램을 작성하시오.\n",
    "- **입력** : 첫째 줄에 준하가 가입하려고 하는 사이트에 이미 존재하는 아이디가 주어진다. 아이디는 알파벳 소문자로만 이루어져 있으며, 길이는 50자를 넘지 않는다.\n",
    "    - `joonas`\n",
    "    - `baekjoon`\n",
    "- **출력** : 첫째 줄에 준하의 놀람을 출력한다. 놀람은 아이디 뒤에 ??!를 붙여서 나타낸다.\n",
    "    - `joonas??!`\n",
    "    - `baekjoon??!`\n",
    "- **풀이 방법**\n",
    "    - 이 문제는 위의 문제들과 다르게 문자열을 입력으로 받는다. `input()` (int 필요 없음)\n",
    "    - 출력은 입력받는 아이디에 ??!라는 문자열을 붙여야 하므로 `+\"??!\"`"
   ]
  },
  {
   "cell_type": "code",
   "execution_count": 20,
   "id": "c89b2019-91b3-4b3e-8ff6-06dc21f85385",
   "metadata": {},
   "outputs": [
    {
     "name": "stdin",
     "output_type": "stream",
     "text": [
      " joonas\n"
     ]
    },
    {
     "name": "stdout",
     "output_type": "stream",
     "text": [
      "joonas??!\n"
     ]
    }
   ],
   "source": [
    "id = input()\n",
    "print(id+\"??!\")"
   ]
  },
  {
   "cell_type": "markdown",
   "id": "3edac9ae-cb23-4d16-bd32-913df0e3f6ae",
   "metadata": {},
   "source": [
    "-------------------------------------------------------------------------"
   ]
  },
  {
   "cell_type": "markdown",
   "id": "bdf76a1c-9fbf-45c7-9f3a-0fb0d64ceab0",
   "metadata": {},
   "source": [
    "#### 단계8 : 18108번(1998년생인 내가 태국에서는 2541년생?!)"
   ]
  },
  {
   "cell_type": "markdown",
   "id": "08a6349b-7fc8-4b9e-8d25-1fe25c1d9731",
   "metadata": {},
   "source": [
    "- **문제** : ICPC Bangkok Regional에 참가하기 위해 수완나품 국제공항에 막 도착한 팀 레드시프트 일행은 눈을 믿을 수 없었다. 공항의 대형 스크린에 올해가 2562년이라고 적혀 있던 것이었다. 불교 국가인 태국은 불멸기원(佛滅紀元), 즉 석가모니가 열반한 해를 기준으로 연도를 세는 불기를 사용한다. 반면, 우리나라는 서기 연도를 사용하고 있다. 불기 연도가 주어질 때 이를 서기 연도로 바꿔 주는 프로그램을 작성하시오.\n",
    "- **입력** : 서기 연도를 알아보고 싶은 불기 연도 y가 주어진다. (1000 ≤ y ≤ 3000)\n",
    "    - `2541`\n",
    "- **출력** : 불기 연도를 서기 연도로 변환한 결과를 출력한다.\n",
    "    - `1998`\n",
    "- **풀이 방법** \n",
    "    - 입력은 숫자로 받고 출력은 서기와 불기의 차이인 543년을 빼서 출력한다."
   ]
  },
  {
   "cell_type": "code",
   "execution_count": 21,
   "id": "61963a04-bca4-4ee3-ab43-2f05f4df4fe3",
   "metadata": {},
   "outputs": [
    {
     "name": "stdin",
     "output_type": "stream",
     "text": [
      " 2541\n"
     ]
    },
    {
     "name": "stdout",
     "output_type": "stream",
     "text": [
      "1998\n"
     ]
    }
   ],
   "source": [
    "y = int(input())\n",
    "print(y-543)"
   ]
  },
  {
   "cell_type": "markdown",
   "id": "321e871d-b451-4329-a6f5-cede18535dec",
   "metadata": {},
   "source": [
    "-------------------------------------------------------------------------"
   ]
  },
  {
   "cell_type": "markdown",
   "id": "d5296b53-e561-45dd-9819-c2cf01389afe",
   "metadata": {},
   "source": [
    "#### 단계9 : 10430번(나머지)"
   ]
  },
  {
   "cell_type": "markdown",
   "id": "24dc51de-acca-4bc7-9db0-b9cfc9056ce7",
   "metadata": {},
   "source": [
    "- **문제** : (A+B)%C는 ((A%C) + (B%C))%C 와 같을까? (A×B)%C는 ((A%C) × (B%C))%C 와 같을까? 세 수 A, B, C가 주어졌을 때, 위의 네 가지 값을 구하는 프로그램을 작성하시오.\n",
    "- **입력** : 첫째 줄에 A, B, C가 순서대로 주어진다. (2 ≤ A, B, C ≤ 10000)\n",
    "    - `5 8 4`\n",
    "- **출력** : 첫째 줄에 (A+B)%C, 둘째 줄에 ((A%C) + (B%C))%C, 셋째 줄에 (A×B)%C, 넷째 줄에 ((A%C) × (B%C))%C를 출력한다.\n",
    "    - `'\\n1\\n0\\n0'`\n",
    "- **풀이 방법** "
   ]
  },
  {
   "cell_type": "code",
   "execution_count": 24,
   "id": "78ab2153-10b5-46fe-aa34-59db30d8e970",
   "metadata": {},
   "outputs": [
    {
     "name": "stdin",
     "output_type": "stream",
     "text": [
      " 5 8 4\n"
     ]
    },
    {
     "name": "stdout",
     "output_type": "stream",
     "text": [
      "1\n",
      "1\n",
      "0\n",
      "0\n"
     ]
    }
   ],
   "source": [
    "A, B, C = map(int, input().split())\n",
    "print((A+B)%C, ((A%C) + (B%C))%C, (A*B)%C, ((A%C) * (B%C))%C, sep='\\n')"
   ]
  },
  {
   "cell_type": "markdown",
   "id": "0c77cff6-c42e-4127-b8d1-80703549a33f",
   "metadata": {},
   "source": [
    "-------------------------------------------------------------------------"
   ]
  },
  {
   "cell_type": "markdown",
   "id": "99c9f94f-cfa7-4cdc-b524-cd12d64dc436",
   "metadata": {},
   "source": [
    "#### 단계10 : 2588번(곱셈)"
   ]
  },
  {
   "cell_type": "markdown",
   "id": "92ba5cb9-c123-46ec-a9e2-e80d2dbeade8",
   "metadata": {},
   "source": [
    "- **문제** : (세 자리 수) × (세 자리 수)는 다음과 같은 과정을 통하여 이루어진다. (1)과 (2)위치에 들어갈 세 자리 자연수가 주어질 때 (3), (4), (5), (6)위치에 들어갈 값을 구하는 프로그램을 작성하시오.\n",
    "- **입력** : 첫째 줄에 (1)의 위치에 들어갈 세 자리 자연수가, 둘째 줄에 (2)의 위치에 들어갈 세자리 자연수가 주어진다.\n",
    "    - `'472\\n385'`\n",
    "- **출력** : \n",
    "    - `'2360\\n3776\\n1416\\n181720'`\n",
    "- **풀이 방법** : "
   ]
  },
  {
   "cell_type": "code",
   "execution_count": 31,
   "id": "f1fab5fe-22f8-4b1b-afa0-4fa5e0626bd0",
   "metadata": {},
   "outputs": [
    {
     "name": "stdin",
     "output_type": "stream",
     "text": [
      " 472\n",
      " 385\n"
     ]
    },
    {
     "name": "stdout",
     "output_type": "stream",
     "text": [
      "2360\n",
      "3776\n",
      "1416\n",
      "181720\n"
     ]
    }
   ],
   "source": [
    "a = int(input())\n",
    "b = input()\n",
    "print(a * int(b[2]), a * int(b[1]), a * int(b[0]), a * int(b), sep='\\n')"
   ]
  },
  {
   "cell_type": "markdown",
   "id": "8d4dba1a-7e6f-4fc1-8f7e-bbe0b0d3370e",
   "metadata": {},
   "source": [
    "-------------------------------------------------------------------------"
   ]
  },
  {
   "cell_type": "markdown",
   "id": "4fcae533-c5ab-4d8f-b048-5525f19336fd",
   "metadata": {},
   "source": [
    "#### 단계11 : 11382번(꼬마 정민)"
   ]
  },
  {
   "cell_type": "markdown",
   "id": "47b1fe45-39aa-446f-8960-283a40e47ecb",
   "metadata": {},
   "source": [
    "- **문제** : 꼬마 정민이는 이제 A + B 정도는 쉽게 계산할 수 있다. 이제 A + B + C를 계산할 차례이다!\n",
    "- **입력** : 첫 번째 줄에 A, B, C (1 ≤ A, B, C ≤ 1012)이 공백을 사이에 두고 주어진다.\n",
    "    - `77 77 7777`\n",
    "- **출력** : A+B+C의 값을 출력한다.\n",
    "    - `7931`\n",
    "- **풀이 방법** "
   ]
  },
  {
   "cell_type": "code",
   "execution_count": 32,
   "id": "fbe09b1f-225d-4863-b3f2-5fb4455c812b",
   "metadata": {},
   "outputs": [
    {
     "name": "stdin",
     "output_type": "stream",
     "text": [
      " 77 77 7777\n"
     ]
    },
    {
     "name": "stdout",
     "output_type": "stream",
     "text": [
      "7931\n"
     ]
    }
   ],
   "source": [
    "A, B, C = map(int, input().split())\n",
    "print(A+B+C)"
   ]
  },
  {
   "cell_type": "markdown",
   "id": "aa45a9cd-94e4-48fb-9b7b-9087083db000",
   "metadata": {},
   "source": [
    "-------------------------------------------------------------------------"
   ]
  },
  {
   "cell_type": "markdown",
   "id": "f27947ac-344f-4396-9e98-0e0a6a6e2c04",
   "metadata": {},
   "source": [
    "#### 단계12 : 10171번(고양이)"
   ]
  },
  {
   "cell_type": "markdown",
   "id": "683e70f3-22d5-4ae9-a36f-f5383c8a4bca",
   "metadata": {},
   "source": [
    "- **문제** : 아래 예제와 같이 고양이를 출력하시오.\n",
    "- **입력** : 없음.\n",
    "- **출력** : 고양이를 출력한다.\n",
    "    - `\\    /\\`\n",
    "    - ` )  ( ')`\n",
    "    - `(  /  )`\n",
    "    - ` \\(__)|`\n",
    "- **풀이 방법** : \n",
    "    - \\출력 : `\\\\` 두번 써 주어야 한다."
   ]
  },
  {
   "cell_type": "code",
   "execution_count": 51,
   "id": "8215e90d-5a66-4b0a-838b-4e938e78f626",
   "metadata": {},
   "outputs": [
    {
     "name": "stdout",
     "output_type": "stream",
     "text": [
      "\\    /\\\n",
      " )  ( ')\n",
      "(  /  )\n",
      " \\(__)|\n"
     ]
    }
   ],
   "source": [
    "print(\"\\\\    /\\\\\", \n",
    "      \" )  ( ')\", \n",
    "      \"(  /  )\",\n",
    "      \" \\\\(__)|\", sep='\\n')"
   ]
  },
  {
   "cell_type": "markdown",
   "id": "5d1da468-de76-49fc-a042-01e04f3ecac4",
   "metadata": {},
   "source": [
    "-------------------------------------------------------------------------"
   ]
  },
  {
   "cell_type": "markdown",
   "id": "7d38f98d-abb1-43e3-a2d1-ed1decf853d3",
   "metadata": {},
   "source": [
    "#### 단계13 : 10172번(개)"
   ]
  },
  {
   "cell_type": "markdown",
   "id": "5016690a-48eb-41cb-be6b-679d02044174",
   "metadata": {},
   "source": [
    "- **문제** : 아래 예제와 같이 개를 출력하시오.\n",
    "- **입력** : 없음.\n",
    "- **출력** : 개를 출력한다.\n",
    "    - `|\\_/|`\n",
    "    - `|q p|   /}`\n",
    "    - `( 0 )\"\"\"\\`\n",
    "    - `|\"^\"`    |`\n",
    "    - `||_/=\\\\__|`\n",
    "- **풀이 방법** : \n",
    "    - `'`를 출력해야 할 때는 \"\"으로 작성\n",
    "    - `\"`를 출력해야 할 때는 ''으로 작성"
   ]
  },
  {
   "cell_type": "code",
   "execution_count": 67,
   "id": "7771ae87-cfa7-44c5-b51e-72fb156a6c5f",
   "metadata": {},
   "outputs": [
    {
     "name": "stdout",
     "output_type": "stream",
     "text": [
      "|\\_/|\n",
      "|q p|   /}\n",
      "( 0 )\"\"\"\\\n",
      "|\"^\"`    |\n",
      "||_/=\\\\__|\n"
     ]
    }
   ],
   "source": [
    "print(\"|\\\\_/|\",\n",
    "      \"|q p|   /}\",\n",
    "      '( 0 )\"\"\"\\\\',\n",
    "      '|\"^\"`    |',\n",
    "      \"||_/=\\\\\\__|\", sep='\\n')"
   ]
  }
 ],
 "metadata": {
  "kernelspec": {
   "display_name": "Python 3 (ipykernel)",
   "language": "python",
   "name": "python3"
  },
  "language_info": {
   "codemirror_mode": {
    "name": "ipython",
    "version": 3
   },
   "file_extension": ".py",
   "mimetype": "text/x-python",
   "name": "python",
   "nbconvert_exporter": "python",
   "pygments_lexer": "ipython3",
   "version": "3.9.13"
  }
 },
 "nbformat": 4,
 "nbformat_minor": 5
}
