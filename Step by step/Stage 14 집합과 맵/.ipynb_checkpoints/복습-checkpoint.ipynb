{
 "cells": [
  {
   "cell_type": "markdown",
   "id": "12191d66-d0f1-418a-a081-eb453c56f2e6",
   "metadata": {},
   "source": [
    "### Stage14 집합과 맵 "
   ]
  },
  {
   "cell_type": "markdown",
   "id": "39850aae-5d65-44cc-a65b-4c102af7819e",
   "metadata": {},
   "source": [
    "#### 💡단계1 : 10815번(숫자 카드1)"
   ]
  },
  {
   "cell_type": "markdown",
   "id": "13e38cea-3407-4ee8-b213-c52c3ee63d37",
   "metadata": {},
   "source": [
    "- **문제** : 숫자 카드는 정수 하나가 적혀져 있는 카드이다. 상근이는 숫자 카드 N개를 가지고 있다. 정수 M개가 주어졌을 때, 이 수가 적혀있는 숫자 카드를 상근이가 가지고 있는지 아닌지를 구하는 프로그램을 작성하시오.\n",
    "\n",
    "- **입력** : 첫째 줄에 상근이가 가지고 있는 숫자 카드의 개수 N(1 ≤ N ≤ 500,000)이 주어진다. 둘째 줄에는 숫자 카드에 적혀있는 정수가 주어진다. 숫자 카드에 적혀있는 수는 -10,000,000보다 크거나 같고, 10,000,000보다 작거나 같다. 두 숫자 카드에 같은 수가 적혀있는 경우는 없다. 셋째 줄에는 M(1 ≤ M ≤ 500,000)이 주어진다. 넷째 줄에는 상근이가 가지고 있는 숫자 카드인지 아닌지를 구해야 할 M개의 정수가 주어지며, 이 수는 공백으로 구분되어져 있다. 이 수도 -10,000,000보다 크거나 같고, 10,000,000보다 작거나 같다\n",
    "\n",
    "- **출력** : 첫째 줄에 입력으로 주어진 M개의 수에 대해서, 각 수가 적힌 숫자 카드를 상근이가 가지고 있으면 1을, 아니면 0을 공백으로 구분해 출력한다.\n",
    "\n",
    "- **예제 입출력** \n",
    "    - 입력1\n",
    "        - `5`\n",
    "        - `6 3 2 10 -10`\n",
    "        - `8`\n",
    "        - `10 9 -5 2 3 4 5 -10`\n",
    "        \n",
    "    - 출력1\n",
    "        - `1 0 0 1 1 0 0 1`"
   ]
  },
  {
   "cell_type": "code",
   "execution_count": 2,
   "id": "10993ebc-7102-40a7-aed7-d79af9c2f305",
   "metadata": {},
   "outputs": [
    {
     "name": "stdin",
     "output_type": "stream",
     "text": [
      " 5\n",
      " 6 3 2 10 -10\n",
      " 8\n",
      " 10 9 -5 2 3 4 5 -10\n"
     ]
    }
   ],
   "source": [
    "n = int(input())\n",
    "n_list = list(map(int, input().split()))\n",
    "m = int(input())\n",
    "m_list = list(map(int, input().split()))\n",
    "\n",
    "for i in m_list :\n",
    "    if i in n_list :\n",
    "        print(1, end=' ')\n",
    "    else :\n",
    "        print(0, end=' ')"
   ]
  },
  {
   "cell_type": "code",
   "execution_count": 6,
   "id": "23f97087-b4d1-40cf-b0ed-bb7b168e6e9d",
   "metadata": {},
   "outputs": [
    {
     "name": "stdin",
     "output_type": "stream",
     "text": [
      " 5\n",
      " 6 3 2 10 -10\n",
      " 8\n",
      " 10 9 -5 2 3 4 5 -10\n"
     ]
    },
    {
     "name": "stdout",
     "output_type": "stream",
     "text": [
      "1 0 0 1 1 0 0 1 "
     ]
    }
   ],
   "source": [
    "# 딕셔너리로 만들기\n",
    "n = int(input())\n",
    "n_list = list(map(int, input().split()))\n",
    "m = int(input())\n",
    "m_list = list(map(int, input().split()))\n",
    "\n",
    "diction = {}\n",
    "for i in n_list :\n",
    "    # 아무 숫자나 value값으로 지정\n",
    "    diction[i] = 2 \n",
    "\n",
    "for j in m_list :\n",
    "    if j in diction :\n",
    "        print(1, end=' ')\n",
    "    else :\n",
    "        print(0, end=' ')"
   ]
  },
  {
   "cell_type": "markdown",
   "id": "d18c93be-168d-4d5d-9c99-35904ffb9d8d",
   "metadata": {},
   "source": [
    "---"
   ]
  },
  {
   "cell_type": "markdown",
   "id": "3c9497b2-a374-4389-a9ef-2a3a80142986",
   "metadata": {},
   "source": [
    "#### ✔단계2 : 14425번(문자열 집합)"
   ]
  },
  {
   "cell_type": "markdown",
   "id": "67a05331-fdf0-4798-80b5-b2972b8ea7ef",
   "metadata": {},
   "source": [
    "- **문제** : 총 N개의 문자열로 이루어진 집합 S가 주어진다. 입력으로 주어지는 M개의 문자열 중에서 집합 S에 포함되어 있는 것이 총 몇 개인지 구하는 프로그램을 작성하시오. \n",
    "\n",
    "- **입력** : 첫째 줄에 문자열의 개수 N과 M (1 ≤ N ≤ 10,000, 1 ≤ M ≤ 10,000)이 주어진다. 다음 N개의 줄에는 집합 S에 포함되어 있는 문자열들이 주어진다. 다음 M개의 줄에는 검사해야 하는 문자열들이 주어진다. 입력으로 주어지는 문자열은 알파벳 소문자로만 이루어져 있으며, 길이는 500을 넘지 않는다. 집합 S에 같은 문자열이 여러 번 주어지는 경우는 없다.\n",
    "\n",
    "- **출력** : 첫째 줄에 M개의 문자열 중에 총 몇 개가 집합 S에 포함되어 있는지 출력한다.\n",
    "\n",
    "- **예제 입출력** \n",
    "    - 입력1\n",
    "        - `5`\n",
    "        - `11`\n",
    "        - `baekjoononlinejudge`\n",
    "        - `startlink0`\n",
    "        - `...`\n",
    "        \n",
    "    - 출력1\n",
    "        - `4`"
   ]
  },
  {
   "cell_type": "code",
   "execution_count": 28,
   "id": "28ea36da-bdf1-4c90-9f4d-2a9392d28f74",
   "metadata": {},
   "outputs": [
    {
     "name": "stdin",
     "output_type": "stream",
     "text": [
      " 5 11\n"
     ]
    }
   ],
   "source": [
    "n, m = map(int, input().split())\n",
    "\n",
    "n_list = []\n",
    "for i in range(n) :\n",
    "    n_list.append(input())\n",
    "    \n",
    "m_list = []\n",
    "for j in range(m) :\n",
    "    m_list.append(input())\n",
    "    \n",
    "nn = 0\n",
    "for k in m_list :\n",
    "    if k in n_list :\n",
    "        nn += 1\n",
    "print(nn)"
   ]
  },
  {
   "cell_type": "markdown",
   "id": "ee3b50e4-2420-4d63-a9f3-97bc9bb2a079",
   "metadata": {},
   "source": [
    "---"
   ]
  },
  {
   "cell_type": "markdown",
   "id": "e4942edb-a18f-43bd-ae92-9cdb65db0ac5",
   "metadata": {},
   "source": [
    "#### ✔단계3 : 7785번(회사에 있는 사람)"
   ]
  },
  {
   "cell_type": "markdown",
   "id": "a47a8bbb-5e2f-49c1-8dff-a3b11ed2c4d7",
   "metadata": {},
   "source": [
    "- **문제** : 상근이는 세계적인 소프트웨어 회사 기글에서 일한다. 이 회사의 가장 큰 특징은 자유로운 출퇴근 시간이다. 따라서, 직원들은 반드시 9시부터 6시까지 회사에 있지 않아도 된다. 각 직원은 자기가 원할 때 출근할 수 있고, 아무때나 퇴근할 수 있다. 상근이는 모든 사람의 출입카드 시스템의 로그를 가지고 있다. 이 로그는 어떤 사람이 회사에 들어왔는지, 나갔는지가 기록되어져 있다. 로그가 주어졌을 때, 현재 회사에 있는 모든 사람을 구하는 프로그램을 작성하시오.\n",
    "\n",
    "- **입력** : 첫째 줄에 로그에 기록된 출입 기록의 수 n이 주어진다. (2 ≤ n ≤ 106) 다음 n개의 줄에는 출입 기록이 순서대로 주어지며, 각 사람의 이름이 주어지고 \"enter\"나 \"leave\"가 주어진다. \"enter\"인 경우는 출근, \"leave\"인 경우는 퇴근이다. 회사에는 동명이인이 없으며, 대소문자가 다른 경우에는 다른 이름이다. 사람들의 이름은 알파벳 대소문자로 구성된 5글자 이하의 문자열이다.\n",
    "\n",
    "- **출력** : 현재 회사에 있는 사람의 이름을 사전 순의 역순으로 한 줄에 한 명씩 출력한다.\n",
    "\n",
    "- **예제 입출력** \n",
    "    - 입력1\n",
    "        - `4`\n",
    "        - `Baha enter`\n",
    "        - `Askar enter`\n",
    "        - `Baha leave`\n",
    "        - `Artem enter`\n",
    "        \n",
    "    - 출력1\n",
    "        - `Askar`\n",
    "        - `Artem`"
   ]
  },
  {
   "cell_type": "code",
   "execution_count": 35,
   "id": "17acff18-b7cb-4e20-b346-163141def106",
   "metadata": {},
   "outputs": [
    {
     "name": "stdin",
     "output_type": "stream",
     "text": [
      " 4\n",
      " Baha enter\n",
      " Askar enter\n",
      " Baha leave\n",
      " Artem enter\n"
     ]
    }
   ],
   "source": [
    "n = int(input())\n",
    "n_list = []\n",
    "for i in range(n) :\n",
    "    name_el = list(input().split())\n",
    "    n_list.append(name_el)\n",
    "    \n",
    "diction = {}\n",
    "for j in n_list :\n",
    "    diction[j[0]] = j[1]  # key, value\n",
    "    \n",
    "name = []\n",
    "for k in diction :\n",
    "    if diction[k] == 'enter' :\n",
    "        name.append(k)\n",
    "        \n",
    "name.sort(reverse=True)\n",
    "for i in name :\n",
    "    print(i, sep='\\n')"
   ]
  },
  {
   "cell_type": "markdown",
   "id": "5eac4699-d535-4a54-b74b-d614a727d0fc",
   "metadata": {},
   "source": [
    "---"
   ]
  },
  {
   "cell_type": "markdown",
   "id": "e8c017be-c571-49fa-9123-5e4a528aa77e",
   "metadata": {},
   "source": [
    "#### 💡단계4 : 1620번(나는야 포켓몬 마스터 이다솜)"
   ]
  },
  {
   "cell_type": "markdown",
   "id": "c37623f2-3c5d-4185-a1cb-6023425dc7be",
   "metadata": {},
   "source": [
    "- **문제** : 오박사 : 그럼 다솜아 이제 진정한 포켓몬 마스터가 되기 위해 도감을 완성시키도록 하여라. 일단 네가 현재 가지고 있는 포켓몬 도감에서 포켓몬의 이름을 보면 포켓몬의 번호를 말하거나, 포켓몬의 번호를 보면 포켓몬의 이름을 말하는 연습을 하도록 하여라. 나의 시험을 통과하면, 내가 새로 만든 도감을 주도록 하겠네.\n",
    "\n",
    "- **입력** : 첫째 줄에는 도감에 수록되어 있는 포켓몬의 개수 N이랑 내가 맞춰야 하는 문제의 개수 M이 주어져. N과 M은 1보다 크거나 같고, 100,000보다 작거나 같은 자연수인데, 자연수가 뭔지는 알지? 모르면 물어봐도 괜찮아. 나는 언제든지 질문에 답해줄 준비가 되어있어. 둘째 줄부터 N개의 줄에 포켓몬의 번호가 1번인 포켓몬부터 N번에 해당하는 포켓몬까지 한 줄에 하나씩 입력으로 들어와. 포켓몬의 이름은 모두 영어로만 이루어져있고, 또, 음... 첫 글자만 대문자이고, 나머지 문자는 소문자로만 이루어져 있어. 아참! 일부 포켓몬은 마지막 문자만 대문자일 수도 있어. 포켓몬 이름의 최대 길이는 20, 최소 길이는 2야. 그 다음 줄부터 총 M개의 줄에 내가 맞춰야하는 문제가 입력으로 들어와. 문제가 알파벳으로만 들어오면 포켓몬 번호를 말해야 하고, 숫자로만 들어오면, 포켓몬 번호에 해당하는 문자를 출력해야해. 입력으로 들어오는 숫자는 반드시 1보다 크거나 같고, N보다 작거나 같고, 입력으로 들어오는 문자는 반드시 도감에 있는 포켓몬의 이름만 주어져. 그럼 화이팅!!!\n",
    "\n",
    "- **출력** : 첫째 줄부터 차례대로 M개의 줄에 각각의 문제에 대한 답을 말해줬으면 좋겠어!!!. 입력으로 숫자가 들어왔다면 그 숫자에 해당하는 포켓몬의 이름을, 문자가 들어왔으면 그 포켓몬의 이름에 해당하는 번호를 출력하면 돼. 그럼 땡큐~\n",
    "\n",
    "- **예제 입출력** \n",
    "    - 입력1\n",
    "        - `26 5`\n",
    "        - `Bulbasaur`\n",
    "        - `Ivysaur`\n",
    "        - `Venusaur`\n",
    "        - `...`\n",
    "        \n",
    "    - 출력1\n",
    "        - `Pikachu`\n",
    "        - `26`\n",
    "        - `Venusaur`\n",
    "        - `16`\n",
    "        - `14`"
   ]
  },
  {
   "cell_type": "code",
   "execution_count": 56,
   "id": "e4b168c4-fb88-4bd6-8485-ede42bae8b19",
   "metadata": {},
   "outputs": [
    {
     "name": "stdin",
     "output_type": "stream",
     "text": [
      " 26 5\n",
      " Bulbasaur\n",
      " Ivysaur\n",
      " Venusaur\n",
      " Charmander\n",
      " Charmeleon\n",
      " Charizard\n",
      " Squirtle\n",
      " Wartortle\n",
      " Blastoise\n",
      " Caterpie\n",
      " Metapod\n",
      " Butterfree\n",
      " Weedle\n",
      " Kakuna\n",
      " Beedrill\n",
      " Pidgey\n",
      " Pidgeotto\n",
      " Pidgeot\n",
      " Rattata\n",
      " Raticate\n",
      " Spearow\n",
      " Fearow\n",
      " Ekans\n",
      " Arbok\n",
      " Pikachu\n",
      " Raichu\n",
      " 25\n",
      " Raichu\n",
      " 3\n",
      " Pidgey\n",
      " Kakuna\n"
     ]
    }
   ],
   "source": [
    "n, m = map(int, input().split())\n",
    "n_list = []\n",
    "m_list = []\n",
    "for i in range(n) :\n",
    "    n_list.append(input())\n",
    "    \n",
    "for j in range(m) :\n",
    "    m_list.append(input())"
   ]
  },
  {
   "cell_type": "code",
   "execution_count": 83,
   "id": "44a0f37d-6161-4d3d-ab6a-455853fe69da",
   "metadata": {},
   "outputs": [],
   "source": [
    "diction = {}\n",
    "\n",
    "for i in range(len(n_list)) : \n",
    "    diction[i+1] = n_list[i]"
   ]
  },
  {
   "cell_type": "code",
   "execution_count": 81,
   "id": "b16d2eb2-2058-40aa-9185-41df95fa81b4",
   "metadata": {},
   "outputs": [],
   "source": [
    "diction_r = {}\n",
    "for i in range(len(n_list)) : \n",
    "    diction_r[n_list[i]] = i+1"
   ]
  },
  {
   "cell_type": "code",
   "execution_count": 82,
   "id": "96149fa5-e8ea-493c-96ad-e09084ea04a8",
   "metadata": {},
   "outputs": [
    {
     "data": {
      "text/plain": [
       "{'Bulbasaur': 1,\n",
       " 'Ivysaur': 2,\n",
       " 'Venusaur': 3,\n",
       " 'Charmander': 4,\n",
       " 'Charmeleon': 5,\n",
       " 'Charizard': 6,\n",
       " 'Squirtle': 7,\n",
       " 'Wartortle': 8,\n",
       " 'Blastoise': 9,\n",
       " 'Caterpie': 10,\n",
       " 'Metapod': 11,\n",
       " 'Butterfree': 12,\n",
       " 'Weedle': 13,\n",
       " 'Kakuna': 14,\n",
       " 'Beedrill': 15,\n",
       " 'Pidgey': 16,\n",
       " 'Pidgeotto': 17,\n",
       " 'Pidgeot': 18,\n",
       " 'Rattata': 19,\n",
       " 'Raticate': 20,\n",
       " 'Spearow': 21,\n",
       " 'Fearow': 22,\n",
       " 'Ekans': 23,\n",
       " 'Arbok': 24,\n",
       " 'Pikachu': 25,\n",
       " 'Raichu': 26}"
      ]
     },
     "execution_count": 82,
     "metadata": {},
     "output_type": "execute_result"
    }
   ],
   "source": [
    "diction_r"
   ]
  },
  {
   "cell_type": "code",
   "execution_count": 116,
   "id": "c8de2983-6270-49bd-b3f4-7d9a83ea3497",
   "metadata": {},
   "outputs": [
    {
     "name": "stdout",
     "output_type": "stream",
     "text": [
      "Pikachu\n",
      "26\n",
      "Venusaur\n",
      "16\n",
      "14\n"
     ]
    }
   ],
   "source": [
    "for k in m_list :\n",
    "    if k.isdigit() == True :\n",
    "        print(diction[int(k)])\n",
    "    else :\n",
    "        print(diction_r[k])  "
   ]
  },
  {
   "cell_type": "markdown",
   "id": "7f338fbb-e8df-4f99-9d86-899b84cfbb9b",
   "metadata": {},
   "source": [
    "---"
   ]
  },
  {
   "cell_type": "markdown",
   "id": "fd74f6c3-bd97-41c6-a871-ee14c5901253",
   "metadata": {},
   "source": [
    "#### ❌단계5 : 10816번(숫자 카드2)"
   ]
  },
  {
   "cell_type": "markdown",
   "id": "433ec1f6-4618-4a5c-9851-bf5596da0ba9",
   "metadata": {},
   "source": [
    "- **문제** : 숫자 카드는 정수 하나가 적혀져 있는 카드이다. 상근이는 숫자 카드 N개를 가지고 있다. 정수 M개가 주어졌을 때, 이 수가 적혀있는 숫자 카드를 상근이가 몇 개 가지고 있는지 구하는 프로그램을 작성하시오.\n",
    "\n",
    "- **입력** : 첫째 줄에 상근이가 가지고 있는 숫자 카드의 개수 N(1 ≤ N ≤ 500,000)이 주어진다. 둘째 줄에는 숫자 카드에 적혀있는 정수가 주어진다. 숫자 카드에 적혀있는 수는 -10,000,000보다 크거나 같고, 10,000,000보다 작거나 같다. 셋째 줄에는 M(1 ≤ M ≤ 500,000)이 주어진다. 넷째 줄에는 상근이가 몇 개 가지고 있는 숫자 카드인지 구해야 할 M개의 정수가 주어지며, 이 수는 공백으로 구분되어져 있다. 이 수도 -10,000,000보다 크거나 같고, 10,000,000보다 작거나 같다.\n",
    "\n",
    "- **출력** : 첫째 줄에 입력으로 주어진 M개의 수에 대해서, 각 수가 적힌 숫자 카드를 상근이가 몇 개 가지고 있는지를 공백으로 구분해 출력한다.\n",
    "\n",
    "- **예제 입출력** \n",
    "    - 입력1\n",
    "        - `10`\n",
    "        - `6 3 2 10 10 10 -10 -10 7 3`\n",
    "        - `8`\n",
    "        - `10 9 -5 2 3 4 5 -10`\n",
    "        \n",
    "    - 출력1\n",
    "        - `3 0 0 1 2 0 0 2`"
   ]
  },
  {
   "cell_type": "code",
   "execution_count": 8,
   "id": "74b761d7-d065-4fda-bf9e-51ce874870b9",
   "metadata": {},
   "outputs": [
    {
     "name": "stdin",
     "output_type": "stream",
     "text": [
      " 10\n",
      " 6 3 2 10 10 10 -10 -10 7 3\n",
      " 8\n",
      " 10 9 -5 2 3 4 5 -10\n"
     ]
    }
   ],
   "source": [
    "# 시간초과...\n",
    "n = int(input())\n",
    "n_list = list(map(int, input().split()))\n",
    "m = int(input())\n",
    "m_list = list(map(int, input().split()))\n",
    "\n",
    "n_set = list(set(n_list))\n",
    "n_dict = {}\n",
    "\n",
    "for i in range(len(n_set)) :\n",
    "    n_dict[n_set[i]] = n_list.count(n_list[i])\n",
    "    \n",
    "for j in m_list :\n",
    "    # key값으로 찾고\n",
    "    if j in n_dict :\n",
    "        # value값 print\n",
    "        print(n_dict[j], end=' ')\n",
    "    else :\n",
    "        print(0, end=' ')"
   ]
  },
  {
   "cell_type": "code",
   "execution_count": null,
   "id": "ac185aea-b068-4961-af71-1422e199afb4",
   "metadata": {},
   "outputs": [],
   "source": [
    "import sys\n",
    "sys.stdin.readline\n",
    "from collections import Counter\n",
    "_ = sys.stdin.readline()\n",
    "N = sys.stdin.readline().split()\n",
    "_ = sys.stdin.readline()\n",
    "M = sys.stdin.readline().split()\n",
    "\n",
    "C = Counter(N)\n",
    "\n",
    "for m in M : \n",
    "    if m in C : \n",
    "        print(C[m], end=' ')\n",
    "    else : \n",
    "        print(0, end=' ')"
   ]
  },
  {
   "cell_type": "markdown",
   "id": "843d7ce7-858e-42b7-a7c2-1948798a7c1a",
   "metadata": {},
   "source": [
    "---"
   ]
  },
  {
   "cell_type": "markdown",
   "id": "81f6fb38-a4b7-49c8-a635-bce61863a26d",
   "metadata": {},
   "source": [
    "#### 💡단계6 : 1764번(듣보잡)"
   ]
  },
  {
   "cell_type": "markdown",
   "id": "eedf9d0b-1c1a-4246-ae54-d0b91695b28a",
   "metadata": {},
   "source": [
    "- **문제** : 김진영이 듣도 못한 사람의 명단과, 보도 못한 사람의 명단이 주어질 때, 듣도 보도 못한 사람의 명단을 구하는 프로그램을 작성하시오.\n",
    "\n",
    "- **입력** : 첫째 줄에 듣도 못한 사람의 수 N, 보도 못한 사람의 수 M이 주어진다. 이어서 둘째 줄부터 N개의 줄에 걸쳐 듣도 못한 사람의 이름과, N+2째 줄부터 보도 못한 사람의 이름이 순서대로 주어진다. 이름은 띄어쓰기 없이 알파벳 소문자로만 이루어지며, 그 길이는 20 이하이다. N, M은 500,000 이하의 자연수이다. 듣도 못한 사람의 명단에는 중복되는 이름이 없으며, 보도 못한 사람의 명단도 마찬가지이다.\n",
    "\n",
    "- **출력** : 듣보잡의 수와 그 명단을 사전순으로 출력한다.\n",
    "\n",
    "- **예제 입출력** \n",
    "    - 입력1\n",
    "        - `3 4`\n",
    "        - `ohhenrie`\n",
    "        - `charlie`\n",
    "        - `baesangwook`\n",
    "        - `obama`\n",
    "        - `baesangwook`\n",
    "        - `ohhenrie`\n",
    "        - `clinton`\n",
    "        \n",
    "    - 출력1\n",
    "        - `2`\n",
    "        - `baesangwook`\n",
    "        - `ohhenrie`"
   ]
  },
  {
   "cell_type": "code",
   "execution_count": 1,
   "id": "cea32e75-736a-4510-ae3d-10d5db287fe2",
   "metadata": {},
   "outputs": [
    {
     "name": "stdin",
     "output_type": "stream",
     "text": [
      " 3 4\n"
     ]
    }
   ],
   "source": [
    "# 시간초과...\n",
    "n, m = map(int, input().split())\n",
    "\n",
    "n_name = []\n",
    "m_name = []\n",
    "for i in range(n) :\n",
    "    n_name.append(input())\n",
    "for j in range(m) :\n",
    "    m_name.append(input())\n",
    "    \n",
    "nm_name = []\n",
    "for i in n_name :\n",
    "    for j in m_name :\n",
    "        if i == j :\n",
    "            nm_name.append(i)\n",
    "            \n",
    "print(len(nm_name))\n",
    "for nm in nm_name :\n",
    "    print(nm, sep='\\n')"
   ]
  },
  {
   "cell_type": "code",
   "execution_count": 6,
   "id": "160ded5e-e68f-4d31-821e-746007cc416d",
   "metadata": {},
   "outputs": [
    {
     "name": "stdin",
     "output_type": "stream",
     "text": [
      " 3 4\n",
      " ohhenrie\n",
      " charlie\n",
      " baesangwook\n",
      " obama\n",
      " baesangwook\n",
      " ohhenrie\n",
      " clinton\n"
     ]
    }
   ],
   "source": [
    "n, m = map(int, input().split())\n",
    "nm_name = []\n",
    "for i in range(n+m) :\n",
    "    nm_name.append(input())"
   ]
  },
  {
   "cell_type": "code",
   "execution_count": 7,
   "id": "c629ab6a-764c-41f2-a6b1-9763709b74f8",
   "metadata": {},
   "outputs": [],
   "source": [
    "from collections import Counter\n",
    "c = Counter(nm_name)"
   ]
  },
  {
   "cell_type": "code",
   "execution_count": 8,
   "id": "dd232721-cca6-4a02-8a06-d08defe899a9",
   "metadata": {},
   "outputs": [
    {
     "data": {
      "text/plain": [
       "Counter({'ohhenrie': 2,\n",
       "         'charlie': 1,\n",
       "         'baesangwook': 2,\n",
       "         'obama': 1,\n",
       "         'clinton': 1})"
      ]
     },
     "execution_count": 8,
     "metadata": {},
     "output_type": "execute_result"
    }
   ],
   "source": [
    "# c 돌면서 각각의 이름를 찾아서 그 값의 value값이 2 이상이면 출력"
   ]
  },
  {
   "cell_type": "code",
   "execution_count": 9,
   "id": "5b812146-7901-4409-9d0d-5dd0983b15d7",
   "metadata": {},
   "outputs": [],
   "source": [
    "nm_list = []\n",
    "nm_name_set = list(set(nm_name))\n",
    "for nm in nm_name_set :\n",
    "    if c[nm] >= 2 :\n",
    "        nm_list.append(nm)"
   ]
  },
  {
   "cell_type": "code",
   "execution_count": 10,
   "id": "43e2fe1c-78db-4d63-8541-514e4e8f71c4",
   "metadata": {},
   "outputs": [
    {
     "data": {
      "text/plain": [
       "['baesangwook', 'ohhenrie']"
      ]
     },
     "execution_count": 10,
     "metadata": {},
     "output_type": "execute_result"
    }
   ],
   "source": [
    "nm_list"
   ]
  },
  {
   "cell_type": "code",
   "execution_count": 11,
   "id": "e585e92a-8d9a-49c4-b31d-2b2032cf6c9b",
   "metadata": {},
   "outputs": [
    {
     "name": "stdout",
     "output_type": "stream",
     "text": [
      "2\n",
      "baesangwook\n",
      "ohhenrie\n"
     ]
    }
   ],
   "source": [
    "print(len(nm_list))\n",
    "for k in nm_list :\n",
    "    print(k, sep='n')"
   ]
  },
  {
   "cell_type": "markdown",
   "id": "0d2f0914-47bd-4a1f-9c26-78a5b0edc811",
   "metadata": {},
   "source": [
    "---"
   ]
  },
  {
   "cell_type": "markdown",
   "id": "9629d859-01a7-452e-8eee-a63722f1b1b9",
   "metadata": {},
   "source": [
    "#### ✔단계7 : 1269번(대칭 차집합)"
   ]
  },
  {
   "cell_type": "markdown",
   "id": "3d83be11-0ed4-498a-9fb6-61df0a7478b9",
   "metadata": {},
   "source": [
    "- **문제** : \n",
    "\n",
    "- **입력** : \n",
    "\n",
    "- **출력** : \n",
    "- **예제 입출력** \n",
    "    - 입력1\n",
    "        - `5`\n",
    "        - `6 3 2 10 -10`\n",
    "        - `8`\n",
    "        - `10 9 -5 2 3 4 5 -10`\n",
    "        \n",
    "    - 출력1\n",
    "        - `1 0 0 1 1 0 0 1`"
   ]
  },
  {
   "cell_type": "code",
   "execution_count": null,
   "id": "02e8fadc-b07f-482a-9c32-cdb59c3c98d9",
   "metadata": {},
   "outputs": [],
   "source": []
  },
  {
   "cell_type": "markdown",
   "id": "12310c8b-57ca-44c3-87cc-c5692a1f3e42",
   "metadata": {},
   "source": [
    "---"
   ]
  },
  {
   "cell_type": "markdown",
   "id": "36a588ed-b7b9-479c-9efd-16399b6a333a",
   "metadata": {},
   "source": [
    "#### ✔단계8 : 11478번(서로 다른 부분 문자열의 개수)"
   ]
  },
  {
   "cell_type": "markdown",
   "id": "86dc0cde-9da7-4700-aca2-3d3fbafdb7b1",
   "metadata": {},
   "source": [
    "- **문제** : \n",
    "\n",
    "- **입력** : \n",
    "\n",
    "- **출력** : \n",
    "- **예제 입출력** \n",
    "    - 입력1\n",
    "        - `5`\n",
    "        - `6 3 2 10 -10`\n",
    "        - `8`\n",
    "        - `10 9 -5 2 3 4 5 -10`\n",
    "        \n",
    "    - 출력1\n",
    "        - `1 0 0 1 1 0 0 1`"
   ]
  },
  {
   "cell_type": "code",
   "execution_count": null,
   "id": "4c5c94ef-d054-4e48-90f2-e5395be83f1e",
   "metadata": {},
   "outputs": [],
   "source": []
  }
 ],
 "metadata": {
  "kernelspec": {
   "display_name": "Python 3 (ipykernel)",
   "language": "python",
   "name": "python3"
  },
  "language_info": {
   "codemirror_mode": {
    "name": "ipython",
    "version": 3
   },
   "file_extension": ".py",
   "mimetype": "text/x-python",
   "name": "python",
   "nbconvert_exporter": "python",
   "pygments_lexer": "ipython3",
   "version": "3.9.13"
  }
 },
 "nbformat": 4,
 "nbformat_minor": 5
}
