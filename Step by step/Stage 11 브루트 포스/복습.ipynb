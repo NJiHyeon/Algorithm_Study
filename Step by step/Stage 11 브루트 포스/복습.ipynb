{
 "cells": [
  {
   "cell_type": "markdown",
   "id": "63554c89-d025-45aa-b0f6-fc84da967720",
   "metadata": {},
   "source": [
    "### Stage1️⃣1️⃣ 브루트 포스"
   ]
  },
  {
   "cell_type": "markdown",
   "id": "275eb596-bcc6-4d4b-8004-4fb135d68cc3",
   "metadata": {},
   "source": [
    "#### ✔❌단계1 : 2798번(블랙잭)"
   ]
  },
  {
   "cell_type": "markdown",
   "id": "cb800a07-38a9-45df-864b-6238881e3972",
   "metadata": {},
   "source": [
    "- **문제** : 카지노에서 제일 인기 있는 게임 블랙잭의 규칙은 상당히 쉽다. 카드의 합이 21을 넘지 않는 한도 내에서, 카드의 합을 최대한 크게 만드는 게임이다. 블랙잭은 카지노마다 다양한 규정이 있다. 한국 최고의 블랙잭 고수 김정인은 새로운 블랙잭 규칙을 만들어 상근, 창영이와 게임하려고 한다. 김정인 버전의 블랙잭에서 각 카드에는 양의 정수가 쓰여 있다. 그 다음, 딜러는 N장의 카드를 모두 숫자가 보이도록 바닥에 놓는다. 그런 후에 딜러는 숫자 M을 크게 외친다. 이제 플레이어는 제한된 시간 안에 N장의 카드 중에서 3장의 카드를 골라야 한다. 블랙잭 변형 게임이기 때문에, 플레이어가 고른 카드의 합은 M을 넘지 않으면서 M과 최대한 가깝게 만들어야 한다. N장의 카드에 써져 있는 숫자가 주어졌을 때, M을 넘지 않으면서 M에 최대한 가까운 카드 3장의 합을 구해 출력하시오.\n",
    "\n",
    "- **입력** : 첫째 줄에 카드의 개수 N(3 ≤ N ≤ 100)과 M(10 ≤ M ≤ 300,000)이 주어진다. 둘째 줄에는 카드에 쓰여 있는 수가 주어지며, 이 값은 100,000을 넘지 않는 양의 정수이다. 합이 M을 넘지 않는 카드 3장을 찾을 수 있는 경우만 입력으로 주어진다.\n",
    "\n",
    "- **출력** : 첫째 줄에 M을 넘지 않으면서 M에 최대한 가까운 카드 3장의 합을 출력한다.\n",
    "\n",
    "- **예제 입출력** \n",
    "    - 입력1\n",
    "        - `5 21`\n",
    "        - `5 6 7 8 9`\n",
    "        \n",
    "       \n",
    "    - 출력1\n",
    "        - `21`\n"
   ]
  },
  {
   "cell_type": "code",
   "execution_count": 49,
   "id": "91e4fd8b-b34c-4e01-aafa-bf8b6459fa61",
   "metadata": {},
   "outputs": [
    {
     "name": "stdin",
     "output_type": "stream",
     "text": [
      " 10 500\n",
      " 93 181 245 214 315 36 185 138 216 295\n"
     ]
    },
    {
     "name": "stdout",
     "output_type": "stream",
     "text": [
      "497\n"
     ]
    }
   ],
   "source": [
    "import sys\n",
    "\n",
    "n, m = map(int, input().split())\n",
    "card = list(map(int, input().split()))\n",
    "\n",
    "from itertools import combinations\n",
    "combi = list(combinations(card, 3))\n",
    "\n",
    "combi_sum = []\n",
    "for i in range(len(combi)) :\n",
    "    combi_sum.append(sum(combi[i]))\n",
    "\n",
    "combi_sum = list(set(combi_sum))\n",
    "combi_new = []\n",
    "card_minus = []\n",
    "\n",
    "for j in combi_sum :\n",
    "    if j <= m :\n",
    "        combi_new.append(j)\n",
    "        card_minus.append(m-j)\n",
    "\n",
    "i = card_minus.index(min(card_minus))\n",
    "print(combi_new[i])"
   ]
  },
  {
   "cell_type": "code",
   "execution_count": 52,
   "id": "d0156023-c981-492f-b7cf-02652f731a13",
   "metadata": {},
   "outputs": [
    {
     "name": "stdin",
     "output_type": "stream",
     "text": [
      " 10 500\n",
      " 93 181 245 214 315 36 185 138 216 295\n"
     ]
    },
    {
     "name": "stdout",
     "output_type": "stream",
     "text": [
      "497\n"
     ]
    }
   ],
   "source": [
    "n, m = map(int, input().split())\n",
    "card = list(map(int, input().split()))\n",
    "num_max = 0\n",
    "\n",
    "from itertools import combinations\n",
    "combi = list(combinations(card, 3))\n",
    "\n",
    "for i in combi :\n",
    "    if sum(i) <= m :\n",
    "        if sum(i) > num_max :\n",
    "            num_max = sum(i)\n",
    "            \n",
    "print(num_max)"
   ]
  },
  {
   "cell_type": "markdown",
   "id": "78c03e81-bbab-4466-a217-cc36ad01e0e8",
   "metadata": {},
   "source": [
    "---"
   ]
  },
  {
   "cell_type": "markdown",
   "id": "3625f809-942f-403b-8fc0-541ea402a036",
   "metadata": {},
   "source": [
    "#### ✔단계2 : 2231번(분해합)"
   ]
  },
  {
   "cell_type": "markdown",
   "id": "be04205c-b845-4423-b1ba-0bd704223f37",
   "metadata": {},
   "source": [
    "- **문제** : 어떤 자연수 N이 있을 때, 그 자연수 N의 분해합은 N과 N을 이루는 각 자리수의 합을 의미한다. 어떤 자연수 M의 분해합이 N인 경우, M을 N의 생성자라 한다. 예를 들어, 245의 분해합은 256(=245+2+4+5)이 된다. 따라서 245는 256의 생성자가 된다. 물론, 어떤 자연수의 경우에는 생성자가 없을 수도 있다. 반대로, 생성자가 여러 개인 자연수도 있을 수 있다. 자연수 N이 주어졌을 때, N의 가장 작은 생성자를 구해내는 프로그램을 작성하시오.\n",
    "\n",
    "- **입력** : 첫째 줄에 자연수 N(1 ≤ N ≤ 1,000,000)이 주어진다.\n",
    "\n",
    "- **출력** : 첫째 줄에 답을 출력한다. 생성자가 없는 경우에는 0을 출력한다.\n",
    "\n",
    "- **예제 입출력** \n",
    "    - 입력1\n",
    "        - `216`\n",
    "        \n",
    "       \n",
    "    - 출력1\n",
    "        - `198`"
   ]
  },
  {
   "cell_type": "code",
   "execution_count": 93,
   "id": "c5c47528-121f-4718-a93d-735de5a6d98c",
   "metadata": {},
   "outputs": [
    {
     "name": "stdin",
     "output_type": "stream",
     "text": [
      " 216\n"
     ]
    },
    {
     "name": "stdout",
     "output_type": "stream",
     "text": [
      "198\n"
     ]
    }
   ],
   "source": [
    "n = input()\n",
    "b_sum = []\n",
    "\n",
    "for i in range(1, int(n)) :\n",
    "    i_sum = i\n",
    "    for j in range(len(str(i))) :\n",
    "        i_sum += int(str(i)[j])\n",
    "\n",
    "    if i_sum==int(n) : \n",
    "        b_sum.append(i)\n",
    "       \n",
    "    \n",
    "if len(b_sum) == 0 :\n",
    "    print(0)\n",
    "else :\n",
    "    print(min(b_sum))"
   ]
  },
  {
   "cell_type": "markdown",
   "id": "5da1fb2f-37da-464f-9eda-4ba5c1549e59",
   "metadata": {},
   "source": [
    "---"
   ]
  },
  {
   "cell_type": "markdown",
   "id": "84a9d9de-6ce5-4d21-83f7-d8669ac63133",
   "metadata": {},
   "source": [
    "#### ✔❌단계3 : 19532번(수학은 비대면강의입니다)"
   ]
  },
  {
   "cell_type": "markdown",
   "id": "301cd167-3626-48a5-95f5-6241bcd32934",
   "metadata": {},
   "source": [
    "- **문제** : \n",
    "\n",
    "- **입력** : \n",
    "\n",
    "- **출력** : \n",
    "\n",
    "- **예제 입출력** \n",
    "    - 입력1\n",
    "        - ``\n",
    "        \n",
    "       \n",
    "    - 출력1\n",
    "        - ``"
   ]
  },
  {
   "cell_type": "code",
   "execution_count": null,
   "id": "34e0e0ae-5c2b-4081-8601-f4c62d6dcae1",
   "metadata": {},
   "outputs": [],
   "source": []
  },
  {
   "cell_type": "markdown",
   "id": "b98a5e5e-872b-4fd4-84f8-062d7bbf2daa",
   "metadata": {},
   "source": [
    "---"
   ]
  },
  {
   "cell_type": "markdown",
   "id": "17ba78f7-fc3f-46c4-8e29-ee07559e6f7c",
   "metadata": {},
   "source": [
    "#### ✔❌단계4 : 1018번(체스판 다시 칠하기)"
   ]
  },
  {
   "cell_type": "markdown",
   "id": "c7674ae5-91b0-4da2-8ca4-2b03b0e4d1af",
   "metadata": {},
   "source": [
    "- **문제** : \n",
    "\n",
    "- **입력** : \n",
    "\n",
    "- **출력** : \n",
    "\n",
    "- **예제 입출력** \n",
    "    - 입력1\n",
    "        - ``\n",
    "        \n",
    "       \n",
    "    - 출력1\n",
    "        - ``"
   ]
  },
  {
   "cell_type": "code",
   "execution_count": null,
   "id": "44dddd89-8b89-4f6b-9bf2-503320b02ed2",
   "metadata": {},
   "outputs": [],
   "source": []
  },
  {
   "cell_type": "markdown",
   "id": "5db6d681-5b3c-4711-a3a5-6b36f7800da6",
   "metadata": {},
   "source": [
    "---"
   ]
  },
  {
   "cell_type": "markdown",
   "id": "b430bca9-50f1-4447-9b3a-a1dac01480cd",
   "metadata": {},
   "source": [
    "#### ✔❌단계5 : 1436번(영화감독 숌)"
   ]
  },
  {
   "cell_type": "markdown",
   "id": "3f44f837-610e-46cd-a862-e4f78872c8f9",
   "metadata": {},
   "source": [
    "- **문제** : \n",
    "\n",
    "- **입력** : \n",
    "\n",
    "- **출력** : \n",
    "\n",
    "- **예제 입출력** \n",
    "    - 입력1\n",
    "        - ``\n",
    "        \n",
    "       \n",
    "    - 출력1\n",
    "        - ``"
   ]
  },
  {
   "cell_type": "code",
   "execution_count": null,
   "id": "caa500ae-05a5-4e09-8987-aa1c56c93ed2",
   "metadata": {},
   "outputs": [],
   "source": []
  },
  {
   "cell_type": "markdown",
   "id": "e775182b-bab6-4daa-b381-b7eeb3b9226b",
   "metadata": {},
   "source": [
    "---"
   ]
  },
  {
   "cell_type": "markdown",
   "id": "f989117a-eb1a-4466-acee-d09e9f4d1466",
   "metadata": {},
   "source": [
    "#### ✔❌단계6 : 2839번(설탕 배달)"
   ]
  },
  {
   "cell_type": "markdown",
   "id": "9bf8c550-12c9-4651-9614-d2afa4834b91",
   "metadata": {},
   "source": [
    "- **문제** : \n",
    "\n",
    "- **입력** : \n",
    "\n",
    "- **출력** : \n",
    "\n",
    "- **예제 입출력** \n",
    "    - 입력1\n",
    "        - ``\n",
    "        \n",
    "       \n",
    "    - 출력1\n",
    "        - ``"
   ]
  },
  {
   "cell_type": "code",
   "execution_count": null,
   "id": "38654718-9889-4e3a-a487-76d6b12f4ddf",
   "metadata": {},
   "outputs": [],
   "source": []
  }
 ],
 "metadata": {
  "kernelspec": {
   "display_name": "Python 3 (ipykernel)",
   "language": "python",
   "name": "python3"
  },
  "language_info": {
   "codemirror_mode": {
    "name": "ipython",
    "version": 3
   },
   "file_extension": ".py",
   "mimetype": "text/x-python",
   "name": "python",
   "nbconvert_exporter": "python",
   "pygments_lexer": "ipython3",
   "version": "3.9.13"
  }
 },
 "nbformat": 4,
 "nbformat_minor": 5
}
